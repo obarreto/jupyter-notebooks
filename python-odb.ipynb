{
 "cells": [
  {
   "cell_type": "code",
   "execution_count": 1,
   "id": "7d5c362c",
   "metadata": {},
   "outputs": [
    {
     "ename": "ModuleNotFoundError",
     "evalue": "No module named 'obd'",
     "output_type": "error",
     "traceback": [
      "\u001b[0;31m---------------------------------------------------------------------------\u001b[0m",
      "\u001b[0;31mModuleNotFoundError\u001b[0m                       Traceback (most recent call last)",
      "Cell \u001b[0;32mIn[1], line 1\u001b[0m\n\u001b[0;32m----> 1\u001b[0m \u001b[38;5;28;01mimport\u001b[39;00m \u001b[38;5;21;01mobd\u001b[39;00m\n\u001b[1;32m      3\u001b[0m connection \u001b[38;5;241m=\u001b[39m obd\u001b[38;5;241m.\u001b[39mOBD() \u001b[38;5;66;03m# auto-connects to USB or RF port\u001b[39;00m\n\u001b[1;32m      5\u001b[0m cmd \u001b[38;5;241m=\u001b[39m obd\u001b[38;5;241m.\u001b[39mcommands\u001b[38;5;241m.\u001b[39mSPEED \u001b[38;5;66;03m# select an OBD command (sensor)\u001b[39;00m\n",
      "\u001b[0;31mModuleNotFoundError\u001b[0m: No module named 'obd'"
     ]
    }
   ],
   "source": [
    "import obd\n",
    "\n",
    "connection = obd.OBD() # auto-connects to USB or RF port\n",
    "\n",
    "cmd = obd.commands.SPEED # select an OBD command (sensor)\n",
    "\n",
    "response = connection.query(cmd) # send the command, and parse the response\n",
    "\n",
    "print(response.value) # returns unit-bearing values thanks to Pint\n",
    "print(response.value.to(\"mph\")) # user-friendly unit conversions"
   ]
  },
  {
   "cell_type": "code",
   "execution_count": null,
   "id": "27c0b146",
   "metadata": {},
   "outputs": [],
   "source": []
  }
 ],
 "metadata": {
  "kernelspec": {
   "display_name": "Python 3 (ipykernel)",
   "language": "python",
   "name": "python3"
  },
  "language_info": {
   "codemirror_mode": {
    "name": "ipython",
    "version": 3
   },
   "file_extension": ".py",
   "mimetype": "text/x-python",
   "name": "python",
   "nbconvert_exporter": "python",
   "pygments_lexer": "ipython3",
   "version": "3.11.7"
  }
 },
 "nbformat": 4,
 "nbformat_minor": 5
}
