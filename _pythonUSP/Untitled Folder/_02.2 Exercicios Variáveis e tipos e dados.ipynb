{
 "cells": [
  {
   "cell_type": "code",
   "execution_count": 1,
   "metadata": {},
   "outputs": [
    {
     "name": "stdout",
     "output_type": "stream",
     "text": [
      "Qual a idade? 31\n"
     ]
    }
   ],
   "source": [
    "#1. Qual o tipo de dado armazenado na variável x pelo comando abaixo?\n",
    "\n",
    "x = input(\"Qual a idade? \")"
   ]
  },
  {
   "cell_type": "code",
   "execution_count": 2,
   "metadata": {},
   "outputs": [
    {
     "name": "stdout",
     "output_type": "stream",
     "text": [
      "Qual o valor de a? 1\n",
      "Qual o valor de b? 2\n",
      "2\n",
      "2\n"
     ]
    }
   ],
   "source": [
    "#2. Quais os valores finais das variáveis a e b, se o usuário digitar 1 e 2, respectivamente?\n",
    "a = int(input(\"Qual o valor de a? \"))\n",
    "b = int(input(\"Qual o valor de b? \"))\n",
    "a = b\n",
    "b = a\n",
    "print(a)\n",
    "print(b)"
   ]
  },
  {
   "cell_type": "code",
   "execution_count": 3,
   "metadata": {},
   "outputs": [
    {
     "name": "stdout",
     "output_type": "stream",
     "text": [
      "Qual o valor de a? 1\n",
      "Qual o valor de b? 2\n",
      "2\n",
      "1\n"
     ]
    }
   ],
   "source": [
    "#3. uais os valores finais das variáveis a e b, se o usuário digitar 1 e 2, respectivamente?\n",
    "a = int(input(\"Qual o valor de a? \"))\n",
    "b = int(input(\"Qual o valor de b? \"))\n",
    "aux = a\n",
    "a = b\n",
    "b = aux\n",
    "print(a)\n",
    "print(b)"
   ]
  }
 ],
 "metadata": {
  "kernelspec": {
   "display_name": "Python 3",
   "language": "python",
   "name": "python3"
  },
  "language_info": {
   "codemirror_mode": {
    "name": "ipython",
    "version": 3
   },
   "file_extension": ".py",
   "mimetype": "text/x-python",
   "name": "python",
   "nbconvert_exporter": "python",
   "pygments_lexer": "ipython3",
   "version": "3.6.9"
  }
 },
 "nbformat": 4,
 "nbformat_minor": 2
}
