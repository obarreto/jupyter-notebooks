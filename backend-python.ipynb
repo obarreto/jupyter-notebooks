{
 "cells": [
  {
   "cell_type": "code",
   "execution_count": 11,
   "id": "28c6be69",
   "metadata": {
    "scrolled": true
   },
   "outputs": [
    {
     "name": "stdout",
     "output_type": "stream",
     "text": [
      "Table Create With Successfully !\n"
     ]
    }
   ],
   "source": [
    "import mysql.connector\n",
    "\n",
    "# Configurar a conexão com o banco de dados\n",
    "conexao = mysql.connector.connect(\n",
    "    host=\"localhost\",\n",
    "    user= \"usermysql\",\n",
    "    password=\"cursomysql\",\n",
    "    database=\"abasteceai\"\n",
    "    )\n",
    "\n",
    "# Criar um objeto cursor para executar comandos SQL\n",
    "cursor = conexao.cursor()\n",
    "\n",
    "# Comando SQL para criar tabela\n",
    "criar_tabela = \"\"\"\n",
    "CREATE TABLE IF NOT EXISTS tabela_abastecimento(\n",
    "    id INT AUTO_INCREMENT PRIMARY KEY,\n",
    "    a_combustivel VARCHAR(255) NOT NULL,\n",
    "    a_litros DECIMAL(10, 2) NOT NULL,\n",
    "    a_valor DECIMAL(10, 2) NOT NULL,\n",
    "    a_quilometragem DECIMAL(10, 2) NOT NULL,\n",
    "    a_dataAbastecimento DATE NOT NULL,\n",
    "    a_horaAbastecimento TIME NOT NULL\n",
    "    )\n",
    "    \"\"\"\n",
    "\n",
    "# Executar o comando SQL para criar a tabela\n",
    "cursor.execute(criar_tabela)\n",
    "\n",
    "# Dados a serem inseridos na tabela\n",
    "\n",
    "a_combustivel = 'Etanol'\n",
    "a_litros = 17.80\n",
    "a_valor = 60\n",
    "a_quilometragem = 177.1\n",
    "a_dataAbastecimento = '2023-10-29'\n",
    "a_horaAbastecimento = '18:41:55'\n",
    "\n",
    "# Comando SQL para inserir dados na tabela\n",
    "inserir_dados = \"\"\"\n",
    "    INSERT INTO tabela_abastecimento (a_combustivel, a_litros, a_valor, a_quilometragem, a_dataAbastecimento, a_horaAbastecimento)\n",
    "        VALUES (%s, %s, %s, %s, %s, %s)\n",
    "        \"\"\"\n",
    "\n",
    "\n",
    "# Valores a serem inseridos\n",
    "valores = (a_combustivel, a_litros, a_valor, a_quilometragem, a_dataAbastecimento, a_horaAbastecimento)\n",
    "\n",
    "# Executar o comando SQL para inserir dados\n",
    "cursor.execute(inserir_dados, valores)\n",
    "\n",
    "# Fazer o commit das alterações no banco de dados\n",
    "conexao.commit()\n",
    "\n",
    "# Fechar o cursor e a conexao\n",
    "cursor.close()\n",
    "conexao.close()\n",
    "\n",
    "print(\"Table Create With Successfully !\" )"
   ]
  },
  {
   "cell_type": "code",
   "execution_count": null,
   "id": "d610fe95",
   "metadata": {},
   "outputs": [],
   "source": []
  },
  {
   "cell_type": "code",
   "execution_count": null,
   "id": "7bd3f7d4",
   "metadata": {},
   "outputs": [],
   "source": []
  },
  {
   "cell_type": "code",
   "execution_count": null,
   "id": "077efc04",
   "metadata": {},
   "outputs": [],
   "source": []
  }
 ],
 "metadata": {
  "kernelspec": {
   "display_name": "Python 3 (ipykernel)",
   "language": "python",
   "name": "python3"
  },
  "language_info": {
   "codemirror_mode": {
    "name": "ipython",
    "version": 3
   },
   "file_extension": ".py",
   "mimetype": "text/x-python",
   "name": "python",
   "nbconvert_exporter": "python",
   "pygments_lexer": "ipython3",
   "version": "3.12.3"
  }
 },
 "nbformat": 4,
 "nbformat_minor": 5
}
