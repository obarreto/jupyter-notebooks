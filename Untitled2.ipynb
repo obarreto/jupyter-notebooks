{
 "cells": [
  {
   "cell_type": "code",
   "execution_count": 2,
   "metadata": {
    "executionInfo": {
     "elapsed": 226,
     "status": "ok",
     "timestamp": 1624814316323,
     "user": {
      "displayName": "OZEIAS DE SANTANA BARRETO",
      "photoUrl": "",
      "userId": "09499690939166015247"
     },
     "user_tz": 180
    },
    "id": "1aIHPGcOei0r"
   },
   "outputs": [],
   "source": [
    "primes = [2, 3, 5, 7]"
   ]
  },
  {
   "cell_type": "code",
   "execution_count": 3,
   "metadata": {
    "executionInfo": {
     "elapsed": 219,
     "status": "ok",
     "timestamp": 1624814387122,
     "user": {
      "displayName": "OZEIAS DE SANTANA BARRETO",
      "photoUrl": "",
      "userId": "09499690939166015247"
     },
     "user_tz": 180
    },
    "id": "_XGR6HXPexnB"
   },
   "outputs": [],
   "source": [
    "planets = ['Mercury', 'Venus', 'Earth', 'Mars', 'Jupiter', 'Saturn', 'Uranus', 'Neptune']"
   ]
  },
  {
   "cell_type": "code",
   "execution_count": 4,
   "metadata": {
    "executionInfo": {
     "elapsed": 226,
     "status": "ok",
     "timestamp": 1624814571457,
     "user": {
      "displayName": "OZEIAS DE SANTANA BARRETO",
      "photoUrl": "",
      "userId": "09499690939166015247"
     },
     "user_tz": 180
    },
    "id": "r1ASBM7vfAsz"
   },
   "outputs": [],
   "source": [
    "hands = [\n",
    "         ['J', 'Q', 'K'],\n",
    "         ['2', '2', '2'],\n",
    "         ['6', 'A', 'k'], #(Comma after the last element is optional)\n",
    "]\n",
    "# (I could also have written this on one line, but it can get hard to read)\n",
    "hands = [['J', 'Q', 'K'], ['2', '2', '2'], ['6', 'A', 'K']]"
   ]
  },
  {
   "cell_type": "code",
   "execution_count": 5,
   "metadata": {
    "executionInfo": {
     "elapsed": 226,
     "status": "ok",
     "timestamp": 1624814610404,
     "user": {
      "displayName": "OZEIAS DE SANTANA BARRETO",
      "photoUrl": "",
      "userId": "09499690939166015247"
     },
     "user_tz": 180
    },
    "id": "Sse03uHLfuKH"
   },
   "outputs": [],
   "source": [
    "my_favourite_things = [32, 'raindrops on roses', help]"
   ]
  },
  {
   "cell_type": "code",
   "execution_count": 6,
   "metadata": {
    "colab": {
     "base_uri": "https://localhost:8080/",
     "height": 35
    },
    "executionInfo": {
     "elapsed": 231,
     "status": "ok",
     "timestamp": 1624814629125,
     "user": {
      "displayName": "OZEIAS DE SANTANA BARRETO",
      "photoUrl": "",
      "userId": "09499690939166015247"
     },
     "user_tz": 180
    },
    "id": "n4p-FEWKf3sX",
    "outputId": "2b71a35f-3b19-43d2-af40-a755514d1de7"
   },
   "outputs": [
    {
     "data": {
      "application/vnd.google.colaboratory.intrinsic+json": {
       "type": "string"
      },
      "text/plain": [
       "'Mercury'"
      ]
     },
     "execution_count": 6,
     "metadata": {
      "tags": []
     },
     "output_type": "execute_result"
    }
   ],
   "source": [
    "planets[0]"
   ]
  },
  {
   "cell_type": "code",
   "execution_count": 7,
   "metadata": {
    "colab": {
     "base_uri": "https://localhost:8080/",
     "height": 35
    },
    "executionInfo": {
     "elapsed": 224,
     "status": "ok",
     "timestamp": 1624814636935,
     "user": {
      "displayName": "OZEIAS DE SANTANA BARRETO",
      "photoUrl": "",
      "userId": "09499690939166015247"
     },
     "user_tz": 180
    },
    "id": "9L4hnfrsf66v",
    "outputId": "29d25cc8-a37b-4be1-fa6b-3d2b099e7216"
   },
   "outputs": [
    {
     "data": {
      "application/vnd.google.colaboratory.intrinsic+json": {
       "type": "string"
      },
      "text/plain": [
       "'Venus'"
      ]
     },
     "execution_count": 7,
     "metadata": {
      "tags": []
     },
     "output_type": "execute_result"
    }
   ],
   "source": [
    "planets[1]"
   ]
  },
  {
   "cell_type": "code",
   "execution_count": 8,
   "metadata": {
    "colab": {
     "base_uri": "https://localhost:8080/",
     "height": 35
    },
    "executionInfo": {
     "elapsed": 223,
     "status": "ok",
     "timestamp": 1624814652811,
     "user": {
      "displayName": "OZEIAS DE SANTANA BARRETO",
      "photoUrl": "",
      "userId": "09499690939166015247"
     },
     "user_tz": 180
    },
    "id": "OzN7fdzqf80-",
    "outputId": "277597c9-012d-4f16-ca0a-b845df02b291"
   },
   "outputs": [
    {
     "data": {
      "application/vnd.google.colaboratory.intrinsic+json": {
       "type": "string"
      },
      "text/plain": [
       "'Neptune'"
      ]
     },
     "execution_count": 8,
     "metadata": {
      "tags": []
     },
     "output_type": "execute_result"
    }
   ],
   "source": [
    "planets[-1]"
   ]
  },
  {
   "cell_type": "code",
   "execution_count": 9,
   "metadata": {
    "colab": {
     "base_uri": "https://localhost:8080/",
     "height": 35
    },
    "executionInfo": {
     "elapsed": 222,
     "status": "ok",
     "timestamp": 1624814662116,
     "user": {
      "displayName": "OZEIAS DE SANTANA BARRETO",
      "photoUrl": "",
      "userId": "09499690939166015247"
     },
     "user_tz": 180
    },
    "id": "nDoCuB3hgAs-",
    "outputId": "5cbf0a47-2dcb-44a1-d58a-72a7e5831662"
   },
   "outputs": [
    {
     "data": {
      "application/vnd.google.colaboratory.intrinsic+json": {
       "type": "string"
      },
      "text/plain": [
       "'Uranus'"
      ]
     },
     "execution_count": 9,
     "metadata": {
      "tags": []
     },
     "output_type": "execute_result"
    }
   ],
   "source": [
    "planets[-2]"
   ]
  },
  {
   "cell_type": "code",
   "execution_count": 10,
   "metadata": {
    "colab": {
     "base_uri": "https://localhost:8080/"
    },
    "executionInfo": {
     "elapsed": 223,
     "status": "ok",
     "timestamp": 1624814672208,
     "user": {
      "displayName": "OZEIAS DE SANTANA BARRETO",
      "photoUrl": "",
      "userId": "09499690939166015247"
     },
     "user_tz": 180
    },
    "id": "nG3JJk6WgC-c",
    "outputId": "aa24f98c-702e-46a2-9cae-ec28a740551e"
   },
   "outputs": [
    {
     "data": {
      "text/plain": [
       "['Mercury', 'Venus', 'Earth']"
      ]
     },
     "execution_count": 10,
     "metadata": {
      "tags": []
     },
     "output_type": "execute_result"
    }
   ],
   "source": [
    "planets[0:3]"
   ]
  },
  {
   "cell_type": "code",
   "execution_count": 11,
   "metadata": {
    "colab": {
     "base_uri": "https://localhost:8080/"
    },
    "executionInfo": {
     "elapsed": 228,
     "status": "ok",
     "timestamp": 1624814716272,
     "user": {
      "displayName": "OZEIAS DE SANTANA BARRETO",
      "photoUrl": "",
      "userId": "09499690939166015247"
     },
     "user_tz": 180
    },
    "id": "FEoibyNogFcH",
    "outputId": "7ef5622b-a6f2-4aa9-cc59-d186cbbdeb58"
   },
   "outputs": [
    {
     "data": {
      "text/plain": [
       "['Mercury', 'Venus', 'Earth']"
      ]
     },
     "execution_count": 11,
     "metadata": {
      "tags": []
     },
     "output_type": "execute_result"
    }
   ],
   "source": [
    "planets[:3]"
   ]
  },
  {
   "cell_type": "code",
   "execution_count": 12,
   "metadata": {
    "colab": {
     "base_uri": "https://localhost:8080/"
    },
    "executionInfo": {
     "elapsed": 294,
     "status": "ok",
     "timestamp": 1624814726568,
     "user": {
      "displayName": "OZEIAS DE SANTANA BARRETO",
      "photoUrl": "",
      "userId": "09499690939166015247"
     },
     "user_tz": 180
    },
    "id": "6hHx9FsxgQMm",
    "outputId": "aa027e6d-34c3-4338-990b-b4010191b474"
   },
   "outputs": [
    {
     "data": {
      "text/plain": [
       "['Mars', 'Jupiter', 'Saturn', 'Uranus', 'Neptune']"
      ]
     },
     "execution_count": 12,
     "metadata": {
      "tags": []
     },
     "output_type": "execute_result"
    }
   ],
   "source": [
    "planets[3:]"
   ]
  },
  {
   "cell_type": "code",
   "execution_count": 13,
   "metadata": {
    "colab": {
     "base_uri": "https://localhost:8080/"
    },
    "executionInfo": {
     "elapsed": 224,
     "status": "ok",
     "timestamp": 1624814739864,
     "user": {
      "displayName": "OZEIAS DE SANTANA BARRETO",
      "photoUrl": "",
      "userId": "09499690939166015247"
     },
     "user_tz": 180
    },
    "id": "72yYX5xfgSse",
    "outputId": "23764fa7-f372-44f7-84f8-cd59afe35974"
   },
   "outputs": [
    {
     "data": {
      "text/plain": [
       "['Venus', 'Earth', 'Mars', 'Jupiter', 'Saturn', 'Uranus']"
      ]
     },
     "execution_count": 13,
     "metadata": {
      "tags": []
     },
     "output_type": "execute_result"
    }
   ],
   "source": [
    "planets[1:-1]"
   ]
  },
  {
   "cell_type": "code",
   "execution_count": 14,
   "metadata": {
    "colab": {
     "base_uri": "https://localhost:8080/"
    },
    "executionInfo": {
     "elapsed": 231,
     "status": "ok",
     "timestamp": 1624814804858,
     "user": {
      "displayName": "OZEIAS DE SANTANA BARRETO",
      "photoUrl": "",
      "userId": "09499690939166015247"
     },
     "user_tz": 180
    },
    "id": "st3Tt3OYgV9O",
    "outputId": "04c34be0-84c8-4dc9-f33a-73f5c22aa28c"
   },
   "outputs": [
    {
     "data": {
      "text/plain": [
       "['Saturn', 'Uranus', 'Neptune']"
      ]
     },
     "execution_count": 14,
     "metadata": {
      "tags": []
     },
     "output_type": "execute_result"
    }
   ],
   "source": [
    "planets[-3:]"
   ]
  },
  {
   "cell_type": "code",
   "execution_count": 16,
   "metadata": {
    "colab": {
     "base_uri": "https://localhost:8080/"
    },
    "executionInfo": {
     "elapsed": 356,
     "status": "ok",
     "timestamp": 1624815118487,
     "user": {
      "displayName": "OZEIAS DE SANTANA BARRETO",
      "photoUrl": "",
      "userId": "09499690939166015247"
     },
     "user_tz": 180
    },
    "id": "yp_SqI6lgl0v",
    "outputId": "57684112-728d-4923-d9d9-42139b0abf84"
   },
   "outputs": [
    {
     "data": {
      "text/plain": [
       "['Mercury',\n",
       " 'Venus',\n",
       " 'Earth',\n",
       " 'Malacandra',\n",
       " 'Jupiter',\n",
       " 'Saturn',\n",
       " 'Uranus',\n",
       " 'Neptune']"
      ]
     },
     "execution_count": 16,
     "metadata": {
      "tags": []
     },
     "output_type": "execute_result"
    }
   ],
   "source": [
    "planets[3] = 'Malacandra'\n",
    "planets"
   ]
  },
  {
   "cell_type": "code",
   "execution_count": null,
   "metadata": {
    "id": "rYe_Uj9DhyXQ"
   },
   "outputs": [],
   "source": []
  }
 ],
 "metadata": {
  "colab": {
   "authorship_tag": "ABX9TyPHtCfDuSROTSpA8Yr5hf1f",
   "name": "Untitled2.ipynb",
   "provenance": []
  },
  "kernelspec": {
   "display_name": "Python 3 (ipykernel)",
   "language": "python",
   "name": "python3"
  },
  "language_info": {
   "codemirror_mode": {
    "name": "ipython",
    "version": 3
   },
   "file_extension": ".py",
   "mimetype": "text/x-python",
   "name": "python",
   "nbconvert_exporter": "python",
   "pygments_lexer": "ipython3",
   "version": "3.12.3"
  }
 },
 "nbformat": 4,
 "nbformat_minor": 1
}
