{
 "cells": [
  {
   "cell_type": "code",
   "execution_count": null,
   "metadata": {
    "id": "OgcEdL0K8JDd"
   },
   "outputs": [],
   "source": []
  },
  {
   "cell_type": "markdown",
   "metadata": {
    "id": "0H2MTGoc8QIl"
   },
   "source": [
    "## Autovalor e Autovetor\n",
    "\n",
    "Em alguma direções, uma transformação linear se comporta como multiplicação por escalar. Essas direções e seus respectivos fatores multiplicativos propriedade da tranformação (isto é, da matriz) e são chamados de aturovalores, respectivamente.\n",
    "\n",
    "Em uma transformação linear representada por uma matriz quadrada A, um autovalor(ou valor proprio de numero lambda que satifaz a equação.\n",
    "\n",
    "## Autovalores e Autovetores\n",
    "\n",
    "## Introdução\n",
    "\n",
    "Em álgebra linear, autovalores e autovetores são conceitos fundamentais que aparecem em várias aplicações, incluindo decomposição de matrizes, análise de sistemas dinâmicos, e muitos algoritmos de machine learning.\n",
    "\n",
    "## Definições\n",
    "\n",
    "- **Autovetor**: Um vetor \\( \\mathbf{v} \\) é chamado de autovetor de uma matriz \\( \\mathbf{A} \\) se, quando a matriz \\( \\mathbf{A} \\) é multiplicada por \\( \\mathbf{v} \\), o resultado é um escalar \\( \\lambda \\) multiplicado por \\( \\mathbf{v} \\). Em forma de equação, temos:\n",
    "  \\[ \\mathbf{A} \\mathbf{v} = \\lambda \\mathbf{v} \\]\n",
    "\n",
    "- **Autovalor**: O escalar \\( \\lambda \\) é chamado de autovalor correspondente ao autovetor \\( \\mathbf{v} \\).\n",
    "\n",
    "## Encontrando Autovalores e Autovetores\n",
    "\n",
    "Para encontrar os autovalores de uma matriz \\( \\mathbf{A} \\), resolvemos a seguinte equação característica:\n",
    "\\[ \\text{det}(\\mathbf{A} - \\lambda \\mathbf{I}) = 0 \\]\n",
    "onde \\( \\mathbf{I} \\) é a matriz identidade da mesma dimensão que \\( \\mathbf{A} \\). As soluções para \\( \\lambda \\) são os autovalores.\n",
    "\n",
    "Depois de encontrar os autovalores, podemos encontrar os autovetores substituindo cada autovalor em \\( \\mathbf{A} \\mathbf{v} = \\lambda \\mathbf{v} \\) e resolvendo para \\( \\mathbf{v} \\).\n",
    "\n",
    "## Exemplo Prático\n",
    "\n",
    "Vamos considerar a matriz:\n",
    "\n",
    "\\[ \\mathbf{A} = \\begin{bmatrix} 4 & 1 \\\\ 2 & 3 \\end{bmatrix} \\]\n",
    "\n",
    "### Passo 1: Encontrar os Autovalores\n",
    "\n",
    "Resolvemos a equação característica:\n",
    "\n",
    "\\[ \\text{det}(\\mathbf{A} - \\lambda \\mathbf{I}) = 0 \\]\n",
    "\n",
    "\\[ \\begin{vmatrix} 4 - \\lambda & 1 \\\\ 2 & 3 - \\lambda \\end{vmatrix} = 0 \\]\n",
    "\n",
    "\\[ (4 - \\lambda)(3 - \\lambda) - 2 \\cdot 1 = 0 \\]\n",
    "\n",
    "\\[ \\lambda^2 - 7\\lambda + 10 = 0 \\]\n",
    "\n",
    "Resolvendo a equação quadrática, encontramos os autovalores:\n",
    "\n",
    "\\[ \\lambda_1 = 5 \\]\n",
    "\\[ \\lambda_2 = 2 \\]\n",
    "\n",
    "### Passo 2: Encontrar os Autovetores\n",
    "\n",
    "Para cada autovalor, resolvemos \\( \\mathbf{A} \\mathbf{v} = \\lambda \\mathbf{v} \\).\n",
    "\n",
    "Para \\( \\lambda_1 = 5 \\):\n",
    "\n",
    "\\[ \\begin{bmatrix} 4 & 1 \\\\ 2 & 3 \\end{bmatrix} \\begin{bmatrix} v_1 \\\\ v_2 \\end{bmatrix} = 5 \\begin{bmatrix} v_1 \\\\ v_2 \\end{bmatrix} \\]\n",
    "\n",
    "\\[ \\begin{cases} 4v_1 + v_2 = 5v_1 \\\\ 2v_1 + 3v_2 = 5v_2 \\end{cases} \\]\n",
    "\n",
    "Resolvendo o sistema, encontramos o autovetor correspondente:\n",
    "\n",
    "\\[ \\mathbf{v}_1 = \\begin{bmatrix} 1 \\\\ 1 \\end{bmatrix} \\]\n",
    "\n",
    "Para \\( \\lambda_2 = 2 \\):\n",
    "\n",
    "\\[ \\begin{bmatrix} 4 & 1 \\\\ 2 & 3 \\end{bmatrix} \\begin{bmatrix} v_1 \\\\ v_2 \\end{bmatrix} = 2 \\begin{bmatrix} v_1 \\\\ v_2 \\end{bmatrix} \\]\n",
    "\n",
    "\\[ \\begin{cases} 4v_1 + v_2 = 2v_1 \\\\ 2v_1 + 3v_2 = 2v_2 \\end{cases} \\]\n",
    "\n",
    "Resolvendo o sistema, encontramos o autovetor correspondente:\n",
    "\n",
    "\\[ \\mathbf{v}_2 = \\begin{bmatrix} 1 \\\\ -2 \\end{bmatrix} \\]\n",
    "\n",
    "### Implementação em Python\n",
    "\n",
    "Agora, vamos implementar isso em Python usando NumPy.\n",
    "\n",
    "```python\n",
    "import numpy as np\n",
    "\n",
    "# Definindo a matriz\n",
    "A = np.array([[4, 1], [2, 3]])\n",
    "\n",
    "# Calculando autovalores e autovetores\n",
    "autovalores, autovetores = np.linalg.eig(A)\n",
    "\n",
    "print(\"Autovalores:\", autovalores)\n",
    "print(\"Autovetores:\", autovetores)\n"
   ]
  },
  {
   "cell_type": "code",
   "execution_count": 7,
   "metadata": {
    "colab": {
     "base_uri": "https://localhost:8080/"
    },
    "executionInfo": {
     "elapsed": 547,
     "status": "ok",
     "timestamp": 1718541672587,
     "user": {
      "displayName": "OZEIAS DE SANTANA BARRETO",
      "userId": "09499690939166015247"
     },
     "user_tz": 180
    },
    "id": "eqR2iHjl-aWF",
    "outputId": "215c5426-a6bc-4c7f-8fbb-33a3de20ad04"
   },
   "outputs": [
    {
     "name": "stdout",
     "output_type": "stream",
     "text": [
      "\n",
      "Autovalores: [5. 4.]\n",
      "\n",
      "Autovetores:  [[0.70710678 0.4472136 ]\n",
      " [0.70710678 0.89442719]]\n",
      "\n",
      "Matriz Diagonal:  [[5. 0.]\n",
      " [0. 4.]]\n"
     ]
    }
   ],
   "source": [
    "import numpy as np\n",
    "\n",
    "#Definindoa matriz A\n",
    "A = np.array( [[6, -1], [2, 3]])\n",
    "\n",
    "#Calculando autovalores e autovetores\n",
    "autovalores, autovetores = np.linalg.eig(A)\n",
    "\n",
    "#Criando a matriz diagonal com os autovalores\n",
    "matriz_diagonal = np.diag(autovalores)\n",
    "\n",
    "# Imprimindo os autovalores\n",
    "print(\"\\nAutovalores:\", autovalores)\n",
    "print(\"\\nAutovetores: \", autovetores)\n",
    "print(\"\\nMatriz Diagonal: \", matriz_diagonal)\n",
    "\n",
    "\n"
   ]
  },
  {
   "cell_type": "code",
   "execution_count": null,
   "metadata": {
    "id": "HGG-hHWf917c"
   },
   "outputs": [],
   "source": []
  }
 ],
 "metadata": {
  "colab": {
   "authorship_tag": "ABX9TyNihNse8iWdPklNCS6hMM6t",
   "provenance": []
  },
  "kernelspec": {
   "display_name": "Python 3 (ipykernel)",
   "language": "python",
   "name": "python3"
  },
  "language_info": {
   "codemirror_mode": {
    "name": "ipython",
    "version": 3
   },
   "file_extension": ".py",
   "mimetype": "text/x-python",
   "name": "python",
   "nbconvert_exporter": "python",
   "pygments_lexer": "ipython3",
   "version": "3.11.7"
  }
 },
 "nbformat": 4,
 "nbformat_minor": 4
}
