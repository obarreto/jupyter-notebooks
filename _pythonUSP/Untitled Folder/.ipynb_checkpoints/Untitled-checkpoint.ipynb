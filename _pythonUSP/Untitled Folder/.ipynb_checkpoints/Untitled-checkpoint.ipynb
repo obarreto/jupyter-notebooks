{
 "cells": [
  {
   "cell_type": "code",
   "execution_count": 12,
   "metadata": {},
   "outputs": [
    {
     "name": "stdout",
     "output_type": "stream",
     "text": [
      "The sum of 3 + 4 is: 7\n"
     ]
    }
   ],
   "source": [
    "#ActiveCode:2\n",
    "def main():\n",
    "    a = 3\n",
    "    b = 4\n",
    "    soma = a + b\n",
    "    print(\"The sum of\", a,\"+\", b,\"is:\", soma)\n",
    "main()"
   ]
  },
  {
   "cell_type": "code",
   "execution_count": 17,
   "metadata": {},
   "outputs": [
    {
     "name": "stdout",
     "output_type": "stream",
     "text": [
      "Insert the first number: 1\n",
      "Insert a second number: 2\n",
      "The sum of 1 + 2 is equal the 12\n"
     ]
    }
   ],
   "source": [
    "def main():\n",
    "    a = input(\"Insert the first number: \")\n",
    "    b = input(\"Insert a second number: \")\n",
    "    soma = a + b\n",
    "    print(\"The sum of\", a, \"+\", b, \"is equal the\", soma)\n",
    "main()    "
   ]
  },
  {
   "cell_type": "code",
   "execution_count": 18,
   "metadata": {},
   "outputs": [
    {
     "data": {
      "text/plain": [
       "str"
      ]
     },
     "execution_count": 18,
     "metadata": {},
     "output_type": "execute_result"
    }
   ],
   "source": [
    "type(\"Oi\")"
   ]
  },
  {
   "cell_type": "code",
   "execution_count": 19,
   "metadata": {},
   "outputs": [
    {
     "data": {
      "text/plain": [
       "int"
      ]
     },
     "execution_count": 19,
     "metadata": {},
     "output_type": "execute_result"
    }
   ],
   "source": [
    "type(23)"
   ]
  },
  {
   "cell_type": "code",
   "execution_count": 20,
   "metadata": {},
   "outputs": [
    {
     "data": {
      "text/plain": [
       "str"
      ]
     },
     "execution_count": 20,
     "metadata": {},
     "output_type": "execute_result"
    }
   ],
   "source": [
    "type(\"23\")"
   ]
  },
  {
   "cell_type": "code",
   "execution_count": 21,
   "metadata": {},
   "outputs": [
    {
     "name": "stdout",
     "output_type": "stream",
     "text": [
      "Digite o primeiro: 2\n",
      "Digite o segundo numero: 3\n",
      "A soma de 2 + 3 é igual a 5\n"
     ]
    }
   ],
   "source": [
    "#Operações sobre strings\n",
    "def main():\n",
    "    #a_str e b_str guardam strings\n",
    "    a_str = input(\"Digite o primeiro: \")\n",
    "    b_str = input(\"Digite o segundo numero: \")\n",
    "    \n",
    "    # a_int e b_int guardam inteiros\n",
    "    a_int = int(a_str) #converte string/texto para inteiro\n",
    "    b_int = int(b_str)# converte string/texto para inteiro\n",
    "    \n",
    "    #calcule a soma entre valores que são números inteiros\n",
    "    soma = a_int + b_int\n",
    "    \n",
    "    #imprima a soma\n",
    "    print(\"A soma de\", a_int, \"+\", b_int, \"é igual a\", soma)\n",
    "main()    "
   ]
  },
  {
   "cell_type": "code",
   "execution_count": 23,
   "metadata": {},
   "outputs": [
    {
     "data": {
      "text/plain": [
       "int"
      ]
     },
     "execution_count": 23,
     "metadata": {},
     "output_type": "execute_result"
    }
   ],
   "source": [
    "# A função int() converte um dado string para um número inteiro\n",
    "a = int(\"123\")\n",
    "type(a)"
   ]
  },
  {
   "cell_type": "code",
   "execution_count": 24,
   "metadata": {},
   "outputs": [
    {
     "name": "stdout",
     "output_type": "stream",
     "text": [
      "Value integer =  123\n"
     ]
    }
   ],
   "source": [
    "print(\"Value integer = \", a)"
   ]
  },
  {
   "cell_type": "code",
   "execution_count": 26,
   "metadata": {},
   "outputs": [],
   "source": [
    "a = float(\"1.5\")"
   ]
  },
  {
   "cell_type": "code",
   "execution_count": 27,
   "metadata": {},
   "outputs": [
    {
     "data": {
      "text/plain": [
       "1.5"
      ]
     },
     "execution_count": 27,
     "metadata": {},
     "output_type": "execute_result"
    }
   ],
   "source": [
    "a"
   ]
  },
  {
   "cell_type": "code",
   "execution_count": 28,
   "metadata": {},
   "outputs": [
    {
     "name": "stdout",
     "output_type": "stream",
     "text": [
      "Input the first number: 2\n",
      "Input the second number 4\n",
      "The sum of 2 + 4 is 6\n"
     ]
    }
   ],
   "source": [
    "#ActiveCode: 5\n",
    "def main():\n",
    "    a = int(input(\"Input the first number: \"))\n",
    "    b = int(input(\"Input the second number \"))\n",
    "    sum = a + b\n",
    "    print(\"The sum of\", a,\"+\", b,\"is\", sum)\n",
    "main()"
   ]
  },
  {
   "cell_type": "code",
   "execution_count": null,
   "metadata": {},
   "outputs": [],
   "source": [
    "def main():\n",
    "    num = int(input(\"Digite um inteiro: \"))\n",
    "    soma = 0\n",
    "    \n",
    "    while num != 0:\n",
    "        soma = soma + num\n",
    "        num = int(input(\"Digite um inteiro: \"))\n",
    "    print(\"A soma eh\", soma)\n",
    "    print(sum)\n",
    "main()    "
   ]
  },
  {
   "cell_type": "code",
   "execution_count": null,
   "metadata": {},
   "outputs": [],
   "source": [
    "def main():\n",
    "    k = int(input(\"\"))\n",
    "    exp = int(input(\"\"))\n",
    "    n = 0\n",
    "    \n",
    "    while k >= 0:\n",
    "        exp = exp**k\n",
    "        k = int(input(\"\"))\n",
    "        exp = int(input(\"\"))\n",
    "        \n",
    "        print(exp)\n",
    "        "
   ]
  }
 ],
 "metadata": {
  "kernelspec": {
   "display_name": "Python 3",
   "language": "python",
   "name": "python3"
  },
  "language_info": {
   "codemirror_mode": {
    "name": "ipython",
    "version": 3
   },
   "file_extension": ".py",
   "mimetype": "text/x-python",
   "name": "python",
   "nbconvert_exporter": "python",
   "pygments_lexer": "ipython3",
   "version": "3.6.9"
  }
 },
 "nbformat": 4,
 "nbformat_minor": 2
}
