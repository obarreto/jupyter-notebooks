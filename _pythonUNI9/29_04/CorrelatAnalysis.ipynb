{
 "cells": [
  {
   "cell_type": "code",
   "execution_count": null,
   "metadata": {
    "colab": {
     "base_uri": "https://localhost:8080/",
     "height": 646
    },
    "colab_type": "code",
    "executionInfo": {
     "elapsed": 2798,
     "status": "ok",
     "timestamp": 1587430416273,
     "user": {
      "displayName": "LUCIANO GILLIERON GAVINHO",
      "photoUrl": "",
      "userId": "01934746388458096668"
     },
     "user_tz": 180
    },
    "id": "ObYRt5lZ-r2k",
    "outputId": "8cf6447c-e40d-428e-823f-40b204a81d48"
   },
   "outputs": [],
   "source": [
    "import pandas as pd\n",
    "import numpy as np\n",
    "import sklearn as sk\n",
    "import tensorflow as tf\n",
    "from sklearn import svm,metrics\n",
    "from sklearn.model_selection import train_test_split\n",
    "from sklearn.ensemble import RandomForestClassifier\n",
    "from imblearn.under_sampling import NearMiss\n",
    "from imblearn.over_sampling import SMOTE \n",
    "import seaborn as sn\n",
    "\n",
    "\n",
    "import matplotlib.pyplot as plt\n",
    "%matplotlib inline\n",
    "\n",
    "import seaborn as sns\n",
    "sns.set(style=\"darkgrid\")\n",
    "\n",
    "def InputAssembleNormalize(df,colunas):\n",
    "  X = df[colunas]\n",
    "  for x in colunas:\n",
    "    X[x]=(X[x]-X[x].min())/(X[x].max()-X[x].min())\n",
    "  return X\n",
    "\n",
    "\n",
    "df_crm1 = pd.read_csv(r'CRM_v6.csv',decimal=\",\")\n",
    "df_cred = pd.read_csv(r'Credito_v6.csv',decimal=\",\")\n",
    "df_imov = pd.read_csv(r'Imovel_v6.csv',decimal=\",\")\n",
    "\n",
    "#Acertando a primary key e target \n",
    "#Forced cleaning wrangling\n",
    "\n",
    "df_crm1 = df_crm1.rename(columns={'Data Hora Aprovação Comite': 'Aprovação_Comite'})\n",
    "df_crm1 = df_crm1.rename(columns={'Nome': 'Proposta'})\n",
    "\n",
    "df_crm1.loc[:,['Aprovação_Comite']] = (~df_crm1['Aprovação_Comite'].isna()).astype(int)\n",
    "\n",
    "#Escolhe colunas que são importantes de cada arquivo\n",
    "\n",
    "\n",
    "\n",
    "colunasCRM = ['Aprovação_Comite','Proposta','Status','Valor Solicitado',\n",
    "              'Quantidade de Dívidas', 'Valor Total Dívidas Real',\n",
    "              'Bacen Valor à Vencer','Quantidade de Imóveis']\n",
    "\n",
    "colunasCred = ['Proposta','Score Serasa','Score Neurolake','Total Bens e Direitos']\n",
    "\n",
    "colunasImov = ['Proposta','Valor Médio de Venda Forçada']\n",
    "#'Valor Total Dívidas Real',\n",
    "\n",
    "colunas = ['Score Neurolake','Score Serasa','Valor Solicitado',\n",
    "           'Quantidade de Dívidas', 'Valor Total Dívidas Real', 'Valor Médio de Venda Forçada',\n",
    "           'Bacen Valor à Vencer','Total Bens e Direitos']\n",
    "\n",
    "\n",
    "df_crm1 = df_crm1[colunasCRM]\n",
    "df_cred = df_cred[colunasCred]\n",
    "df_imov = df_imov[colunasImov]\n",
    "\n",
    "#transforma Rascunho em numerio para não sair do groupby\n",
    "\n",
    "df_crm1.loc[:,['Status']] = (df_crm1['Status'] == 'Rascunho').astype(int)\n",
    "\n",
    "#concatena arquivos CRM e Crédito\n",
    "\n",
    "lista = [df_crm1,df_cred,df_imov]\n",
    "\n",
    "df_crm2 = pd.concat(lista)\n",
    "\n",
    "#Agrupa pela Proposta considerando a média de score com os proponentes\n",
    "\n",
    "df_crm = df_crm2.groupby('Proposta').mean()\n",
    "\n",
    "plot_size = plt.rcParams[\"figure.figsize\"]\n",
    "plot_size [0] = 10\n",
    "plot_size [1] = 7\n",
    "plt.rcParams[\"figure.figsize\"] = plot_size\n",
    "\n",
    "corrMatrix = df_crm.corr()\n",
    "sn.heatmap(corrMatrix, annot=True)\n",
    "plt.show()\n"
   ]
  },
  {
   "cell_type": "code",
   "execution_count": null,
   "metadata": {
    "colab": {
     "base_uri": "https://localhost:8080/",
     "height": 71
    },
    "colab_type": "code",
    "executionInfo": {
     "elapsed": 954,
     "status": "ok",
     "timestamp": 1587428478559,
     "user": {
      "displayName": "LUCIANO GILLIERON GAVINHO",
      "photoUrl": "",
      "userId": "01934746388458096668"
     },
     "user_tz": 180
    },
    "id": "GRRz59-715e0",
    "outputId": "64d663b9-d306-4fef-d77d-fbe15db927b7"
   },
   "outputs": [],
   "source": [
    "import pandas as pd\n",
    "import numpy as np\n",
    "import sklearn as sk\n",
    "import tensorflow as tf\n",
    "from sklearn import svm,metrics\n",
    "from sklearn.model_selection import train_test_split\n",
    "from sklearn.ensemble import RandomForestClassifier\n",
    "from imblearn.under_sampling import NearMiss\n",
    "from imblearn.over_sampling import SMOTE \n",
    "import seaborn as sn\n",
    "\n",
    "\n",
    "import matplotlib.pyplot as plt\n",
    "%matplotlib inline\n",
    "\n",
    "import seaborn as sns\n",
    "sns.set(style=\"darkgrid\")\n",
    "\n",
    "def InputAssembleNormalize(df,colunas):\n",
    "  X = df[colunas]\n",
    "  for x in colunas:\n",
    "    X[x]=(X[x]-X[x].min())/(X[x].max()-X[x].min())\n",
    "  return X\n",
    "\n",
    "\n",
    "df_crm1 = pd.read_csv(r'CRM_v6.csv',decimal=\",\")\n",
    "df_cred = pd.read_csv(r'Credito_v6.csv',decimal=\",\")\n",
    "df_imov = pd.read_csv(r'Imovel_v6.csv',decimal=\",\")\n"
   ]
  },
  {
   "cell_type": "code",
   "execution_count": null,
   "metadata": {
    "colab": {
     "base_uri": "https://localhost:8080/",
     "height": 1000
    },
    "colab_type": "code",
    "executionInfo": {
     "elapsed": 1394,
     "status": "ok",
     "timestamp": 1587425833300,
     "user": {
      "displayName": "LUCIANO GILLIERON GAVINHO",
      "photoUrl": "",
      "userId": "01934746388458096668"
     },
     "user_tz": 180
    },
    "id": "ROWwDL122CwY",
    "outputId": "831f906a-5370-4dd3-e94d-508196e9dc1f"
   },
   "outputs": [],
   "source": [
    "df_crm1.describe().T.head(50)"
   ]
  },
  {
   "cell_type": "code",
   "execution_count": 0,
   "metadata": {
    "colab": {},
    "colab_type": "code",
    "id": "H5U5SO5F3pD7"
   },
   "outputs": [],
   "source": [
    "df_crm1 = df_crm1.rename(columns={'Data Hora Aprovação Comite': 'Aprovação_Comite'})\n",
    "df_crm1 = df_crm1.rename(columns={'Nome': 'Proposta'})"
   ]
  },
  {
   "cell_type": "code",
   "execution_count": 23,
   "metadata": {
    "colab": {
     "base_uri": "https://localhost:8080/",
     "height": 68
    },
    "colab_type": "code",
    "executionInfo": {
     "elapsed": 1165,
     "status": "ok",
     "timestamp": 1587425856023,
     "user": {
      "displayName": "LUCIANO GILLIERON GAVINHO",
      "photoUrl": "",
      "userId": "01934746388458096668"
     },
     "user_tz": 180
    },
    "id": "Ly1wTcIY4HbI",
    "outputId": "1eda480d-b2d6-404f-ab1a-eb6d84c35e44"
   },
   "outputs": [
    {
     "data": {
      "text/plain": [
       "True     3555\n",
       "False     226\n",
       "Name: Aprovação_Comite, dtype: int64"
      ]
     },
     "execution_count": 23,
     "metadata": {
      "tags": []
     },
     "output_type": "execute_result"
    }
   ],
   "source": [
    "df_crm1['Aprovação_Comite'].isna().value_counts()"
   ]
  },
  {
   "cell_type": "code",
   "execution_count": 69,
   "metadata": {
    "colab": {
     "base_uri": "https://localhost:8080/",
     "height": 68
    },
    "colab_type": "code",
    "executionInfo": {
     "elapsed": 955,
     "status": "ok",
     "timestamp": 1587428493141,
     "user": {
      "displayName": "LUCIANO GILLIERON GAVINHO",
      "photoUrl": "",
      "userId": "01934746388458096668"
     },
     "user_tz": 180
    },
    "id": "16IHHqTG5z0G",
    "outputId": "c25a7d5d-eae2-4535-99f6-03cad94e9662"
   },
   "outputs": [
    {
     "data": {
      "text/plain": [
       "0    3555\n",
       "1     226\n",
       "Name: Aprovação_Comite, dtype: int64"
      ]
     },
     "execution_count": 69,
     "metadata": {
      "tags": []
     },
     "output_type": "execute_result"
    }
   ],
   "source": [
    "df_crm1.loc[:,['Aprovação_Comite']] = (~df_crm1['Aprovação_Comite'].isna()).astype(int)\n",
    "\n",
    "df_crm1['Aprovação_Comite'].value_counts()"
   ]
  },
  {
   "cell_type": "code",
   "execution_count": 70,
   "metadata": {
    "colab": {
     "base_uri": "https://localhost:8080/",
     "height": 34
    },
    "colab_type": "code",
    "executionInfo": {
     "elapsed": 700,
     "status": "ok",
     "timestamp": 1587428503475,
     "user": {
      "displayName": "LUCIANO GILLIERON GAVINHO",
      "photoUrl": "",
      "userId": "01934746388458096668"
     },
     "user_tz": 180
    },
    "id": "R2uTNfOw-j52",
    "outputId": "a7c2065d-b81c-41db-c2c7-1f78e683160f"
   },
   "outputs": [
    {
     "name": "stdout",
     "output_type": "stream",
     "text": [
      "0\n"
     ]
    }
   ],
   "source": [
    "comp = df_crm1['Comprometimento de Renda']>100\n",
    "apro = df_crm1['Aprovação_Comite']==1\n",
    "print(len(df_crm1[comp & apro]))\n",
    "\n",
    "\n"
   ]
  },
  {
   "cell_type": "code",
   "execution_count": 0,
   "metadata": {
    "colab": {},
    "colab_type": "code",
    "id": "uRlzspRv9cNK"
   },
   "outputs": [],
   "source": [
    "df_crm1.drop(index=df_crm1[comp].index, inplace=True)"
   ]
  },
  {
   "cell_type": "code",
   "execution_count": 61,
   "metadata": {
    "colab": {
     "base_uri": "https://localhost:8080/",
     "height": 68
    },
    "colab_type": "code",
    "executionInfo": {
     "elapsed": 1010,
     "status": "ok",
     "timestamp": 1587428133090,
     "user": {
      "displayName": "LUCIANO GILLIERON GAVINHO",
      "photoUrl": "",
      "userId": "01934746388458096668"
     },
     "user_tz": 180
    },
    "id": "0R1zOh09E1Nd",
    "outputId": "0917e315-026f-4ea1-c532-cefac1bc5761"
   },
   "outputs": [
    {
     "data": {
      "text/plain": [
       "0    3501\n",
       "1     226\n",
       "Name: Aprovação_Comite, dtype: int64"
      ]
     },
     "execution_count": 61,
     "metadata": {
      "tags": []
     },
     "output_type": "execute_result"
    }
   ],
   "source": [
    "len(df_crm1)\n",
    "df_crm1['Aprovação_Comite'].value_counts()"
   ]
  },
  {
   "cell_type": "code",
   "execution_count": 73,
   "metadata": {
    "colab": {
     "base_uri": "https://localhost:8080/",
     "height": 85
    },
    "colab_type": "code",
    "executionInfo": {
     "elapsed": 715,
     "status": "ok",
     "timestamp": 1587428536277,
     "user": {
      "displayName": "LUCIANO GILLIERON GAVINHO",
      "photoUrl": "",
      "userId": "01934746388458096668"
     },
     "user_tz": 180
    },
    "id": "iDX_nsljHOgE",
    "outputId": "8e11a854-7996-403a-e04a-cf0d8cf1dba7"
   },
   "outputs": [
    {
     "data": {
      "text/plain": [
       "Rascunho    2564\n",
       "Fechado      999\n",
       "Ativo        164\n",
       "Name: Status, dtype: int64"
      ]
     },
     "execution_count": 73,
     "metadata": {
      "tags": []
     },
     "output_type": "execute_result"
    }
   ],
   "source": [
    "df_crm1.Status.value_counts()"
   ]
  },
  {
   "cell_type": "code",
   "execution_count": 81,
   "metadata": {
    "colab": {
     "base_uri": "https://localhost:8080/",
     "height": 102
    },
    "colab_type": "code",
    "executionInfo": {
     "elapsed": 716,
     "status": "ok",
     "timestamp": 1587429333687,
     "user": {
      "displayName": "LUCIANO GILLIERON GAVINHO",
      "photoUrl": "",
      "userId": "01934746388458096668"
     },
     "user_tz": 180
    },
    "id": "KnbztdYtF4S2",
    "outputId": "f2227f15-93a7-48e8-80b3-8cc14b4fab1e"
   },
   "outputs": [
    {
     "name": "stdout",
     "output_type": "stream",
     "text": [
      "2552\n"
     ]
    },
    {
     "name": "stderr",
     "output_type": "stream",
     "text": [
      "/usr/local/lib/python3.6/dist-packages/ipykernel_launcher.py:3: UserWarning: Boolean Series key will be reindexed to match DataFrame index.\n",
      "  This is separate from the ipykernel package so we can avoid doing imports until\n",
      "/usr/local/lib/python3.6/dist-packages/ipykernel_launcher.py:4: UserWarning: Boolean Series key will be reindexed to match DataFrame index.\n",
      "  after removing the cwd from sys.path.\n"
     ]
    }
   ],
   "source": [
    "rasc = df_crm1['Status'] =='Rascunho'\n",
    "descarta = (rasc & ~apro)\n",
    "print(len(df_crm1[descarta]))\n",
    "df_desc = df_crm1.drop(index=df_crm1[descarta].index)\n"
   ]
  },
  {
   "cell_type": "code",
   "execution_count": 0,
   "metadata": {
    "colab": {},
    "colab_type": "code",
    "id": "PoMoIj5NKt04"
   },
   "outputs": [],
   "source": []
  },
  {
   "cell_type": "code",
   "execution_count": 82,
   "metadata": {
    "colab": {
     "base_uri": "https://localhost:8080/",
     "height": 68
    },
    "colab_type": "code",
    "executionInfo": {
     "elapsed": 2194,
     "status": "ok",
     "timestamp": 1587429361681,
     "user": {
      "displayName": "LUCIANO GILLIERON GAVINHO",
      "photoUrl": "",
      "userId": "01934746388458096668"
     },
     "user_tz": 180
    },
    "id": "eLxfkJj-JLOw",
    "outputId": "fbbe0cea-616a-4d57-a1d1-fa02dd709e2a"
   },
   "outputs": [
    {
     "data": {
      "text/plain": [
       "0    949\n",
       "1    226\n",
       "Name: Aprovação_Comite, dtype: int64"
      ]
     },
     "execution_count": 82,
     "metadata": {
      "tags": []
     },
     "output_type": "execute_result"
    }
   ],
   "source": [
    "df_desc['Aprovação_Comite'].value_counts()"
   ]
  },
  {
   "cell_type": "code",
   "execution_count": 83,
   "metadata": {
    "colab": {
     "base_uri": "https://localhost:8080/",
     "height": 51
    },
    "colab_type": "code",
    "executionInfo": {
     "elapsed": 1849,
     "status": "ok",
     "timestamp": 1587429478043,
     "user": {
      "displayName": "LUCIANO GILLIERON GAVINHO",
      "photoUrl": "",
      "userId": "01934746388458096668"
     },
     "user_tz": 180
    },
    "id": "1HvpyCqdKvEC",
    "outputId": "98c19146-1bf8-44c0-f7fb-658da5106cb0"
   },
   "outputs": [
    {
     "name": "stderr",
     "output_type": "stream",
     "text": [
      "/usr/local/lib/python3.6/dist-packages/ipykernel_launcher.py:1: UserWarning: Boolean Series key will be reindexed to match DataFrame index.\n",
      "  \"\"\"Entry point for launching an IPython kernel.\n"
     ]
    }
   ],
   "source": [
    "df_crm1.drop(index=df_crm1[descarta].index, inplace=True)\n"
   ]
  },
  {
   "cell_type": "code",
   "execution_count": 84,
   "metadata": {
    "colab": {
     "base_uri": "https://localhost:8080/",
     "height": 68
    },
    "colab_type": "code",
    "executionInfo": {
     "elapsed": 1090,
     "status": "ok",
     "timestamp": 1587429512560,
     "user": {
      "displayName": "LUCIANO GILLIERON GAVINHO",
      "photoUrl": "",
      "userId": "01934746388458096668"
     },
     "user_tz": 180
    },
    "id": "om_YnBLFK-39",
    "outputId": "c577b3ad-8193-432e-d093-6341eff7402a"
   },
   "outputs": [
    {
     "data": {
      "text/plain": [
       "0    949\n",
       "1    226\n",
       "Name: Aprovação_Comite, dtype: int64"
      ]
     },
     "execution_count": 84,
     "metadata": {
      "tags": []
     },
     "output_type": "execute_result"
    }
   ],
   "source": [
    "df_crm1['Aprovação_Comite'].value_counts()"
   ]
  },
  {
   "cell_type": "code",
   "execution_count": 0,
   "metadata": {
    "colab": {},
    "colab_type": "code",
    "id": "zyUvYmO1MLWX"
   },
   "outputs": [],
   "source": [
    "\n",
    "colunasCRM = ['Aprovação_Comite','Proposta','Status','Valor Solicitado',\n",
    "              'Quantidade de Dívidas', 'Valor Total Dívidas Real',\n",
    "              'Bacen Valor à Vencer','Quantidade de Imóveis']\n",
    "\n",
    "colunasCred = ['Proposta','Score Serasa','Score Neurolake','Total Bens e Direitos']\n",
    "\n",
    "colunasImov = ['Proposta','Valor Médio de Venda Forçada']\n",
    "#'Valor Total Dívidas Real',\n",
    "\n",
    "colunas = ['Score Neurolake','Score Serasa','Valor Solicitado',\n",
    "           'Quantidade de Dívidas', 'Valor Total Dívidas Real', 'Valor Médio de Venda Forçada',\n",
    "           'Bacen Valor à Vencer','Total Bens e Direitos']\n",
    "\n",
    "\n",
    "df_crm1 = df_crm1[colunasCRM]\n",
    "df_cred = df_cred[colunasCred]\n",
    "df_imov = df_imov[colunasImov]\n",
    "\n",
    "#transforma Rascunho em numerio para não sair do groupby\n",
    "\n",
    "df_crm1.loc[:,['Status']] = (df_crm1['Status'] == 'Rascunho').astype(int)\n",
    "\n",
    "#concatena arquivos CRM e Crédito\n",
    "\n",
    "lista = [df_crm1,df_cred,df_imov]\n",
    "\n",
    "df_crm2 = pd.concat(lista)"
   ]
  },
  {
   "cell_type": "code",
   "execution_count": 88,
   "metadata": {
    "colab": {
     "base_uri": "https://localhost:8080/",
     "height": 374
    },
    "colab_type": "code",
    "executionInfo": {
     "elapsed": 732,
     "status": "ok",
     "timestamp": 1587429964798,
     "user": {
      "displayName": "LUCIANO GILLIERON GAVINHO",
      "photoUrl": "",
      "userId": "01934746388458096668"
     },
     "user_tz": 180
    },
    "id": "_3cNA23ZMWkY",
    "outputId": "317c312b-2a1e-47e6-945a-6645c9a33680"
   },
   "outputs": [
    {
     "data": {
      "text/plain": [
       "PRO-03918-M9P1X1    38\n",
       "PRO-03166-L0Y5W9    30\n",
       "PRO-05152-X1M5X6    23\n",
       "PRO-03757-Y6X2T3    21\n",
       "PRO-05987-W6C5R5    18\n",
       "PRO-02986-P9H6Q7    16\n",
       "PRO-03628-G8B3F0    16\n",
       "PRO-03382-V6L9D3    15\n",
       "PRO-02577-P8G7L4    14\n",
       "PRO-03198-Z9S0H7    14\n",
       "PRO-02824-M3J0J4    14\n",
       "PRO-02910-R3L1D7    13\n",
       "PRO-03583-V4T2M2    12\n",
       "PRO-02856-J1Z2X6    12\n",
       "PRO-03039-B1V9V4    11\n",
       "PRO-03996-X4T5N0    11\n",
       "PRO-02057-L8D5S8    11\n",
       "PRO-05643-B5V8R4    11\n",
       "PRO-03422-T2G2F5    11\n",
       "PRO-04796-S5X5W5    11\n",
       "Name: Proposta, dtype: int64"
      ]
     },
     "execution_count": 88,
     "metadata": {
      "tags": []
     },
     "output_type": "execute_result"
    }
   ],
   "source": [
    "df_crm2['Proposta'].value_counts().head(20)"
   ]
  },
  {
   "cell_type": "code",
   "execution_count": 0,
   "metadata": {
    "colab": {},
    "colab_type": "code",
    "id": "CcNMAEWzM0NJ"
   },
   "outputs": [],
   "source": [
    "df_crm = df_crm2.groupby('Proposta').mean()\n",
    "df_crm.fillna(0,inplace=True)\n"
   ]
  },
  {
   "cell_type": "code",
   "execution_count": 94,
   "metadata": {
    "colab": {
     "base_uri": "https://localhost:8080/",
     "height": 824
    },
    "colab_type": "code",
    "executionInfo": {
     "elapsed": 681,
     "status": "ok",
     "timestamp": 1587430314685,
     "user": {
      "displayName": "LUCIANO GILLIERON GAVINHO",
      "photoUrl": "",
      "userId": "01934746388458096668"
     },
     "user_tz": 180
    },
    "id": "iaNnXwxaNc_C",
    "outputId": "ca345abd-9f15-4159-db1f-28f4ac117b13"
   },
   "outputs": [
    {
     "data": {
      "text/html": [
       "<div>\n",
       "<style scoped>\n",
       "    .dataframe tbody tr th:only-of-type {\n",
       "        vertical-align: middle;\n",
       "    }\n",
       "\n",
       "    .dataframe tbody tr th {\n",
       "        vertical-align: top;\n",
       "    }\n",
       "\n",
       "    .dataframe thead th {\n",
       "        text-align: right;\n",
       "    }\n",
       "</style>\n",
       "<table border=\"1\" class=\"dataframe\">\n",
       "  <thead>\n",
       "    <tr style=\"text-align: right;\">\n",
       "      <th></th>\n",
       "      <th>Aprovação_Comite</th>\n",
       "      <th>Status</th>\n",
       "      <th>Valor Solicitado</th>\n",
       "      <th>Quantidade de Dívidas</th>\n",
       "      <th>Valor Total Dívidas Real</th>\n",
       "      <th>Bacen Valor à Vencer</th>\n",
       "      <th>Quantidade de Imóveis</th>\n",
       "      <th>Score Serasa</th>\n",
       "      <th>Score Neurolake</th>\n",
       "      <th>Total Bens e Direitos</th>\n",
       "      <th>Valor Médio de Venda Forçada</th>\n",
       "    </tr>\n",
       "    <tr>\n",
       "      <th>Proposta</th>\n",
       "      <th></th>\n",
       "      <th></th>\n",
       "      <th></th>\n",
       "      <th></th>\n",
       "      <th></th>\n",
       "      <th></th>\n",
       "      <th></th>\n",
       "      <th></th>\n",
       "      <th></th>\n",
       "      <th></th>\n",
       "      <th></th>\n",
       "    </tr>\n",
       "  </thead>\n",
       "  <tbody>\n",
       "    <tr>\n",
       "      <th>PRO-01406-X9S0J8</th>\n",
       "      <td>0.0</td>\n",
       "      <td>0.0</td>\n",
       "      <td>200000.0</td>\n",
       "      <td>0.0</td>\n",
       "      <td>0.0</td>\n",
       "      <td>0.00</td>\n",
       "      <td>1.0</td>\n",
       "      <td>0.0</td>\n",
       "      <td>37.710</td>\n",
       "      <td>0.00</td>\n",
       "      <td>736026.54</td>\n",
       "    </tr>\n",
       "    <tr>\n",
       "      <th>PRO-01407-J7H2Q8</th>\n",
       "      <td>1.0</td>\n",
       "      <td>0.0</td>\n",
       "      <td>150000.0</td>\n",
       "      <td>16.0</td>\n",
       "      <td>147760.8</td>\n",
       "      <td>2050054.76</td>\n",
       "      <td>1.0</td>\n",
       "      <td>0.0</td>\n",
       "      <td>43.730</td>\n",
       "      <td>359131.12</td>\n",
       "      <td>262162.50</td>\n",
       "    </tr>\n",
       "    <tr>\n",
       "      <th>PRO-01408-G1N8N4</th>\n",
       "      <td>0.0</td>\n",
       "      <td>0.0</td>\n",
       "      <td>200000.0</td>\n",
       "      <td>0.0</td>\n",
       "      <td>0.0</td>\n",
       "      <td>0.00</td>\n",
       "      <td>1.0</td>\n",
       "      <td>0.0</td>\n",
       "      <td>0.000</td>\n",
       "      <td>0.00</td>\n",
       "      <td>0.00</td>\n",
       "    </tr>\n",
       "    <tr>\n",
       "      <th>PRO-01409-H3Q3H3</th>\n",
       "      <td>0.0</td>\n",
       "      <td>0.0</td>\n",
       "      <td>50000.0</td>\n",
       "      <td>0.0</td>\n",
       "      <td>0.0</td>\n",
       "      <td>0.00</td>\n",
       "      <td>1.0</td>\n",
       "      <td>0.0</td>\n",
       "      <td>23.540</td>\n",
       "      <td>0.00</td>\n",
       "      <td>0.00</td>\n",
       "    </tr>\n",
       "    <tr>\n",
       "      <th>PRO-01410-N5P4X7</th>\n",
       "      <td>0.0</td>\n",
       "      <td>0.0</td>\n",
       "      <td>0.0</td>\n",
       "      <td>0.0</td>\n",
       "      <td>0.0</td>\n",
       "      <td>0.00</td>\n",
       "      <td>0.0</td>\n",
       "      <td>0.0</td>\n",
       "      <td>47.480</td>\n",
       "      <td>0.00</td>\n",
       "      <td>0.00</td>\n",
       "    </tr>\n",
       "    <tr>\n",
       "      <th>...</th>\n",
       "      <td>...</td>\n",
       "      <td>...</td>\n",
       "      <td>...</td>\n",
       "      <td>...</td>\n",
       "      <td>...</td>\n",
       "      <td>...</td>\n",
       "      <td>...</td>\n",
       "      <td>...</td>\n",
       "      <td>...</td>\n",
       "      <td>...</td>\n",
       "      <td>...</td>\n",
       "    </tr>\n",
       "    <tr>\n",
       "      <th>PRO-06231-S2W8V4</th>\n",
       "      <td>0.0</td>\n",
       "      <td>0.0</td>\n",
       "      <td>0.0</td>\n",
       "      <td>0.0</td>\n",
       "      <td>0.0</td>\n",
       "      <td>0.00</td>\n",
       "      <td>0.0</td>\n",
       "      <td>0.0</td>\n",
       "      <td>5.140</td>\n",
       "      <td>0.00</td>\n",
       "      <td>0.00</td>\n",
       "    </tr>\n",
       "    <tr>\n",
       "      <th>PRO-06232-V9B5Q1</th>\n",
       "      <td>0.0</td>\n",
       "      <td>0.0</td>\n",
       "      <td>0.0</td>\n",
       "      <td>0.0</td>\n",
       "      <td>0.0</td>\n",
       "      <td>0.00</td>\n",
       "      <td>0.0</td>\n",
       "      <td>0.0</td>\n",
       "      <td>20.530</td>\n",
       "      <td>0.00</td>\n",
       "      <td>0.00</td>\n",
       "    </tr>\n",
       "    <tr>\n",
       "      <th>PRO-06233-R6C2H7</th>\n",
       "      <td>0.0</td>\n",
       "      <td>0.0</td>\n",
       "      <td>0.0</td>\n",
       "      <td>0.0</td>\n",
       "      <td>0.0</td>\n",
       "      <td>0.00</td>\n",
       "      <td>0.0</td>\n",
       "      <td>0.0</td>\n",
       "      <td>6.465</td>\n",
       "      <td>0.00</td>\n",
       "      <td>0.00</td>\n",
       "    </tr>\n",
       "    <tr>\n",
       "      <th>PRO-06234-B1W9M7</th>\n",
       "      <td>0.0</td>\n",
       "      <td>0.0</td>\n",
       "      <td>0.0</td>\n",
       "      <td>0.0</td>\n",
       "      <td>0.0</td>\n",
       "      <td>0.00</td>\n",
       "      <td>0.0</td>\n",
       "      <td>0.0</td>\n",
       "      <td>51.805</td>\n",
       "      <td>0.00</td>\n",
       "      <td>0.00</td>\n",
       "    </tr>\n",
       "    <tr>\n",
       "      <th>PRO-06235-L0Q8T9</th>\n",
       "      <td>0.0</td>\n",
       "      <td>0.0</td>\n",
       "      <td>0.0</td>\n",
       "      <td>0.0</td>\n",
       "      <td>0.0</td>\n",
       "      <td>0.00</td>\n",
       "      <td>0.0</td>\n",
       "      <td>0.0</td>\n",
       "      <td>43.850</td>\n",
       "      <td>0.00</td>\n",
       "      <td>0.00</td>\n",
       "    </tr>\n",
       "  </tbody>\n",
       "</table>\n",
       "<p>3750 rows × 11 columns</p>\n",
       "</div>"
      ],
      "text/plain": [
       "                  Aprovação_Comite  ...  Valor Médio de Venda Forçada\n",
       "Proposta                            ...                              \n",
       "PRO-01406-X9S0J8               0.0  ...                     736026.54\n",
       "PRO-01407-J7H2Q8               1.0  ...                     262162.50\n",
       "PRO-01408-G1N8N4               0.0  ...                          0.00\n",
       "PRO-01409-H3Q3H3               0.0  ...                          0.00\n",
       "PRO-01410-N5P4X7               0.0  ...                          0.00\n",
       "...                            ...  ...                           ...\n",
       "PRO-06231-S2W8V4               0.0  ...                          0.00\n",
       "PRO-06232-V9B5Q1               0.0  ...                          0.00\n",
       "PRO-06233-R6C2H7               0.0  ...                          0.00\n",
       "PRO-06234-B1W9M7               0.0  ...                          0.00\n",
       "PRO-06235-L0Q8T9               0.0  ...                          0.00\n",
       "\n",
       "[3750 rows x 11 columns]"
      ]
     },
     "execution_count": 94,
     "metadata": {
      "tags": []
     },
     "output_type": "execute_result"
    }
   ],
   "source": [
    "df_crm"
   ]
  }
 ],
 "metadata": {
  "colab": {
   "name": "CorrelatAnalysis.ipynb",
   "provenance": []
  },
  "kernelspec": {
   "display_name": "Python 3",
   "language": "python",
   "name": "python3"
  },
  "language_info": {
   "codemirror_mode": {
    "name": "ipython",
    "version": 3
   },
   "file_extension": ".py",
   "mimetype": "text/x-python",
   "name": "python",
   "nbconvert_exporter": "python",
   "pygments_lexer": "ipython3",
   "version": "3.6.9"
  }
 },
 "nbformat": 4,
 "nbformat_minor": 1
}
