{
 "cells": [
  {
   "cell_type": "code",
   "execution_count": 1,
   "id": "d255d7b5",
   "metadata": {},
   "outputs": [],
   "source": [
    "import pandas as pd"
   ]
  },
  {
   "cell_type": "code",
   "execution_count": 2,
   "id": "9c6982ed",
   "metadata": {},
   "outputs": [
    {
     "name": "stdout",
     "output_type": "stream",
     "text": [
      "Defaulting to user installation because normal site-packages is not writeable\n",
      "Collecting openpyxl\n",
      "  Downloading openpyxl-3.1.3-py2.py3-none-any.whl (251 kB)\n",
      "\u001b[2K     \u001b[38;2;114;156;31m━━━━━━━━━━━━━━━━━━━━━━━━━━━━━━━━━━━━━━━\u001b[0m \u001b[32m251.3/251.3 KB\u001b[0m \u001b[31m2.4 MB/s\u001b[0m eta \u001b[36m0:00:00\u001b[0m MB/s\u001b[0m eta \u001b[36m0:00:01\u001b[0m:01\u001b[0m\n",
      "\u001b[?25hCollecting et-xmlfile\n",
      "  Downloading et_xmlfile-1.1.0-py3-none-any.whl (4.7 kB)\n",
      "Installing collected packages: et-xmlfile, openpyxl\n",
      "Successfully installed et-xmlfile-1.1.0 openpyxl-3.1.3\n"
     ]
    }
   ],
   "source": [
    "!pip install openpyxl"
   ]
  },
  {
   "cell_type": "code",
   "execution_count": null,
   "id": "c60aa709",
   "metadata": {},
   "outputs": [],
   "source": [
    "df = pd.read_excel('Sao_paulo.xlsx')"
   ]
  },
  {
   "cell_type": "code",
   "execution_count": null,
   "id": "114fa97b",
   "metadata": {},
   "outputs": [],
   "source": [
    "df"
   ]
  },
  {
   "cell_type": "code",
   "execution_count": null,
   "id": "71643079",
   "metadata": {},
   "outputs": [],
   "source": [
    "auxiliar = df.loc[10031]"
   ]
  },
  {
   "cell_type": "code",
   "execution_count": null,
   "id": "401c2558",
   "metadata": {},
   "outputs": [],
   "source": [
    "def limpa_preco(linha):\n",
    "    linha['price'] = linha['price'].replace('R$ ', '')\n",
    "    linha['price'] = linha['price'].replace('\\n', '')\n",
    "    linha['price'] = linha['price'].replace('/@s', '')\n",
    "    linha['price'] = linha['price'].replace('                       ', '')\n",
    "    return linha"
   ]
  },
  {
   "cell_type": "code",
   "execution_count": null,
   "id": "61afed60",
   "metadata": {},
   "outputs": [],
   "source": [
    "limpa_preco(auxiliar)"
   ]
  },
  {
   "cell_type": "code",
   "execution_count": null,
   "id": "686b0280",
   "metadata": {},
   "outputs": [],
   "source": [
    "#tratando todos os preços\n",
    "df.apply(lambda x: limpa_preco(x), axis=1)"
   ]
  },
  {
   "cell_type": "code",
   "execution_count": null,
   "id": "8def1db7",
   "metadata": {},
   "outputs": [],
   "source": [
    "def ajusta_alugueis(linhas)\n",
    "    linha['price'] = linha['price'].replace(',', '')\n",
    "    preco = int(linha['price'])\n",
    "    if(preco < 1000):\n",
    "    preco = int(linha['price']) * 200\n",
    "    linha['price'] = preco"
   ]
  },
  {
   "cell_type": "code",
   "execution_count": null,
   "id": "e9ec4323",
   "metadata": {},
   "outputs": [],
   "source": [
    "auxiliar = df.loc[1031]"
   ]
  },
  {
   "cell_type": "code",
   "execution_count": null,
   "id": "33a573d5",
   "metadata": {},
   "outputs": [],
   "source": [
    "ajusta_alugueis(auxiliar)"
   ]
  },
  {
   "cell_type": "code",
   "execution_count": null,
   "id": "ab6dacd4",
   "metadata": {},
   "outputs": [],
   "source": [
    "df.apply(lambda x: ajusta_alugueis(x), axis=1)"
   ]
  },
  {
   "cell_type": "code",
   "execution_count": null,
   "id": "57e8e685",
   "metadata": {},
   "outputs": [],
   "source": [
    "Exercício de fixação VI\n",
    "Ozeias Barreto\n",
    "Questão 1\n",
    "\n",
    "Carla, em análise de dados para seu mestrado, recebeu um dataset já tratado de uma pesquisa socioeconômica de bairros nos arredores de sua universidade.\n",
    "\n",
    "Porém, ao abrir o arquivo, percebeu que a média de geladeiras, necessária para seu estudo, não foi calculada, tendo NaN em seu lugar. Então, Carla precisa preencher esses dados faltantes.\n",
    "\n",
    "Como Carla pode preencher os dados faltantes com as respectivas médias?\n",
    "\n",
    "bairros['geladeiras'].fillna(value=mean_value, inplace=True)\n",
    "\n",
    "bairros['geladeiras'].fillna(value=mean_value)\n",
    "\n",
    "bairros.fillna(bairros['geladeiras'].mean())\n",
    "\n",
    "bairros.fillna(value=mean_value)\n",
    "Questão 2\n",
    "\n",
    "Ao abrir um dataset para tratar dados, você percebeu que algumas colunas não apresentam o texto formatado como desejado.\n",
    "\n",
    "Qual o melhor procedimento a tomar para corrigir o texto dos dados não tratados para o padrão desejado?\n",
    "\n",
    "A correção pode ser feita utilizando um replace nas colunas\n",
    "\n",
    "Para corrigir o texto, pode-se usar a função df.correct()\n",
    "\n",
    "É possível invocar o método df.regex() para fazer a correção\n",
    "\n",
    "Definir uma função de correção e usar o pandas.apply\n"
   ]
  }
 ],
 "metadata": {
  "kernelspec": {
   "display_name": "Python 3 (ipykernel)",
   "language": "python",
   "name": "python3"
  },
  "language_info": {
   "codemirror_mode": {
    "name": "ipython",
    "version": 3
   },
   "file_extension": ".py",
   "mimetype": "text/x-python",
   "name": "python",
   "nbconvert_exporter": "python",
   "pygments_lexer": "ipython3",
   "version": "3.10.12"
  }
 },
 "nbformat": 4,
 "nbformat_minor": 5
}
