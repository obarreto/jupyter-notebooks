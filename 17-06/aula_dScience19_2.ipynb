{
  "nbformat": 4,
  "nbformat_minor": 0,
  "metadata": {
    "colab": {
      "name": "aula_dScience19/2.ipynb",
      "provenance": [],
      "collapsed_sections": []
    },
    "kernelspec": {
      "name": "python3",
      "display_name": "Python 3"
    }
  },
  "cells": [
    {
      "cell_type": "code",
      "metadata": {
        "id": "N49fJOzUI3Ui",
        "colab_type": "code",
        "outputId": "ae935ccd-5e06-4496-cbe5-c630c1319ef4",
        "colab": {
          "base_uri": "https://localhost:8080/",
          "height": 490
        }
      },
      "source": [
        "import numpy as np\n",
        "import matplotlib.pyplot as plt\n",
        "#telefone do professor Luciano 974820478\n",
        "a = np.arange(16)\n",
        "b = np.arange(16)\n",
        "# Reshape pega toda a sequencia e \n",
        "c = a.reshape(8,2)\n",
        "#Incia com 0 termina em 5 e pega 20 numeros diferente entre esse intervalo\n",
        "d = np.linspace(0, 5, 20)\n",
        "\n",
        "print(\"---------------------\")\n",
        "print(\"Matriz a\")\n",
        "print(a)\n",
        "print(\"---------------------\")\n",
        "\n",
        "print(\"---------------------\")\n",
        "print(\"Matriz b\")\n",
        "print(b)\n",
        "print(\"---------------------\")\n",
        "\n",
        "print(\"---------------------\")\n",
        "print(\"Matriz c\")\n",
        "print(c)\n",
        "print(\"---------------------\")\n",
        "\n",
        "print(\"---------------------\")\n",
        "print(\"Matriz d\")\n",
        "print(d)\n",
        "print(\"---------------------\")\n"
      ],
      "execution_count": 0,
      "outputs": [
        {
          "output_type": "stream",
          "text": [
            "---------------------\n",
            "Matriz a\n",
            "[ 0  1  2  3  4  5  6  7  8  9 10 11 12 13 14 15]\n",
            "---------------------\n",
            "---------------------\n",
            "Matriz b\n",
            "[ 0  1  2  3  4  5  6  7  8  9 10 11 12 13 14 15]\n",
            "---------------------\n",
            "---------------------\n",
            "Matriz c\n",
            "[[ 0  1]\n",
            " [ 2  3]\n",
            " [ 4  5]\n",
            " [ 6  7]\n",
            " [ 8  9]\n",
            " [10 11]\n",
            " [12 13]\n",
            " [14 15]]\n",
            "---------------------\n",
            "---------------------\n",
            "Matriz d\n",
            "[0.         0.26315789 0.52631579 0.78947368 1.05263158 1.31578947\n",
            " 1.57894737 1.84210526 2.10526316 2.36842105 2.63157895 2.89473684\n",
            " 3.15789474 3.42105263 3.68421053 3.94736842 4.21052632 4.47368421\n",
            " 4.73684211 5.        ]\n",
            "---------------------\n"
          ],
          "name": "stdout"
        }
      ]
    },
    {
      "cell_type": "code",
      "metadata": {
        "id": "9IepJSPqMnhR",
        "colab_type": "code",
        "outputId": "7ce76d8c-86f0-4826-8c75-382aa27e9c10",
        "colab": {
          "base_uri": "https://localhost:8080/",
          "height": 35
        }
      },
      "source": [
        "#Slice é quando se retira um parte do vetor, como no exemplo abaixo x[: n]\n",
        "a [:3]"
      ],
      "execution_count": 0,
      "outputs": [
        {
          "output_type": "execute_result",
          "data": {
            "text/plain": [
              "array([0, 1, 2])"
            ]
          },
          "metadata": {
            "tags": []
          },
          "execution_count": 21
        }
      ]
    },
    {
      "cell_type": "code",
      "metadata": {
        "id": "mFII1IW6Neg4",
        "colab_type": "code",
        "outputId": "ae9e2261-58f1-47d6-8f17-e15d2b7e2c5c",
        "colab": {
          "base_uri": "https://localhost:8080/",
          "height": 35
        }
      },
      "source": [
        "b [10:]"
      ],
      "execution_count": 0,
      "outputs": [
        {
          "output_type": "execute_result",
          "data": {
            "text/plain": [
              "array([10, 11, 12, 13, 14, 15])"
            ]
          },
          "metadata": {
            "tags": []
          },
          "execution_count": 23
        }
      ]
    },
    {
      "cell_type": "code",
      "metadata": {
        "id": "xBvoY-aLN9P3",
        "colab_type": "code",
        "colab": {}
      },
      "source": [
        "a[2] = a[2] * 2"
      ],
      "execution_count": 0,
      "outputs": []
    },
    {
      "cell_type": "code",
      "metadata": {
        "id": "UJU4XvUXOEL_",
        "colab_type": "code",
        "colab": {}
      },
      "source": [
        "a[2] = 2"
      ],
      "execution_count": 0,
      "outputs": []
    },
    {
      "cell_type": "code",
      "metadata": {
        "id": "uc5NfJchOul5",
        "colab_type": "code",
        "outputId": "3a74dcb1-cf68-44c4-ee18-6670a1a730b2",
        "colab": {
          "base_uri": "https://localhost:8080/",
          "height": 90
        }
      },
      "source": [
        "d"
      ],
      "execution_count": 0,
      "outputs": [
        {
          "output_type": "execute_result",
          "data": {
            "text/plain": [
              "array([0.        , 0.26315789, 0.52631579, 0.78947368, 1.05263158,\n",
              "       1.31578947, 1.57894737, 1.84210526, 2.10526316, 2.36842105,\n",
              "       2.63157895, 2.89473684, 3.15789474, 3.42105263, 3.68421053,\n",
              "       3.94736842, 4.21052632, 4.47368421, 4.73684211, 5.        ])"
            ]
          },
          "metadata": {
            "tags": []
          },
          "execution_count": 28
        }
      ]
    },
    {
      "cell_type": "code",
      "metadata": {
        "id": "0jLCMEqSPQgm",
        "colab_type": "code",
        "outputId": "2287bb20-d18b-41af-8efb-f4d68c490288",
        "colab": {
          "base_uri": "https://localhost:8080/",
          "height": 163
        }
      },
      "source": [
        "c"
      ],
      "execution_count": 0,
      "outputs": [
        {
          "output_type": "execute_result",
          "data": {
            "text/plain": [
              "array([[ 0,  1],\n",
              "       [ 2,  3],\n",
              "       [ 4,  5],\n",
              "       [ 6,  7],\n",
              "       [ 8,  9],\n",
              "       [10, 11],\n",
              "       [12, 13],\n",
              "       [14, 15]])"
            ]
          },
          "metadata": {
            "tags": []
          },
          "execution_count": 34
        }
      ]
    },
    {
      "cell_type": "code",
      "metadata": {
        "id": "8rL-aHDMPuQN",
        "colab_type": "code",
        "outputId": "3a0060ad-12b1-4a48-f981-4391afd6eea4",
        "colab": {
          "base_uri": "https://localhost:8080/",
          "height": 35
        }
      },
      "source": [
        "c [: ,0]"
      ],
      "execution_count": 0,
      "outputs": [
        {
          "output_type": "execute_result",
          "data": {
            "text/plain": [
              "array([ 0,  2,  4,  6,  8, 10, 12, 14])"
            ]
          },
          "metadata": {
            "tags": []
          },
          "execution_count": 35
        }
      ]
    },
    {
      "cell_type": "code",
      "metadata": {
        "id": "73vwSFpJPzDl",
        "colab_type": "code",
        "outputId": "4e250d55-8d54-462a-9987-778529ae1836",
        "colab": {
          "base_uri": "https://localhost:8080/",
          "height": 35
        }
      },
      "source": [
        "c[: ,1]"
      ],
      "execution_count": 0,
      "outputs": [
        {
          "output_type": "execute_result",
          "data": {
            "text/plain": [
              "array([ 1,  3,  5,  7,  9, 11, 13, 15])"
            ]
          },
          "metadata": {
            "tags": []
          },
          "execution_count": 36
        }
      ]
    },
    {
      "cell_type": "code",
      "metadata": {
        "id": "k9rZmTIlRSSN",
        "colab_type": "code",
        "outputId": "5a57a06b-f096-4819-f4d3-fbf0f4e3368d",
        "colab": {
          "base_uri": "https://localhost:8080/",
          "height": 351
        }
      },
      "source": [
        "plt.figure()\n",
        "\n",
        "plt.scatter(a, b, linestyle='--', color='r', marker='s', linewidths=2.0)\n",
        "\n",
        "plt.title('Matrizes NUMPY Scatter')\n",
        "plt.xlabel(a)\n",
        "plt.ylabel(b)\n",
        "plt.show()\n"
      ],
      "execution_count": 0,
      "outputs": [
        {
          "output_type": "stream",
          "text": [
            "/usr/local/lib/python3.6/dist-packages/matplotlib/text.py:1150: FutureWarning: elementwise comparison failed; returning scalar instead, but in the future will perform elementwise comparison\n",
            "  if s != self._text:\n"
          ],
          "name": "stderr"
        },
        {
          "output_type": "display_data",
          "data": {
            "image/png": "[encoded data removed]",
            "text/plain": [
              "<Figure size 432x288 with 1 Axes>"
            ]
          },
          "metadata": {
            "tags": []
          }
        }
      ]
    },
    {
      "cell_type": "code",
      "metadata": {
        "id": "xZeWQz3bYU98",
        "colab_type": "code",
        "outputId": "847ce1d5-c91b-4dc1-d47e-fee909104d3a",
        "colab": {
          "base_uri": "https://localhost:8080/",
          "height": 351
        }
      },
      "source": [
        "plt.figure()\n",
        "\n",
        "plt.scatter(c[: ,0], c[: ,1], linestyle='--', color='g', marker='s', linewidths=1.0)\n",
        "\n",
        "plt.title('Matrizes NUMPY Scatter')\n",
        "plt.xlabel(a)\n",
        "plt.ylabel(b)\n",
        "plt.show()"
      ],
      "execution_count": 0,
      "outputs": [
        {
          "output_type": "stream",
          "text": [
            "/usr/local/lib/python3.6/dist-packages/matplotlib/text.py:1150: FutureWarning: elementwise comparison failed; returning scalar instead, but in the future will perform elementwise comparison\n",
            "  if s != self._text:\n"
          ],
          "name": "stderr"
        },
        {
          "output_type": "display_data",
          "data": {
            "image/png": "[encoded data removed]",
            "text/plain": [
              "<Figure size 432x288 with 1 Axes>"
            ]
          },
          "metadata": {
            "tags": []
          }
        }
      ]
    }
  ]
}