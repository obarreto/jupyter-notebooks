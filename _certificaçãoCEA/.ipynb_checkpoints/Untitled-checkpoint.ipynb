{
 "cells": [
  {
   "cell_type": "code",
   "execution_count": 4,
   "metadata": {},
   "outputs": [
    {
     "data": {
      "text/plain": [
       "0.01"
      ]
     },
     "execution_count": 4,
     "metadata": {},
     "output_type": "execute_result"
    }
   ],
   "source": [
    " #Cupom - Pagamentos de juros intermediários, podendo serem \n",
    " #ANUAIS ou SEMESTRAIS\n",
    "VALOR_FACE = 1000 #$ Valor inicial do título\n",
    "VALOR_CUPOM = 10 # % Taxa do cupom (anual)\n",
    "\n",
    "VALOR_PERCENTUAL_CUPOM = VALOR_CUPOM / VALOR_FACE\n",
    "VALOR_PERCENTUAL_CUPOM \n"
   ]
  },
  {
   "cell_type": "code",
   "execution_count": 5,
   "metadata": {},
   "outputs": [
    {
     "data": {
      "text/plain": [
       "0.01098901098901099"
      ]
     },
     "execution_count": 5,
     "metadata": {},
     "output_type": "execute_result"
    }
   ],
   "source": [
    "#Ex. Título de dívida prefixado\n",
    "PREÇO_TITULO = 910 # $ valor de mercado\n",
    "\n",
    "CURRENT_YIELD = VALOR_CUPOM / PREÇO_TITULO\n",
    "CURRENT_YIELD "
   ]
  },
  {
   "cell_type": "markdown",
   "metadata": {},
   "source": [
    "    1.\n",
    "        Um título tem valor de face de RS 1.000,00. \n",
    "        Ele paga uma taxa de cupom de 10 percent a.a. Certo investidor o \n",
    "        comprou na emissão por R$ 970,00.\n",
    "        Qual foi o current yield pelo qual ele comprou o título?"
   ]
  },
  {
   "cell_type": "code",
   "execution_count": 8,
   "metadata": {},
   "outputs": [
    {
     "data": {
      "text/plain": [
       "10.309278350515463"
      ]
     },
     "execution_count": 8,
     "metadata": {},
     "output_type": "execute_result"
    }
   ],
   "source": [
    "taxa_de_cupom = 10/100 #10%\n",
    "valor_de_face = 1000\n",
    "Preço_do_Título = 970\n",
    "\n",
    "Valor_do_Cupom = taxa_de_cupom * valor_de_face\n",
    "\n",
    "Current_Yield = (Valor_do_Cupom/Preço_do_Título) * 100\n",
    "\n",
    "Valor_do_Cupom # 10% x 1.000 = 100\n",
    "\n",
    "Current_Yield # 100/970 = 10,31%\n",
    "\n",
    "\n",
    "# Titulo negociado com DESSÁGIO,o preço está mais barato do que\n",
    "# o preço ao par - ao preço de emissão. ÁGIO é o contrário."
   ]
  },
  {
   "cell_type": "markdown",
   "metadata": {},
   "source": [
    "    TAXA DE MERCADO\n",
    "    YIELD TO MATURITY - TIR do título\n",
    "    \n",
    "    .3\n",
    "        Um título tem valor de face de RS 1.000,00 e vencimento em 3 anos. \n",
    "        Ele paga uma taxa de cupom de 10 porcento a.a e os pagamentos de cupons são \n",
    "        anuais. \n",
    "        Certo investidor o comprou na emissão por RS 970,00. \n",
    "        Qual foi o yield to maturity da operação?\n",
    "\n",
    "    .4\n",
    "        Um título perpétuo tem valor de face de RS 1.000,00.\n",
    "        Ele paga juros constantes anuais no valor de RS 100,00. \n",
    "        Sabendo-se que está sendo negociado a uma taxa de 11porcento a.a (YTM), \n",
    "        qual é o seu valor de mercado e o seu Current Yield respectivamente?\n",
    "    \n",
    "        O valor de um perpuidade na data0 é fluxo de caixa na data1 \n",
    "        dividido pela taxa da perpuidade\n",
    "\n",
    "        P = Fc / i\n",
    "         °    ¹ "
   ]
  },
  {
   "cell_type": "code",
   "execution_count": 9,
   "metadata": {},
   "outputs": [
    {
     "data": {
      "text/plain": [
       "909.0909090909091"
      ]
     },
     "execution_count": 9,
     "metadata": {},
     "output_type": "execute_result"
    }
   ],
   "source": [
    "fluxo_caixa = 100\n",
    "taxa_da_perpetuidade = 0.11\n",
    "preço = fluxo_caixa / taxa_da_perpetuidade\n",
    "\n",
    "preço"
   ]
  },
  {
   "cell_type": "code",
   "execution_count": 10,
   "metadata": {},
   "outputs": [
    {
     "data": {
      "text/plain": [
       "0.11000011000011"
      ]
     },
     "execution_count": 10,
     "metadata": {},
     "output_type": "execute_result"
    }
   ],
   "source": [
    "100/909.09"
   ]
  },
  {
   "cell_type": "markdown",
   "metadata": {},
   "source": [
    "\n",
    "\n",
    "    5. Um título de renda fixa com vencimento em 4 anos possui valor de face igual a R$ 1.000,00, \n",
    "    taxa de cupom de 5% aa (pagamentos anuais de cupom) e foi negociado por R$ 907,21 em sua emissão. \n",
    "    Calcule a taxa de mercado (TIR ou Yield-to-Maturity), pela qual o título foi negociado e analise \n",
    "    as afirmações abaixo:\n",
    "\n",
    "    I - O título foi negociado com ágio a uma taxa de mercado superior à taxa de cupom\n",
    "    II - O título foi negociado com ágio a uma taxa de mercado inferior à taxa de cupom\n",
    "    III - O título foi negociado com deságio a uma taxa de mercado de aproximadamente 7,79% aa\n",
    "    IV - O título foi negociado com deságio; portanto sua TIR foi maior do que a sua taxa de cupom\n",
    "\n",
    "    Estão corretas, somente : III e IV\n",
    "    \n",
    "    Current Yield = Valor do Cupom/Preço do título\n",
    "    Valor do Cupom = taxa de cupom x valor de face\n",
    "    Valor do Cupom = 5% x 1.000 = 50\n",
    "    Current Yield = 50/907,21 = 5,51%\n",
    "    Cupom de Emissão = 5%\n",
    "    Cálculo da taxa de mercado (Yield To Maturity) na HP 12-C\n",
    "\n",
    "    Ano 0 –> -907,21 (valor de compra do título)\n",
    "    Ano 1 –> 50 (cupom)\n",
    "    Ano 2 –> 50 (cupom)\n",
    "    Ano 3 –> 50 (cupom )\n",
    "    Ano 4 –> 1.050 (principal + cupom)\n",
    "\n",
    "    Calculando a TIR na HP 12-C, temos:\n",
    "\n",
    "    907,21 [CHS] [g] [CF0]\n",
    "    50 [g] [CFj]\n",
    "    3 [g] [Nj]\n",
    "    1.050 [g] [CFj]\n",
    "    [f] [IRR]\n",
    "\n",
    "    TIR = 7,79%\n",
    "\n",
    "    Afirmativa I – INCORRETA – O título foi negociado com deságio, já que o Current Yield é maior do que o Cupom de Emissão.\n",
    "    \n",
    "    Afirmativa II – INCORRETA – O título foi negociado com deságio.\n",
    "    \n",
    "    Afirmativa III – CORRETA – o título foi negociado com deságio, já que o Current Yield \n",
    "    é maior do que o Cupom de Emissão.Além disso, o YTM (a taxa de mercado) é de 7,79%.\n",
    "    \n",
    "    Afirmativa IV – CORRETA – o título foi negociado com deságio. \n",
    "    Sua TIR (YTM) foi de 7,79%,maior do que a taxa de Cupom, que é de 5%.\n",
    "\n"
   ]
  },
  {
   "cell_type": "code",
   "execution_count": 11,
   "metadata": {},
   "outputs": [],
   "source": [
    "taxa_de_cupom = 0.5\n",
    "Valor_do_Cupom = 0.5 * 1000 \n",
    "valor_de_face = 1000\n",
    "Preço_do_título = 907.21\n",
    "\n",
    "Valor_do_Cupom = taxa_de_cupom * valor_de_face\n",
    "Current_Yield = Valor_do_Cupom / Preço_do_título\n"
   ]
  }
 ],
 "metadata": {
  "kernelspec": {
   "display_name": "Python 3",
   "language": "python",
   "name": "python3"
  },
  "language_info": {
   "codemirror_mode": {
    "name": "ipython",
    "version": 3
   },
   "file_extension": ".py",
   "mimetype": "text/x-python",
   "name": "python",
   "nbconvert_exporter": "python",
   "pygments_lexer": "ipython3",
   "version": "3.6.9"
  }
 },
 "nbformat": 4,
 "nbformat_minor": 2
}
