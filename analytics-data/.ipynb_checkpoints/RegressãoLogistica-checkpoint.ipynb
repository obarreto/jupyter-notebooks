{
 "cells": [
  {
   "cell_type": "code",
   "execution_count": null,
   "id": "5e9eefe7",
   "metadata": {},
   "outputs": [],
   "source": [
    "import pandas as pd\n",
    "import searborn as sns\n",
    "\n",
    "from sklarn.linear_model import LogisticRegression\n",
    "from sklearn.model_selection import train_test_split\n",
    "from mlxtend.plotting import plot_confusion_matrix\n",
    "from sklearn.metrics import confusion_matrix, classification_report"
   ]
  },
  {
   "cell_type": "code",
   "execution_count": null,
   "id": "f049cc86",
   "metadata": {},
   "outputs": [],
   "source": [
    "df = pd.read_csv('breast-cancer.csv')"
   ]
  },
  {
   "cell_type": "code",
   "execution_count": null,
   "id": "807bc0a4",
   "metadata": {},
   "outputs": [],
   "source": [
    "df"
   ]
  },
  {
   "cell_type": "code",
   "execution_count": null,
   "id": "c82233d7",
   "metadata": {},
   "outputs": [],
   "source": [
    "df.info()"
   ]
  },
  {
   "cell_type": "code",
   "execution_count": null,
   "id": "f8688fd4",
   "metadata": {},
   "outputs": [],
   "source": [
    "df.head()"
   ]
  },
  {
   "cell_type": "code",
   "execution_count": null,
   "id": "b28daf49",
   "metadata": {},
   "outputs": [],
   "source": [
    "x = df.drop(['id', 'diagnosis'], axis=1)"
   ]
  },
  {
   "cell_type": "code",
   "execution_count": null,
   "id": "e33bb778",
   "metadata": {},
   "outputs": [],
   "source": [
    "y = df['diagnosis']"
   ]
  },
  {
   "cell_type": "code",
   "execution_count": null,
   "id": "14fd51da",
   "metadata": {},
   "outputs": [],
   "source": [
    "modelo = LogisticRegression(max_iter=10000)"
   ]
  },
  {
   "cell_type": "code",
   "execution_count": null,
   "id": "a29e234d",
   "metadata": {},
   "outputs": [],
   "source": []
  },
  {
   "cell_type": "code",
   "execution_count": null,
   "id": "6b279a4e",
   "metadata": {},
   "outputs": [],
   "source": [
    "x_treino, x_teste, y_treino, y_teste = train_test_split(x, y)"
   ]
  },
  {
   "cell_type": "markdown",
   "id": "c6635256",
   "metadata": {},
   "source": [
    "modelo.fit(x_treino, y_treino)"
   ]
  },
  {
   "cell_type": "code",
   "execution_count": null,
   "id": "abff1f4e",
   "metadata": {},
   "outputs": [],
   "source": [
    "y_previsto = modelo.predict(x_teste)"
   ]
  },
  {
   "cell_type": "markdown",
   "id": "d6b5ac63",
   "metadata": {},
   "source": [
    "cm = confusion_matrix(y_previsto, y_teste)"
   ]
  },
  {
   "cell_type": "code",
   "execution_count": null,
   "id": "b2a6ebad",
   "metadata": {},
   "outputs": [],
   "source": [
    "plot_confusion_matrix(cm)"
   ]
  },
  {
   "cell_type": "code",
   "execution_count": null,
   "id": "5380dadb",
   "metadata": {},
   "outputs": [],
   "source": [
    "print(classification_report(y_previsto, y_teste))"
   ]
  },
  {
   "cell_type": "code",
   "execution_count": null,
   "id": "71bd25ac",
   "metadata": {},
   "outputs": [],
   "source": [
    "Exercícios de fixação X\n",
    "Ozeias Barreto\n",
    "Questão 1\n",
    "\n",
    "Qual destas não é uma métrica de classificação?\n",
    "\n",
    "Acurácia\n",
    "\n",
    "Recall\n",
    "\n",
    "F1-Score\n",
    "\n",
    "Erro médio absoluto\n",
    "Questão 2\n",
    "\n",
    "Considere que você está fazendo uma classificação para prever Churn (evasão) de clientes de um banco, com o objetivo de distinguir entre clientes satisfeitos e evasões.\n",
    "\n",
    "Qual métrica deve ser a otimizada no algoritmo?\n",
    "\n",
    "Recall da pessoa evadindo\n",
    "\n",
    "Acurácia\n",
    "\n",
    "Precisão da pessoa evadindo\n",
    "\n",
    "Recall do cliente satisfeito\n"
   ]
  }
 ],
 "metadata": {
  "kernelspec": {
   "display_name": "Python 3 (ipykernel)",
   "language": "python",
   "name": "python3"
  },
  "language_info": {
   "codemirror_mode": {
    "name": "ipython",
    "version": 3
   },
   "file_extension": ".py",
   "mimetype": "text/x-python",
   "name": "python",
   "nbconvert_exporter": "python",
   "pygments_lexer": "ipython3",
   "version": "3.10.12"
  }
 },
 "nbformat": 4,
 "nbformat_minor": 5
}
