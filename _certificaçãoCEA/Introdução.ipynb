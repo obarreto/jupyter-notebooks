{
 "cells": [
  {
   "cell_type": "code",
   "execution_count": 2,
   "metadata": {},
   "outputs": [],
   "source": [
    "a = 26/252"
   ]
  },
  {
   "cell_type": "code",
   "execution_count": 10,
   "metadata": {},
   "outputs": [
    {
     "data": {
      "text/plain": [
       "-99.91741466357534"
      ]
     },
     "execution_count": 10,
     "metadata": {},
     "output_type": "execute_result"
    }
   ],
   "source": [
    "a ** 1.0980 * 1 - 100"
   ]
  },
  {
   "cell_type": "markdown",
   "metadata": {},
   "source": [
    "    1.6\n",
    "    Entidade:\n",
    "    Prevê a segregação entre patrimônio da empresa eo patrimônio do sócio.\n",
    "    \n",
    "    Continuidade: \n",
    "    Pressupõe-se que a empresa continuará em funcionamento no futuro, ou seja, não há prazo de duração determinado da empresa.\n",
    "    \n",
    "    Oportunidade:\n",
    "    Presume que as informações deve ser produzidas e divulgadas de maneira íntegra e tempestiva.\n",
    "    \n",
    "    Registro pelo Valor Original:\n",
    "    O registro contábil das transações deve cosnidera o valor pago, original da transação, expresso em moeda nacional.\n",
    "    \n",
    "    Competência:\n",
    "    Determina que os efeitos das transações e outros eventos sejam reconhecidos nos períods aos quais referem independenmtente do recebimento ou pagamento. Dessa forma, as despesas devem ser registradas quando incorrem e as receitas, quando se realizam.\n",
    "    \n",
    "    Prudência:\n",
    "    Prevê a adoção do menor valor para os componentes do ativo e receitas e o maior valor, para os passivos e despesas, sempre que houver alternativas igualmente válidas.\n",
    "    \n",
    "    "
   ]
  },
  {
   "cell_type": "markdown",
   "metadata": {},
   "source": [
    "   #### 1.7 Principais alterações das Leis 11.638/07 e 11.941/09\n",
    "    \n",
    "    Em 1976, foi publicada a Lei das Sociedade Anônimas nº 6.404. Esta lei rege contabilmente as Sociedade Anônimas. Entretanto, em busca de modernização e convergência com as práticas contábeis internacionais, as Leis 11.638/07 e 11.941/09 alteraram e revogaram dispositivos da Lei nº 6.404 com a seguinte proposta:\n",
    "    \n",
    "    * Melhorar a Lei Societária de 1976.\n",
    "    \n",
    "    * Adaptar a lei às mudanças sociais e econômicas decorrentes da evolução no mercado.\n",
    "    \n",
    "    * Fortalecer o mercado de capitais, mediante implementação de normas contábeis e de auditoria internacionalmente reconhecidas.\n",
    "    \n",
    "    Estas modificações visatam a inserção do Brasil no atual contexto de globalização econômica.\n",
    "    \n",
    "   \n",
    "       1. Consequências mais relevantes:\n",
    "       \n",
    "       * Essência sobre a forma - Representação adequada das transações, sendo necessária a contabilização e apresentação pela sua essência e realidade econômica, e não meramente pela sua forma legal. A essência das transações nem sempre é consistente com a sua forma legal.\n",
    "       \n",
    "       * Controle sobre prioridade - Substitui o conceito de propriedade pelo de controle, obrigando o registro do leasing financeiro como compra financiada. Ex.: \n",
    "       Sua forma jurídica do contrato prevê a propriedade do bem como sendo da arrendadora, porém, o controle, os benefícios e os riscos são da arrendatária. Assim, pela nova regra(essênciasobre a forma), o bem deverá ser registrado como ativo da arrendatária.\n",
    "       \n",
    "       * Tranferência de riscos e benefícios - Os bens decorrente de operações que transfiram à empresa os riscos, os benefícios e o controle, independente de serem propriedade, deverão ser contabilizados como Ativo.\n",
    "       \n",
    "       * Normas baseadas em princípios contábeis - O padrão é baseado em Princípios Gerais de contabilidade, e não em regras.\n",
    "       \n",
    "  #### 2. Promove autonomia para as normas contábeis:\n",
    "       \n",
    "       * Converte em Lei o processo de convergência para as Normas Internacionais.\n",
    "       \n",
    "       * Permite que os pronunciamentos do CPC seja validade pelos órgão reguladores.\n",
    "       Entidade autônoma criada pela Resolução CFC nº 1.055/05, o CPC - Comitê de Pronunciamentos Contábeis, tem como objetivo estudar, preparar e emitir Pronunciamentos Técnicos sobre Procedimentos de Contabilidade e divulgar informações dessa natureza, para permitir a emissão de normas pela entidade reguladora brasileira, visando à centralização e uniformização do seu processo de produção, levando sempre em conta a convergência Contabilidade Brasileira aos padrões internacionais.\n",
    "       \n",
    "   #### 3. Reorganiza o Balanço Patrimonial:\n",
    "       \n",
    "       * Classifica Ativos e Passivos em circulantes e Não Circulantes\n",
    "       \n",
    "       * Extingue as rubricas:\n",
    "       \n",
    "           a) Ativo Permanente;\n",
    "           b) Ativo Diferido;\n",
    "           c) Exigível a Longo Prazo;\n",
    "           d) Resultado de Exercícios Futuros - REF;\n",
    "           e) Lucros Acumulados;\n",
    "           f) Reserva de Realiação;\n",
    "           g) Reserva de Capital para Prêmio para Emissão de Debêntures; e\n",
    "           h) Reserva de Capital para Doação e Subvenções Governamentais para Investimentos.\n",
    "          \n",
    "        * Cria as rubricas\n",
    "            \n",
    "            a) Ativo Intangível;\n",
    "            b) Ajuste de Avaliação Patrimonial; e\n",
    "            c) Reserva de lucros de Incentivos Fiscais.\n",
    "           \n",
    "   #### 4. Institui as novas demonstrações contábeis:\n",
    "   \n",
    "       *DFC(Demonstrações dos Fluxos de Caixas);\n",
    "       *DRA(Demonstração de Resultado Abragente);\n",
    "       *DVA(Demonstração de Valor Adicionado) e;\n",
    "       *extingue a DOAR(Demonstração das Origens e Aplicações de Recursos).\n",
    "   \n",
    "   #### 5. Altera o método de avaliação de ativos e passivos:\n",
    "       \n",
    "       * Estabelece a marcação a mercado de instrumentos finaceiros disponíveis para venda e para negociação.\n",
    "       \n",
    "       * Estabelece o registro a valor presente de elementos de longo prazo.\n",
    "       \n",
    "       * Vincula o conceito de coligada à influência significativa nas decisões operacionais e finaceiras da empresa.\n",
    "       \n",
    "       * Introduz o teste de recuperabilidade de ativos (impairment).\n",
    "       \n",
    "       * Determina que a depreciação seja baseada na vida útil econômica do bem, enão mais pelo critério fiscal.\n",
    "   \n",
    "   #### 6. Obriga as empresas de grande porte a serem auditadas:\n",
    "       \n",
    "       * Considera-se de grande porte a sociedade que tiver, no exercício social anterior, ativo total superior a R$ 240.000.000,00(duzentos e quarenta milhões de reais) ou receita bruta anual superior a R$ 300.000.000,00(trezentos milhões de reais).\n",
    "   \n",
    "   #### 7.  Introduz o conceito de valor justo(fair value):\n",
    "       \n",
    "       O valor pelo qual um ativo pode ser negociado, ou passivo liquidade, entre partes interessadas, conhecedoras do negócio e independentes entre si, com a ausência de fatores que pressionem, a liquidação da trnsação ou caracterizem uma trnsação compulsória.\n",
    "   \n",
    "   #### 8. Amplia o uso das Notas Explicativas:\n",
    "   \n",
    "       Aumentou a quantidade de notas explicativas e elas passam a ser mais abragentes e detalhadas.\n",
    "   \n",
    "   #### 9. Extingue o uso do termo \"não operacional\":\n",
    "   \n",
    "       Na Demonstração de Resultados do Exercício não haverá mais a separação entre as receitas/despesas operacionais e as não operacionais.\n"
   ]
  },
  {
   "cell_type": "markdown",
   "metadata": {},
   "source": [
    " ###  1.8 Objetivo da Contabilidade Empresarial\n",
    " \n",
    "    A contabilidade deve diferenciar a pessoa física da pessoa jurídica. É preciso diferenciar o patrimônio da EMPRESA do patrimônio do SÓCIO - Príncipio da Entidade.\n",
    "    \n",
    "    A contabilidade deve tratar a pessoa jurídica (a empresa) separadamente das pessoas físicas(os proprietários). Dessa forma, é ncessário diferenciar o pratrimônio da empresa do patrimônio do sócio(Princípio da Entidade).\n",
    "    \n",
    "    A contabilidade é feita para a entidade, e não para seus proprietários, e evidencia sua situação econômico-ficanceira, por meio de demonstrações contábeis, sendo a mais importante Balanço Patrimonial.\n",
    "    \n",
    "  \n",
    "  \n",
    "     \n",
    "     "
   ]
  }
 ],
 "metadata": {
  "kernelspec": {
   "display_name": "Python 3",
   "language": "python",
   "name": "python3"
  },
  "language_info": {
   "codemirror_mode": {
    "name": "ipython",
    "version": 3
   },
   "file_extension": ".py",
   "mimetype": "text/x-python",
   "name": "python",
   "nbconvert_exporter": "python",
   "pygments_lexer": "ipython3",
   "version": "3.6.9"
  }
 },
 "nbformat": 4,
 "nbformat_minor": 2
}
