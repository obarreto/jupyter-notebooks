import yfinance as yf
import pandas as pd
import plotly.graph_objects as go
import matplotlib.pyplot as plt
%matplotlib inline

# Baixar dados diretamente com yfinance
acao = "IRBR3.SA"
df = yf.download(acao, start="2021-07-15", end="2023-08-03")

# Exibir os dados
print(df.head())



fig = go.Figure(data=[go.Candlestick(
    x=df.index,
    open=df['Open'],
    high=df['High'],
    low=df['Low'],
    close=df['Close']
)])

fig.update_layout(title=f"Gráfico Candlestick - {acao}", xaxis_title="Data", yaxis_title="Preço")
fig.show()




