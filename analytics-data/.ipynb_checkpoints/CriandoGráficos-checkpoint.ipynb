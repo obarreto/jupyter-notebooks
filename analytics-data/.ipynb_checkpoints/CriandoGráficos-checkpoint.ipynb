{
 "cells": [
  {
   "cell_type": "code",
   "execution_count": null,
   "id": "2b1e6c38",
   "metadata": {},
   "outputs": [],
   "source": [
    "import pandas as pd\n",
    "import matplotlib.pyplot as plt\n",
    "\n",
    "df = pd.read_csv('netflix.csv')\n",
    "df = df.drop(df.columns[0], axis = 1)"
   ]
  },
  {
   "cell_type": "code",
   "execution_count": null,
   "id": "b075542d",
   "metadata": {},
   "outputs": [],
   "source": [
    "axis_x = df['MAIN_GENRE'].value_counts().keys()\n",
    "axis_y = df['MAIN_GENRE'].value_counts().values"
   ]
  },
  {
   "cell_type": "code",
   "execution_count": null,
   "id": "32922a17",
   "metadata": {},
   "outputs": [],
   "source": [
    "plt.bar(eixo_x, eixo_y)\n",
    "\n",
    "plt_title('Filmes por genero')\n",
    "plt.xlabel('Generos de filmes')\n",
    "\n",
    "plt.ylabel('Qtd. Filmes')\n",
    "\n",
    "plt.xticks(rotation=45)\n",
    "\n",
    "plt_show()"
   ]
  },
  {
   "cell_type": "code",
   "execution_count": null,
   "id": "1f8042ab",
   "metadata": {},
   "outputs": [],
   "source": [
    "df.head()"
   ]
  },
  {
   "cell_type": "code",
   "execution_count": null,
   "id": "99ac9f8f",
   "metadata": {
    "collapsed": true
   },
   "outputs": [],
   "source": [
    "axis_x = df['RELEASE_YEAR'].value_counts().sort_index().keys()\n",
    "axis_y = df['RELEASE_YEAR'].value_counts().sort_index().values\n"
   ]
  },
  {
   "cell_type": "code",
   "execution_count": null,
   "id": "b9be26ae",
   "metadata": {},
   "outputs": [],
   "source": [
    "axis_x"
   ]
  },
  {
   "cell_type": "code",
   "execution_count": null,
   "id": "a522bf68",
   "metadata": {},
   "outputs": [],
   "source": [
    "axis_y"
   ]
  },
  {
   "cell_type": "code",
   "execution_count": null,
   "id": "f145f176",
   "metadata": {},
   "outputs": [],
   "source": [
    "plt.plot(axis_x, axis_y)\n",
    "plt.title('Melhores filmes por ano lançamento')\n",
    "plt.xlabel('Genre Movies')\n",
    "plt.ylabel('Qtd. Movies')\n",
    "\n",
    "plt.show"
   ]
  },
  {
   "cell_type": "markdown",
   "id": "b0f95226",
   "metadata": {},
   "source": [
    "Exercícios de fixação VII\n",
    "Ozeias Barreto\n",
    "Questão 1\n",
    "\n",
    "Em um dataset de vendas, você possui dados de vendas de uma loja de artigos para dança, registrados com o mês de fechamento e o valor total das compras.\n",
    "\n",
    "Você deseja fazer avaliar a evolução do valor total de todas as vendas mês a mês e compará-lo com as suas vendas do ano anterior.\n",
    "\n",
    "Para isso, você pode:\n",
    "\n",
    "Utilizar um gráfico de barras, passando no plt.bar(dados_este_ano, dados_ano_passado).\n",
    "\n",
    "Utilizar um gráfico de dispersão, passando no plt.scatter(dados_este_ano, dados_ano_passado).\n",
    "\n",
    "Utilizar um gráfico de linha, chamando plt.plot duas vezes, uma para cada ano, e depois invocando o comando plt.show()\n",
    "\n",
    "Utilizar um gráfico box plot, chamando plt.boxplot duas vezes, uma para cada ano, e depois invocando o comanto plt.show()\n",
    "Questão 2\n",
    "\n",
    "Após gerar um gráfico de barras para uma experiência, você percebe que faltam título e nomes dos eixos no gráfico\n",
    "\n",
    "Como você pode adicionar essas informações?\n",
    "\n",
    "A função plt.title(), permite adicionar título ao gráfico, enquanto plt.xlabel e plt.ylabel() dão nomes aos eixos\n",
    "\n",
    "Ao criar o gráfico de barras, basta passar dentro dos parâmetros plt.bar(title, xlabel, ylabel)\n",
    "\n",
    "Basta chamar a função plt.info() e utilizar title, xlabel e ylabel como parâmetros\n",
    "\n",
    "Basta chamar a função plt.legend() e utilizar title, xlabel e ylabel como parâmetros\n"
   ]
  }
 ],
 "metadata": {
  "kernelspec": {
   "display_name": "Python 3 (ipykernel)",
   "language": "python",
   "name": "python3"
  },
  "language_info": {
   "codemirror_mode": {
    "name": "ipython",
    "version": 3
   },
   "file_extension": ".py",
   "mimetype": "text/x-python",
   "name": "python",
   "nbconvert_exporter": "python",
   "pygments_lexer": "ipython3",
   "version": "3.12.3"
  }
 },
 "nbformat": 4,
 "nbformat_minor": 5
}
