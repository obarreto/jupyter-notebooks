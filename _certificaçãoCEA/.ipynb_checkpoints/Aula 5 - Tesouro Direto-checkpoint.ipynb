{
 "cells": [
  {
   "cell_type": "markdown",
   "metadata": {},
   "source": [
    "\n",
    "### https://www.tesourodireto.com.br/conheca/regras.htm\n",
    "    \n",
    "    Tributação investimentos em renda fixa\n",
    "    Tesouro é produto criado tesouro nacional para vendas de títulos públicos federais \n",
    "    para pessoas físicas por meio da internet - Desintermediação ficanceira.\n",
    "    \n",
    "    O Tesouro Direto tem liquidez DIÁRIA - logo sendo possível comprar e vender em qualquer dia útil da semana.\n",
    "    Valor mínimo 36 reais e no máxima de R$ 1000000.00 por mês e po CPF\n",
    "    \n",
    "    https://www.tesourodireto.com.br/titulos/precos-e-taxas.htm\n",
    "\n",
    "    As compras e vendas são feitas por meio de AGENTES INTEGRADOS as compras são \n",
    "    feitas por intermédio de algum banco ou corretora. E por meio dos AGENTES NÃO \n",
    "    INTEGRADOS a compra e vendas é feita pelo site do tesouro direto. \n",
    "\n",
    "\n",
    "    - Há duas taxas existentes.\n",
    "        \n",
    "        1. Taxa cobrada pela B3: \n",
    "           Taxa de custódia de 0.25 a.a -porcento ao ano - sobre o valor dos títulos, \n",
    "           porém essa taxa é cobrada até RS 5000000.00 aplicados na mesma Instituição \n",
    "           Financeira, se tiver mais de tal essa taxa não é mais cobrada.\n",
    "        \n",
    "        A partir do dia 01/08/2020, o tesouro SELIC passou a ser isento da taxa de \n",
    "        custódia até RS 10000.00 por CPF    \n",
    "    \n",
    "        2. Taxa cobrada pela Instituição Financeira\n",
    "       \n",
    "       A taxa cobrada pela Instituição Financeira é livremente acordada com o \n",
    "       investidor. https://www.tesourodireto.com.br/conheca/bancos-e-corretoras.htm%\n",
    "       \n",
    "       A liquidação é feita em D+1 em dias uteis. \n",
    "    \n",
    "        LTN - Tesouro Prefixado\n",
    "        LFT - Tesouro Selic\n",
    "        NTN-F - Tesouro Prefixado com juros semestrais\n",
    "        NTN-B -(Principal) - Tesouro IPCA +\n",
    "        NTN-B -Tesouro IPCA + com juros semestrais \n"
   ]
  },
  {
   "cell_type": "code",
   "execution_count": 32,
   "metadata": {},
   "outputs": [
    {
     "name": "stdout",
     "output_type": "stream",
     "text": [
      "225.0\n"
     ]
    }
   ],
   "source": [
    "investimentos = 1000\n",
    "anos_investimentos = 0.4\n",
    "\n",
    "if anos_investimentos > 2: #Maior que dois anos\n",
    "    tributação = investimentos  * 0.15 #15%\n",
    "    tributação\n",
    "    \n",
    "elif anos_investimentos >= 1 and anos_investimentos <= 2: #Entre um ano e dois anos \n",
    "    tributação = investimentos * 0.175 #17.5%\n",
    "    print(tributação)\n",
    "    \n",
    "elif anos_investimentos >= 0.5 and anos_investimentos <= 1: #Entre seis meses e 1 ano\n",
    "    tributação = investimentos * 0.2 #20%\n",
    "    print(tributação)\n",
    "    \n",
    "elif anos_investimentos < 0.5: #Menos de 6 meses\n",
    "    tributação = investimentos * 0.225 #22.5%\n",
    "    print(tributação)\n",
    "                             "
   ]
  },
  {
   "cell_type": "code",
   "execution_count": null,
   "metadata": {},
   "outputs": [],
   "source": []
  }
 ],
 "metadata": {
  "kernelspec": {
   "display_name": "Python 3",
   "language": "python",
   "name": "python3"
  },
  "language_info": {
   "codemirror_mode": {
    "name": "ipython",
    "version": 3
   },
   "file_extension": ".py",
   "mimetype": "text/x-python",
   "name": "python",
   "nbconvert_exporter": "python",
   "pygments_lexer": "ipython3",
   "version": "3.6.9"
  }
 },
 "nbformat": 4,
 "nbformat_minor": 2
}
