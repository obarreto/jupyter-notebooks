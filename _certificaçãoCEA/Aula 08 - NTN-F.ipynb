{
 "cells": [
  {
   "cell_type": "markdown",
   "metadata": {},
   "source": [
    "    Nota do Tesouro Nacional da série F\n",
    "    (Tesouro Prefixado com Juros Semestrais)\n",
    "    É semelhante a LTN pois também pois uma taxa de retorno pré-fixada, com a diferenção de que \n",
    "    são efetuados pagamentos de cupons semestrais. \n",
    "    É efetuado o Investimento Inicial numa determinada data e depois é realizaod o pagamentos \n",
    "    semestralmente de juros.\n",
    "    No vencimento é recebido o valor nominal e a ultima parcela de juros - ultimo cupom.\n",
    "    \n",
    "    Ao comprar uma NTN-F num preço unitario e em 10 d.u realiza o pagamento de um cupom\n",
    "    e após num intervalo de 6 meses é realizado o pagamento de outro cupom e por ultimo após mais 6 meses a NTN-F irá pagar o Valor Nominal mais o pagamento do ultimo cupom.\n",
    "     \n",
    "     A NTN-F paga um cupom de 10% a.a, quanto será pago ao semestre ?\n",
    "     \n",
    "     para isso é necessário efetuar a conversão de taxa t =(1 + 10%)¹/² - 1 = 4.88% a.s\n",
    "                                                         q\n",
    "     \n",
    "     "
   ]
  },
  {
   "cell_type": "code",
   "execution_count": null,
   "metadata": {},
   "outputs": [],
   "source": []
  },
  {
   "cell_type": "code",
   "execution_count": 14,
   "metadata": {},
   "outputs": [],
   "source": [
    "tq = (1 + 10/100) ** 1/2 - 1"
   ]
  },
  {
   "cell_type": "code",
   "execution_count": 18,
   "metadata": {},
   "outputs": [
    {
     "data": {
      "text/plain": [
       "-0.44999999999999996"
      ]
     },
     "execution_count": 18,
     "metadata": {},
     "output_type": "execute_result"
    }
   ],
   "source": [
    "tq"
   ]
  }
 ],
 "metadata": {
  "kernelspec": {
   "display_name": "Python 3",
   "language": "python",
   "name": "python3"
  },
  "language_info": {
   "codemirror_mode": {
    "name": "ipython",
    "version": 3
   },
   "file_extension": ".py",
   "mimetype": "text/x-python",
   "name": "python",
   "nbconvert_exporter": "python",
   "pygments_lexer": "ipython3",
   "version": "3.6.9"
  }
 },
 "nbformat": 4,
 "nbformat_minor": 2
}
