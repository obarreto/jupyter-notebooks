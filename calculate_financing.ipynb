{
 "cells": [
  {
   "cell_type": "code",
   "execution_count": 1,
   "metadata": {
    "colab": {
     "base_uri": "https://localhost:8080/",
     "height": 394
    },
    "executionInfo": {
     "elapsed": 17,
     "status": "error",
     "timestamp": 1717766508167,
     "user": {
      "displayName": "OZEIAS DE SANTANA BARRETO",
      "userId": "09499690939166015247"
     },
     "user_tz": 180
    },
    "id": "SX-bJWeg3HnG",
    "outputId": "589c983c-d83a-417a-9f7a-5774b5b72bb1"
   },
   "outputs": [
    {
     "ename": "ModuleNotFoundError",
     "errorDetails": {
      "actions": [
       {
        "action": "open_url",
        "actionText": "Open Examples",
        "url": "/notebooks/snippets/importing_libraries.ipynb"
       }
      ]
     },
     "evalue": "No module named 'mysql'",
     "output_type": "error",
     "traceback": [
      "\u001b[0;31m---------------------------------------------------------------------------\u001b[0m",
      "\u001b[0;31mModuleNotFoundError\u001b[0m                       Traceback (most recent call last)",
      "\u001b[0;32m<ipython-input-1-c8b5ebdebd20>\u001b[0m in \u001b[0;36m<cell line: 1>\u001b[0;34m()\u001b[0m\n\u001b[0;32m----> 1\u001b[0;31m \u001b[0;32mimport\u001b[0m \u001b[0mmysql\u001b[0m\u001b[0;34m.\u001b[0m\u001b[0mconnector\u001b[0m\u001b[0;34m\u001b[0m\u001b[0;34m\u001b[0m\u001b[0m\n\u001b[0m\u001b[1;32m      2\u001b[0m \u001b[0;32mfrom\u001b[0m \u001b[0mflask\u001b[0m \u001b[0;32mimport\u001b[0m \u001b[0mFlask\u001b[0m\u001b[0;34m,\u001b[0m \u001b[0mrequest\u001b[0m\u001b[0;34m,\u001b[0m \u001b[0mjsonify\u001b[0m\u001b[0;34m\u001b[0m\u001b[0;34m\u001b[0m\u001b[0m\n\u001b[1;32m      3\u001b[0m \u001b[0;34m\u001b[0m\u001b[0m\n\u001b[1;32m      4\u001b[0m \u001b[0mapp\u001b[0m \u001b[0;34m=\u001b[0m \u001b[0mFlask\u001b[0m\u001b[0;34m(\u001b[0m\u001b[0m__name__\u001b[0m\u001b[0;34m)\u001b[0m\u001b[0;34m\u001b[0m\u001b[0;34m\u001b[0m\u001b[0m\n\u001b[1;32m      5\u001b[0m \u001b[0;34m\u001b[0m\u001b[0m\n",
      "\u001b[0;31mModuleNotFoundError\u001b[0m: No module named 'mysql'",
      "",
      "\u001b[0;31m---------------------------------------------------------------------------\u001b[0;32m\nNOTE: If your import is failing due to a missing package, you can\nmanually install dependencies using either !pip or !apt.\n\nTo view examples of installing some common dependencies, click the\n\"Open Examples\" button below.\n\u001b[0;31m---------------------------------------------------------------------------\u001b[0m\n"
     ]
    }
   ],
   "source": [
    "import mysql.connector\n",
    "from flask import Flask, request, jsonify\n",
    "\n",
    "app = Flask(__name__)\n",
    "\n",
    "# Configurar conexão com o banco de dados MySQL\n",
    "db_config = {\n",
    "    'user': 'root',\n",
    "    'password': 'your_password',\n",
    "    'host': '127.0.0.1',\n",
    "    'database': 'financing_db'\n",
    "}\n",
    "\n",
    "def execute_stored_procedure(proc_name, params):\n",
    "    conn = mysql.connector.connect(**db_config)\n",
    "    cursor = conn.cursor()\n",
    "    cursor.callproc(proc_name, params)\n",
    "    results = [result.fetchall() for result in cursor.stored_results()]\n",
    "    cursor.close()\n",
    "    conn.close()\n",
    "    return results\n",
    "\n",
    "@app.route('/calculate_financing', methods=['POST'])\n",
    "def calculate_financing():\n",
    "    data = request.get_json()\n",
    "    property_value = data['property_value']\n",
    "    down_payment = data['down_payment']\n",
    "    annual_interest_rate = data['annual_interest_rate']\n",
    "    term_years = data['term_years']\n",
    "\n",
    "    financed_amount = property_value - down_payment\n",
    "\n",
    "    # Call the stored procedures\n",
    "    monthly_payment_result = execute_stored_procedure('calculate_monthly_payment', (financed_amount, annual_interest_rate, term_years, 0))\n",
    "    monthly_payment = monthly_payment_result[0][0][0]\n",
    "\n",
    "    total_payment_result = execute_stored_procedure('calculate_total_payment', (monthly_payment, term_years, 0))\n",
    "    total_payment = total_payment_result[0][0][0]\n",
    "\n",
    "    # Save the results in the database\n",
    "    conn = mysql.connector.connect(**db_config)\n",
    "    cursor = conn.cursor()\n",
    "    cursor.execute(\"\"\"\n",
    "        INSERT INTO financing (property_value, down_payment, financed_amount, interest_rate, term_years, monthly_payment, total_payment)\n",
    "        VALUES (%s, %s, %s, %s, %s, %s, %s)\n",
    "    \"\"\", (property_value, down_payment, financed_amount, annual_interest_rate, term_years, monthly_payment, total_payment))\n",
    "    conn.commit()\n",
    "    cursor.close()\n",
    "    conn.close()\n",
    "\n",
    "    return jsonify({\n",
    "        'monthly_payment': monthly_payment,\n",
    "        'total_payment': total_payment\n",
    "    })\n",
    "\n",
    "if __name__ == '__main__':\n",
    "    app.run(debug=True)\n"
   ]
  }
 ],
 "metadata": {
  "colab": {
   "authorship_tag": "ABX9TyMuKn6WoapXgolPoMqOe6CF",
   "provenance": []
  },
  "kernelspec": {
   "display_name": "Python 3 (ipykernel)",
   "language": "python",
   "name": "python3"
  },
  "language_info": {
   "codemirror_mode": {
    "name": "ipython",
    "version": 3
   },
   "file_extension": ".py",
   "mimetype": "text/x-python",
   "name": "python",
   "nbconvert_exporter": "python",
   "pygments_lexer": "ipython3",
   "version": "3.11.7"
  }
 },
 "nbformat": 4,
 "nbformat_minor": 4
}
