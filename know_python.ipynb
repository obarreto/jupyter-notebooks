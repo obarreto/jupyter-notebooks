{
 "cells": [
  {
   "cell_type": "markdown",
   "id": "b762eef7",
   "metadata": {},
   "source": [
    "#### 1. Prioridade Máxima\n",
    "\n",
    "##### Relacionamento com o Filho:\n",
    " Ação: Busque orientação legal para garantir seus direitos de ver seu filho. Isso é fundamental para sua paz de espírito e bem-estar.\n",
    "##### Último Semestre de Ciência da Computação:\n",
    " Ação: Concluir seus estudos deve ser uma prioridade alta, já que um diploma pode abrir portas e dar suporte para seus outros objetivos.\n",
    "##### Venda de Apartamentos:\n",
    "Ação: Foque em vendas para gerar receita. Esse dinheiro será essencial para financiar outras áreas da sua vida.\n",
    "\n",
    "#### 2. Prioridade Alta\n",
    "##### Trabalho no SAC da KAIZEN:\n",
    "Ação: Dedique-se ao trabalho para garantir estabilidade financeira imediata.\n",
    "##### Estudo e Habilitação de Navegação:\n",
    "Ação: Comece a aprender a navegar e a tirar as habilitações. Isso será essencial para seus planos futuros de viagem e trabalho remoto.\n",
    "##### Projetos de Desenvolvimento de Software:\n",
    "Ação: Continue evoluindo em seus projetos, pois eles podem trazer oportunidades profissionais e pessoais no futuro.\n",
    "\n",
    "#### 3. Prioridade Moderada\n",
    "##### Confeccionar Ferramentas Eletrônicas (SPOT, Fonte de Bancada, Osciloscópio):\n",
    " Ação:\n",
    "Planeje a confecção dessas ferramentas, mas faça isso de forma escalonada, começando com o que for mais necessário para iniciar seus projetos.\n",
    "##### Compra de um Carro (até R$20.000):\n",
    "Ação: Adquira um carro assim que tiver recursos suficientes, para facilitar sua logística e deslocamento.\n",
    "##### Estudo de Inglês e Data Science:\n",
    " Ação: Mantenha o estudo no Duolingo e Data Science, mas não se pressione; reserve tempo quando possível.\n",
    "\n",
    "#### 4.Prioridade Baixa, mas Importante\n",
    "\n",
    "    #####Academia:\n",
    "        #####Ação: Comece devagar, mesmo que seja com treinos curtos. A saúde física é importante para lidar com todas as outras demandas.\n",
    "\n",
    "#####Organização do Tempo\n",
    "\n",
    "    #####Manhãs: Estudo e desenvolvimento de software.\n",
    "    #####Tardes: Trabalho no SAC e venda de apartamentos.\n",
    "    #####Noites: Estudo de navegação e projetos eletrônicos.\n"
   ]
  },
  {
   "cell_type": "code",
   "execution_count": null,
   "id": "260259e2",
   "metadata": {},
   "outputs": [],
   "source": [
    "#Conhecendo a lingugem\n",
    "#Tipos de Dados\n",
    "\n",
    "print(13 + 10 + 1000)\n",
    "print(1.5 + 1 + 0.5)\n",
    "print(True)\n",
    "print(False)\n",
    "print(\"Python\")"
   ]
  },
  {
   "cell_type": "code",
   "execution_count": 1,
   "id": "cba44cd7",
   "metadata": {},
   "outputs": [
    {
     "name": "stdout",
     "output_type": "stream",
     "text": [
      "Welcome\n"
     ]
    },
    {
     "data": {
      "text/plain": [
       "['In',\n",
       " 'Out',\n",
       " '_',\n",
       " '__',\n",
       " '___',\n",
       " '__builtin__',\n",
       " '__builtins__',\n",
       " '__doc__',\n",
       " '__loader__',\n",
       " '__name__',\n",
       " '__package__',\n",
       " '__spec__',\n",
       " '_dh',\n",
       " '_i',\n",
       " '_i1',\n",
       " '_ih',\n",
       " '_ii',\n",
       " '_iii',\n",
       " '_oh',\n",
       " 'exit',\n",
       " 'get_ipython',\n",
       " 'open',\n",
       " 'quit']"
      ]
     },
     "execution_count": 1,
     "metadata": {},
     "output_type": "execute_result"
    }
   ],
   "source": [
    "#Modo interativo\n",
    "print(\"Welcome\")\n",
    "\n",
    "#Sem argumentos, retorna a lista de nomes no escopo local atual. Com um argumento, retorna uma\n",
    "#lista de atributos válidos para objetos\n",
    "\n",
    "dir()\n",
    "#Variáveis e constantes\n",
    "#Conversão de tipos\n",
    "#Funções de entrada e saída\n"
   ]
  },
  {
   "cell_type": "code",
   "execution_count": 2,
   "id": "6747e1f5",
   "metadata": {},
   "outputs": [],
   "source": [
    "import math"
   ]
  },
  {
   "cell_type": "code",
   "execution_count": 3,
   "id": "0967a781",
   "metadata": {},
   "outputs": [
    {
     "data": {
      "text/plain": [
       "['In',\n",
       " 'Out',\n",
       " '_',\n",
       " '_1',\n",
       " '__',\n",
       " '___',\n",
       " '__builtin__',\n",
       " '__builtins__',\n",
       " '__doc__',\n",
       " '__loader__',\n",
       " '__name__',\n",
       " '__package__',\n",
       " '__spec__',\n",
       " '_dh',\n",
       " '_i',\n",
       " '_i1',\n",
       " '_i2',\n",
       " '_i3',\n",
       " '_ih',\n",
       " '_ii',\n",
       " '_iii',\n",
       " '_oh',\n",
       " 'exit',\n",
       " 'get_ipython',\n",
       " 'math',\n",
       " 'open',\n",
       " 'quit']"
      ]
     },
     "execution_count": 3,
     "metadata": {},
     "output_type": "execute_result"
    }
   ],
   "source": [
    "dir()"
   ]
  },
  {
   "cell_type": "code",
   "execution_count": 4,
   "id": "ada5c27c",
   "metadata": {},
   "outputs": [
    {
     "data": {
      "text/plain": [
       "['__abs__',\n",
       " '__add__',\n",
       " '__and__',\n",
       " '__bool__',\n",
       " '__ceil__',\n",
       " '__class__',\n",
       " '__delattr__',\n",
       " '__dir__',\n",
       " '__divmod__',\n",
       " '__doc__',\n",
       " '__eq__',\n",
       " '__float__',\n",
       " '__floor__',\n",
       " '__floordiv__',\n",
       " '__format__',\n",
       " '__ge__',\n",
       " '__getattribute__',\n",
       " '__getnewargs__',\n",
       " '__getstate__',\n",
       " '__gt__',\n",
       " '__hash__',\n",
       " '__index__',\n",
       " '__init__',\n",
       " '__init_subclass__',\n",
       " '__int__',\n",
       " '__invert__',\n",
       " '__le__',\n",
       " '__lshift__',\n",
       " '__lt__',\n",
       " '__mod__',\n",
       " '__mul__',\n",
       " '__ne__',\n",
       " '__neg__',\n",
       " '__new__',\n",
       " '__or__',\n",
       " '__pos__',\n",
       " '__pow__',\n",
       " '__radd__',\n",
       " '__rand__',\n",
       " '__rdivmod__',\n",
       " '__reduce__',\n",
       " '__reduce_ex__',\n",
       " '__repr__',\n",
       " '__rfloordiv__',\n",
       " '__rlshift__',\n",
       " '__rmod__',\n",
       " '__rmul__',\n",
       " '__ror__',\n",
       " '__round__',\n",
       " '__rpow__',\n",
       " '__rrshift__',\n",
       " '__rshift__',\n",
       " '__rsub__',\n",
       " '__rtruediv__',\n",
       " '__rxor__',\n",
       " '__setattr__',\n",
       " '__sizeof__',\n",
       " '__str__',\n",
       " '__sub__',\n",
       " '__subclasshook__',\n",
       " '__truediv__',\n",
       " '__trunc__',\n",
       " '__xor__',\n",
       " 'as_integer_ratio',\n",
       " 'bit_count',\n",
       " 'bit_length',\n",
       " 'conjugate',\n",
       " 'denominator',\n",
       " 'from_bytes',\n",
       " 'imag',\n",
       " 'is_integer',\n",
       " 'numerator',\n",
       " 'real',\n",
       " 'to_bytes']"
      ]
     },
     "execution_count": 4,
     "metadata": {},
     "output_type": "execute_result"
    }
   ],
   "source": [
    "dir(100)"
   ]
  },
  {
   "cell_type": "code",
   "execution_count": null,
   "id": "7af75b4e",
   "metadata": {},
   "outputs": [],
   "source": [
    "help()\n",
    "help(100)\n",
    "#Invoca o sistema  de ajuda integrado. É possível fazer buscas em modo interativo ou informar \n",
    "#por parâmetro qual o nome do módulo, função, classe, método ou variável."
   ]
  },
  {
   "cell_type": "code",
   "execution_count": null,
   "id": "3dbf194d",
   "metadata": {},
   "outputs": [],
   "source": []
  },
  {
   "cell_type": "markdown",
   "id": "cdd5db5b",
   "metadata": {},
   "source": [
    "#### Variáveis\n",
    "    Em linguagens de programação podemos definir valores que podem sofrer alterações no decorrer da execução do programa. Esses valores recebem o nome de variáveis, pois ele nscem com um valor e não necessariamente devem permanecer com o mesmo durante a execução do programa."
   ]
  },
  {
   "cell_type": "code",
   "execution_count": null,
   "id": "e1698d34",
   "metadata": {},
   "outputs": [],
   "source": [
    "# age = 35\n",
    "# name ='Ozeias'\n",
    "age, name = 35, 'Ozeias'\n",
    "print(f'Meu nome é {name} e eu tenho {age} ano(s) de idade.')"
   ]
  },
  {
   "cell_type": "markdown",
   "id": "a7e02f71",
   "metadata": {},
   "source": [
    "#### Alterando os valores\n",
    "Perceba que não precisamos definir o tipo de dados da vairável, o Python faz isso automaticamente para nós.\n",
    "Por isso não podemos simplesmente criar uma variável sem atribuir um valor. Para alterar o valor\n",
    "da variável basta fazer uma atribuição de um novo valor:"
   ]
  },
  {
   "cell_type": "code",
   "execution_count": null,
   "id": "1271cdda",
   "metadata": {},
   "outputs": [],
   "source": [
    "help()"
   ]
  },
  {
   "cell_type": "markdown",
   "id": "3eafa958",
   "metadata": {},
   "source": [
    "Assim como as variáveis, constantes são utilizadas para armazenar valores. Uma constante\n",
    "são utilizadas para armazenar valores. Ums constante nasce com um valor e\n",
    "permanece com ele até o final da execução do programa, ou seja, o valor é imutável."
   ]
  },
  {
   "cell_type": "markdown",
   "id": "7720bf05",
   "metadata": {},
   "source": [
    "Python não tem constantes\n",
    "Não existe uma palavra reservada para informar ao interpretador que o valor é constante.\n",
    "Em algumas linguagens por exemplo: Java e C utilizamos final e const, respectivamente para declarar\n",
    "uma constante.\n",
    "\n",
    "Em Python usamos e convenção que diz ao programador que a variável é uma constante. Para fazer\n",
    "isddo, você deve criar a variável com o nome todo em letras maíusculas:"
   ]
  },
  {
   "cell_type": "code",
   "execution_count": null,
   "id": "34fa59d5",
   "metadata": {},
   "outputs": [],
   "source": [
    "ABS_PATH = '/home/obarreto/Documents/python_course'\n",
    "DEBUG = True\n",
    "STATES =[\n",
    "    'SP',\n",
    "    'RJ',\n",
    "    'MG',\n",
    "]\n",
    "AMOUNT = 30.2"
   ]
  },
  {
   "cell_type": "markdown",
   "id": "30d0c698",
   "metadata": {},
   "source": [
    "Boas práticas\n",
    "\n",
    "O padrão de nomes deve ser snake_case,\n",
    "escolher nomes sugestivos,\n",
    "nome de constantes todo em maiúsculo."
   ]
  },
  {
   "cell_type": "code",
   "execution_count": 1,
   "id": "a6f09c68",
   "metadata": {},
   "outputs": [
    {
     "name": "stdout",
     "output_type": "stream",
     "text": [
      "Janaína 42\n",
      "['SP', 'RJ', 'BA', 'AL', 'PE']\n"
     ]
    }
   ],
   "source": [
    "nome = \"Ozeias\"\n",
    "idade = 35\n",
    "\n",
    "nome, idade = \"Janaína\", 42\n",
    "\n",
    "print(nome, idade)\n",
    "\n",
    "BRAZILIAN_STATES = [\"SP\", \"RJ\", \"BA\", \"AL\", \"PE\"]\n",
    "\n",
    "print(BRAZILIAN_STATES)\n"
   ]
  },
  {
   "cell_type": "code",
   "execution_count": null,
   "id": "5a31309c",
   "metadata": {},
   "outputs": [],
   "source": []
  }
 ],
 "metadata": {
  "kernelspec": {
   "display_name": "Python 3 (ipykernel)",
   "language": "python",
   "name": "python3"
  },
  "language_info": {
   "codemirror_mode": {
    "name": "ipython",
    "version": 3
   },
   "file_extension": ".py",
   "mimetype": "text/x-python",
   "name": "python",
   "nbconvert_exporter": "python",
   "pygments_lexer": "ipython3",
   "version": "3.11.7"
  }
 },
 "nbformat": 4,
 "nbformat_minor": 5
}
