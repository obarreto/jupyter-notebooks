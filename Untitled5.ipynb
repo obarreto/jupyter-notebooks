{
 "cells": [
  {
   "cell_type": "code",
   "execution_count": 1,
   "metadata": {
    "colab": {
     "base_uri": "https://localhost:8080/",
     "height": 373
    },
    "executionInfo": {
     "elapsed": 258,
     "status": "error",
     "timestamp": 1689857145709,
     "user": {
      "displayName": "OZEIAS DE SANTANA BARRETO",
      "userId": "09499690939166015247"
     },
     "user_tz": 180
    },
    "id": "jIw_AAtHTDRS",
    "outputId": "52878717-c638-472b-cd29-dfc253932379"
   },
   "outputs": [
    {
     "ename": "ModuleNotFoundError",
     "evalue": "No module named 'aspose'",
     "output_type": "error",
     "traceback": [
      "\u001b[0;31m---------------------------------------------------------------------------\u001b[0m",
      "\u001b[0;31mModuleNotFoundError\u001b[0m                       Traceback (most recent call last)",
      "Cell \u001b[0;32mIn[1], line 1\u001b[0m\n\u001b[0;32m----> 1\u001b[0m \u001b[38;5;28;01mimport\u001b[39;00m \u001b[38;5;21;01maspose\u001b[39;00m\u001b[38;5;21;01m.\u001b[39;00m\u001b[38;5;21;01mpdf\u001b[39;00m \u001b[38;5;28;01mas\u001b[39;00m \u001b[38;5;21;01mpdf\u001b[39;00m\n\u001b[1;32m      2\u001b[0m \u001b[38;5;66;03m# Load the license\u001b[39;00m\n\u001b[1;32m      3\u001b[0m license \u001b[38;5;241m=\u001b[39m pdf\u001b[38;5;241m.\u001b[39mLicense()\n",
      "\u001b[0;31mModuleNotFoundError\u001b[0m: No module named 'aspose'"
     ]
    }
   ],
   "source": [
    "import aspose.pdf as pdf\n",
    "# Load the license\n",
    "license = pdf.License()\n",
    "license.set_license(\"Aspose.Total.lic\")\n",
    "\n",
    "#Load input PDF document\n",
    "document = pdf.Document(\"https://drive.google.com/file/d/15_JKHybSaroUqd1t7n8XRIq0YtvpUEdD/view?usp=drive_link\")\n",
    "\n",
    "#Initialize the ExcelSaveOptions\n",
    "excelSaveOptions = pdf.ExcelSaveOptions()\n",
    "\n",
    "#Set CSV format\n",
    "excelSaveOptions.format = pdf.ExcelSaveOptions.ExcelFormat.CSV\n",
    "\n",
    "# Convert the PDF to Comma-Seprated Values\n",
    "document.save(\"C:\\tabela.csv\", excelSaveOptions)\n",
    "\n",
    "print(\"Rendering process completed\")"
   ]
  },
  {
   "cell_type": "code",
   "execution_count": null,
   "metadata": {
    "id": "NuyMmq2YUeR4"
   },
   "outputs": [],
   "source": []
  }
 ],
 "metadata": {
  "colab": {
   "authorship_tag": "ABX9TyNhUNXiWeiuqz6y0X2w6PIu",
   "provenance": []
  },
  "kernelspec": {
   "display_name": "Python 3 (ipykernel)",
   "language": "python",
   "name": "python3"
  },
  "language_info": {
   "codemirror_mode": {
    "name": "ipython",
    "version": 3
   },
   "file_extension": ".py",
   "mimetype": "text/x-python",
   "name": "python",
   "nbconvert_exporter": "python",
   "pygments_lexer": "ipython3",
   "version": "3.12.3"
  }
 },
 "nbformat": 4,
 "nbformat_minor": 1
}
