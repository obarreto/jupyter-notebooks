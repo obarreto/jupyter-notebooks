{
 "cells": [
  {
   "cell_type": "code",
   "execution_count": null,
   "metadata": {
    "id": "LlXM6Er-FCAw"
   },
   "outputs": [],
   "source": []
  },
  {
   "cell_type": "markdown",
   "metadata": {
    "id": "zawAJ87tFLJQ"
   },
   "source": [
    "Listas"
   ]
  },
  {
   "cell_type": "code",
   "execution_count": null,
   "metadata": {
    "id": "6l-Q-MViFOiU"
   },
   "outputs": [],
   "source": [
    "primos = [2, 3, 5, 7]"
   ]
  },
  {
   "cell_type": "code",
   "execution_count": 4,
   "metadata": {
    "executionInfo": {
     "elapsed": 251,
     "status": "ok",
     "timestamp": 1638748573976,
     "user": {
      "displayName": "OZEIAS DE SANTANA BARRETO",
      "photoUrl": "https://lh3.googleusercontent.com/a/default-user=s64",
      "userId": "09499690939166015247"
     },
     "user_tz": 180
    },
    "id": "G9FwSSS7FYDI"
   },
   "outputs": [],
   "source": [
    "planetas = ['Mercury', 'Venus', 'Earth', 'Mars',\n",
    "            'Jupiter', 'Saturn', 'Uranus', 'Neptune']"
   ]
  },
  {
   "cell_type": "code",
   "execution_count": null,
   "metadata": {
    "id": "dOdnK55JFock"
   },
   "outputs": [],
   "source": [
    "hands = [\n",
    "     ['J', 'Q', 'K'],\n",
    "     ['2', '2', '2'],\n",
    "     ['6', 'A', 'K'], #(Virgula após o ultimo elemento é opcional)\n",
    "]\n",
    "\n"
   ]
  },
  {
   "cell_type": "code",
   "execution_count": 1,
   "metadata": {
    "executionInfo": {
     "elapsed": 9,
     "status": "ok",
     "timestamp": 1638748492968,
     "user": {
      "displayName": "OZEIAS DE SANTANA BARRETO",
      "photoUrl": "https://lh3.googleusercontent.com/a/default-user=s64",
      "userId": "09499690939166015247"
     },
     "user_tz": 180
    },
    "id": "8D85M8MuBNkR"
   },
   "outputs": [],
   "source": [
    "my_favourite_things = [32, 'raindrops on rose', help]"
   ]
  },
  {
   "cell_type": "code",
   "execution_count": 5,
   "metadata": {
    "colab": {
     "base_uri": "https://localhost:8080/",
     "height": 35
    },
    "executionInfo": {
     "elapsed": 263,
     "status": "ok",
     "timestamp": 1638748576479,
     "user": {
      "displayName": "OZEIAS DE SANTANA BARRETO",
      "photoUrl": "https://lh3.googleusercontent.com/a/default-user=s64",
      "userId": "09499690939166015247"
     },
     "user_tz": 180
    },
    "id": "t-nNAXOPBaDi",
    "outputId": "16fa46aa-b60a-425c-c1fb-423ad3f1abae"
   },
   "outputs": [
    {
     "data": {
      "application/vnd.google.colaboratory.intrinsic+json": {
       "type": "string"
      },
      "text/plain": [
       "'Mercury'"
      ]
     },
     "execution_count": 5,
     "metadata": {},
     "output_type": "execute_result"
    }
   ],
   "source": [
    "planetas[0]"
   ]
  },
  {
   "cell_type": "code",
   "execution_count": 6,
   "metadata": {
    "colab": {
     "base_uri": "https://localhost:8080/",
     "height": 35
    },
    "executionInfo": {
     "elapsed": 254,
     "status": "ok",
     "timestamp": 1638748589229,
     "user": {
      "displayName": "OZEIAS DE SANTANA BARRETO",
      "photoUrl": "https://lh3.googleusercontent.com/a/default-user=s64",
      "userId": "09499690939166015247"
     },
     "user_tz": 180
    },
    "id": "ZcaYOLQCBuXD",
    "outputId": "fafb05f7-a575-47f3-f1ac-e26443cd241c"
   },
   "outputs": [
    {
     "data": {
      "application/vnd.google.colaboratory.intrinsic+json": {
       "type": "string"
      },
      "text/plain": [
       "'Venus'"
      ]
     },
     "execution_count": 6,
     "metadata": {},
     "output_type": "execute_result"
    }
   ],
   "source": [
    "planetas[1]"
   ]
  },
  {
   "cell_type": "code",
   "execution_count": 7,
   "metadata": {
    "colab": {
     "base_uri": "https://localhost:8080/",
     "height": 35
    },
    "executionInfo": {
     "elapsed": 261,
     "status": "ok",
     "timestamp": 1638748603769,
     "user": {
      "displayName": "OZEIAS DE SANTANA BARRETO",
      "photoUrl": "https://lh3.googleusercontent.com/a/default-user=s64",
      "userId": "09499690939166015247"
     },
     "user_tz": 180
    },
    "id": "OgmPOne3Bxfb",
    "outputId": "1ca6b95f-1e5f-48e4-f151-04741d562925"
   },
   "outputs": [
    {
     "data": {
      "application/vnd.google.colaboratory.intrinsic+json": {
       "type": "string"
      },
      "text/plain": [
       "'Neptune'"
      ]
     },
     "execution_count": 7,
     "metadata": {},
     "output_type": "execute_result"
    }
   ],
   "source": [
    "planetas[-1]"
   ]
  },
  {
   "cell_type": "code",
   "execution_count": 8,
   "metadata": {
    "colab": {
     "base_uri": "https://localhost:8080/",
     "height": 35
    },
    "executionInfo": {
     "elapsed": 237,
     "status": "ok",
     "timestamp": 1638748632312,
     "user": {
      "displayName": "OZEIAS DE SANTANA BARRETO",
      "photoUrl": "https://lh3.googleusercontent.com/a/default-user=s64",
      "userId": "09499690939166015247"
     },
     "user_tz": 180
    },
    "id": "rY5umCCcB1CT",
    "outputId": "9b53c013-1578-4992-b14c-c46c078d79c9"
   },
   "outputs": [
    {
     "data": {
      "application/vnd.google.colaboratory.intrinsic+json": {
       "type": "string"
      },
      "text/plain": [
       "'Uranus'"
      ]
     },
     "execution_count": 8,
     "metadata": {},
     "output_type": "execute_result"
    }
   ],
   "source": [
    "planetas[-2]"
   ]
  },
  {
   "cell_type": "code",
   "execution_count": 10,
   "metadata": {
    "colab": {
     "base_uri": "https://localhost:8080/"
    },
    "executionInfo": {
     "elapsed": 250,
     "status": "ok",
     "timestamp": 1638748740306,
     "user": {
      "displayName": "OZEIAS DE SANTANA BARRETO",
      "photoUrl": "https://lh3.googleusercontent.com/a/default-user=s64",
      "userId": "09499690939166015247"
     },
     "user_tz": 180
    },
    "id": "J8C_AWJaB8eD",
    "outputId": "e0d94162-e265-4400-edf6-2936fef273b0"
   },
   "outputs": [
    {
     "data": {
      "text/plain": [
       "['Mercury', 'Venus', 'Earth']"
      ]
     },
     "execution_count": 10,
     "metadata": {},
     "output_type": "execute_result"
    }
   ],
   "source": [
    "planetas[0:3]"
   ]
  },
  {
   "cell_type": "code",
   "execution_count": 12,
   "metadata": {
    "colab": {
     "base_uri": "https://localhost:8080/"
    },
    "executionInfo": {
     "elapsed": 244,
     "status": "ok",
     "timestamp": 1638748789891,
     "user": {
      "displayName": "OZEIAS DE SANTANA BARRETO",
      "photoUrl": "https://lh3.googleusercontent.com/a/default-user=s64",
      "userId": "09499690939166015247"
     },
     "user_tz": 180
    },
    "id": "cZVHauNDCb1n",
    "outputId": "28b97c38-4c15-4d8d-d19d-3d8048604003"
   },
   "outputs": [
    {
     "data": {
      "text/plain": [
       "['Mercury', 'Venus', 'Earth']"
      ]
     },
     "execution_count": 12,
     "metadata": {},
     "output_type": "execute_result"
    }
   ],
   "source": [
    "planetas[:3]"
   ]
  },
  {
   "cell_type": "code",
   "execution_count": 13,
   "metadata": {
    "colab": {
     "base_uri": "https://localhost:8080/"
    },
    "executionInfo": {
     "elapsed": 241,
     "status": "ok",
     "timestamp": 1638748806608,
     "user": {
      "displayName": "OZEIAS DE SANTANA BARRETO",
      "photoUrl": "https://lh3.googleusercontent.com/a/default-user=s64",
      "userId": "09499690939166015247"
     },
     "user_tz": 180
    },
    "id": "TmK_SftDCj2S",
    "outputId": "25636b30-fef5-4213-f4e3-cfbfc5ad3115"
   },
   "outputs": [
    {
     "data": {
      "text/plain": [
       "['Mars', 'Jupiter', 'Saturn', 'Uranus', 'Neptune']"
      ]
     },
     "execution_count": 13,
     "metadata": {},
     "output_type": "execute_result"
    }
   ],
   "source": [
    "planetas[3:]"
   ]
  },
  {
   "cell_type": "code",
   "execution_count": 15,
   "metadata": {
    "colab": {
     "base_uri": "https://localhost:8080/"
    },
    "executionInfo": {
     "elapsed": 256,
     "status": "ok",
     "timestamp": 1638748898673,
     "user": {
      "displayName": "OZEIAS DE SANTANA BARRETO",
      "photoUrl": "https://lh3.googleusercontent.com/a/default-user=s64",
      "userId": "09499690939166015247"
     },
     "user_tz": 180
    },
    "id": "9T9BumpMCuYB",
    "outputId": "7845a03f-d18a-460f-eac7-3f684da60732"
   },
   "outputs": [
    {
     "data": {
      "text/plain": [
       "['Venus', 'Earth', 'Mars', 'Jupiter', 'Saturn', 'Uranus']"
      ]
     },
     "execution_count": 15,
     "metadata": {},
     "output_type": "execute_result"
    }
   ],
   "source": [
    "# All the planets excpt the first and last\n",
    "planetas[1:-1]"
   ]
  },
  {
   "cell_type": "code",
   "execution_count": 16,
   "metadata": {
    "colab": {
     "base_uri": "https://localhost:8080/"
    },
    "executionInfo": {
     "elapsed": 250,
     "status": "ok",
     "timestamp": 1638748931841,
     "user": {
      "displayName": "OZEIAS DE SANTANA BARRETO",
      "photoUrl": "https://lh3.googleusercontent.com/a/default-user=s64",
      "userId": "09499690939166015247"
     },
     "user_tz": 180
    },
    "id": "mhtgR-C8C9Xn",
    "outputId": "efda87a3-2181-4b79-94e1-66d4030b2a0e"
   },
   "outputs": [
    {
     "data": {
      "text/plain": [
       "['Saturn', 'Uranus', 'Neptune']"
      ]
     },
     "execution_count": 16,
     "metadata": {},
     "output_type": "execute_result"
    }
   ],
   "source": [
    "# The last 3 planets\n",
    "planetas[-3:]"
   ]
  },
  {
   "cell_type": "code",
   "execution_count": 17,
   "metadata": {
    "colab": {
     "base_uri": "https://localhost:8080/"
    },
    "executionInfo": {
     "elapsed": 398,
     "status": "ok",
     "timestamp": 1638749005431,
     "user": {
      "displayName": "OZEIAS DE SANTANA BARRETO",
      "photoUrl": "https://lh3.googleusercontent.com/a/default-user=s64",
      "userId": "09499690939166015247"
     },
     "user_tz": 180
    },
    "id": "SFtatOMJDFnT",
    "outputId": "012001bb-cbe6-40ec-f877-45be00cd807b"
   },
   "outputs": [
    {
     "data": {
      "text/plain": [
       "['Mercury',\n",
       " 'Venus',\n",
       " 'Earth',\n",
       " 'Malacandra',\n",
       " 'Jupiter',\n",
       " 'Saturn',\n",
       " 'Uranus',\n",
       " 'Neptune']"
      ]
     },
     "execution_count": 17,
     "metadata": {},
     "output_type": "execute_result"
    }
   ],
   "source": [
    "planetas[3] = 'Malacandra'\n",
    "planetas"
   ]
  },
  {
   "cell_type": "code",
   "execution_count": 19,
   "metadata": {
    "colab": {
     "base_uri": "https://localhost:8080/"
    },
    "executionInfo": {
     "elapsed": 244,
     "status": "ok",
     "timestamp": 1638749110055,
     "user": {
      "displayName": "OZEIAS DE SANTANA BARRETO",
      "photoUrl": "https://lh3.googleusercontent.com/a/default-user=s64",
      "userId": "09499690939166015247"
     },
     "user_tz": 180
    },
    "id": "WJQmYeGYDY4u",
    "outputId": "971b5679-c675-413a-c1d1-738040777f21"
   },
   "outputs": [
    {
     "name": "stdout",
     "output_type": "stream",
     "text": [
      "['Mur', 'Vee', 'Ur', 'Malacandra', 'Jupiter', 'Saturn', 'Uranus', 'Neptune']\n"
     ]
    }
   ],
   "source": [
    "planetas[:3] = ['Mur', 'Vee', 'Ur']\n",
    "print(planetas)\n",
    "planetas[:4] = ['Mercury', 'Venus', 'Earth', 'Mars', ]"
   ]
  },
  {
   "cell_type": "code",
   "execution_count": 20,
   "metadata": {
    "colab": {
     "base_uri": "https://localhost:8080/"
    },
    "executionInfo": {
     "elapsed": 248,
     "status": "ok",
     "timestamp": 1638749158928,
     "user": {
      "displayName": "OZEIAS DE SANTANA BARRETO",
      "photoUrl": "https://lh3.googleusercontent.com/a/default-user=s64",
      "userId": "09499690939166015247"
     },
     "user_tz": 180
    },
    "id": "4SnRJceyD1LW",
    "outputId": "97f9d481-2954-4f20-b7ea-86a5bb4d8934"
   },
   "outputs": [
    {
     "data": {
      "text/plain": [
       "8"
      ]
     },
     "execution_count": 20,
     "metadata": {},
     "output_type": "execute_result"
    }
   ],
   "source": [
    "# How many planets are there ?\n",
    "len(planetas)"
   ]
  },
  {
   "cell_type": "code",
   "execution_count": 21,
   "metadata": {
    "colab": {
     "base_uri": "https://localhost:8080/"
    },
    "executionInfo": {
     "elapsed": 247,
     "status": "ok",
     "timestamp": 1638749193911,
     "user": {
      "displayName": "OZEIAS DE SANTANA BARRETO",
      "photoUrl": "https://lh3.googleusercontent.com/a/default-user=s64",
      "userId": "09499690939166015247"
     },
     "user_tz": 180
    },
    "id": "xhIuph39D9XO",
    "outputId": "a361c614-8fd1-4427-bdcc-b19b1d8a9236"
   },
   "outputs": [
    {
     "data": {
      "text/plain": [
       "['Earth', 'Jupiter', 'Mars', 'Mercury', 'Neptune', 'Saturn', 'Uranus', 'Venus']"
      ]
     },
     "execution_count": 21,
     "metadata": {},
     "output_type": "execute_result"
    }
   ],
   "source": [
    "#The planetas sorted in alphabetical order\n",
    "sorted(planetas)"
   ]
  },
  {
   "cell_type": "code",
   "execution_count": 22,
   "metadata": {
    "colab": {
     "base_uri": "https://localhost:8080/"
    },
    "executionInfo": {
     "elapsed": 345,
     "status": "ok",
     "timestamp": 1638749238991,
     "user": {
      "displayName": "OZEIAS DE SANTANA BARRETO",
      "photoUrl": "https://lh3.googleusercontent.com/a/default-user=s64",
      "userId": "09499690939166015247"
     },
     "user_tz": 180
    },
    "id": "A65VQfirEG4w",
    "outputId": "e8326887-e7b7-457f-f6e9-29d340077c88"
   },
   "outputs": [
    {
     "data": {
      "text/plain": [
       "17"
      ]
     },
     "execution_count": 22,
     "metadata": {},
     "output_type": "execute_result"
    }
   ],
   "source": [
    "primos = [2, 3, 5, 7]\n",
    "sum(primos)"
   ]
  },
  {
   "cell_type": "code",
   "execution_count": 24,
   "metadata": {
    "colab": {
     "base_uri": "https://localhost:8080/"
    },
    "executionInfo": {
     "elapsed": 241,
     "status": "ok",
     "timestamp": 1638749416677,
     "user": {
      "displayName": "OZEIAS DE SANTANA BARRETO",
      "photoUrl": "https://lh3.googleusercontent.com/a/default-user=s64",
      "userId": "09499690939166015247"
     },
     "user_tz": 180
    },
    "id": "cFE6vte_EQyG",
    "outputId": "5bacfe94-1b92-43f3-dfdd-88274c5505ea"
   },
   "outputs": [
    {
     "data": {
      "text/plain": [
       "7"
      ]
     },
     "execution_count": 24,
     "metadata": {},
     "output_type": "execute_result"
    }
   ],
   "source": [
    "max(primos)"
   ]
  },
  {
   "cell_type": "markdown",
   "metadata": {
    "id": "XNhtybr_FBQE"
   },
   "source": [
    "Interludio: objetos\n",
    "Eu vou usar o termo 'objetos' um monte de vezes - você talvez irá ler que tudo em Python é um objeto.\n",
    "Em suma, os objetos carregam algumas coisas com eles. Você acessa essas coisas usando a sintaxe de pontos do Python.\n",
    "Por exemplo, números em Python carregam uma variável chamada `img` que representa sua parte imaginária.\n",
    " "
   ]
  },
  {
   "cell_type": "code",
   "execution_count": 25,
   "metadata": {
    "colab": {
     "base_uri": "https://localhost:8080/"
    },
    "executionInfo": {
     "elapsed": 235,
     "status": "ok",
     "timestamp": 1638750139172,
     "user": {
      "displayName": "OZEIAS DE SANTANA BARRETO",
      "photoUrl": "https://lh3.googleusercontent.com/a/default-user=s64",
      "userId": "09499690939166015247"
     },
     "user_tz": 180
    },
    "id": "9ZNYinSUHTVq",
    "outputId": "38d5b9a1-bb67-431f-fa05-c5075b5ae865"
   },
   "outputs": [
    {
     "name": "stdout",
     "output_type": "stream",
     "text": [
      "0\n",
      "3.0\n"
     ]
    }
   ],
   "source": [
    "x = 12\n",
    "# x is a real number, so its imaginary part is 0.\n",
    "print(x.imag)\n",
    "# Here's how to make a complex number, in case you've ever been curious:\n",
    "c = 12 + 3j\n",
    "print(c.imag)"
   ]
  },
  {
   "cell_type": "markdown",
   "metadata": {
    "id": "ibyPKhfdQDox"
   },
   "source": [
    "As coisas que um objeto carrega consigo também podem incluir funções. Uma função anexada a um objeto é chamada de método. (Coisas não funcionais anexadas a um objeto, como imag, são chamadas de atributos).\n",
    "\n",
    "Por exemplo, os números têm um método chamado bit_length. Novamente, nós o acessamos usando a sintaxe de pontos:"
   ]
  },
  {
   "cell_type": "code",
   "execution_count": 26,
   "metadata": {
    "colab": {
     "base_uri": "https://localhost:8080/"
    },
    "executionInfo": {
     "elapsed": 360,
     "status": "ok",
     "timestamp": 1638752358896,
     "user": {
      "displayName": "OZEIAS DE SANTANA BARRETO",
      "photoUrl": "https://lh3.googleusercontent.com/a/default-user=s64",
      "userId": "09499690939166015247"
     },
     "user_tz": 180
    },
    "id": "wNh_XcXIQFnR",
    "outputId": "6a8aa970-3ee3-4c70-f5c3-f3ac03710620"
   },
   "outputs": [
    {
     "data": {
      "text/plain": [
       "<function int.bit_length>"
      ]
     },
     "execution_count": 26,
     "metadata": {},
     "output_type": "execute_result"
    }
   ],
   "source": [
    "x.bit_length"
   ]
  },
  {
   "cell_type": "markdown",
   "metadata": {
    "id": "Dxxj7ri1QQ7U"
   },
   "source": [
    "Para chamada atual, nós adicionamos parenteses:"
   ]
  },
  {
   "cell_type": "code",
   "execution_count": 28,
   "metadata": {
    "colab": {
     "base_uri": "https://localhost:8080/"
    },
    "executionInfo": {
     "elapsed": 235,
     "status": "ok",
     "timestamp": 1638752453096,
     "user": {
      "displayName": "OZEIAS DE SANTANA BARRETO",
      "photoUrl": "https://lh3.googleusercontent.com/a/default-user=s64",
      "userId": "09499690939166015247"
     },
     "user_tz": 180
    },
    "id": "sAII2pVzQc-5",
    "outputId": "d01b3090-0c1e-4620-e0b2-751213eb8fbb"
   },
   "outputs": [
    {
     "data": {
      "text/plain": [
       "4"
      ]
     },
     "execution_count": 28,
     "metadata": {},
     "output_type": "execute_result"
    }
   ],
   "source": [
    "x.bit_length()"
   ]
  },
  {
   "cell_type": "markdown",
   "metadata": {
    "id": "UQdCUwgKRjg7"
   },
   "source": [
    ">À parte: você já chamou métodos, se ainda não fez os exercícios. Nos cadernos de exercícios, q1, q2, q3, etc. são todos objetos que possuem métodos chamados `check`, `hint` e `solution`.\n",
    "\n",
    "Em alguns casos nos podemos passar para função `help` (ex. `help(max)`), nós podemos passar no método:\n",
    "\n"
   ]
  },
  {
   "cell_type": "code",
   "execution_count": 29,
   "metadata": {
    "colab": {
     "base_uri": "https://localhost:8080/"
    },
    "executionInfo": {
     "elapsed": 255,
     "status": "ok",
     "timestamp": 1638752918525,
     "user": {
      "displayName": "OZEIAS DE SANTANA BARRETO",
      "photoUrl": "https://lh3.googleusercontent.com/a/default-user=s64",
      "userId": "09499690939166015247"
     },
     "user_tz": 180
    },
    "id": "GVjSQFC0SMnm",
    "outputId": "008b5be8-6be2-4ea8-b3dc-ddf32324e98b"
   },
   "outputs": [
    {
     "name": "stdout",
     "output_type": "stream",
     "text": [
      "Help on built-in function bit_length:\n",
      "\n",
      "bit_length() method of builtins.int instance\n",
      "    Number of bits necessary to represent self in binary.\n",
      "    \n",
      "    >>> bin(37)\n",
      "    '0b100101'\n",
      "    >>> (37).bit_length()\n",
      "    6\n",
      "\n"
     ]
    }
   ],
   "source": [
    "help(x.bit_length)"
   ]
  },
  {
   "cell_type": "markdown",
   "metadata": {
    "id": "rQ-wLGCVSTN5"
   },
   "source": [
    "O exemplo anterior eram totalmente obscuro. Nenhum dos tipos de objetos nos examinamos como(numbers, functions, booleans) tem atributos ou metodos que você usará.\n",
    "Mas acontece que as listas têm vários métodos que você usurá o tempo todo."
   ]
  },
  {
   "cell_type": "markdown",
   "metadata": {
    "id": "h6k50bafTyqb"
   },
   "source": [
    "Metodos Lista\n",
    "'list.append' modifica uma lista adicionando um item no final"
   ]
  },
  {
   "cell_type": "code",
   "execution_count": 31,
   "metadata": {
    "executionInfo": {
     "elapsed": 234,
     "status": "ok",
     "timestamp": 1638753359096,
     "user": {
      "displayName": "OZEIAS DE SANTANA BARRETO",
      "photoUrl": "https://lh3.googleusercontent.com/a/default-user=s64",
      "userId": "09499690939166015247"
     },
     "user_tz": 180
    },
    "id": "UZFxJeHoT0oo"
   },
   "outputs": [],
   "source": [
    "# Pluto is a planet darn it!\n",
    "planetas.append('Pluto')"
   ]
  },
  {
   "cell_type": "markdown",
   "metadata": {
    "id": "C5fiAlyTUruC"
   },
   "source": []
  }
 ],
 "metadata": {
  "colab": {
   "authorship_tag": "ABX9TyMaca86VoUyQE9+iDWxWEoa",
   "collapsed_sections": [],
   "name": "Listas.ipynb",
   "provenance": []
  },
  "kernelspec": {
   "display_name": "Python 3 (ipykernel)",
   "language": "python",
   "name": "python3"
  },
  "language_info": {
   "codemirror_mode": {
    "name": "ipython",
    "version": 3
   },
   "file_extension": ".py",
   "mimetype": "text/x-python",
   "name": "python",
   "nbconvert_exporter": "python",
   "pygments_lexer": "ipython3",
   "version": "3.12.3"
  }
 },
 "nbformat": 4,
 "nbformat_minor": 1
}
