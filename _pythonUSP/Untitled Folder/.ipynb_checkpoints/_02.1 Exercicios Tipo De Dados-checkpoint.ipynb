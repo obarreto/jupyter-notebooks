{
 "cells": [
  {
   "cell_type": "code",
   "execution_count": 1,
   "metadata": {},
   "outputs": [
    {
     "data": {
      "text/plain": [
       "1"
      ]
     },
     "execution_count": 1,
     "metadata": {},
     "output_type": "execute_result"
    }
   ],
   "source": [
    "#1. Qual operador é usado para divisão inteira ?\n",
    "# Resp. //\n",
    "3 // 2"
   ]
  },
  {
   "cell_type": "code",
   "execution_count": 5,
   "metadata": {},
   "outputs": [
    {
     "data": {
      "text/plain": [
       "13"
      ]
     },
     "execution_count": 5,
     "metadata": {},
     "output_type": "execute_result"
    }
   ],
   "source": [
    "#2. Como armazenar em uma nova variável a quantidade total de caracteres das três\n",
    "#variáveis abaixo\n",
    "cumprimento = \"Olá\"\n",
    "nome = \"Ana\"\n",
    "turno = \"bom dia\"\n",
    "\n",
    "tamanho = len(cumprimento) + len(nome) + len(turno)\n",
    "tamanho"
   ]
  },
  {
   "cell_type": "code",
   "execution_count": null,
   "metadata": {},
   "outputs": [],
   "source": [
    "#3.Qual a ordem de precedência em Python?\n",
    "\n",
    "#i) parênteses\n",
    "#ii) exponenciação\n",
    "#iii) divisão e multiplicação\n",
    "#iv) adição e subtração\n",
    "# I, II, III, IV"
   ]
  },
  {
   "cell_type": "code",
   "execution_count": 6,
   "metadata": {},
   "outputs": [
    {
     "data": {
      "text/plain": [
       "1"
      ]
     },
     "execution_count": 6,
     "metadata": {},
     "output_type": "execute_result"
    }
   ],
   "source": [
    "#4. Qual valor resultante da expressão(22%3)?\n",
    "\n",
    "22 % 3"
   ]
  },
  {
   "cell_type": "code",
   "execution_count": 7,
   "metadata": {},
   "outputs": [
    {
     "data": {
      "text/plain": [
       "2"
      ]
     },
     "execution_count": 7,
     "metadata": {},
     "output_type": "execute_result"
    }
   ],
   "source": [
    "#5. Qual o resultado da expressão \n",
    "2*1**2"
   ]
  },
  {
   "cell_type": "code",
   "execution_count": null,
   "metadata": {},
   "outputs": [],
   "source": [
    "#6.Pergunta 6\n",
    "\n",
    "#Analise as duas afirmativas abaixo:\n",
    "#i - int(x) devolve o valor da variável x convertido para um inteiro.\n",
    "#ii - é possível somar strings com ints diretamente\n",
    "\n",
    "#É correto dizer que:\n",
    "# I é verdadeira e II é falsa"
   ]
  }
 ],
 "metadata": {
  "kernelspec": {
   "display_name": "Python 3",
   "language": "python",
   "name": "python3"
  },
  "language_info": {
   "codemirror_mode": {
    "name": "ipython",
    "version": 3
   },
   "file_extension": ".py",
   "mimetype": "text/x-python",
   "name": "python",
   "nbconvert_exporter": "python",
   "pygments_lexer": "ipython3",
   "version": "3.6.9"
  }
 },
 "nbformat": 4,
 "nbformat_minor": 2
}
