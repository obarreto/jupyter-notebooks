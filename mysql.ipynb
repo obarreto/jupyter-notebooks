{
 "cells": [
  {
   "cell_type": "code",
   "execution_count": 1,
   "metadata": {
    "colab": {
     "base_uri": "https://localhost:8080/",
     "height": 393
    },
    "executionInfo": {
     "elapsed": 18,
     "status": "error",
     "timestamp": 1695265494711,
     "user": {
      "displayName": "OZEIAS DE SANTANA BARRETO",
      "userId": "09499690939166015247"
     },
     "user_tz": 180
    },
    "id": "lDFpxiATqG4G",
    "outputId": "dfde9747-8c32-40b2-8196-bb4af5964ce8"
   },
   "outputs": [
    {
     "ename": "ModuleNotFoundError",
     "errorDetails": {
      "actions": [
       {
        "action": "open_url",
        "actionText": "Open Examples",
        "url": "/notebooks/snippets/importing_libraries.ipynb"
       }
      ]
     },
     "evalue": "ignored",
     "output_type": "error",
     "traceback": [
      "\u001b[0;31m---------------------------------------------------------------------------\u001b[0m",
      "\u001b[0;31mModuleNotFoundError\u001b[0m                       Traceback (most recent call last)",
      "\u001b[0;32m<ipython-input-1-c854623aba75>\u001b[0m in \u001b[0;36m<cell line: 1>\u001b[0;34m()\u001b[0m\n\u001b[0;32m----> 1\u001b[0;31m \u001b[0;32mimport\u001b[0m \u001b[0mmysql\u001b[0m\u001b[0;34m.\u001b[0m\u001b[0mconnector\u001b[0m\u001b[0;34m\u001b[0m\u001b[0;34m\u001b[0m\u001b[0m\n\u001b[0m\u001b[1;32m      2\u001b[0m \u001b[0;34m\u001b[0m\u001b[0m\n\u001b[1;32m      3\u001b[0m \u001b[0;31m# Configurar a conexão com o banco de dados\u001b[0m\u001b[0;34m\u001b[0m\u001b[0;34m\u001b[0m\u001b[0m\n\u001b[1;32m      4\u001b[0m conexao = mysql.connector.connect(\n\u001b[1;32m      5\u001b[0m     \u001b[0mhost\u001b[0m\u001b[0;34m=\u001b[0m\u001b[0;34m\"root@localhost:3306\"\u001b[0m\u001b[0;34m,\u001b[0m\u001b[0;34m\u001b[0m\u001b[0;34m\u001b[0m\u001b[0m\n",
      "\u001b[0;31mModuleNotFoundError\u001b[0m: No module named 'mysql'",
      "",
      "\u001b[0;31m---------------------------------------------------------------------------\u001b[0;32m\nNOTE: If your import is failing due to a missing package, you can\nmanually install dependencies using either !pip or !apt.\n\nTo view examples of installing some common dependencies, click the\n\"Open Examples\" button below.\n\u001b[0;31m---------------------------------------------------------------------------\u001b[0m\n"
     ]
    }
   ],
   "source": [
    "import mysql.connector\n",
    "\n",
    "# Configurar a conexão com o banco de dados\n",
    "conexao = mysql.connector.connect(\n",
    "    host=\"root@localhost:3306\",\n",
    "    user=\"root\",\n",
    "    password=\"toor\",\n",
    "    database=\"gallon\"\n",
    ")\n",
    "\n",
    "# Criar um objeto cursor para executar comandos SQL\n",
    "cursor = conexao.cursor()\n",
    "\n",
    "# Comando SQL para criar a tabela\n",
    "criar_tabela = \"\"\"\n",
    "    CREATE TABLE IF NOT EXISTS tabela_abastecimento (\n",
    "        id INT AUTO_INCREMENT PRIMARY KEY,\n",
    "        combustivel VARCHAR(255) NOT NULL,\n",
    "        litros DECIMAL(10, 2) NOT NULL,\n",
    "        valor DECIMAL(10, 2) NOT NULL,\n",
    "        quilometragem DECIMAL(10, 2) NOT NULL\n",
    "    )\n",
    "\"\"\"\n",
    "\n",
    "# Executar o comando SQL para criar a tabela\n",
    "cursor.execute(criar_tabela)\n",
    "\n",
    "# Dados a serem inseridos na tabela\n",
    "combustivel = \"Gasolina\"\n",
    "litros = 45.5\n",
    "valor = 120.0\n",
    "quilometragem = 55000.0\n",
    "\n",
    "# Comando SQL para inserir dados na tabela\n",
    "inserir_dados = \"\"\"\n",
    "    INSERT INTO tabela_abastecimento (combustivel, litros, valor, quilometragem)\n",
    "    VALUES (%s, %s, %s, %s)\n",
    "\"\"\"\n",
    "\n",
    "# Valores a serem inseridos\n",
    "valores = (combustivel, litros, valor, quilometragem)\n",
    "\n",
    "# Executar o comando SQL para inserir dados\n",
    "cursor.execute(inserir_dados, valores)\n",
    "\n",
    "# Fazer o commit das alterações no banco de dados\n",
    "conexao.commit()\n",
    "\n",
    "# Fechar o cursor e a conexão\n",
    "cursor.close()\n",
    "conexao.close()\n",
    "\n",
    "print(\"Tabela criada e dados inseridos com sucesso!\")"
   ]
  }
 ],
 "metadata": {
  "colab": {
   "authorship_tag": "ABX9TyOCf29Jm6nSFUK7E0QELmsd",
   "provenance": []
  },
  "kernelspec": {
   "display_name": "Python 3 (ipykernel)",
   "language": "python",
   "name": "python3"
  },
  "language_info": {
   "codemirror_mode": {
    "name": "ipython",
    "version": 3
   },
   "file_extension": ".py",
   "mimetype": "text/x-python",
   "name": "python",
   "nbconvert_exporter": "python",
   "pygments_lexer": "ipython3",
   "version": "3.12.3"
  }
 },
 "nbformat": 4,
 "nbformat_minor": 1
}
