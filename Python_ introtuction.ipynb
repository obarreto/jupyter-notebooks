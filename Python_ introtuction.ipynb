{
 "cells": [
  {
   "cell_type": "code",
   "execution_count": 1,
   "metadata": {
    "colab": {
     "base_uri": "https://localhost:8080/",
     "height": 87
    },
    "executionInfo": {
     "elapsed": 6936,
     "status": "ok",
     "timestamp": 1718393757415,
     "user": {
      "displayName": "OZEIAS DE SANTANA BARRETO",
      "userId": "09499690939166015247"
     },
     "user_tz": 180
    },
    "id": "LWdbalARPuOl",
    "outputId": "76f9226f-d1d0-458c-853d-419dd63a2364"
   },
   "outputs": [
    {
     "name": "stdout",
     "output_type": "stream",
     "text": [
      "Hello World\n",
      "Seja bem-vindo(a) ao curso de Python do Coding Tank !\n",
      "Qual é alinguagem de programção que você está utilizando? Python\n"
     ]
    },
    {
     "data": {
      "application/vnd.google.colaboratory.intrinsic+json": {
       "type": "string"
      },
      "text/plain": [
       "'Python'"
      ]
     },
     "execution_count": 1,
     "metadata": {},
     "output_type": "execute_result"
    }
   ],
   "source": [
    "print ('Hello World')\n",
    "print('Seja bem-vindo(a) ao curso de Python do Coding Tank !')\n",
    "\n",
    "input('Qual é alinguagem de programção que você está utilizando? ')\n"
   ]
  },
  {
   "cell_type": "code",
   "execution_count": 2,
   "metadata": {
    "colab": {
     "base_uri": "https://localhost:8080/",
     "height": 35
    },
    "executionInfo": {
     "elapsed": 10,
     "status": "ok",
     "timestamp": 1718393928673,
     "user": {
      "displayName": "OZEIAS DE SANTANA BARRETO",
      "userId": "09499690939166015247"
     },
     "user_tz": 180
    },
    "id": "UVO4Cn9nPvr3",
    "outputId": "81fb8a9e-4f41-44c3-9afb-0985536431b4"
   },
   "outputs": [
    {
     "data": {
      "application/vnd.google.colaboratory.intrinsic+json": {
       "type": "string"
      },
      "text/plain": [
       "'\\n'"
      ]
     },
     "execution_count": 2,
     "metadata": {},
     "output_type": "execute_result"
    }
   ],
   "source": [
    "# > VARIÁBLES\n",
    "\n",
    "#1. Variáveis\n",
    "\n",
    "idade = 26 # Criando um variável\n",
    "\n",
    "print(idade)\n",
    "\n",
    "nome = 'Ozeias Barreto'\n",
    "print(nome)\n",
    "\"\"\"\n",
    "Tipos de variáveis\n",
    "\n",
    "1. int:n[numeros inteiros, ou seja, números sem parte decimal: 0, 5, -1, 1000]\n",
    "2. float: números reais, ou seja, números com parte de cimal: 1.0, -2.7, 3.14\n",
    "3. str: cadeias de caracteres, ou seja, dados textuais\n",
    "4. bool: valores lógicos(booleanos): True ou False\n",
    "\"\"\""
   ]
  },
  {
   "cell_type": "code",
   "execution_count": 4,
   "metadata": {
    "colab": {
     "base_uri": "https://localhost:8080/"
    },
    "executionInfo": {
     "elapsed": 6123,
     "status": "ok",
     "timestamp": 1718394614970,
     "user": {
      "displayName": "OZEIAS DE SANTANA BARRETO",
      "userId": "09499690939166015247"
     },
     "user_tz": 180
    },
    "id": "CF-CyWXUQni1",
    "outputId": "b81f804d-441b-4786-cff1-f24368bdec68"
   },
   "outputs": [
    {
     "name": "stdout",
     "output_type": "stream",
     "text": [
      "35\n",
      "1.75\n",
      "Ozeias Barreto\n",
      "True\n",
      "<class 'int'>\n",
      "<class 'float'>\n",
      "<class 'str'>\n",
      "<class 'bool'>\n",
      "Qual linguagem você está estudando ? Python\n",
      "A linguagem que você está estudando é Python!\n"
     ]
    }
   ],
   "source": [
    "idade = 35\n",
    "print(idade)\n",
    "altura = 1.75\n",
    "print(altura)\n",
    "nome = \"Ozeias Barreto\"\n",
    "print (nome)\n",
    "estudando = True\n",
    "print(estudando)\n",
    "\n",
    "print( type(idade))\n",
    "print( type(altura))\n",
    "print( type(nome))\n",
    "print( type(estudando))\n",
    "\n",
    "#Obtendo dados do usuário e salvando em variáveis\n",
    "\n",
    "linguagem = input('Qual linguagem você está estudando ? ')\n",
    "print('A linguagem que você está estudando é ' + linguagem + '!')"
   ]
  },
  {
   "cell_type": "code",
   "execution_count": 5,
   "metadata": {
    "colab": {
     "base_uri": "https://localhost:8080/"
    },
    "executionInfo": {
     "elapsed": 272,
     "status": "ok",
     "timestamp": 1718395122067,
     "user": {
      "displayName": "OZEIAS DE SANTANA BARRETO",
      "userId": "09499690939166015247"
     },
     "user_tz": 180
    },
    "id": "YHFdpB12UBmz",
    "outputId": "4592dab7-a19a-4211-9114-20d3503410e7"
   },
   "outputs": [
    {
     "name": "stdout",
     "output_type": "stream",
     "text": [
      "15\n",
      "5\n",
      "50\n",
      "2.0\n",
      "100000\n",
      "0\n"
     ]
    }
   ],
   "source": [
    "# > Operações Matemáticas (Aritméticas)\n",
    "\n",
    "\"\"\"\n",
    "- Soma: +\n",
    "- Subtração: -\n",
    "- Multiplicação: *\n",
    "- Divisão: /\n",
    "- Potência: **\n",
    "- Módulo: %\n",
    "\"\"\"\n",
    "\n",
    "numero1 = 10\n",
    "numero2 = 5\n",
    "\n",
    "print(numero1 + numero2)\n",
    "print(numero1 - numero2)\n",
    "print(numero1 * numero2)\n",
    "print(numero1 / numero2)\n",
    "print(numero1 // numero2) #pega apenas a parte inteira da divisão\n",
    "print(numero1 ** numero2)\n",
    "print(numero1 % numero2)"
   ]
  },
  {
   "cell_type": "code",
   "execution_count": 6,
   "metadata": {
    "colab": {
     "base_uri": "https://localhost:8080/"
    },
    "executionInfo": {
     "elapsed": 294,
     "status": "ok",
     "timestamp": 1718395553786,
     "user": {
      "displayName": "OZEIAS DE SANTANA BARRETO",
      "userId": "09499690939166015247"
     },
     "user_tz": 180
    },
    "id": "x688bsZlV_wq",
    "outputId": "97093de8-4680-42ab-926b-5a3c4eadf943"
   },
   "outputs": [
    {
     "name": "stdout",
     "output_type": "stream",
     "text": [
      "False\n",
      "True\n",
      "False\n",
      "False\n",
      "True\n",
      "False\n",
      "False\n"
     ]
    }
   ],
   "source": [
    "# OPERADORES BOOLEANOS\n",
    "\n",
    "idade1 = 10\n",
    "idade2 = 18\n",
    "altura1 = 1.5\n",
    "altura2 = 1.69\n",
    "altura3 = altura2\n",
    "\n",
    "print(idade1 > idade2)\n",
    "print(idade1 < idade2)\n",
    "print(idade1 == idade2)\n",
    "# Para texto sempre utilizar == ou !=\n",
    "print('Python' == 'Java')\n",
    "print('banana' != 'abacaxi')\n",
    "\n",
    "print(altura1 >= altura2)\n",
    "print(altura1 > altura3)"
   ]
  },
  {
   "cell_type": "code",
   "execution_count": null,
   "metadata": {
    "colab": {
     "base_uri": "https://localhost:8080/"
    },
    "executionInfo": {
     "elapsed": 294,
     "status": "ok",
     "timestamp": 1718395553786,
     "user": {
      "displayName": "OZEIAS DE SANTANA BARRETO",
      "userId": "09499690939166015247"
     },
     "user_tz": 180
    },
    "id": "5rn9HSluXoR1",
    "outputId": "97093de8-4680-42ab-926b-5a3c4eadf943"
   },
   "outputs": [
    {
     "name": "stdout",
     "output_type": "stream",
     "text": [
      "False\n",
      "True\n",
      "False\n",
      "False\n",
      "True\n",
      "False\n",
      "False\n"
     ]
    }
   ],
   "source": [
    "# OPERADORES BOOLEANOS\n",
    "\n",
    "idade1 = 10\n",
    "idade2 = 18\n",
    "altura1 = 1.5\n",
    "altura2 = 1.69\n",
    "altura3 = altura2\n",
    "\n",
    "print(idade1 > idade2)\n",
    "print(idade1 < idade2)\n",
    "print(idade1 == idade2)\n",
    "# Para texto sempre utilizar == ou !=\n",
    "print('Python' == 'Java')\n",
    "print('banana' != 'abacaxi')\n",
    "\n",
    "print(altura1 >= altura2)\n",
    "print(altura1 > altura3)"
   ]
  },
  {
   "cell_type": "code",
   "execution_count": null,
   "metadata": {
    "colab": {
     "base_uri": "https://localhost:8080/"
    },
    "executionInfo": {
     "elapsed": 294,
     "status": "ok",
     "timestamp": 1718395553786,
     "user": {
      "displayName": "OZEIAS DE SANTANA BARRETO",
      "userId": "09499690939166015247"
     },
     "user_tz": 180
    },
    "id": "z1Iov6WZXpF-",
    "outputId": "97093de8-4680-42ab-926b-5a3c4eadf943"
   },
   "outputs": [
    {
     "name": "stdout",
     "output_type": "stream",
     "text": [
      "False\n",
      "True\n",
      "False\n",
      "False\n",
      "True\n",
      "False\n",
      "False\n"
     ]
    }
   ],
   "source": [
    "# OPERADORES BOOLEANOS\n",
    "\n",
    "idade1 = 10\n",
    "idade2 = 18\n",
    "altura1 = 1.5\n",
    "altura2 = 1.69\n",
    "altura3 = altura2\n",
    "\n",
    "print(idade1 > idade2)\n",
    "print(idade1 < idade2)\n",
    "print(idade1 == idade2)\n",
    "# Para texto sempre utilizar == ou !=\n",
    "print('Python' == 'Java')\n",
    "print('banana' != 'abacaxi')\n",
    "\n",
    "print(altura1 >= altura2)\n",
    "print(altura1 > altura3)"
   ]
  },
  {
   "cell_type": "code",
   "execution_count": null,
   "metadata": {
    "colab": {
     "base_uri": "https://localhost:8080/"
    },
    "executionInfo": {
     "elapsed": 294,
     "status": "ok",
     "timestamp": 1718395553786,
     "user": {
      "displayName": "OZEIAS DE SANTANA BARRETO",
      "userId": "09499690939166015247"
     },
     "user_tz": 180
    },
    "id": "juYgtgIyXq-C",
    "outputId": "97093de8-4680-42ab-926b-5a3c4eadf943"
   },
   "outputs": [
    {
     "name": "stdout",
     "output_type": "stream",
     "text": [
      "False\n",
      "True\n",
      "False\n",
      "False\n",
      "True\n",
      "False\n",
      "False\n"
     ]
    }
   ],
   "source": [
    "# OPERADORES BOOLEANOS\n",
    "\n",
    "idade1 = 10\n",
    "idade2 = 18\n",
    "altura1 = 1.5\n",
    "altura2 = 1.69\n",
    "altura3 = altura2\n",
    "\n",
    "print(idade1 > idade2)\n",
    "print(idade1 < idade2)\n",
    "print(idade1 == idade2)\n",
    "# Para texto sempre utilizar == ou !=\n",
    "print('Python' == 'Java')\n",
    "print('banana' != 'abacaxi')\n",
    "\n",
    "print(altura1 >= altura2)\n",
    "print(altura1 > altura3)"
   ]
  },
  {
   "cell_type": "code",
   "execution_count": 11,
   "metadata": {
    "colab": {
     "base_uri": "https://localhost:8080/"
    },
    "executionInfo": {
     "elapsed": 16918,
     "status": "ok",
     "timestamp": 1718397015184,
     "user": {
      "displayName": "OZEIAS DE SANTANA BARRETO",
      "userId": "09499690939166015247"
     },
     "user_tz": 180
    },
    "id": "XKkXdcxZX6KB",
    "outputId": "251ce8eb-5b14-4cc0-f22c-fac7ad1eb67a"
   },
   "outputs": [
    {
     "name": "stdout",
     "output_type": "stream",
     "text": [
      "2636\n",
      "26 <class 'int'>\n",
      "<class 'int'>\n",
      "Digita sua altura: 1.76\n",
      "1.76 <class 'str'>\n",
      "1.76 <class 'float'>\n",
      "Digita sua altura: 1.69\n",
      "1.69 <class 'float'>\n"
     ]
    }
   ],
   "source": [
    "# Conversão de Tipos\n",
    "idade = '26'\n",
    "idade2 = '36'\n",
    "print(idade + idade2)\n",
    "idade = int(idade)\n",
    "print(idade, type(idade))\n",
    "print(type(idade))\n",
    "\n",
    "#int()\n",
    "#str()\n",
    "#float()\n",
    "#bool()\n",
    "\n",
    "altura = input('Digita sua altura: ')\n",
    "print(altura, type(altura))\n",
    "altura = float(altura)\n",
    "print(altura, type(altura))\n",
    "\n",
    "#ou\n",
    "\n",
    "altura = float(input('Digita sua altura: '))\n",
    "print(altura, type(altura))"
   ]
  },
  {
   "cell_type": "markdown",
   "metadata": {
    "id": "3MoVGU8jckHa"
   },
   "source": [
    "Questão 1\n",
    "\n",
    "Muitas vezes é requerido o armazenamento de algum valor ou o resultado de alguma operação, para que os dados possam ser utilizados em outras partes do programa. Para que isso seja possível, o Python permite a criação de variáveis. Sabendo disso, considere o trecho de código a seguir:\n",
    "\n",
    "var1 = 12\n",
    "\n",
    "var2 = 30\n",
    "\n",
    "var3 = var1 XXX var2\n",
    "\n",
    "print(var3)\n",
    "\n",
    "var3 = var3 YYY 2\n",
    "\n",
    "print(var3)\n",
    "\n",
    "A instrução print(var3) exibe na tela o valor armazenado na variável var3, em cada uma das duas vezes que a instrução aparece no script acima. Para que os valores exibidos na tela sejam, nessa ordem, 42 e 21.0, quais operadores matemáticos devem substituir 'XXX' e 'YYY' no trecho de código, respectivamente?\n",
    "\n",
    "+ e :\n",
    "\n",
    "* e /\n",
    "\n",
    "+ e *\n",
    "\n",
    "+ e /\n",
    "\n"
   ]
  },
  {
   "cell_type": "markdown",
   "metadata": {
    "id": "USzyrLs_cnLq"
   },
   "source": [
    "Questão 2\n",
    "\n",
    "Algumas situações requerem que os dados sejam recebidos diretamente pelo usuário como parte da execução do programa. Isso pode ser feito com a função input(). No entanto, esta função sempre retorna os valores em string. Assim, se os dados esperados do usuário forem numéricos, é importante realizar a conversão dos tipos de dados para que eles possam ser processados. Considere o trecho abaixo:\n",
    "\n",
    "num1 = XXX\n",
    "\n",
    "dobro = 2*num1\n",
    "\n",
    "print(\"O dobro do número digitado é:\", dobro)\n",
    "\n",
    "Levando em consideração que o usuário pode entregar qualquer número como input, o 'XXX' no código acima deve ser substituído por qual elemento?\n",
    "\n",
    "input(\"Digite um número a seguir: \")\n",
    "\n",
    "float(input(\"Digite um número a seguir: \"))\n",
    "\n",
    "str(input(\"Digite um número a seguir: \"))\n",
    "\n",
    "int(input(\"Digite um número a seguir: \"))\n",
    "\n",
    "list(input(\"Digite um número a seguir: \"))\n",
    "\n"
   ]
  },
  {
   "cell_type": "markdown",
   "metadata": {
    "id": "aYqXCDAzcu_Q"
   },
   "source": [
    "Questão 3\n",
    "\n",
    "Para a construção de programas flexíveis e mais complexos, é necessário que haja a realização de comparações. Isso é possível com o uso de operadores lógicos de comparação (em python: ==, !=, <, <=, >, >=), como mostra o código:\n",
    "\n",
    "x = 10\n",
    "y = 4.2\n",
    "\n",
    "num = float(input(\"Digite um número a seguir: \"))\n",
    "\n",
    "print(num > x*y, num <= x + y, num*y != x*y)\n",
    "\n",
    "Suponha que na execução do script acima, o usuário digitou o valor 10, quando solicitado pelo input. Qual das alternativas a seguir produz o mesmo output que o script acima?\n",
    "\n",
    "print(num == x, num == y, num == x + y)\n",
    "\n",
    "print(2 == \"2\", False, 2.0 == 2)\n",
    "\n",
    "print(True, False, False)\n",
    "\n",
    "print(num == x*y, num*y == x*y, y > x + num)\n",
    "\n",
    "print(False, True, True)\n",
    "\n"
   ]
  },
  {
   "cell_type": "code",
   "execution_count": 23,
   "metadata": {
    "colab": {
     "base_uri": "https://localhost:8080/"
    },
    "executionInfo": {
     "elapsed": 5235,
     "status": "ok",
     "timestamp": 1718398486219,
     "user": {
      "displayName": "OZEIAS DE SANTANA BARRETO",
      "userId": "09499690939166015247"
     },
     "user_tz": 180
    },
    "id": "_pRwL4jEf6nT",
    "outputId": "bed7149f-d488-4bff-926c-2ef4fd3e6a26"
   },
   "outputs": [
    {
     "name": "stdout",
     "output_type": "stream",
     "text": [
      "Digite um número a seguir: 10\n",
      "False True False\n"
     ]
    }
   ],
   "source": [
    "x = 10\n",
    "y = 4.2\n",
    "num = float(input(\"Digite um número a seguir: \"))\n",
    "#print(num > x*y, num <= x + y, num*y != x*y)\n",
    "print(num == x*y, num*y == x*y, y > x + num)\n"
   ]
  },
  {
   "cell_type": "markdown",
   "metadata": {
    "id": "q4SHuixscyHM"
   },
   "source": [
    "Questão 4\n",
    "\n",
    "Em muitos programas é necessário que mais de uma expressão lógica seja avaliada, de maneira composta. É possível realizar a composição lógica através dos operadores and e or do Python. Além disso, o operador not é utilizado para inverter o valor lógico de um booleano ou expressão lógica como um todo.\n",
    "\n",
    "x = 4.2\n",
    "\n",
    "y = 10\n",
    "\n",
    "z = \"42\"\n",
    "\n",
    "not (((x * y == z) and not (x < y)) or y % 2 == 0)\n",
    "\n",
    "Qual das seguintes alternativas contém uma expressão que resulta no mesmo valor lógico (True ou False) que a última linha do código acima?\n",
    "\n",
    "not (not (x < y and x * y == z)) or (x >= y or y % 2 == 0)\n",
    "\n",
    "not False\n",
    "\n",
    "not ((x == y or True) and ((int(z) < x*y) and (type(y) == type(int(z)))))\n",
    "\n",
    "not (((not True) or int(z) % 7 == 0) and ((str(int(x*y)) == z) and (type(x) != type(z))))\n",
    "\n",
    "(True and True) or not True\n",
    "\n"
   ]
  },
  {
   "cell_type": "code",
   "execution_count": 21,
   "metadata": {
    "colab": {
     "base_uri": "https://localhost:8080/"
    },
    "executionInfo": {
     "elapsed": 388,
     "status": "ok",
     "timestamp": 1718398284822,
     "user": {
      "displayName": "OZEIAS DE SANTANA BARRETO",
      "userId": "09499690939166015247"
     },
     "user_tz": 180
    },
    "id": "0Ee-xvVpegWx",
    "outputId": "5812763d-055d-49b1-c55b-fa5d16560ee7"
   },
   "outputs": [
    {
     "data": {
      "text/plain": [
       "True"
      ]
     },
     "execution_count": 21,
     "metadata": {},
     "output_type": "execute_result"
    }
   ],
   "source": [
    "x = 4.2\n",
    "y = 10\n",
    "z = \"42\"\n",
    "#not (((x * y == z)and not (x < y))or y % 2 == 0)\n",
    "#not (not (x < y and x * y == z)) or (x >= y or y % 2 == 0)\n",
    "#not ((x == y or True) and ((int(z) < x*y) and (type(y) == type(int(z)))))\n",
    "#not (((not True) or int(z) % 7 == 0) and ((str(int(x*y)) == z) and (type(x) != type(z))))\n",
    "(True and True) or not True\n"
   ]
  },
  {
   "cell_type": "markdown",
   "metadata": {
    "id": "Xq2cWrz3c2wi"
   },
   "source": [
    "Questão 5\n",
    "\n",
    "Um dos principais usos destinados aos operadores lógicos é a construção de expressões condicionais, que são utilizadas para (re)direcionar o fluxo de um programa. Isso é possível com as expressões if, elif e else em Python.\n",
    "\n",
    "a = int(input(\"Digite o primeiro número inteiro: \"))\n",
    "b = int(input(\"Digite o segundo número inteiro: \"))\n",
    "c = int(input(\"Digite o terceiro número inteiro: \"))\n",
    "\n",
    "if a > b and a > c:\n",
    "\n",
    "  resposta = a % 2 == 0\n",
    "\n",
    "elif b > a and b > c:\n",
    "\n",
    "  resposta = b % 2 == 0\n",
    "\n",
    "else:\n",
    "\n",
    "  resposta = c % 2 == 0\n",
    "\n",
    "print(XXX, resposta)\n",
    "\n",
    "Pelo que o \"XXX\" deve ser substituído no código acima (ou seja, o que este código efetivamente faz?)\n",
    "\n",
    "\"O maior número entre os três informados é positivo?\" (ou seja, o programa exibe, através de um booleano, se o maior entre os três números informados é positivo).\n",
    "\n",
    "\"O maior entre os três números informados é:\" (ou seja, o programa exibe qual é o maior entre os três números informados).\n",
    "\n",
    "\"O maior número entre os três informados é par?\", (ou seja, o programa exibe, através de um booleano, se o maior entre os três números informados é par).\n",
    "\n",
    "\"O menor entre os três números informados é:\" (ou seja, o programa exibe qual é o menor entre os três números informados).\n",
    "\n",
    "\"O maior número entre os três informados é ímpar?\" (ou seja, o programa exibe, através de um booleano, se o maior entre os três números informados é ímpar).\n"
   ]
  },
  {
   "cell_type": "code",
   "execution_count": 30,
   "metadata": {
    "colab": {
     "base_uri": "https://localhost:8080/"
    },
    "executionInfo": {
     "elapsed": 316,
     "status": "ok",
     "timestamp": 1718399472940,
     "user": {
      "displayName": "OZEIAS DE SANTANA BARRETO",
      "userId": "09499690939166015247"
     },
     "user_tz": 180
    },
    "id": "cGz8ZTXuinD6",
    "outputId": "0d8f9625-f31e-418e-d03b-25709dce1ea8"
   },
   "outputs": [
    {
     "name": "stdout",
     "output_type": "stream",
     "text": [
      "Você é maior de idade\n",
      "Pode entrar\n",
      "Aprovado\n",
      "Parabéns\n"
     ]
    }
   ],
   "source": [
    "# > CONDICIONAIS\n",
    "\n",
    "idade = 20\n",
    "if idade >= 18:\n",
    "    print('Você é maior de idade')\n",
    "    print('Pode entrar')\n",
    "else:\n",
    "    print('Você é menor de idade')\n",
    "    print('Não pode entrar')\n",
    "\n",
    "\"\"\"\n",
    "\n",
    "  Imagine qeu você queira imprimir \"Aprovado\" se a média for maior que 7,\n",
    "  e \"Reprovado\" se a média for menor que 7.\n",
    "\"\"\"\n",
    "\n",
    "\"\"\"media = float(input('Digite a média do aluno: '))\n",
    "if media >= 7:\n",
    "    print('Aprovado')\n",
    "    print('Parabéns')\n",
    "elif media >= 5:\n",
    "  print('Recuperação')\n",
    "else:\n",
    "    print('Reprovado')\n",
    "    print('Infelizmente')\"\"\"\n",
    "\n",
    "media = 10\n",
    "presenca = 100\n",
    "\n",
    "if media >= 7 and presenca >= 70:\n",
    "    print('Aprovado')\n",
    "    print('Parabéns')\n",
    "elif media >= 5 and presenca >= 70:\n",
    "  print('Recuperação')\n",
    "else:\n",
    "    print('Reprovado')\n",
    "    print('Infelizmente')\n"
   ]
  },
  {
   "cell_type": "code",
   "execution_count": 47,
   "metadata": {
    "colab": {
     "base_uri": "https://localhost:8080/"
    },
    "executionInfo": {
     "elapsed": 13354,
     "status": "ok",
     "timestamp": 1718403585500,
     "user": {
      "displayName": "OZEIAS DE SANTANA BARRETO",
      "userId": "09499690939166015247"
     },
     "user_tz": 180
    },
    "id": "jT5s491gtQKl",
    "outputId": "c1f931d7-27fc-4335-dc85-90ae059a0978"
   },
   "outputs": [
    {
     "name": "stdout",
     "output_type": "stream",
     "text": [
      "Informe um número entre 1 e 10: 8\n",
      "Congratulations!\n",
      "1\n",
      "2\n",
      "3\n",
      "4\n",
      "5\n",
      "6\n",
      "7\n",
      "8\n",
      "9\n",
      "10\n",
      "0\n",
      "1\n",
      "2\n",
      "3\n",
      "4\n",
      "1\n",
      "2\n",
      "3\n",
      "4\n",
      "5\n",
      "6\n",
      "7\n",
      "8\n",
      "9\n",
      "10\n",
      "1\n",
      "4\n",
      "7\n",
      "10\n",
      "Digite a primeira nota: 7\n",
      "Digite a segunda nota: 7\n",
      "Digite a terceira nota: 7\n",
      "Digite a quarta nota: 7\n",
      "A média do aluno é:  7.0\n",
      "Aprovado\n",
      "1\n",
      "2\n",
      "3\n",
      "4\n",
      "5\n",
      "6\n",
      "7\n",
      "8\n",
      "9\n",
      "10\n",
      "Digite a nota: 1 8\n",
      "2.6666666666666665\n",
      "Reprovado\n",
      "Digite a nota: 2 7\n",
      "5.0\n",
      "Reprovado\n",
      "Digite a nota: 3 9.56\n",
      "8.186666666666667\n",
      "Aprovado\n"
     ]
    }
   ],
   "source": [
    "# > WHILE\n",
    "numero_sorteado = 8\n",
    "\n",
    "numero_escolhido = int(input('Informe um número entre 1 e 10: '))\n",
    "\n",
    "4\n",
    "while numero_escolhido != numero_sorteado:\n",
    "    print('Você errou')\n",
    "\n",
    "    numero_escolhido = int(input('Informe um número entre 1 e 10: '))\n",
    "\n",
    "print('Congratulations!')\n",
    "\n",
    "#Exemplo 02: Estrutura com contador\n",
    "\n",
    "contador = 1\n",
    "\n",
    "while contador <= 10:\n",
    "    print(contador)\n",
    "\n",
    "    contador = contador + 1\n",
    "\n",
    "#\n",
    "# > FOR\n",
    "\n",
    "for contador in range(5): # De 0 a menor que 5 ou seja 4\n",
    "    print(contador)\n",
    "\n",
    "for contador in range(1, 11): # De 1 até menor que 11 ou seja 10\n",
    "    print(contador)\n",
    "\n",
    "\n",
    "for contador in range(1, 12, 3): # De 1 até menor que 12 ou seja 11 e pulou 3 em três\n",
    "    print(contador)\n",
    "\n",
    "nota1 = float(input('Digite a primeira nota: '))\n",
    "nota2 = float(input('Digite a segunda nota: '))\n",
    "nota3 = float(input('Digite a terceira nota: '))\n",
    "nota4 = float(input('Digite a quarta nota: '))\n",
    "\n",
    "media = (nota1 + nota2 + nota3 + nota4) / 4\n",
    "\n",
    "print('A média do aluno é: ', media)\n",
    "\n",
    "if media >= 7:\n",
    "    print('Aprovado')\n",
    "else:\n",
    "    print('Reprovado')\n",
    "\n",
    "#Exemplo 02: Estrutura com contador\n",
    "\n",
    "contador = 1\n",
    "\n",
    "while contador <= 10:\n",
    "    print(contador)\n",
    "\n",
    "    contador = contador + 1\n",
    "# OU\n",
    "\n",
    "soma = 0\n",
    "for contador in range(1, 4):\n",
    "  nota = float(input(f'Digite a nota: {contador} '))\n",
    "  soma = soma + nota\n",
    "  print(soma / 3)\n",
    "\n",
    "  if soma / 3 >= 7:\n",
    "    print('Aprovado')\n",
    "  else:\n",
    "    print('Reprovado')\n",
    "\n"
   ]
  },
  {
   "cell_type": "code",
   "execution_count": 59,
   "metadata": {
    "colab": {
     "base_uri": "https://localhost:8080/"
    },
    "executionInfo": {
     "elapsed": 280,
     "status": "ok",
     "timestamp": 1718404607256,
     "user": {
      "displayName": "OZEIAS DE SANTANA BARRETO",
      "userId": "09499690939166015247"
     },
     "user_tz": 180
    },
    "id": "EsGSn5uZzy1u",
    "outputId": "3fe38a69-ad2d-4a37-d471-2793c3076c10"
   },
   "outputs": [
    {
     "name": "stdout",
     "output_type": "stream",
     "text": [
      "35\n",
      "TUPÃ\n",
      "3.1415\n",
      "True\n",
      "[35, 'TUPÃ', 3.1415, True]\n",
      "<class 'list'>\n",
      "[[35, 'TUPÃ', 3.1415, True], [1, 2, 3], ['Ozeias']]\n",
      "[35, 'TUPÃ', 3.1415, True]\n",
      "[1, 2, 3]\n",
      "['Ozeias']\n",
      "True\n",
      "3.1415\n",
      "TUPÃ\n",
      "35\n",
      "[50, 30]\n",
      "[50, 30, 40, 25, 60, 75]\n",
      "[10, 50, 30]\n",
      "[10, 50, 30, 40, 25, 60, 75]\n",
      "[10, 30, 25, 75]\n",
      "[50, 40, 60]\n",
      "[75, 60, 25, 40, 30, 50, 10]\n",
      "[75, 25, 30, 10]\n",
      "[30, 25]\n",
      "[1, 2, 4, 6, 8]\n",
      "<class 'list'>\n",
      "1\n",
      "2\n",
      "4\n",
      "6\n",
      "8\n",
      "Comprimneto da lista: 5\n",
      "0 1\n",
      "1 2\n",
      "2 4\n",
      "3 6\n",
      "4 8\n"
     ]
    }
   ],
   "source": [
    "# > Listas: Uma coleção de variáveis, uma estrutura de dados no Python\n",
    "\n",
    "lista = []\n",
    "lista = list()\n",
    "\n",
    "lista = [35, 'TUPÃ', 3.1415, True]\n",
    "print(lista[0])\n",
    "print(lista[1])\n",
    "print(lista[2])\n",
    "print(lista[3])\n",
    "#print(lista[4]) # error\n",
    "print(lista)\n",
    "print(type(lista))\n",
    "\n",
    "lista_de_listas = [lista, [1,2,3], ['Ozeias']]\n",
    "print(lista_de_listas)\n",
    "print(lista_de_listas[0])\n",
    "print(lista_de_listas[1])\n",
    "print(lista_de_listas[2])\n",
    "#print(lista_de_listas[3])\n",
    "#print(lista_de_listas[4]) # error\n",
    "#print(lista_de_listas[5]) # error\n",
    "\n",
    "print(lista[-1])\n",
    "print(lista[-2])\n",
    "print(lista[-3])\n",
    "print(lista[-4])\n",
    "#print(lista[-5]) # error\n",
    "\n",
    "# Slices\n",
    "lista_slices = [10, 50, 30, 40,25, 60, 75]\n",
    "print(lista_slices[1:3])\n",
    "print(lista_slices[1:])\n",
    "print(lista_slices[:3])\n",
    "print(lista_slices[:])\n",
    "print(lista_slices[::2])\n",
    "print(lista_slices[1::2])\n",
    "print(lista_slices[::-1])\n",
    "print(lista_slices[::-2])\n",
    "print(lista_slices[2:6:2])\n",
    "\n",
    "# > Iterações com FOR\n",
    "lista = [1, 2, 4, 6, 8]\n",
    "print(lista)\n",
    "print(type(lista))\n",
    "for item in lista:\n",
    "    print(item)\n",
    "\n",
    "# 2. Utilizando índices\n",
    "\n",
    "print('Comprimneto da lista:', len(lista))\n",
    "\n",
    "for indice in range(len(lista)):\n",
    "    print(indice, lista[indice])"
   ]
  },
  {
   "cell_type": "code",
   "execution_count": 78,
   "metadata": {
    "colab": {
     "base_uri": "https://localhost:8080/",
     "height": 384
    },
    "executionInfo": {
     "elapsed": 318,
     "status": "error",
     "timestamp": 1718406764098,
     "user": {
      "displayName": "OZEIAS DE SANTANA BARRETO",
      "userId": "09499690939166015247"
     },
     "user_tz": 180
    },
    "id": "QeMolTHs5aPs",
    "outputId": "f1bf1e11-7e7a-480e-be6f-0eef1e2a2bb6"
   },
   "outputs": [
    {
     "name": "stdout",
     "output_type": "stream",
     "text": [
      "<class 'list'>\n",
      "Antes do append:  [1, 3, 12, 8, 2]\n",
      "Depois do append: [1, 3, 12, 8, 2, 10]\n",
      "Depois do inser:  [1, 3, 10, 12, 8, 2, 10]\n",
      "Depois do extend:  [1, 3, 10, 12, 8, 2, 10, 1, 2, 3, 4, 5]\n",
      "Lista após o pop: [1, 3, 10, 12, 8, 2, 10, 1, 2, 3, 4]\n",
      "Lista após pop: [3, 10, 12, 8, 2, 10, 1, 2, 3, 4]\n",
      "Lista após remove:  [3, 12, 8, 2, 10, 1, 2, 3, 4]\n",
      "Lista após clear:  []\n",
      "Quantidade de 1 na lista:  0\n"
     ]
    },
    {
     "ename": "ValueError",
     "evalue": "4 is not in list",
     "output_type": "error",
     "traceback": [
      "\u001b[0;31m---------------------------------------------------------------------------\u001b[0m",
      "\u001b[0;31mValueError\u001b[0m                                Traceback (most recent call last)",
      "\u001b[0;32m<ipython-input-78-2a3ed943927f>\u001b[0m in \u001b[0;36m<cell line: 46>\u001b[0;34m()\u001b[0m\n\u001b[1;32m     44\u001b[0m \u001b[0;34m\u001b[0m\u001b[0m\n\u001b[1;32m     45\u001b[0m \u001b[0;31m# index\u001b[0m\u001b[0;34m\u001b[0m\u001b[0;34m\u001b[0m\u001b[0m\n\u001b[0;32m---> 46\u001b[0;31m \u001b[0mprint\u001b[0m\u001b[0;34m(\u001b[0m\u001b[0;34m'Índice do elemento 12 na lista: '\u001b[0m\u001b[0;34m,\u001b[0m \u001b[0mlista\u001b[0m\u001b[0;34m.\u001b[0m\u001b[0mindex\u001b[0m\u001b[0;34m(\u001b[0m\u001b[0;36m4\u001b[0m\u001b[0;34m)\u001b[0m\u001b[0;34m)\u001b[0m\u001b[0;34m\u001b[0m\u001b[0;34m\u001b[0m\u001b[0m\n\u001b[0m\u001b[1;32m     47\u001b[0m \u001b[0;34m\u001b[0m\u001b[0m\n\u001b[1;32m     48\u001b[0m \u001b[0;31m# sort\u001b[0m\u001b[0;34m\u001b[0m\u001b[0;34m\u001b[0m\u001b[0m\n",
      "\u001b[0;31mValueError\u001b[0m: 4 is not in list"
     ]
    }
   ],
   "source": [
    "# > MÉTODOS DE LISTAS : Uma função atrelada a uma variável\n",
    "\n",
    "lista = [1, 3, 12, 8, 2]\n",
    "\n",
    "# append\n",
    "\n",
    "print(list)\n",
    "print('Antes do append: ', lista)\n",
    "lista.append(10)\n",
    "\n",
    "print('Depois do append:', lista)\n",
    "\n",
    "# insert\n",
    "lista.insert(2, 10)\n",
    "\n",
    "print(\"Depois do inser: \", lista)\n",
    "\n",
    "# extend\n",
    "lista2 = {1, 2, 3, 4,5}\n",
    "lista.extend(lista2)\n",
    "\n",
    "print(\"Depois do extend: \", lista)\n",
    "\n",
    "\n",
    "# pop\n",
    "lista.pop()\n",
    "print('Lista após o pop:', lista)\n",
    "\n",
    "lista.pop(0)\n",
    "print('Lista após pop:', lista) # remove o elemento do indice especificado por lista.pop(0)\n",
    "\n",
    "# remove\n",
    "\n",
    "lista.remove(10)\n",
    "print('Lista após remove: ', lista)\n",
    "\n",
    "# clear\n",
    "lista.clear()\n",
    "print('Lista após clear: ', lista)\n",
    "\n",
    "# count\n",
    "\n",
    "print('Quantidade de 1 na lista: ', lista.count(1))\n",
    "\n",
    "# index\n",
    "print('Índice do elemento 12 na lista: ', lista.index(4))\n",
    "\n",
    "# sort\n",
    "\n",
    "lista.sort(reverse=True)\n",
    "print('Lista após sort: ', lista)\n",
    "\n",
    "# reverse\n",
    "lista.reverse()\n",
    "print('Lista após reverse: ', lista)\n",
    "\n",
    "# copy\n",
    "lista_copy = lista.copy()\n",
    "print('Lista copy: ', lista_copy)\n",
    "\n",
    "# Funções Para LISTAS\n",
    "\n",
    "# len\n",
    "print(len(lista))\n",
    "\n",
    "#sum\n",
    "\n",
    "print(sum(lista))\n",
    "\n",
    "# max\n",
    "print(max(lista))\n",
    "\n",
    "# min\n",
    "print(min(lista))\n",
    "\n",
    "# max\n",
    "print(max('Maior elemento da lista', lista))\n",
    "\n",
    "# min\n",
    "print(min('Menor elemento da lista', lista))\n",
    "\n"
   ]
  },
  {
   "cell_type": "markdown",
   "metadata": {
    "id": "vzRxn3W38csp"
   },
   "source": [
    "Questão 1\n",
    "\n",
    "Em Python é possível utilizar expressões condicionais para o direcionamento de fluxo do código. Considere o trecho de código a seguir:\n",
    "\n",
    "x = int(input(\"Digite um número inteiro: \"))\n",
    "\n",
    "if XXX:\n",
    "    resp1 = \"negativo\"\n",
    "else:\n",
    "    resp1 = \"positivo\"\n",
    "    \n",
    "if ***:\n",
    "    resp2 = \"par\"\n",
    "else:\n",
    "    resp2 = \"impar\"\n",
    "    \n",
    "\n",
    "print(\"\n",
    "O número {} é {} e {}.\".format(x, resp1, resp2))\n",
    "\n",
    "O código acima informa se o número inteiro informado pelo usuário (e armazenado na variável x) é positivo ou negativo e par ou ímpar. Por exemplo, caso o usuário digite o número -42, o output esperado é:\n",
    "\n",
    "O número -42 é negativo e par.\n",
    "\n",
    "Para que este output seja possível, pelo que devemos substituir XXX e *** no código acima, respectivamente?\n"
   ]
  },
  {
   "cell_type": "code",
   "execution_count": 60,
   "metadata": {
    "colab": {
     "base_uri": "https://localhost:8080/"
    },
    "executionInfo": {
     "elapsed": 7170,
     "status": "ok",
     "timestamp": 1718405575036,
     "user": {
      "displayName": "OZEIAS DE SANTANA BARRETO",
      "userId": "09499690939166015247"
     },
     "user_tz": 180
    },
    "id": "hsfAgdhV8yyn",
    "outputId": "14e5a578-0c38-441a-b1d4-3e454f9dc069"
   },
   "outputs": [
    {
     "name": "stdout",
     "output_type": "stream",
     "text": [
      "Digite um número inteiro: -42\n",
      "O número -42 é negativo e par.\n"
     ]
    }
   ],
   "source": [
    "x = int(input(\"Digite um número inteiro: \"))\n",
    "\n",
    "if x < 0:\n",
    "    resp1 = \"negativo\"\n",
    "else:\n",
    "    resp1 = \"positivo\"\n",
    "\n",
    "if x % 2 == 0:\n",
    "    resp2 = \"par\"\n",
    "else:\n",
    "    resp2 = \"impar\"\n",
    "\n",
    "\n",
    "print(\"O número {} é {} e {}.\".format(x, resp1, resp2))"
   ]
  },
  {
   "cell_type": "markdown",
   "metadata": {
    "id": "Ep28M6XX9Pmu"
   },
   "source": [
    "Questão 2\n",
    "\n",
    "É muito frequente o uso de programação para a automação de tarefas repetitivas, sendo possível devido às estruturas de repetição. Em python, uma dessas estruturas é o laço while, que determina que um bloco de código seja repetido enquanto uma dada condição for verdadeira. Observe o código a seguir:\n",
    "\n",
    "cont = 0\n",
    "resultado = 0\n",
    "n = 1000\n",
    "\n",
    "while cont != n:\n",
    "\n",
    "    resultado = resultado + 1/(2**cont)\n",
    "\n",
    "    cont = cont + 1\n",
    "\n",
    "print(resultado)\n",
    "\n",
    "Ao ser executado, o que o trecho de código acima mostra na tela?\n",
    "\n",
    "A soma dos n-1 (no caso, n-1 = 999) primeiros termos da série 1/2, 1/2, 1/2, 1/2,...\n",
    "\n",
    "A soma dos n (no caso, n = 1000) primeiros termos da série 1, 1/2, 1/4, 1/8,...\n",
    "\n",
    "A soma dos n (no caso, n = 1000) primeiros termos da série 1/2, 1/4, 1/8, 1/16,...\n",
    "\n",
    "A soma dos n (no caso, n = 1000) primeiros termos da série 1/2, 1/2, 1/2, 1/2,...\n",
    "\n",
    "A soma dos n-1 (no caso, n-1 = 999) primeiros termos da série 1, 1/2, 1/4, 1/8,...\n"
   ]
  },
  {
   "cell_type": "code",
   "execution_count": 62,
   "metadata": {
    "colab": {
     "base_uri": "https://localhost:8080/"
    },
    "executionInfo": {
     "elapsed": 321,
     "status": "ok",
     "timestamp": 1718405745726,
     "user": {
      "displayName": "OZEIAS DE SANTANA BARRETO",
      "userId": "09499690939166015247"
     },
     "user_tz": 180
    },
    "id": "WA8nySf79dM5",
    "outputId": "5fe714c7-aa6e-4585-8488-ebec4bf57c8c"
   },
   "outputs": [
    {
     "name": "stdout",
     "output_type": "stream",
     "text": [
      "2.0\n"
     ]
    }
   ],
   "source": [
    "cont = 0\n",
    "resultado = 0\n",
    "n = 1000\n",
    "\n",
    "while cont != n:\n",
    "\n",
    "    resultado = resultado + 1/(2**cont)\n",
    "\n",
    "    cont = cont + 1\n",
    "\n",
    "print(resultado)"
   ]
  },
  {
   "cell_type": "markdown",
   "metadata": {
    "id": "bG6jMmRX993V"
   },
   "source": [
    "Questão 3\n",
    "\n",
    "Além do laço de repetição while, muitas vezes utilizamos o operador for em Python para implementarmos laços de repetição. Embora isso seja possível, o for é mais do que meramente um laço de repetição: este operador é utilizado para percorrer alguma estrutura iterável.\n",
    "\n",
    "for _ in range(10):\n",
    "\n",
    "   print(\"Olá, mundo!\")\n",
    "\n",
    "Quando queremos utilizar o for explicitamente como um laço de repetição, é muito comum utilizarmos a estrutura acima, com o auxílio do iterador range(). No entanto, o mesmo comportamento é possível se nos aproveitarmos do fato de que o for percorre qualquer iterável. Sabendo disso, das alternativas a seguir, qual é a única que NÃO reproduz o mesmo resultado que o trecho acima?\n",
    "\n",
    "for _ in \"let's code\":\n",
    "  print(\"Olá, mundo!\")\n",
    "\n",
    "for _ in \" \"*10:\n",
    "    print(\"Olá, mundo!\")\n",
    "\n",
    "for _ in range(10, 20, 1):\n",
    "    print(\"Olá, mundo!\")\n",
    "\n",
    "for _ in [10]:\n",
    "    print(\"Olá, mundo!\")\n",
    "\n",
    "for _ in [10]*10:\n",
    "    print(\"Olá, mundo!\")\n",
    "\n"
   ]
  },
  {
   "cell_type": "code",
   "execution_count": 63,
   "metadata": {
    "colab": {
     "base_uri": "https://localhost:8080/"
    },
    "executionInfo": {
     "elapsed": 295,
     "status": "ok",
     "timestamp": 1718405918721,
     "user": {
      "displayName": "OZEIAS DE SANTANA BARRETO",
      "userId": "09499690939166015247"
     },
     "user_tz": 180
    },
    "id": "OYkMHtEd-WKL",
    "outputId": "2bc6ab87-da48-4554-d9ca-787795a74124"
   },
   "outputs": [
    {
     "name": "stdout",
     "output_type": "stream",
     "text": [
      "Olá, mundo!\n",
      "Olá, mundo!\n",
      "Olá, mundo!\n",
      "Olá, mundo!\n",
      "Olá, mundo!\n",
      "Olá, mundo!\n",
      "Olá, mundo!\n",
      "Olá, mundo!\n",
      "Olá, mundo!\n",
      "Olá, mundo!\n"
     ]
    }
   ],
   "source": [
    "for _ in range(10):\n",
    "\n",
    "   print(\"Olá, mundo!\")"
   ]
  },
  {
   "cell_type": "code",
   "execution_count": 65,
   "metadata": {
    "colab": {
     "base_uri": "https://localhost:8080/"
    },
    "executionInfo": {
     "elapsed": 294,
     "status": "ok",
     "timestamp": 1718405982100,
     "user": {
      "displayName": "OZEIAS DE SANTANA BARRETO",
      "userId": "09499690939166015247"
     },
     "user_tz": 180
    },
    "id": "iPFho8NY-atm",
    "outputId": "c2caf9b8-436a-41ad-9fc0-b2f955753d67"
   },
   "outputs": [
    {
     "name": "stdout",
     "output_type": "stream",
     "text": [
      "Olá, mundo!\n",
      "Olá, mundo!\n",
      "Olá, mundo!\n",
      "Olá, mundo!\n",
      "Olá, mundo!\n",
      "Olá, mundo!\n",
      "Olá, mundo!\n",
      "Olá, mundo!\n",
      "Olá, mundo!\n",
      "Olá, mundo!\n"
     ]
    }
   ],
   "source": [
    "for _ in \"let's code\":\n",
    "  print(\"Olá, mundo!\")\n",
    "\n",
    "\n"
   ]
  },
  {
   "cell_type": "code",
   "execution_count": 66,
   "metadata": {
    "colab": {
     "base_uri": "https://localhost:8080/"
    },
    "executionInfo": {
     "elapsed": 278,
     "status": "ok",
     "timestamp": 1718405994056,
     "user": {
      "displayName": "OZEIAS DE SANTANA BARRETO",
      "userId": "09499690939166015247"
     },
     "user_tz": 180
    },
    "id": "x1bLDrNk-nEE",
    "outputId": "098c9886-f4b6-4c79-c018-a9494df0de34"
   },
   "outputs": [
    {
     "name": "stdout",
     "output_type": "stream",
     "text": [
      "Olá, mundo!\n",
      "Olá, mundo!\n",
      "Olá, mundo!\n",
      "Olá, mundo!\n",
      "Olá, mundo!\n",
      "Olá, mundo!\n",
      "Olá, mundo!\n",
      "Olá, mundo!\n",
      "Olá, mundo!\n",
      "Olá, mundo!\n"
     ]
    }
   ],
   "source": [
    "for _ in \" \"*10:\n",
    "    print(\"Olá, mundo!\")\n",
    "\n"
   ]
  },
  {
   "cell_type": "code",
   "execution_count": 67,
   "metadata": {
    "colab": {
     "base_uri": "https://localhost:8080/"
    },
    "executionInfo": {
     "elapsed": 298,
     "status": "ok",
     "timestamp": 1718406003686,
     "user": {
      "displayName": "OZEIAS DE SANTANA BARRETO",
      "userId": "09499690939166015247"
     },
     "user_tz": 180
    },
    "id": "ZO_nscmU-qJf",
    "outputId": "ea3449a2-7683-4cf6-f0ae-c9b65db11633"
   },
   "outputs": [
    {
     "name": "stdout",
     "output_type": "stream",
     "text": [
      "Olá, mundo!\n",
      "Olá, mundo!\n",
      "Olá, mundo!\n",
      "Olá, mundo!\n",
      "Olá, mundo!\n",
      "Olá, mundo!\n",
      "Olá, mundo!\n",
      "Olá, mundo!\n",
      "Olá, mundo!\n",
      "Olá, mundo!\n"
     ]
    }
   ],
   "source": [
    "for _ in range(10, 20, 1):\n",
    "    print(\"Olá, mundo!\")\n",
    "\n"
   ]
  },
  {
   "cell_type": "code",
   "execution_count": 68,
   "metadata": {
    "colab": {
     "base_uri": "https://localhost:8080/"
    },
    "executionInfo": {
     "elapsed": 365,
     "status": "ok",
     "timestamp": 1718406012167,
     "user": {
      "displayName": "OZEIAS DE SANTANA BARRETO",
      "userId": "09499690939166015247"
     },
     "user_tz": 180
    },
    "id": "7w7OYqSI-sVR",
    "outputId": "c455f25b-ce14-4810-8743-e7bd4eff46d1"
   },
   "outputs": [
    {
     "name": "stdout",
     "output_type": "stream",
     "text": [
      "Olá, mundo!\n"
     ]
    }
   ],
   "source": [
    "for _ in [10]:\n",
    "    print(\"Olá, mundo!\")\n",
    "\n"
   ]
  },
  {
   "cell_type": "code",
   "execution_count": 69,
   "metadata": {
    "colab": {
     "base_uri": "https://localhost:8080/"
    },
    "executionInfo": {
     "elapsed": 299,
     "status": "ok",
     "timestamp": 1718406017751,
     "user": {
      "displayName": "OZEIAS DE SANTANA BARRETO",
      "userId": "09499690939166015247"
     },
     "user_tz": 180
    },
    "id": "zEWe9iGb-uPb",
    "outputId": "c34641b6-d274-4460-937c-7737c9537435"
   },
   "outputs": [
    {
     "name": "stdout",
     "output_type": "stream",
     "text": [
      "Olá, mundo!\n",
      "Olá, mundo!\n",
      "Olá, mundo!\n",
      "Olá, mundo!\n",
      "Olá, mundo!\n",
      "Olá, mundo!\n",
      "Olá, mundo!\n",
      "Olá, mundo!\n",
      "Olá, mundo!\n",
      "Olá, mundo!\n"
     ]
    }
   ],
   "source": [
    "for _ in [10]*10:\n",
    "    print(\"Olá, mundo!\")"
   ]
  },
  {
   "cell_type": "markdown",
   "metadata": {
    "id": "qsixTflY--1m"
   },
   "source": [
    "Questão 4\n",
    "\n",
    "Utilizamos listas para armazenar em um único objeto uma coleção de valores. Muitas vezes, desejamos criar uma nova lista a partir de uma lista original. Observe o código abaixo:\n",
    "\n",
    "lista_inicial = [10, 5, -7, 6, -42, 63, -8, -5, 13]\n",
    "\n",
    "lista_final = []\n",
    "\n",
    "for item in lista_inicial:\n",
    "\n",
    "    if item % 2 == 0:\n",
    "\n",
    "        if item < 0:\n",
    "\n",
    "            lista_final.append(A)\n",
    "    \n",
    "        else:\n",
    "\n",
    "            lista_final.append(B)\n",
    "    else:\n",
    "\n",
    "        if item < 0:\n",
    "            \n",
    "            lista_final.append(C)\n",
    "    \n",
    "        else:\n",
    "\n",
    "            lista_final.append(D)\n",
    "\n",
    "Qual deve ser o valor de A, B, C e D, respectivamente, para que o código acima gere a seguinte lista_final: [10, 10, 14, 6, 42, 126, 8, 10, 26]?\n",
    "\n",
    "-2*item, 2*item, -item, item\n",
    "\n",
    "-item, item, -2*item, 2*item\n",
    "\n",
    "2*item, -2*item, item, -item\n",
    "\n",
    "item, -item, 2*item, -2*item\n",
    "\n",
    "-item, 2*item, -2*item, item\n"
   ]
  },
  {
   "cell_type": "code",
   "execution_count": 74,
   "metadata": {
    "colab": {
     "base_uri": "https://localhost:8080/"
    },
    "executionInfo": {
     "elapsed": 305,
     "status": "ok",
     "timestamp": 1718406436754,
     "user": {
      "displayName": "OZEIAS DE SANTANA BARRETO",
      "userId": "09499690939166015247"
     },
     "user_tz": 180
    },
    "id": "grr52ysq_CzU",
    "outputId": "fbc9c61a-1e95-427c-f82c-8488aa0c19c7"
   },
   "outputs": [
    {
     "name": "stdout",
     "output_type": "stream",
     "text": [
      "[10, 10, 14, 6, 42, 126, 8, 10, 26]\n"
     ]
    }
   ],
   "source": [
    "lista_inicial = [10, 5, -7, 6, -42, 63, -8, -5, 13]\n",
    "\n",
    "lista_final = []\n",
    "\n",
    "for item in lista_inicial:\n",
    "\n",
    "    if item % 2 == 0:\n",
    "\n",
    "        if item < 0:\n",
    "\n",
    "            lista_final.append(-item)\n",
    "\n",
    "        else:\n",
    "\n",
    "          lista_final.append(item)\n",
    "    else:\n",
    "\n",
    "        if item < 0:\n",
    "\n",
    "            lista_final.append(-2*item)\n",
    "\n",
    "        else:\n",
    "\n",
    "            lista_final.append(2*item)\n",
    "print(lista_final)"
   ]
  },
  {
   "cell_type": "markdown",
   "metadata": {
    "id": "_0OmqMLZAdFb"
   },
   "source": [
    "Questão 5\n",
    "\n",
    "Algumas funções podem nos ajudar a trabalhar com listas. Observe o código abaixo e o respectivo output desejado:\n",
    "\n",
    "animais = ['gato', 'coelho', 'macaco', 'girafa']\n",
    "\n",
    "animais.função1('gato')\n",
    "print(animais)\n",
    "print(função2(animais))\n",
    "print(animais.função3('coelho'))\n",
    "\n",
    "Output desejado:\n",
    "\n",
    "> ['coelho', 'macaco', 'girafa']\n",
    "> 3\n",
    "> 0\n",
    "\n",
    "Respectivamente, por quais funções devemos substituir função1, função2 e função3 no código acima, para obter o output desejado?\n",
    "\n",
    "remove, max, min\n",
    "\n",
    "pop, count, index\n",
    "\n",
    "remove, count, index\n",
    "\n",
    "remove, len, index\n",
    "\n",
    "append, len, index\n"
   ]
  },
  {
   "cell_type": "code",
   "execution_count": 84,
   "metadata": {
    "colab": {
     "base_uri": "https://localhost:8080/"
    },
    "executionInfo": {
     "elapsed": 289,
     "status": "ok",
     "timestamp": 1718406917488,
     "user": {
      "displayName": "OZEIAS DE SANTANA BARRETO",
      "userId": "09499690939166015247"
     },
     "user_tz": 180
    },
    "id": "j0rGtBGAAeYn",
    "outputId": "6d52b75d-5acd-4fb3-8097-b63c6bcc2405"
   },
   "outputs": [
    {
     "name": "stdout",
     "output_type": "stream",
     "text": [
      "['coelho', 'macaco', 'girafa']\n",
      "3\n",
      "0\n"
     ]
    }
   ],
   "source": [
    "from itertools import count\n",
    "animais = ['gato', 'coelho', 'macaco', 'girafa']\n",
    "\n",
    "animais.remove('gato')\n",
    "print(animais)\n",
    "print(len(animais))\n",
    "print(animais.index('coelho'))"
   ]
  },
  {
   "cell_type": "code",
   "execution_count": 96,
   "metadata": {
    "colab": {
     "base_uri": "https://localhost:8080/"
    },
    "executionInfo": {
     "elapsed": 301,
     "status": "ok",
     "timestamp": 1718408314781,
     "user": {
      "displayName": "OZEIAS DE SANTANA BARRETO",
      "userId": "09499690939166015247"
     },
     "user_tz": 180
    },
    "id": "gPDnxLkTClHS",
    "outputId": "e810d785-99bb-47e7-f06b-aecf0d94a2e4"
   },
   "outputs": [
    {
     "name": "stdout",
     "output_type": "stream",
     "text": [
      "Olá, mundo!\n",
      "Estou em outra função, <function saudacao at 0x7b4a8cd832e0> !\n",
      "y = ax + b, Função de uma reta !\n",
      "O resultado da soma é 5\n"
     ]
    },
    {
     "data": {
      "text/plain": [
       "0.6666666666666666"
      ]
     },
     "execution_count": 96,
     "metadata": {},
     "output_type": "execute_result"
    }
   ],
   "source": [
    "# FUNÇÕES\n",
    "\n",
    "#1. O que são funçõe e por que utilizá-las?\n",
    "\n",
    "# Funções que já utilizamos anteriormente...\n",
    "\n",
    "#print() # - Imprimi uma mensagem(int, float, str) no console (terminal, cmd)\n",
    "#input() # - Recebe uma mensagem(int, float, str) do usuário\n",
    "#type() # - Retorna o tipo de dado de uma variável\n",
    "\n",
    "# 2. Criação de Funções\n",
    "\n",
    "# Função Inicial\n",
    "\n",
    "def saudacao():\n",
    "    print('Olá, mundo!')# quatro espaço, idente\n",
    "\n",
    "# Chamada da Função\n",
    "saudacao()\n",
    "\n",
    "# Função como parâmetros\n",
    "def outra_funcao(funcao='Calcule', nome='Função de uma reta'):\n",
    "    print(f'Estou em outra função, {funcao} !')\n",
    "    print(f'y = ax + b, {nome} !')\n",
    "\n",
    "outra_funcao(saudacao)\n",
    "\n",
    "# Funçõe com retorno\n",
    "\n",
    "def soma(num1, num2):\n",
    "    return num1 + num2\n",
    "    print('Não vai ser executado')\n",
    "    sdfffsdf\n",
    "\n",
    "\n",
    "\n",
    "resultado = (soma(2, 3))\n",
    "print('O resultado da soma é', resultado)\n",
    "\n",
    "def calculator(num1, num3, operator):\n",
    "    if operator == '+':\n",
    "        return num1 + num3\n",
    "    elif operator == '-':\n",
    "        return num1 - num3\n",
    "    elif operator == '*':\n",
    "        return num1 * num3\n",
    "    elif operator == '/':\n",
    "        return num1 / num3\n",
    "    else:\n",
    "        print('Operador inválido')\n",
    "        return None\n",
    "\n",
    "calculator(2, 3, '+')\n",
    "calculator(2, 3, '-')\n",
    "calculator(2, 3, '*')\n",
    "calculator(2, 3, '/')"
   ]
  },
  {
   "cell_type": "code",
   "execution_count": 107,
   "metadata": {
    "colab": {
     "base_uri": "https://localhost:8080/"
    },
    "executionInfo": {
     "elapsed": 332,
     "status": "ok",
     "timestamp": 1718408955591,
     "user": {
      "displayName": "OZEIAS DE SANTANA BARRETO",
      "userId": "09499690939166015247"
     },
     "user_tz": 180
    },
    "id": "mYHKGnnAHmch",
    "outputId": "c5c44923-1c16-4cf3-d9a3-cd06016d2254"
   },
   "outputs": [
    {
     "name": "stdout",
     "output_type": "stream",
     "text": [
      "{'nome': 'Ozeias', 'idade': 35, 'altura': 1.69}\n",
      "35\n",
      "<class 'dict'>\n",
      "{'nome': 'Ozeias', 'idade': 35, 'altura': 1.69, 'peso': 91, 'Data Sciensts': True, 'Lista': [1, 2, 3, 4, 5]}\n",
      "nome\n",
      "idade\n",
      "altura\n",
      "peso\n",
      "Data Sciensts\n",
      "Lista\n",
      "nome\n",
      "idade\n",
      "altura\n",
      "peso\n",
      "Data Sciensts\n",
      "Lista\n",
      "Ozeias\n",
      "35\n",
      "1.69\n",
      "91\n",
      "True\n",
      "[1, 2, 3, 4, 5]\n",
      "False\n",
      "True\n"
     ]
    }
   ],
   "source": [
    "# > Dicionários\n",
    "\n",
    "# Criando dicionários\n",
    "\n",
    "dicionario = {}\n",
    "dicionario = dict()\n",
    "\n",
    "dicionario = {'nome': 'Ozeias', 'idade': 35, 'altura': 1.69}\n",
    "\n",
    "print(dicionario)\n",
    "print((dicionario)['idade'])\n",
    "print(type(dicionario))\n",
    "\n",
    "\n",
    "# Adicionando elementos em um dicionario\n",
    "\n",
    "dicionario['peso'] = 91\n",
    "dicionario['Data Sciensts'] = True\n",
    "dicionario['Lista'] = [1, 2, 3, 4, 5]\n",
    "print(dicionario)\n",
    "\n",
    "# Iterando sobre um dicionário\n",
    "\n",
    "for key, value in dicionario.items():\n",
    "    print(key)\n",
    "\n",
    "for key in dicionario.keys():\n",
    "    print(key)\n",
    "for value in dicionario.values():\n",
    "    print(value)\n",
    "\n",
    "# Testando a existência de uma chave\n",
    "\n",
    "print('carro' in dicionario)\n",
    "print('nome' in dicionario)"
   ]
  },
  {
   "cell_type": "code",
   "execution_count": null,
   "metadata": {
    "id": "RpV1iPGbIqYd"
   },
   "outputs": [],
   "source": []
  }
 ],
 "metadata": {
  "colab": {
   "authorship_tag": "ABX9TyMHXCGJN9DmVj9ip9Dw7vJh",
   "provenance": []
  },
  "kernelspec": {
   "display_name": "Python 3 (ipykernel)",
   "language": "python",
   "name": "python3"
  },
  "language_info": {
   "codemirror_mode": {
    "name": "ipython",
    "version": 3
   },
   "file_extension": ".py",
   "mimetype": "text/x-python",
   "name": "python",
   "nbconvert_exporter": "python",
   "pygments_lexer": "ipython3",
   "version": "3.12.3"
  }
 },
 "nbformat": 4,
 "nbformat_minor": 1
}
