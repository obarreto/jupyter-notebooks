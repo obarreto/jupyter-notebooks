{
 "cells": [
  {
   "cell_type": "code",
   "execution_count": null,
   "metadata": {
    "colab": {
     "base_uri": "https://localhost:8080/",
     "height": 719
    },
    "colab_type": "code",
    "executionInfo": {
     "elapsed": 4875,
     "status": "ok",
     "timestamp": 1592261300785,
     "user": {
      "displayName": "Luciano Gavinho",
      "photoUrl": "https://lh4.googleusercontent.com/-AXceqLc1oqQ/AAAAAAAAAAI/AAAAAAAABRU/hwsf--gVb3s/s64/photo.jpg",
      "userId": "11013035459083077990"
     },
     "user_tz": 180
    },
    "id": "lnLRmeeyTolU",
    "outputId": "2bf63243-a84f-44db-9ab0-c5a07963ecad"
   },
   "outputs": [],
   "source": [
    "import pandas as pd\n",
    "import numpy as np\n",
    "import sklearn as sk\n",
    "import tensorflow as tf\n",
    "from sklearn import svm,metrics\n",
    "from sklearn.model_selection import train_test_split\n",
    "from sklearn.ensemble import RandomForestClassifier\n",
    "from imblearn.under_sampling import NearMiss\n",
    "from imblearn.over_sampling import SMOTE \n",
    "import seaborn as sn\n",
    "''''from xgboost import XGBRegressor'''\n",
    "import warnings\n",
    "warnings.filterwarnings('ignore')\n",
    "pd.options.display.float_format = '{:,.1f}'.format\n",
    "\n",
    "import matplotlib.pyplot as plt\n",
    "%matplotlib inline\n",
    "\n",
    "import seaborn as sns\n",
    "sns.set(style=\"darkgrid\")\n",
    "'''\n",
    "V1 cat. 0/1\n",
    "V3 float 0 1000\n",
    "V4 int 0 15000\n",
    "V5 0 a 11 talvez cat\n",
    "V6 cat 0/1\n",
    "V7 float generico parece ser a produção\n",
    "V9 e V9  e V10 cat 0/1\n",
    "Safra anomes\n",
    "'''\n",
    "df_crop = pd.read_csv('dataset_test_ds.csv',delimiter=';')\n",
    "\n",
    "# Matriz de correlação\n",
    "\n",
    "corrMatrix = df_crop.corr(method='spearman')\n",
    "corrMatrix.sort_values('TARGET',inplace=True, ascending=False)\n",
    "colu = corrMatrix.index\n",
    "plt.figure(figsize=(20,10))\n",
    "sn.set(font_scale=1)\n",
    "sn.heatmap(corrMatrix[colu], annot=True,cmap='Oranges')\n",
    "\n",
    "\n",
    "\n",
    "plt.show()"
   ]
  },
  {
   "cell_type": "code",
   "execution_count": null,
   "metadata": {
    "colab": {
     "base_uri": "https://localhost:8080/",
     "height": 72
    },
    "colab_type": "code",
    "executionInfo": {
     "elapsed": 943,
     "status": "ok",
     "timestamp": 1591399077212,
     "user": {
      "displayName": "Luciano Gavinho",
      "photoUrl": "https://lh4.googleusercontent.com/-AXceqLc1oqQ/AAAAAAAAAAI/AAAAAAAABRU/hwsf--gVb3s/s64/photo.jpg",
      "userId": "11013035459083077990"
     },
     "user_tz": 180
    },
    "id": "0Z2_5dpvbD64",
    "outputId": "0af9ae8a-43b6-4f33-cad7-8f4996331c32"
   },
   "outputs": [],
   "source": [
    "corrMatrix.columns"
   ]
  },
  {
   "cell_type": "code",
   "execution_count": null,
   "metadata": {
    "colab": {
     "base_uri": "https://localhost:8080/",
     "height": 35
    },
    "colab_type": "code",
    "executionInfo": {
     "elapsed": 897,
     "status": "ok",
     "timestamp": 1591399088842,
     "user": {
      "displayName": "Luciano Gavinho",
      "photoUrl": "https://lh4.googleusercontent.com/-AXceqLc1oqQ/AAAAAAAAAAI/AAAAAAAABRU/hwsf--gVb3s/s64/photo.jpg",
      "userId": "11013035459083077990"
     },
     "user_tz": 180
    },
    "id": "bL4fdewUiA6S",
    "outputId": "883b83fc-cd9b-4b68-e873-ee635be272b1"
   },
   "outputs": [],
   "source": [
    "df_crop.shape"
   ]
  },
  {
   "cell_type": "code",
   "execution_count": null,
   "metadata": {
    "colab": {},
    "colab_type": "code",
    "id": "wnwutrzih8b8"
   },
   "outputs": [],
   "source": []
  },
  {
   "cell_type": "code",
   "execution_count": null,
   "metadata": {
    "colab": {
     "base_uri": "https://localhost:8080/",
     "height": 407
    },
    "colab_type": "code",
    "executionInfo": {
     "elapsed": 856,
     "status": "ok",
     "timestamp": 1591399110034,
     "user": {
      "displayName": "Luciano Gavinho",
      "photoUrl": "https://lh4.googleusercontent.com/-AXceqLc1oqQ/AAAAAAAAAAI/AAAAAAAABRU/hwsf--gVb3s/s64/photo.jpg",
      "userId": "11013035459083077990"
     },
     "user_tz": 180
    },
    "id": "PhmOSD5GFbQo",
    "outputId": "b39d9d11-d581-4c67-b454-3a37ae73c59a"
   },
   "outputs": [],
   "source": [
    "df_crop"
   ]
  },
  {
   "cell_type": "code",
   "execution_count": null,
   "metadata": {
    "colab": {
     "base_uri": "https://localhost:8080/",
     "height": 288
    },
    "colab_type": "code",
    "executionInfo": {
     "elapsed": 793,
     "status": "ok",
     "timestamp": 1591399141365,
     "user": {
      "displayName": "Luciano Gavinho",
      "photoUrl": "https://lh4.googleusercontent.com/-AXceqLc1oqQ/AAAAAAAAAAI/AAAAAAAABRU/hwsf--gVb3s/s64/photo.jpg",
      "userId": "11013035459083077990"
     },
     "user_tz": 180
    },
    "id": "uBQ1-IEIVx_V",
    "outputId": "f7c31534-4d72-452c-b962-a9b1d6bae793"
   },
   "outputs": [],
   "source": [
    "df_crop.describe()"
   ]
  },
  {
   "cell_type": "code",
   "execution_count": null,
   "metadata": {
    "colab": {
     "base_uri": "https://localhost:8080/",
     "height": 72
    },
    "colab_type": "code",
    "executionInfo": {
     "elapsed": 690,
     "status": "ok",
     "timestamp": 1591400341872,
     "user": {
      "displayName": "Luciano Gavinho",
      "photoUrl": "https://lh4.googleusercontent.com/-AXceqLc1oqQ/AAAAAAAAAAI/AAAAAAAABRU/hwsf--gVb3s/s64/photo.jpg",
      "userId": "11013035459083077990"
     },
     "user_tz": 180
    },
    "id": "1YuQ_Hcw12CP",
    "outputId": "abf86d9e-4702-49d4-a9a7-c0ff3b40074f"
   },
   "outputs": [],
   "source": [
    "df_crop.V10.value_counts()"
   ]
  },
  {
   "cell_type": "code",
   "execution_count": null,
   "metadata": {
    "colab": {
     "base_uri": "https://localhost:8080/",
     "height": 35
    },
    "colab_type": "code",
    "executionInfo": {
     "elapsed": 790,
     "status": "ok",
     "timestamp": 1591225865282,
     "user": {
      "displayName": "Luciano Gavinho",
      "photoUrl": "https://lh4.googleusercontent.com/-AXceqLc1oqQ/AAAAAAAAAAI/AAAAAAAABRU/hwsf--gVb3s/s64/photo.jpg",
      "userId": "11013035459083077990"
     },
     "user_tz": 180
    },
    "id": "3mQO-Y2cHNPD",
    "outputId": "f7e985d3-2eaf-4590-aef7-8e1aa587f9d5"
   },
   "outputs": [],
   "source": [
    "df_crop.shape"
   ]
  },
  {
   "cell_type": "code",
   "execution_count": null,
   "metadata": {
    "colab": {
     "base_uri": "https://localhost:8080/",
     "height": 254
    },
    "colab_type": "code",
    "executionInfo": {
     "elapsed": 915,
     "status": "ok",
     "timestamp": 1591399349212,
     "user": {
      "displayName": "Luciano Gavinho",
      "photoUrl": "https://lh4.googleusercontent.com/-AXceqLc1oqQ/AAAAAAAAAAI/AAAAAAAABRU/hwsf--gVb3s/s64/photo.jpg",
      "userId": "11013035459083077990"
     },
     "user_tz": 180
    },
    "id": "lrs0CJ6_dCKe",
    "outputId": "2c3f5a38-fcae-4553-cfcc-7c9cb14b59f1"
   },
   "outputs": [],
   "source": [
    "df_crop.isna().sum()\n"
   ]
  },
  {
   "cell_type": "code",
   "execution_count": null,
   "metadata": {
    "colab": {
     "base_uri": "https://localhost:8080/",
     "height": 363
    },
    "colab_type": "code",
    "executionInfo": {
     "elapsed": 735,
     "status": "ok",
     "timestamp": 1591399404794,
     "user": {
      "displayName": "Luciano Gavinho",
      "photoUrl": "https://lh4.googleusercontent.com/-AXceqLc1oqQ/AAAAAAAAAAI/AAAAAAAABRU/hwsf--gVb3s/s64/photo.jpg",
      "userId": "11013035459083077990"
     },
     "user_tz": 180
    },
    "id": "oCUUUkXf9F8G",
    "outputId": "1c991441-e4ae-4891-a59f-d159790c1980"
   },
   "outputs": [],
   "source": [
    "df_crop.info()"
   ]
  },
  {
   "cell_type": "code",
   "execution_count": null,
   "metadata": {
    "colab": {
     "base_uri": "https://localhost:8080/",
     "height": 254
    },
    "colab_type": "code",
    "executionInfo": {
     "elapsed": 915,
     "status": "ok",
     "timestamp": 1591399474891,
     "user": {
      "displayName": "Luciano Gavinho",
      "photoUrl": "https://lh4.googleusercontent.com/-AXceqLc1oqQ/AAAAAAAAAAI/AAAAAAAABRU/hwsf--gVb3s/s64/photo.jpg",
      "userId": "11013035459083077990"
     },
     "user_tz": 180
    },
    "id": "NX-pHxziVztL",
    "outputId": "eec9ff02-e5dd-4166-dbb4-e6ee2d29a2a7"
   },
   "outputs": [],
   "source": [
    "df_crop['Safra'].value_counts()"
   ]
  },
  {
   "cell_type": "code",
   "execution_count": null,
   "metadata": {
    "colab": {
     "base_uri": "https://localhost:8080/",
     "height": 254
    },
    "colab_type": "code",
    "executionInfo": {
     "elapsed": 688,
     "status": "ok",
     "timestamp": 1591399812256,
     "user": {
      "displayName": "Luciano Gavinho",
      "photoUrl": "https://lh4.googleusercontent.com/-AXceqLc1oqQ/AAAAAAAAAAI/AAAAAAAABRU/hwsf--gVb3s/s64/photo.jpg",
      "userId": "11013035459083077990"
     },
     "user_tz": 180
    },
    "id": "wyYK4_V7J3-h",
    "outputId": "3acba3d7-f869-4cad-a811-f3d8078441f1"
   },
   "outputs": [],
   "source": [
    "df_crop.V5.value_counts()"
   ]
  },
  {
   "cell_type": "code",
   "execution_count": null,
   "metadata": {
    "colab": {
     "base_uri": "https://localhost:8080/",
     "height": 54
    },
    "colab_type": "code",
    "executionInfo": {
     "elapsed": 811,
     "status": "ok",
     "timestamp": 1591399862898,
     "user": {
      "displayName": "Luciano Gavinho",
      "photoUrl": "https://lh4.googleusercontent.com/-AXceqLc1oqQ/AAAAAAAAAAI/AAAAAAAABRU/hwsf--gVb3s/s64/photo.jpg",
      "userId": "11013035459083077990"
     },
     "user_tz": 180
    },
    "id": "89TtNvTDCXdN",
    "outputId": "c9b3bed0-25d3-43e7-916e-da769d6cbabc"
   },
   "outputs": [],
   "source": [
    "df_crop.Safra.unique()"
   ]
  },
  {
   "cell_type": "code",
   "execution_count": null,
   "metadata": {
    "colab": {
     "base_uri": "https://localhost:8080/",
     "height": 72
    },
    "colab_type": "code",
    "executionInfo": {
     "elapsed": 757,
     "status": "ok",
     "timestamp": 1591399872209,
     "user": {
      "displayName": "Luciano Gavinho",
      "photoUrl": "https://lh4.googleusercontent.com/-AXceqLc1oqQ/AAAAAAAAAAI/AAAAAAAABRU/hwsf--gVb3s/s64/photo.jpg",
      "userId": "11013035459083077990"
     },
     "user_tz": 180
    },
    "id": "v58nWQozXnUd",
    "outputId": "16bc0d04-991c-4b71-dabf-83806b1ea3cb"
   },
   "outputs": [],
   "source": [
    "df_crop.TARGET.value_counts()"
   ]
  },
  {
   "cell_type": "code",
   "execution_count": null,
   "metadata": {
    "colab": {
     "base_uri": "https://localhost:8080/",
     "height": 581
    },
    "colab_type": "code",
    "executionInfo": {
     "elapsed": 776,
     "status": "ok",
     "timestamp": 1591226711941,
     "user": {
      "displayName": "Luciano Gavinho",
      "photoUrl": "https://lh4.googleusercontent.com/-AXceqLc1oqQ/AAAAAAAAAAI/AAAAAAAABRU/hwsf--gVb3s/s64/photo.jpg",
      "userId": "11013035459083077990"
     },
     "user_tz": 180
    },
    "id": "ejgqy_dOS0lA",
    "outputId": "c8f694af-b7d0-4ef0-81fd-a047128c75e5"
   },
   "outputs": [],
   "source": [
    "df_crop.V3.value_counts().head(30)"
   ]
  },
  {
   "cell_type": "code",
   "execution_count": null,
   "metadata": {
    "colab": {},
    "colab_type": "code",
    "id": "yPXqNfPGndlr"
   },
   "outputs": [],
   "source": [
    "df_"
   ]
  },
  {
   "cell_type": "code",
   "execution_count": null,
   "metadata": {
    "colab": {
     "base_uri": "https://localhost:8080/",
     "height": 340
    },
    "colab_type": "code",
    "executionInfo": {
     "elapsed": 948,
     "status": "ok",
     "timestamp": 1591226966742,
     "user": {
      "displayName": "Luciano Gavinho",
      "photoUrl": "https://lh4.googleusercontent.com/-AXceqLc1oqQ/AAAAAAAAAAI/AAAAAAAABRU/hwsf--gVb3s/s64/photo.jpg",
      "userId": "11013035459083077990"
     },
     "user_tz": 180
    },
    "id": "JK6PknPXgW5D",
    "outputId": "32c66a9f-2b1a-44b9-a72b-b9e7fa9401b2"
   },
   "outputs": [],
   "source": [
    "df_crop.V3.plot(kind='hist',bins=70, figsize=(20,5))"
   ]
  },
  {
   "cell_type": "code",
   "execution_count": null,
   "metadata": {
    "colab": {
     "base_uri": "https://localhost:8080/",
     "height": 286
    },
    "colab_type": "code",
    "executionInfo": {
     "elapsed": 1449,
     "status": "ok",
     "timestamp": 1591830330819,
     "user": {
      "displayName": "Luciano Gavinho",
      "photoUrl": "https://lh4.googleusercontent.com/-AXceqLc1oqQ/AAAAAAAAAAI/AAAAAAAABRU/hwsf--gVb3s/s64/photo.jpg",
      "userId": "11013035459083077990"
     },
     "user_tz": 180
    },
    "id": "KoAJ0qCyJbTi",
    "outputId": "9931a640-91c1-4646-eecd-bb49d1fc1f29"
   },
   "outputs": [],
   "source": [
    "df_crop[df_crop.V7<2000].V7.plot(kind='kde')"
   ]
  },
  {
   "cell_type": "code",
   "execution_count": null,
   "metadata": {
    "colab": {
     "base_uri": "https://localhost:8080/",
     "height": 72
    },
    "colab_type": "code",
    "executionInfo": {
     "elapsed": 1092,
     "status": "ok",
     "timestamp": 1591830478942,
     "user": {
      "displayName": "Luciano Gavinho",
      "photoUrl": "https://lh4.googleusercontent.com/-AXceqLc1oqQ/AAAAAAAAAAI/AAAAAAAABRU/hwsf--gVb3s/s64/photo.jpg",
      "userId": "11013035459083077990"
     },
     "user_tz": 180
    },
    "id": "kU5BlYIefUP9",
    "outputId": "724b4949-eae1-44a3-efdb-431effe06f5d"
   },
   "outputs": [],
   "source": [
    "df_crop.TARGET.value_counts()"
   ]
  },
  {
   "cell_type": "code",
   "execution_count": null,
   "metadata": {
    "colab": {
     "base_uri": "https://localhost:8080/",
     "height": 35
    },
    "colab_type": "code",
    "executionInfo": {
     "elapsed": 975,
     "status": "ok",
     "timestamp": 1591830707884,
     "user": {
      "displayName": "Luciano Gavinho",
      "photoUrl": "https://lh4.googleusercontent.com/-AXceqLc1oqQ/AAAAAAAAAAI/AAAAAAAABRU/hwsf--gVb3s/s64/photo.jpg",
      "userId": "11013035459083077990"
     },
     "user_tz": 180
    },
    "id": "ejMWopdx5SSu",
    "outputId": "f061944f-5b99-4d27-df3b-e364ab3acfa3"
   },
   "outputs": [],
   "source": [
    "(df_crop[df_crop.V7>2000].TARGET == 1).sum()"
   ]
  },
  {
   "cell_type": "code",
   "execution_count": null,
   "metadata": {
    "colab": {
     "base_uri": "https://localhost:8080/",
     "height": 35
    },
    "colab_type": "code",
    "executionInfo": {
     "elapsed": 1000,
     "status": "ok",
     "timestamp": 1591830725969,
     "user": {
      "displayName": "Luciano Gavinho",
      "photoUrl": "https://lh4.googleusercontent.com/-AXceqLc1oqQ/AAAAAAAAAAI/AAAAAAAABRU/hwsf--gVb3s/s64/photo.jpg",
      "userId": "11013035459083077990"
     },
     "user_tz": 180
    },
    "id": "1g8VGAu7gSIJ",
    "outputId": "3bd75a8c-b9ec-43b0-9997-d096576793da"
   },
   "outputs": [],
   "source": [
    "71/120\n"
   ]
  },
  {
   "cell_type": "code",
   "execution_count": null,
   "metadata": {
    "colab": {},
    "colab_type": "code",
    "id": "lwKBGemsfnef"
   },
   "outputs": [],
   "source": []
  },
  {
   "cell_type": "code",
   "execution_count": null,
   "metadata": {
    "colab": {
     "base_uri": "https://localhost:8080/",
     "height": 286
    },
    "colab_type": "code",
    "executionInfo": {
     "elapsed": 1017,
     "status": "ok",
     "timestamp": 1591401359376,
     "user": {
      "displayName": "Luciano Gavinho",
      "photoUrl": "https://lh4.googleusercontent.com/-AXceqLc1oqQ/AAAAAAAAAAI/AAAAAAAABRU/hwsf--gVb3s/s64/photo.jpg",
      "userId": "11013035459083077990"
     },
     "user_tz": 180
    },
    "id": "CzEEslq16RzZ",
    "outputId": "9fdfa340-e06f-4062-ce1b-f020e1584a81"
   },
   "outputs": [],
   "source": [
    "df_crop[df_crop.V3<1000].V3.plot(kind='kde')"
   ]
  },
  {
   "cell_type": "code",
   "execution_count": null,
   "metadata": {
    "colab": {
     "base_uri": "https://localhost:8080/",
     "height": 35
    },
    "colab_type": "code",
    "executionInfo": {
     "elapsed": 749,
     "status": "ok",
     "timestamp": 1591401464792,
     "user": {
      "displayName": "Luciano Gavinho",
      "photoUrl": "https://lh4.googleusercontent.com/-AXceqLc1oqQ/AAAAAAAAAAI/AAAAAAAABRU/hwsf--gVb3s/s64/photo.jpg",
      "userId": "11013035459083077990"
     },
     "user_tz": 180
    },
    "id": "fX4-2Uh-6vhh",
    "outputId": "f11689d6-51aa-4702-cc80-b95321a7d489"
   },
   "outputs": [],
   "source": [
    "(df_crop[df_crop.V3>1000].TARGET == 1).sum()"
   ]
  },
  {
   "cell_type": "code",
   "execution_count": null,
   "metadata": {
    "colab": {
     "base_uri": "https://localhost:8080/",
     "height": 286
    },
    "colab_type": "code",
    "executionInfo": {
     "elapsed": 970,
     "status": "ok",
     "timestamp": 1591401539588,
     "user": {
      "displayName": "Luciano Gavinho",
      "photoUrl": "https://lh4.googleusercontent.com/-AXceqLc1oqQ/AAAAAAAAAAI/AAAAAAAABRU/hwsf--gVb3s/s64/photo.jpg",
      "userId": "11013035459083077990"
     },
     "user_tz": 180
    },
    "id": "NILAqnJ_6_-3",
    "outputId": "2171e3ea-a111-4dff-fde8-3147c4596f08"
   },
   "outputs": [],
   "source": [
    "df_crop[df_crop.V4<2000].V4.plot(kind='kde')"
   ]
  },
  {
   "cell_type": "code",
   "execution_count": null,
   "metadata": {
    "colab": {
     "base_uri": "https://localhost:8080/",
     "height": 35
    },
    "colab_type": "code",
    "executionInfo": {
     "elapsed": 898,
     "status": "ok",
     "timestamp": 1591402237543,
     "user": {
      "displayName": "Luciano Gavinho",
      "photoUrl": "https://lh4.googleusercontent.com/-AXceqLc1oqQ/AAAAAAAAAAI/AAAAAAAABRU/hwsf--gVb3s/s64/photo.jpg",
      "userId": "11013035459083077990"
     },
     "user_tz": 180
    },
    "id": "iFppxR3h6_qD",
    "outputId": "683f60f9-2c4c-4783-e417-f350c24aa199"
   },
   "outputs": [],
   "source": [
    "(df_crop[(df_crop.V4>=0) & (df_crop.V4<500) ].TARGET == 1).sum()"
   ]
  },
  {
   "cell_type": "code",
   "execution_count": null,
   "metadata": {
    "colab": {
     "base_uri": "https://localhost:8080/",
     "height": 35
    },
    "colab_type": "code",
    "executionInfo": {
     "elapsed": 1297,
     "status": "ok",
     "timestamp": 1591830917903,
     "user": {
      "displayName": "Luciano Gavinho",
      "photoUrl": "https://lh4.googleusercontent.com/-AXceqLc1oqQ/AAAAAAAAAAI/AAAAAAAABRU/hwsf--gVb3s/s64/photo.jpg",
      "userId": "11013035459083077990"
     },
     "user_tz": 180
    },
    "id": "-xzeD7G18K-a",
    "outputId": "ba885bb7-e15b-4280-d85e-6db95923cc80"
   },
   "outputs": [],
   "source": [
    "(df_crop[df_crop.V4<500].TARGET == 1).sum()"
   ]
  },
  {
   "cell_type": "code",
   "execution_count": null,
   "metadata": {
    "colab": {
     "base_uri": "https://localhost:8080/",
     "height": 35
    },
    "colab_type": "code",
    "executionInfo": {
     "elapsed": 1306,
     "status": "ok",
     "timestamp": 1591831158170,
     "user": {
      "displayName": "Luciano Gavinho",
      "photoUrl": "https://lh4.googleusercontent.com/-AXceqLc1oqQ/AAAAAAAAAAI/AAAAAAAABRU/hwsf--gVb3s/s64/photo.jpg",
      "userId": "11013035459083077990"
     },
     "user_tz": 180
    },
    "id": "m71gI9K096Gg",
    "outputId": "7ca7e38f-17b3-4107-8f10-67495cfde8cf"
   },
   "outputs": [],
   "source": [
    "(df_crop[(df_crop.V4==0) | (df_crop.V4>500) ].TARGET == 1).sum()"
   ]
  },
  {
   "cell_type": "code",
   "execution_count": null,
   "metadata": {
    "colab": {},
    "colab_type": "code",
    "id": "OCdNIMnRhY9I"
   },
   "outputs": [],
   "source": []
  },
  {
   "cell_type": "code",
   "execution_count": null,
   "metadata": {
    "colab": {
     "base_uri": "https://localhost:8080/",
     "height": 35
    },
    "colab_type": "code",
    "executionInfo": {
     "elapsed": 635,
     "status": "ok",
     "timestamp": 1591402408470,
     "user": {
      "displayName": "Luciano Gavinho",
      "photoUrl": "https://lh4.googleusercontent.com/-AXceqLc1oqQ/AAAAAAAAAAI/AAAAAAAABRU/hwsf--gVb3s/s64/photo.jpg",
      "userId": "11013035459083077990"
     },
     "user_tz": 180
    },
    "id": "zRJwylgL-X7P",
    "outputId": "02180a82-b8ad-45a8-8e36-76d0fb0014b8"
   },
   "outputs": [],
   "source": [
    "117/120\n"
   ]
  },
  {
   "cell_type": "code",
   "execution_count": 0,
   "metadata": {
    "colab": {
     "base_uri": "https://localhost:8080/",
     "height": 35
    },
    "colab_type": "code",
    "executionInfo": {
     "elapsed": 897,
     "status": "ok",
     "timestamp": 1591402118972,
     "user": {
      "displayName": "Luciano Gavinho",
      "photoUrl": "https://lh4.googleusercontent.com/-AXceqLc1oqQ/AAAAAAAAAAI/AAAAAAAABRU/hwsf--gVb3s/s64/photo.jpg",
      "userId": "11013035459083077990"
     },
     "user_tz": 180
    },
    "id": "U1Psy8ya7h7M",
    "outputId": "d1709c54-86c5-46ae-fdde-fd34d2a16ece"
   },
   "outputs": [
    {
     "data": {
      "text/plain": [
       "0"
      ]
     },
     "execution_count": 33,
     "metadata": {
      "tags": []
     },
     "output_type": "execute_result"
    }
   ],
   "source": [
    "(df_crop.V4<0).sum()"
   ]
  },
  {
   "cell_type": "code",
   "execution_count": 0,
   "metadata": {
    "colab": {
     "base_uri": "https://localhost:8080/",
     "height": 539
    },
    "colab_type": "code",
    "executionInfo": {
     "elapsed": 1012,
     "status": "ok",
     "timestamp": 1591830092786,
     "user": {
      "displayName": "Luciano Gavinho",
      "photoUrl": "https://lh4.googleusercontent.com/-AXceqLc1oqQ/AAAAAAAAAAI/AAAAAAAABRU/hwsf--gVb3s/s64/photo.jpg",
      "userId": "11013035459083077990"
     },
     "user_tz": 180
    },
    "id": "OGuJd2G-luMN",
    "outputId": "18ea738c-fde0-4775-e325-7c3d79661e2b"
   },
   "outputs": [
    {
     "data": {
      "text/plain": [
       "<matplotlib.axes._subplots.AxesSubplot at 0x7fdde24cbcf8>"
      ]
     },
     "execution_count": 4,
     "metadata": {
      "tags": []
     },
     "output_type": "execute_result"
    },
    {
     "data": {
      "image/png": "[encoded data removed]",
      "text/plain": [
       "<Figure size 1440x720 with 1 Axes>"
      ]
     },
     "metadata": {
      "tags": []
     },
     "output_type": "display_data"
    }
   ],
   "source": [
    "df_crop[['V7','V4']].boxplot(figsize=(20,10))"
   ]
  },
  {
   "cell_type": "code",
   "execution_count": 9,
   "metadata": {
    "colab": {
     "base_uri": "https://localhost:8080/",
     "height": 72
    },
    "colab_type": "code",
    "executionInfo": {
     "elapsed": 816,
     "status": "ok",
     "timestamp": 1592261590161,
     "user": {
      "displayName": "Luciano Gavinho",
      "photoUrl": "https://lh4.googleusercontent.com/-AXceqLc1oqQ/AAAAAAAAAAI/AAAAAAAABRU/hwsf--gVb3s/s64/photo.jpg",
      "userId": "11013035459083077990"
     },
     "user_tz": 180
    },
    "id": "QVyfG4SxLHBI",
    "outputId": "90ddd2b0-61c7-4802-b1f4-9d8f034a6eca"
   },
   "outputs": [
    {
     "data": {
      "text/plain": [
       "True     10561\n",
       "False      608\n",
       "Name: V7, dtype: int64"
      ]
     },
     "execution_count": 9,
     "metadata": {
      "tags": []
     },
     "output_type": "execute_result"
    }
   ],
   "source": [
    "(df_crop.V7<20000).value_counts()"
   ]
  },
  {
   "cell_type": "code",
   "execution_count": 2,
   "metadata": {
    "colab": {
     "base_uri": "https://localhost:8080/",
     "height": 286
    },
    "colab_type": "code",
    "executionInfo": {
     "elapsed": 1316,
     "status": "ok",
     "timestamp": 1592261356915,
     "user": {
      "displayName": "Luciano Gavinho",
      "photoUrl": "https://lh4.googleusercontent.com/-AXceqLc1oqQ/AAAAAAAAAAI/AAAAAAAABRU/hwsf--gVb3s/s64/photo.jpg",
      "userId": "11013035459083077990"
     },
     "user_tz": 180
    },
    "id": "6s6Vp_aHK5_o",
    "outputId": "fbbbea18-dc98-4fec-d108-a632d0811a6f"
   },
   "outputs": [
    {
     "data": {
      "text/plain": [
       "<matplotlib.axes._subplots.AxesSubplot at 0x7f5b1a9a4b38>"
      ]
     },
     "execution_count": 2,
     "metadata": {
      "tags": []
     },
     "output_type": "execute_result"
    },
    {
     "data": {
      "image/png": "[encoded data removed]",
      "text/plain": [
       "<Figure size 432x288 with 1 Axes>"
      ]
     },
     "metadata": {
      "needs_background": "light",
      "tags": []
     },
     "output_type": "display_data"
    }
   ],
   "source": [
    "df_crop.V7.plot(kind='kde')"
   ]
  },
  {
   "cell_type": "code",
   "execution_count": 0,
   "metadata": {
    "colab": {
     "base_uri": "https://localhost:8080/",
     "height": 539
    },
    "colab_type": "code",
    "executionInfo": {
     "elapsed": 1168,
     "status": "ok",
     "timestamp": 1591312197690,
     "user": {
      "displayName": "Luciano Gavinho",
      "photoUrl": "https://lh4.googleusercontent.com/-AXceqLc1oqQ/AAAAAAAAAAI/AAAAAAAABRU/hwsf--gVb3s/s64/photo.jpg",
      "userId": "11013035459083077990"
     },
     "user_tz": 180
    },
    "id": "cYlaIu-hni49",
    "outputId": "67b25017-9020-42bd-a506-3fa6b6d02001"
   },
   "outputs": [
    {
     "data": {
      "text/plain": [
       "<matplotlib.axes._subplots.AxesSubplot at 0x7f0685144630>"
      ]
     },
     "execution_count": 6,
     "metadata": {
      "tags": []
     },
     "output_type": "execute_result"
    },
    {
     "data": {
      "image/png": "[encoded data removed]",
      "text/plain": [
       "<Figure size 1440x720 with 1 Axes>"
      ]
     },
     "metadata": {
      "needs_background": "light",
      "tags": []
     },
     "output_type": "display_data"
    }
   ],
   "source": [
    "df_crop[['V7','V4']].boxplot(figsize=(20,10))"
   ]
  },
  {
   "cell_type": "code",
   "execution_count": 0,
   "metadata": {
    "colab": {},
    "colab_type": "code",
    "id": "sOXzjbh8KkaR"
   },
   "outputs": [],
   "source": []
  },
  {
   "cell_type": "code",
   "execution_count": 0,
   "metadata": {
    "colab": {
     "base_uri": "https://localhost:8080/",
     "height": 235
    },
    "colab_type": "code",
    "executionInfo": {
     "elapsed": 534,
     "status": "ok",
     "timestamp": 1591228515303,
     "user": {
      "displayName": "Luciano Gavinho",
      "photoUrl": "https://lh4.googleusercontent.com/-AXceqLc1oqQ/AAAAAAAAAAI/AAAAAAAABRU/hwsf--gVb3s/s64/photo.jpg",
      "userId": "11013035459083077990"
     },
     "user_tz": 180
    },
    "id": "NYk8cjiYX_rS",
    "outputId": "01cec1dd-888a-4602-d77c-6d3103483f6a"
   },
   "outputs": [
    {
     "data": {
      "text/plain": [
       "0        2199\n",
       "1         101\n",
       "1997       90\n",
       "4          64\n",
       "581        60\n",
       "         ... \n",
       "10229       1\n",
       "6070        1\n",
       "2068        1\n",
       "37          1\n",
       "1157        1\n",
       "Name: V4, Length: 1864, dtype: int64"
      ]
     },
     "execution_count": 30,
     "metadata": {
      "tags": []
     },
     "output_type": "execute_result"
    }
   ],
   "source": [
    "df_crop.V4.value_counts()"
   ]
  },
  {
   "cell_type": "code",
   "execution_count": 0,
   "metadata": {
    "colab": {
     "base_uri": "https://localhost:8080/",
     "height": 35
    },
    "colab_type": "code",
    "executionInfo": {
     "elapsed": 895,
     "status": "ok",
     "timestamp": 1591228542665,
     "user": {
      "displayName": "Luciano Gavinho",
      "photoUrl": "https://lh4.googleusercontent.com/-AXceqLc1oqQ/AAAAAAAAAAI/AAAAAAAABRU/hwsf--gVb3s/s64/photo.jpg",
      "userId": "11013035459083077990"
     },
     "user_tz": 180
    },
    "id": "8pqejCCcLIoP",
    "outputId": "c6b7cbef-2e4a-471a-eb45-3f386533e802"
   },
   "outputs": [
    {
     "data": {
      "text/plain": [
       "15616"
      ]
     },
     "execution_count": 31,
     "metadata": {
      "tags": []
     },
     "output_type": "execute_result"
    }
   ],
   "source": [
    "df_crop.V4.max()"
   ]
  },
  {
   "cell_type": "code",
   "execution_count": 0,
   "metadata": {
    "colab": {
     "base_uri": "https://localhost:8080/",
     "height": 286
    },
    "colab_type": "code",
    "executionInfo": {
     "elapsed": 1187,
     "status": "ok",
     "timestamp": 1591312357362,
     "user": {
      "displayName": "Luciano Gavinho",
      "photoUrl": "https://lh4.googleusercontent.com/-AXceqLc1oqQ/AAAAAAAAAAI/AAAAAAAABRU/hwsf--gVb3s/s64/photo.jpg",
      "userId": "11013035459083077990"
     },
     "user_tz": 180
    },
    "id": "EXzb1CGWLkeQ",
    "outputId": "61eee752-fb04-4fd0-d6f8-ff96a6a6dcb8"
   },
   "outputs": [
    {
     "data": {
      "text/plain": [
       "<matplotlib.axes._subplots.AxesSubplot at 0x7f068516c4e0>"
      ]
     },
     "execution_count": 8,
     "metadata": {
      "tags": []
     },
     "output_type": "execute_result"
    },
    {
     "data": {
      "image/png": "[encoded data removed]",
      "text/plain": [
       "<Figure size 432x288 with 1 Axes>"
      ]
     },
     "metadata": {
      "needs_background": "light",
      "tags": []
     },
     "output_type": "display_data"
    }
   ],
   "source": [
    "df_crop[df_crop.V4<2000].V4.plot(kind='kde')"
   ]
  },
  {
   "cell_type": "code",
   "execution_count": 0,
   "metadata": {
    "colab": {
     "base_uri": "https://localhost:8080/",
     "height": 235
    },
    "colab_type": "code",
    "executionInfo": {
     "elapsed": 1266,
     "status": "ok",
     "timestamp": 1591228692871,
     "user": {
      "displayName": "Luciano Gavinho",
      "photoUrl": "https://lh4.googleusercontent.com/-AXceqLc1oqQ/AAAAAAAAAAI/AAAAAAAABRU/hwsf--gVb3s/s64/photo.jpg",
      "userId": "11013035459083077990"
     },
     "user_tz": 180
    },
    "id": "jn100jEjTP4n",
    "outputId": "400a4ef1-38a1-4c8f-fef0-ebd7eae4bd81"
   },
   "outputs": [
    {
     "data": {
      "text/plain": [
       "1,736.3     26\n",
       "588.5       20\n",
       "13.2        18\n",
       "1,715.7     18\n",
       "14,724.8    17\n",
       "            ..\n",
       "48.1         1\n",
       "13,760.3     1\n",
       "6,350.0      1\n",
       "86.4         1\n",
       "287.4        1\n",
       "Name: V7, Length: 9066, dtype: int64"
      ]
     },
     "execution_count": 34,
     "metadata": {
      "tags": []
     },
     "output_type": "execute_result"
    }
   ],
   "source": [
    "df_crop.V7.value_counts()"
   ]
  },
  {
   "cell_type": "code",
   "execution_count": 0,
   "metadata": {
    "colab": {
     "base_uri": "https://localhost:8080/",
     "height": 286
    },
    "colab_type": "code",
    "executionInfo": {
     "elapsed": 857,
     "status": "ok",
     "timestamp": 1591228834220,
     "user": {
      "displayName": "Luciano Gavinho",
      "photoUrl": "https://lh4.googleusercontent.com/-AXceqLc1oqQ/AAAAAAAAAAI/AAAAAAAABRU/hwsf--gVb3s/s64/photo.jpg",
      "userId": "11013035459083077990"
     },
     "user_tz": 180
    },
    "id": "r2Q5S8ZDMHOg",
    "outputId": "5ca790fc-e26b-46fd-a416-1db73d2f2dc9"
   },
   "outputs": [
    {
     "data": {
      "text/plain": [
       "<matplotlib.axes._subplots.AxesSubplot at 0x7fe0b2b77278>"
      ]
     },
     "execution_count": 40,
     "metadata": {
      "tags": []
     },
     "output_type": "execute_result"
    },
    {
     "data": {
      "image/png": "[encoded data removed]",
      "text/plain": [
       "<Figure size 432x288 with 1 Axes>"
      ]
     },
     "metadata": {
      "tags": []
     },
     "output_type": "display_data"
    }
   ],
   "source": [
    "df_crop[df_crop.V7<10000].V7.plot(kind='hist', logy=True)"
   ]
  },
  {
   "cell_type": "code",
   "execution_count": 0,
   "metadata": {
    "colab": {
     "base_uri": "https://localhost:8080/",
     "height": 286
    },
    "colab_type": "code",
    "executionInfo": {
     "elapsed": 1102,
     "status": "ok",
     "timestamp": 1591229858984,
     "user": {
      "displayName": "Luciano Gavinho",
      "photoUrl": "https://lh4.googleusercontent.com/-AXceqLc1oqQ/AAAAAAAAAAI/AAAAAAAABRU/hwsf--gVb3s/s64/photo.jpg",
      "userId": "11013035459083077990"
     },
     "user_tz": 180
    },
    "id": "5nkp_BaGsCm0",
    "outputId": "5ccfa935-f9f5-463d-dfdb-92d5028b1888"
   },
   "outputs": [
    {
     "data": {
      "text/plain": [
       "<matplotlib.collections.PathCollection at 0x7fe0b35a01d0>"
      ]
     },
     "execution_count": 43,
     "metadata": {
      "tags": []
     },
     "output_type": "execute_result"
    },
    {
     "data": {
      "image/png": "[encoded data removed]",
      "text/plain": [
       "<Figure size 432x288 with 1 Axes>"
      ]
     },
     "metadata": {
      "tags": []
     },
     "output_type": "display_data"
    }
   ],
   "source": [
    "plt.scatter(df_crop.V4,df_crop.V7)"
   ]
  },
  {
   "cell_type": "code",
   "execution_count": 0,
   "metadata": {
    "colab": {
     "base_uri": "https://localhost:8080/",
     "height": 286
    },
    "colab_type": "code",
    "executionInfo": {
     "elapsed": 891,
     "status": "ok",
     "timestamp": 1591230203621,
     "user": {
      "displayName": "Luciano Gavinho",
      "photoUrl": "https://lh4.googleusercontent.com/-AXceqLc1oqQ/AAAAAAAAAAI/AAAAAAAABRU/hwsf--gVb3s/s64/photo.jpg",
      "userId": "11013035459083077990"
     },
     "user_tz": 180
    },
    "id": "xFi-6M8ytV6E",
    "outputId": "6e21863a-c0c1-4096-cd07-2c0b99d7ec0b"
   },
   "outputs": [
    {
     "data": {
      "text/plain": [
       "<matplotlib.collections.PathCollection at 0x7fe0b56868d0>"
      ]
     },
     "execution_count": 45,
     "metadata": {
      "tags": []
     },
     "output_type": "execute_result"
    },
    {
     "data": {
      "image/png": "[encoded data removed]",
      "text/plain": [
       "<Figure size 432x288 with 1 Axes>"
      ]
     },
     "metadata": {
      "tags": []
     },
     "output_type": "display_data"
    }
   ],
   "source": [
    "plt.scatter(df_crop.V4,df_crop.V3)"
   ]
  },
  {
   "cell_type": "code",
   "execution_count": 0,
   "metadata": {
    "colab": {
     "base_uri": "https://localhost:8080/",
     "height": 268
    },
    "colab_type": "code",
    "executionInfo": {
     "elapsed": 1154,
     "status": "ok",
     "timestamp": 1591402682728,
     "user": {
      "displayName": "Luciano Gavinho",
      "photoUrl": "https://lh4.googleusercontent.com/-AXceqLc1oqQ/AAAAAAAAAAI/AAAAAAAABRU/hwsf--gVb3s/s64/photo.jpg",
      "userId": "11013035459083077990"
     },
     "user_tz": 180
    },
    "id": "7_Kmkd7T2UDF",
    "outputId": "a8fea565-52dd-45ad-a36e-50c5af20a4ea"
   },
   "outputs": [
    {
     "data": {
      "image/png": "[encoded data removed]",
      "text/plain": [
       "<Figure size 432x288 with 1 Axes>"
      ]
     },
     "metadata": {
      "needs_background": "light",
      "tags": []
     },
     "output_type": "display_data"
    }
   ],
   "source": [
    "plt.scatter(df_crop.V7,df_crop.V2)\n",
    "\n",
    "plt.show()"
   ]
  },
  {
   "cell_type": "code",
   "execution_count": 0,
   "metadata": {
    "colab": {
     "base_uri": "https://localhost:8080/",
     "height": 268
    },
    "colab_type": "code",
    "executionInfo": {
     "elapsed": 714,
     "status": "ok",
     "timestamp": 1591402712468,
     "user": {
      "displayName": "Luciano Gavinho",
      "photoUrl": "https://lh4.googleusercontent.com/-AXceqLc1oqQ/AAAAAAAAAAI/AAAAAAAABRU/hwsf--gVb3s/s64/photo.jpg",
      "userId": "11013035459083077990"
     },
     "user_tz": 180
    },
    "id": "Kf5lp94Z02CE",
    "outputId": "1add841f-0f41-40f9-ce62-6f659174b268"
   },
   "outputs": [
    {
     "data": {
      "image/png": "[encoded data removed]",
      "text/plain": [
       "<Figure size 432x288 with 1 Axes>"
      ]
     },
     "metadata": {
      "needs_background": "light",
      "tags": []
     },
     "output_type": "display_data"
    }
   ],
   "source": [
    "plt.scatter(df_crop.V7,df_crop.V3)\n",
    "\n",
    "plt.show()"
   ]
  },
  {
   "cell_type": "code",
   "execution_count": 0,
   "metadata": {
    "colab": {
     "base_uri": "https://localhost:8080/",
     "height": 286
    },
    "colab_type": "code",
    "executionInfo": {
     "elapsed": 1206,
     "status": "ok",
     "timestamp": 1591402938543,
     "user": {
      "displayName": "Luciano Gavinho",
      "photoUrl": "https://lh4.googleusercontent.com/-AXceqLc1oqQ/AAAAAAAAAAI/AAAAAAAABRU/hwsf--gVb3s/s64/photo.jpg",
      "userId": "11013035459083077990"
     },
     "user_tz": 180
    },
    "id": "Bi6N_iY-AGEe",
    "outputId": "2e69bbc0-3f00-46f7-bb7f-51616435874f"
   },
   "outputs": [
    {
     "data": {
      "text/plain": [
       "<matplotlib.collections.PathCollection at 0x7fadece72898>"
      ]
     },
     "execution_count": 42,
     "metadata": {
      "tags": []
     },
     "output_type": "execute_result"
    },
    {
     "data": {
      "image/png": "[encoded data removed]",
      "text/plain": [
       "<Figure size 432x288 with 1 Axes>"
      ]
     },
     "metadata": {
      "needs_background": "light",
      "tags": []
     },
     "output_type": "display_data"
    }
   ],
   "source": [
    "plt.scatter(df_crop.V4,df_crop.V6)"
   ]
  },
  {
   "cell_type": "code",
   "execution_count": 0,
   "metadata": {
    "colab": {
     "base_uri": "https://localhost:8080/",
     "height": 72
    },
    "colab_type": "code",
    "executionInfo": {
     "elapsed": 560,
     "status": "ok",
     "timestamp": 1591403144951,
     "user": {
      "displayName": "Luciano Gavinho",
      "photoUrl": "https://lh4.googleusercontent.com/-AXceqLc1oqQ/AAAAAAAAAAI/AAAAAAAABRU/hwsf--gVb3s/s64/photo.jpg",
      "userId": "11013035459083077990"
     },
     "user_tz": 180
    },
    "id": "JXrTTlylBIEH",
    "outputId": "e039c402-6782-4ebd-cd66-4963d96dc607"
   },
   "outputs": [
    {
     "data": {
      "text/plain": [
       "0    9182\n",
       "1    1987\n",
       "Name: V6, dtype: int64"
      ]
     },
     "execution_count": 43,
     "metadata": {
      "tags": []
     },
     "output_type": "execute_result"
    }
   ],
   "source": [
    "df_crop.V6.value_counts()"
   ]
  },
  {
   "cell_type": "code",
   "execution_count": 0,
   "metadata": {
    "colab": {
     "base_uri": "https://localhost:8080/",
     "height": 286
    },
    "colab_type": "code",
    "executionInfo": {
     "elapsed": 1114,
     "status": "ok",
     "timestamp": 1591230286986,
     "user": {
      "displayName": "Luciano Gavinho",
      "photoUrl": "https://lh4.googleusercontent.com/-AXceqLc1oqQ/AAAAAAAAAAI/AAAAAAAABRU/hwsf--gVb3s/s64/photo.jpg",
      "userId": "11013035459083077990"
     },
     "user_tz": 180
    },
    "id": "6GIsUXfWqFoF",
    "outputId": "7eeeefcb-9960-473c-a9be-b4340dd19d6e"
   },
   "outputs": [
    {
     "data": {
      "text/plain": [
       "<matplotlib.collections.PathCollection at 0x7fe0b2646128>"
      ]
     },
     "execution_count": 46,
     "metadata": {
      "tags": []
     },
     "output_type": "execute_result"
    },
    {
     "data": {
      "image/png": "[encoded data removed]",
      "text/plain": [
       "<Figure size 432x288 with 1 Axes>"
      ]
     },
     "metadata": {
      "tags": []
     },
     "output_type": "display_data"
    }
   ],
   "source": [
    "plt.scatter(df_crop.V7,df_crop.TARGET)"
   ]
  },
  {
   "cell_type": "code",
   "execution_count": 0,
   "metadata": {
    "colab": {
     "base_uri": "https://localhost:8080/",
     "height": 284
    },
    "colab_type": "code",
    "executionInfo": {
     "elapsed": 1068,
     "status": "ok",
     "timestamp": 1590320158153,
     "user": {
      "displayName": "Luciano Gavinho",
      "photoUrl": "https://lh4.googleusercontent.com/-AXceqLc1oqQ/AAAAAAAAAAI/AAAAAAAABRU/hwsf--gVb3s/s64/photo.jpg",
      "userId": "11013035459083077990"
     },
     "user_tz": 180
    },
    "id": "ouE6cbmAd4u7",
    "outputId": "f1dc1bf7-9e37-4a16-f107-739121efe577"
   },
   "outputs": [
    {
     "data": {
      "text/plain": [
       "<matplotlib.collections.PathCollection at 0x7f1837729198>"
      ]
     },
     "execution_count": 15,
     "metadata": {
      "tags": []
     },
     "output_type": "execute_result"
    },
    {
     "data": {
      "image/png": "[encoded data removed]",
      "text/plain": [
       "<Figure size 432x288 with 1 Axes>"
      ]
     },
     "metadata": {
      "tags": []
     },
     "output_type": "display_data"
    }
   ],
   "source": [
    "plt.scatter(df_crop.V3,df_crop.TARGET)"
   ]
  },
  {
   "cell_type": "code",
   "execution_count": 0,
   "metadata": {
    "colab": {
     "base_uri": "https://localhost:8080/",
     "height": 284
    },
    "colab_type": "code",
    "executionInfo": {
     "elapsed": 1131,
     "status": "ok",
     "timestamp": 1590320180371,
     "user": {
      "displayName": "Luciano Gavinho",
      "photoUrl": "https://lh4.googleusercontent.com/-AXceqLc1oqQ/AAAAAAAAAAI/AAAAAAAABRU/hwsf--gVb3s/s64/photo.jpg",
      "userId": "11013035459083077990"
     },
     "user_tz": 180
    },
    "id": "XZaY8H5peAmv",
    "outputId": "31016691-86e3-49da-87c5-633515e12422"
   },
   "outputs": [
    {
     "data": {
      "text/plain": [
       "<matplotlib.collections.PathCollection at 0x7f18376f9d68>"
      ]
     },
     "execution_count": 16,
     "metadata": {
      "tags": []
     },
     "output_type": "execute_result"
    },
    {
     "data": {
      "image/png": "[encoded data removed]",
      "text/plain": [
       "<Figure size 432x288 with 1 Axes>"
      ]
     },
     "metadata": {
      "tags": []
     },
     "output_type": "display_data"
    }
   ],
   "source": [
    "plt.scatter(df_crop.V4,df_crop.TARGET)"
   ]
  },
  {
   "cell_type": "code",
   "execution_count": 0,
   "metadata": {
    "colab": {
     "base_uri": "https://localhost:8080/",
     "height": 285
    },
    "colab_type": "code",
    "executionInfo": {
     "elapsed": 1195,
     "status": "ok",
     "timestamp": 1591054944807,
     "user": {
      "displayName": "Luciano Gavinho",
      "photoUrl": "https://lh4.googleusercontent.com/-AXceqLc1oqQ/AAAAAAAAAAI/AAAAAAAABRU/hwsf--gVb3s/s64/photo.jpg",
      "userId": "11013035459083077990"
     },
     "user_tz": 180
    },
    "id": "7RAqD_3AeL-6",
    "outputId": "936cd9fa-ccf1-465f-c4e0-1db252ee41a0"
   },
   "outputs": [
    {
     "data": {
      "text/plain": [
       "<matplotlib.collections.PathCollection at 0x7f3b0b063a20>"
      ]
     },
     "execution_count": 34,
     "metadata": {
      "tags": []
     },
     "output_type": "execute_result"
    },
    {
     "data": {
      "image/png": "[encoded data removed]",
      "text/plain": [
       "<Figure size 432x288 with 1 Axes>"
      ]
     },
     "metadata": {
      "needs_background": "light",
      "tags": []
     },
     "output_type": "display_data"
    }
   ],
   "source": [
    "plt.scatter(df_crop.V5,df_crop.TARGET)"
   ]
  },
  {
   "cell_type": "code",
   "execution_count": 0,
   "metadata": {
    "colab": {
     "base_uri": "https://localhost:8080/",
     "height": 266
    },
    "colab_type": "code",
    "executionInfo": {
     "elapsed": 1282,
     "status": "ok",
     "timestamp": 1590289795409,
     "user": {
      "displayName": "Luciano Gavinho",
      "photoUrl": "https://lh4.googleusercontent.com/-AXceqLc1oqQ/AAAAAAAAAAI/AAAAAAAABRU/hwsf--gVb3s/s64/photo.jpg",
      "userId": "11013035459083077990"
     },
     "user_tz": 180
    },
    "id": "aF8jeF_V25r3",
    "outputId": "6275d57f-7e77-449a-f87c-b5e9f8ae6130"
   },
   "outputs": [
    {
     "data": {
      "image/png": "[encoded data removed]",
      "text/plain": [
       "<Figure size 432x288 with 1 Axes>"
      ]
     },
     "metadata": {
      "tags": []
     },
     "output_type": "display_data"
    }
   ],
   "source": [
    "df_crop.loc[0:200,['V1','V6']].plot(kind='line')\n",
    "plt.show()"
   ]
  },
  {
   "cell_type": "code",
   "execution_count": 0,
   "metadata": {
    "colab": {
     "base_uri": "https://localhost:8080/",
     "height": 363
    },
    "colab_type": "code",
    "executionInfo": {
     "elapsed": 758,
     "status": "error",
     "timestamp": 1590279948964,
     "user": {
      "displayName": "Luciano Gavinho",
      "photoUrl": "https://lh4.googleusercontent.com/-AXceqLc1oqQ/AAAAAAAAAAI/AAAAAAAABRU/hwsf--gVb3s/s64/photo.jpg",
      "userId": "11013035459083077990"
     },
     "user_tz": 180
    },
    "id": "aJkWwMmn3UMR",
    "outputId": "e43f7a3d-b662-449f-b76b-f7ce54e97284"
   },
   "outputs": [
    {
     "ename": "AttributeError",
     "evalue": "ignored",
     "output_type": "error",
     "traceback": [
      "\u001b[0;31m---------------------------------------------------------------------------\u001b[0m",
      "\u001b[0;31mAttributeError\u001b[0m                            Traceback (most recent call last)",
      "\u001b[0;32m<ipython-input-10-ffcd9ff93085>\u001b[0m in \u001b[0;36m<module>\u001b[0;34m()\u001b[0m\n\u001b[1;32m      1\u001b[0m \u001b[0;32mfrom\u001b[0m \u001b[0msklearn\u001b[0m \u001b[0;32mimport\u001b[0m \u001b[0mpreprocessing\u001b[0m\u001b[0;34m\u001b[0m\u001b[0;34m\u001b[0m\u001b[0m\n\u001b[0;32m----> 2\u001b[0;31m \u001b[0mdf\u001b[0m \u001b[0;34m=\u001b[0m \u001b[0mdf_crop\u001b[0m\u001b[0;34m[\u001b[0m\u001b[0mdf_crop\u001b[0m\u001b[0;34m.\u001b[0m\u001b[0mMes\u001b[0m\u001b[0;34m==\u001b[0m \u001b[0;36m3\u001b[0m\u001b[0;34m]\u001b[0m\u001b[0;34m\u001b[0m\u001b[0;34m\u001b[0m\u001b[0m\n\u001b[0m\u001b[1;32m      3\u001b[0m \u001b[0mprint\u001b[0m\u001b[0;34m(\u001b[0m\u001b[0mdf\u001b[0m\u001b[0;34m)\u001b[0m\u001b[0;34m\u001b[0m\u001b[0;34m\u001b[0m\u001b[0m\n\u001b[1;32m      4\u001b[0m \u001b[0mx\u001b[0m \u001b[0;34m=\u001b[0m \u001b[0mdf\u001b[0m\u001b[0;34m[\u001b[0m\u001b[0;34m[\u001b[0m\u001b[0;34m'V3'\u001b[0m\u001b[0;34m,\u001b[0m\u001b[0;34m'V2'\u001b[0m\u001b[0;34m,\u001b[0m\u001b[0;34m'V7'\u001b[0m\u001b[0;34m]\u001b[0m\u001b[0;34m]\u001b[0m\u001b[0;34m.\u001b[0m\u001b[0mvalues\u001b[0m \u001b[0;31m#returns a numpy array\u001b[0m\u001b[0;34m\u001b[0m\u001b[0;34m\u001b[0m\u001b[0m\n\u001b[1;32m      5\u001b[0m \u001b[0mmin_max_scaler\u001b[0m \u001b[0;34m=\u001b[0m \u001b[0mpreprocessing\u001b[0m\u001b[0;34m.\u001b[0m\u001b[0mMinMaxScaler\u001b[0m\u001b[0;34m(\u001b[0m\u001b[0;34m)\u001b[0m\u001b[0;34m\u001b[0m\u001b[0;34m\u001b[0m\u001b[0m\n",
      "\u001b[0;32m/usr/local/lib/python3.6/dist-packages/pandas/core/generic.py\u001b[0m in \u001b[0;36m__getattr__\u001b[0;34m(self, name)\u001b[0m\n\u001b[1;32m   5272\u001b[0m             \u001b[0;32mif\u001b[0m \u001b[0mself\u001b[0m\u001b[0;34m.\u001b[0m\u001b[0m_info_axis\u001b[0m\u001b[0;34m.\u001b[0m\u001b[0m_can_hold_identifiers_and_holds_name\u001b[0m\u001b[0;34m(\u001b[0m\u001b[0mname\u001b[0m\u001b[0;34m)\u001b[0m\u001b[0;34m:\u001b[0m\u001b[0;34m\u001b[0m\u001b[0;34m\u001b[0m\u001b[0m\n\u001b[1;32m   5273\u001b[0m                 \u001b[0;32mreturn\u001b[0m \u001b[0mself\u001b[0m\u001b[0;34m[\u001b[0m\u001b[0mname\u001b[0m\u001b[0;34m]\u001b[0m\u001b[0;34m\u001b[0m\u001b[0;34m\u001b[0m\u001b[0m\n\u001b[0;32m-> 5274\u001b[0;31m             \u001b[0;32mreturn\u001b[0m \u001b[0mobject\u001b[0m\u001b[0;34m.\u001b[0m\u001b[0m__getattribute__\u001b[0m\u001b[0;34m(\u001b[0m\u001b[0mself\u001b[0m\u001b[0;34m,\u001b[0m \u001b[0mname\u001b[0m\u001b[0;34m)\u001b[0m\u001b[0;34m\u001b[0m\u001b[0;34m\u001b[0m\u001b[0m\n\u001b[0m\u001b[1;32m   5275\u001b[0m \u001b[0;34m\u001b[0m\u001b[0m\n\u001b[1;32m   5276\u001b[0m     \u001b[0;32mdef\u001b[0m \u001b[0m__setattr__\u001b[0m\u001b[0;34m(\u001b[0m\u001b[0mself\u001b[0m\u001b[0;34m,\u001b[0m \u001b[0mname\u001b[0m\u001b[0;34m:\u001b[0m \u001b[0mstr\u001b[0m\u001b[0;34m,\u001b[0m \u001b[0mvalue\u001b[0m\u001b[0;34m)\u001b[0m \u001b[0;34m->\u001b[0m \u001b[0;32mNone\u001b[0m\u001b[0;34m:\u001b[0m\u001b[0;34m\u001b[0m\u001b[0;34m\u001b[0m\u001b[0m\n",
      "\u001b[0;31mAttributeError\u001b[0m: 'DataFrame' object has no attribute 'Mes'"
     ]
    }
   ],
   "source": [
    "from sklearn import preprocessing\n",
    "df = df_crop[df_crop.Mes== 3]\n",
    "print(df)\n",
    "x = df[['V3','V2','V7']].values #returns a numpy array\n",
    "min_max_scaler = preprocessing.MinMaxScaler()\n",
    "x_scaled = min_max_scaler.fit_transform(x)\n",
    "df = pd.DataFrame(x_scaled)\n",
    "df.loc[0:100].plot(kind='bar', figsize=(20,5))\n",
    "df.plot(kind='kde', figsize=(20,5))\n",
    "\n",
    "plt.show()"
   ]
  },
  {
   "cell_type": "code",
   "execution_count": 0,
   "metadata": {
    "colab": {
     "base_uri": "https://localhost:8080/",
     "height": 287
    },
    "colab_type": "code",
    "executionInfo": {
     "elapsed": 830,
     "status": "ok",
     "timestamp": 1590243358731,
     "user": {
      "displayName": "Luciano Gavinho",
      "photoUrl": "https://lh4.googleusercontent.com/-AXceqLc1oqQ/AAAAAAAAAAI/AAAAAAAABRU/hwsf--gVb3s/s64/photo.jpg",
      "userId": "11013035459083077990"
     },
     "user_tz": 180
    },
    "id": "OwNU2_0533jU",
    "outputId": "417b76f9-0302-4a64-d7d5-4cadefeadc1e"
   },
   "outputs": [
    {
     "data": {
      "text/html": [
       "<div>\n",
       "<style scoped>\n",
       "    .dataframe tbody tr th:only-of-type {\n",
       "        vertical-align: middle;\n",
       "    }\n",
       "\n",
       "    .dataframe tbody tr th {\n",
       "        vertical-align: top;\n",
       "    }\n",
       "\n",
       "    .dataframe thead th {\n",
       "        text-align: right;\n",
       "    }\n",
       "</style>\n",
       "<table border=\"1\" class=\"dataframe\">\n",
       "  <thead>\n",
       "    <tr style=\"text-align: right;\">\n",
       "      <th></th>\n",
       "      <th>0</th>\n",
       "      <th>1</th>\n",
       "      <th>2</th>\n",
       "      <th>3</th>\n",
       "    </tr>\n",
       "  </thead>\n",
       "  <tbody>\n",
       "    <tr>\n",
       "      <th>count</th>\n",
       "      <td>11,169.000</td>\n",
       "      <td>11,169.000</td>\n",
       "      <td>11,169.000</td>\n",
       "      <td>11,169.000</td>\n",
       "    </tr>\n",
       "    <tr>\n",
       "      <th>mean</th>\n",
       "      <td>0.197</td>\n",
       "      <td>0.062</td>\n",
       "      <td>0.089</td>\n",
       "      <td>0.030</td>\n",
       "    </tr>\n",
       "    <tr>\n",
       "      <th>std</th>\n",
       "      <td>0.254</td>\n",
       "      <td>0.106</td>\n",
       "      <td>0.111</td>\n",
       "      <td>0.081</td>\n",
       "    </tr>\n",
       "    <tr>\n",
       "      <th>min</th>\n",
       "      <td>0.000</td>\n",
       "      <td>0.000</td>\n",
       "      <td>0.000</td>\n",
       "      <td>0.000</td>\n",
       "    </tr>\n",
       "    <tr>\n",
       "      <th>25%</th>\n",
       "      <td>0.028</td>\n",
       "      <td>0.004</td>\n",
       "      <td>0.002</td>\n",
       "      <td>0.001</td>\n",
       "    </tr>\n",
       "    <tr>\n",
       "      <th>50%</th>\n",
       "      <td>0.100</td>\n",
       "      <td>0.016</td>\n",
       "      <td>0.085</td>\n",
       "      <td>0.003</td>\n",
       "    </tr>\n",
       "    <tr>\n",
       "      <th>75%</th>\n",
       "      <td>0.252</td>\n",
       "      <td>0.061</td>\n",
       "      <td>0.127</td>\n",
       "      <td>0.020</td>\n",
       "    </tr>\n",
       "    <tr>\n",
       "      <th>max</th>\n",
       "      <td>1.000</td>\n",
       "      <td>1.000</td>\n",
       "      <td>1.000</td>\n",
       "      <td>1.000</td>\n",
       "    </tr>\n",
       "  </tbody>\n",
       "</table>\n",
       "</div>"
      ],
      "text/plain": [
       "               0          1          2          3\n",
       "count 11,169.000 11,169.000 11,169.000 11,169.000\n",
       "mean       0.197      0.062      0.089      0.030\n",
       "std        0.254      0.106      0.111      0.081\n",
       "min        0.000      0.000      0.000      0.000\n",
       "25%        0.028      0.004      0.002      0.001\n",
       "50%        0.100      0.016      0.085      0.003\n",
       "75%        0.252      0.061      0.127      0.020\n",
       "max        1.000      1.000      1.000      1.000"
      ]
     },
     "execution_count": 26,
     "metadata": {
      "tags": []
     },
     "output_type": "execute_result"
    }
   ],
   "source": [
    "df.describe()"
   ]
  },
  {
   "cell_type": "code",
   "execution_count": 0,
   "metadata": {
    "colab": {},
    "colab_type": "code",
    "id": "FCiyNFQZ48Xp"
   },
   "outputs": [],
   "source": [
    "df_crop = pd.read_csv('dataset_test_ds.csv',delimiter=';')\n",
    "#df_crop['Safra1'] = df_crop.Safra.astype(str) + '01'\n",
    "\n",
    "\n",
    "df_crop['Mes'] = pd.DatetimeIndex(pd.to_datetime((df_crop.Safra.astype(str) + '01'), format='%%mY%d')).month.astype(int)\n"
   ]
  },
  {
   "cell_type": "code",
   "execution_count": 0,
   "metadata": {
    "colab": {
     "base_uri": "https://localhost:8080/",
     "height": 627
    },
    "colab_type": "code",
    "executionInfo": {
     "elapsed": 2183,
     "status": "ok",
     "timestamp": 1591230493162,
     "user": {
      "displayName": "Luciano Gavinho",
      "photoUrl": "https://lh4.googleusercontent.com/-AXceqLc1oqQ/AAAAAAAAAAI/AAAAAAAABRU/hwsf--gVb3s/s64/photo.jpg",
      "userId": "11013035459083077990"
     },
     "user_tz": 180
    },
    "id": "mwSJmafPFS1k",
    "outputId": "d311ebea-b6ef-4100-c125-d071930a2fbe"
   },
   "outputs": [
    {
     "data": {
      "image/png": "[encoded data removed]",
      "text/plain": [
       "<Figure size 1440x360 with 1 Axes>"
      ]
     },
     "metadata": {
      "tags": []
     },
     "output_type": "display_data"
    },
    {
     "data": {
      "image/png": "[encoded data removed]",
      "text/plain": [
       "<Figure size 1440x360 with 1 Axes>"
      ]
     },
     "metadata": {
      "tags": []
     },
     "output_type": "display_data"
    }
   ],
   "source": [
    "from sklearn import preprocessing\n",
    "df2 = df_crop\n",
    "\n",
    "x = df2[['V3','V7']].values #returns a numpy array\n",
    "min_max_scaler = preprocessing.MinMaxScaler()\n",
    "x_scaled = min_max_scaler.fit_transform(x)\n",
    "df2 = pd.DataFrame(x_scaled)\n",
    "df2.loc[0:100].plot(kind='line', figsize=(20,5))\n",
    "df2.plot(kind='kde', figsize=(20,5))\n",
    "\n",
    "plt.show()"
   ]
  },
  {
   "cell_type": "code",
   "execution_count": 0,
   "metadata": {
    "colab": {
     "base_uri": "https://localhost:8080/",
     "height": 372
    },
    "colab_type": "code",
    "executionInfo": {
     "elapsed": 777,
     "status": "ok",
     "timestamp": 1590320426033,
     "user": {
      "displayName": "Luciano Gavinho",
      "photoUrl": "https://lh4.googleusercontent.com/-AXceqLc1oqQ/AAAAAAAAAAI/AAAAAAAABRU/hwsf--gVb3s/s64/photo.jpg",
      "userId": "11013035459083077990"
     },
     "user_tz": 180
    },
    "id": "jZWkdcQK80hy",
    "outputId": "256d6aca-8c79-479d-a901-867494de2a38"
   },
   "outputs": [
    {
     "name": "stdout",
     "output_type": "stream",
     "text": [
      "<class 'pandas.core.frame.DataFrame'>\n",
      "RangeIndex: 11169 entries, 0 to 11168\n",
      "Data columns (total 13 columns):\n",
      " #   Column  Non-Null Count  Dtype  \n",
      "---  ------  --------------  -----  \n",
      " 0   V1      11169 non-null  int64  \n",
      " 1   V2      11169 non-null  float64\n",
      " 2   V3      11169 non-null  float64\n",
      " 3   TARGET  11169 non-null  int64  \n",
      " 4   V4      11169 non-null  int64  \n",
      " 5   V5      11169 non-null  int64  \n",
      " 6   V6      11169 non-null  int64  \n",
      " 7   V7      11169 non-null  float64\n",
      " 8   V8      11169 non-null  int64  \n",
      " 9   V9      11169 non-null  int64  \n",
      " 10  V10     11169 non-null  int64  \n",
      " 11  Safra   11169 non-null  int64  \n",
      " 12  Mes     11169 non-null  int64  \n",
      "dtypes: float64(3), int64(10)\n",
      "memory usage: 1.1 MB\n"
     ]
    }
   ],
   "source": [
    "df_crop.info()"
   ]
  },
  {
   "cell_type": "code",
   "execution_count": 0,
   "metadata": {
    "colab": {
     "base_uri": "https://localhost:8080/",
     "height": 406
    },
    "colab_type": "code",
    "executionInfo": {
     "elapsed": 946,
     "status": "ok",
     "timestamp": 1590320433403,
     "user": {
      "displayName": "Luciano Gavinho",
      "photoUrl": "https://lh4.googleusercontent.com/-AXceqLc1oqQ/AAAAAAAAAAI/AAAAAAAABRU/hwsf--gVb3s/s64/photo.jpg",
      "userId": "11013035459083077990"
     },
     "user_tz": 180
    },
    "id": "Sw0heRVeGCdY",
    "outputId": "ec41a203-0da3-4f4c-80d2-ef6a436073fe"
   },
   "outputs": [
    {
     "data": {
      "text/html": [
       "<div>\n",
       "<style scoped>\n",
       "    .dataframe tbody tr th:only-of-type {\n",
       "        vertical-align: middle;\n",
       "    }\n",
       "\n",
       "    .dataframe tbody tr th {\n",
       "        vertical-align: top;\n",
       "    }\n",
       "\n",
       "    .dataframe thead th {\n",
       "        text-align: right;\n",
       "    }\n",
       "</style>\n",
       "<table border=\"1\" class=\"dataframe\">\n",
       "  <thead>\n",
       "    <tr style=\"text-align: right;\">\n",
       "      <th></th>\n",
       "      <th>V1</th>\n",
       "      <th>V2</th>\n",
       "      <th>V3</th>\n",
       "      <th>TARGET</th>\n",
       "      <th>V4</th>\n",
       "      <th>V5</th>\n",
       "      <th>V6</th>\n",
       "      <th>V7</th>\n",
       "      <th>V8</th>\n",
       "      <th>V9</th>\n",
       "      <th>V10</th>\n",
       "      <th>Safra</th>\n",
       "      <th>Mes</th>\n",
       "    </tr>\n",
       "  </thead>\n",
       "  <tbody>\n",
       "    <tr>\n",
       "      <th>0</th>\n",
       "      <td>0</td>\n",
       "      <td>8.100</td>\n",
       "      <td>9.990</td>\n",
       "      <td>0</td>\n",
       "      <td>1968</td>\n",
       "      <td>0</td>\n",
       "      <td>0</td>\n",
       "      <td>15.150</td>\n",
       "      <td>0</td>\n",
       "      <td>0</td>\n",
       "      <td>0</td>\n",
       "      <td>201901</td>\n",
       "      <td>1</td>\n",
       "    </tr>\n",
       "    <tr>\n",
       "      <th>1</th>\n",
       "      <td>0</td>\n",
       "      <td>4.400</td>\n",
       "      <td>35.000</td>\n",
       "      <td>0</td>\n",
       "      <td>1369</td>\n",
       "      <td>0</td>\n",
       "      <td>0</td>\n",
       "      <td>63.980</td>\n",
       "      <td>1</td>\n",
       "      <td>0</td>\n",
       "      <td>0</td>\n",
       "      <td>201910</td>\n",
       "      <td>10</td>\n",
       "    </tr>\n",
       "    <tr>\n",
       "      <th>2</th>\n",
       "      <td>0</td>\n",
       "      <td>0.700</td>\n",
       "      <td>52.990</td>\n",
       "      <td>0</td>\n",
       "      <td>1228</td>\n",
       "      <td>0</td>\n",
       "      <td>0</td>\n",
       "      <td>98.840</td>\n",
       "      <td>0</td>\n",
       "      <td>0</td>\n",
       "      <td>0</td>\n",
       "      <td>201906</td>\n",
       "      <td>6</td>\n",
       "    </tr>\n",
       "    <tr>\n",
       "      <th>3</th>\n",
       "      <td>0</td>\n",
       "      <td>63.300</td>\n",
       "      <td>810.000</td>\n",
       "      <td>0</td>\n",
       "      <td>0</td>\n",
       "      <td>0</td>\n",
       "      <td>1</td>\n",
       "      <td>9,237.210</td>\n",
       "      <td>0</td>\n",
       "      <td>0</td>\n",
       "      <td>0</td>\n",
       "      <td>201910</td>\n",
       "      <td>10</td>\n",
       "    </tr>\n",
       "    <tr>\n",
       "      <th>4</th>\n",
       "      <td>0</td>\n",
       "      <td>4.100</td>\n",
       "      <td>17.500</td>\n",
       "      <td>0</td>\n",
       "      <td>0</td>\n",
       "      <td>0</td>\n",
       "      <td>1</td>\n",
       "      <td>27.700</td>\n",
       "      <td>1</td>\n",
       "      <td>0</td>\n",
       "      <td>0</td>\n",
       "      <td>201902</td>\n",
       "      <td>2</td>\n",
       "    </tr>\n",
       "    <tr>\n",
       "      <th>...</th>\n",
       "      <td>...</td>\n",
       "      <td>...</td>\n",
       "      <td>...</td>\n",
       "      <td>...</td>\n",
       "      <td>...</td>\n",
       "      <td>...</td>\n",
       "      <td>...</td>\n",
       "      <td>...</td>\n",
       "      <td>...</td>\n",
       "      <td>...</td>\n",
       "      <td>...</td>\n",
       "      <td>...</td>\n",
       "      <td>...</td>\n",
       "    </tr>\n",
       "    <tr>\n",
       "      <th>11164</th>\n",
       "      <td>0</td>\n",
       "      <td>86.400</td>\n",
       "      <td>5.000</td>\n",
       "      <td>0</td>\n",
       "      <td>1964</td>\n",
       "      <td>0</td>\n",
       "      <td>0</td>\n",
       "      <td>31.570</td>\n",
       "      <td>1</td>\n",
       "      <td>0</td>\n",
       "      <td>0</td>\n",
       "      <td>201909</td>\n",
       "      <td>9</td>\n",
       "    </tr>\n",
       "    <tr>\n",
       "      <th>11165</th>\n",
       "      <td>0</td>\n",
       "      <td>6.700</td>\n",
       "      <td>55.000</td>\n",
       "      <td>0</td>\n",
       "      <td>0</td>\n",
       "      <td>0</td>\n",
       "      <td>1</td>\n",
       "      <td>114.510</td>\n",
       "      <td>0</td>\n",
       "      <td>0</td>\n",
       "      <td>0</td>\n",
       "      <td>201909</td>\n",
       "      <td>9</td>\n",
       "    </tr>\n",
       "    <tr>\n",
       "      <th>11166</th>\n",
       "      <td>0</td>\n",
       "      <td>1.200</td>\n",
       "      <td>100.000</td>\n",
       "      <td>0</td>\n",
       "      <td>1120</td>\n",
       "      <td>0</td>\n",
       "      <td>0</td>\n",
       "      <td>213.570</td>\n",
       "      <td>1</td>\n",
       "      <td>0</td>\n",
       "      <td>0</td>\n",
       "      <td>201901</td>\n",
       "      <td>1</td>\n",
       "    </tr>\n",
       "    <tr>\n",
       "      <th>11167</th>\n",
       "      <td>0</td>\n",
       "      <td>11.000</td>\n",
       "      <td>85.000</td>\n",
       "      <td>0</td>\n",
       "      <td>2005</td>\n",
       "      <td>0</td>\n",
       "      <td>0</td>\n",
       "      <td>208.330</td>\n",
       "      <td>0</td>\n",
       "      <td>0</td>\n",
       "      <td>0</td>\n",
       "      <td>201911</td>\n",
       "      <td>11</td>\n",
       "    </tr>\n",
       "    <tr>\n",
       "      <th>11168</th>\n",
       "      <td>0</td>\n",
       "      <td>97.900</td>\n",
       "      <td>2,230.000</td>\n",
       "      <td>0</td>\n",
       "      <td>1440</td>\n",
       "      <td>0</td>\n",
       "      <td>0</td>\n",
       "      <td>51,997.120</td>\n",
       "      <td>0</td>\n",
       "      <td>0</td>\n",
       "      <td>0</td>\n",
       "      <td>201906</td>\n",
       "      <td>6</td>\n",
       "    </tr>\n",
       "  </tbody>\n",
       "</table>\n",
       "<p>11169 rows × 13 columns</p>\n",
       "</div>"
      ],
      "text/plain": [
       "       V1     V2        V3  TARGET    V4  ...  V8  V9  V10   Safra  Mes\n",
       "0       0  8.100     9.990       0  1968  ...   0   0    0  201901    1\n",
       "1       0  4.400    35.000       0  1369  ...   1   0    0  201910   10\n",
       "2       0  0.700    52.990       0  1228  ...   0   0    0  201906    6\n",
       "3       0 63.300   810.000       0     0  ...   0   0    0  201910   10\n",
       "4       0  4.100    17.500       0     0  ...   1   0    0  201902    2\n",
       "...    ..    ...       ...     ...   ...  ...  ..  ..  ...     ...  ...\n",
       "11164   0 86.400     5.000       0  1964  ...   1   0    0  201909    9\n",
       "11165   0  6.700    55.000       0     0  ...   0   0    0  201909    9\n",
       "11166   0  1.200   100.000       0  1120  ...   1   0    0  201901    1\n",
       "11167   0 11.000    85.000       0  2005  ...   0   0    0  201911   11\n",
       "11168   0 97.900 2,230.000       0  1440  ...   0   0    0  201906    6\n",
       "\n",
       "[11169 rows x 13 columns]"
      ]
     },
     "execution_count": 23,
     "metadata": {
      "tags": []
     },
     "output_type": "execute_result"
    }
   ],
   "source": [
    "df_crop"
   ]
  },
  {
   "cell_type": "code",
   "execution_count": 0,
   "metadata": {
    "colab": {},
    "colab_type": "code",
    "id": "r8IOwuOjAHns"
   },
   "outputs": [],
   "source": [
    "df = df_crop.drop(columns='Safra')"
   ]
  },
  {
   "cell_type": "code",
   "execution_count": 0,
   "metadata": {
    "colab": {
     "base_uri": "https://localhost:8080/",
     "height": 406
    },
    "colab_type": "code",
    "executionInfo": {
     "elapsed": 860,
     "status": "ok",
     "timestamp": 1590247586872,
     "user": {
      "displayName": "Luciano Gavinho",
      "photoUrl": "https://lh4.googleusercontent.com/-AXceqLc1oqQ/AAAAAAAAAAI/AAAAAAAABRU/hwsf--gVb3s/s64/photo.jpg",
      "userId": "11013035459083077990"
     },
     "user_tz": 180
    },
    "id": "vAZrw4a0JGjI",
    "outputId": "92bf3e8f-5ad3-4946-d096-4d223274882b"
   },
   "outputs": [
    {
     "data": {
      "text/html": [
       "<div>\n",
       "<style scoped>\n",
       "    .dataframe tbody tr th:only-of-type {\n",
       "        vertical-align: middle;\n",
       "    }\n",
       "\n",
       "    .dataframe tbody tr th {\n",
       "        vertical-align: top;\n",
       "    }\n",
       "\n",
       "    .dataframe thead th {\n",
       "        text-align: right;\n",
       "    }\n",
       "</style>\n",
       "<table border=\"1\" class=\"dataframe\">\n",
       "  <thead>\n",
       "    <tr style=\"text-align: right;\">\n",
       "      <th></th>\n",
       "      <th>V1</th>\n",
       "      <th>V2</th>\n",
       "      <th>V3</th>\n",
       "      <th>TARGET</th>\n",
       "      <th>V4</th>\n",
       "      <th>V5</th>\n",
       "      <th>V6</th>\n",
       "      <th>V7</th>\n",
       "      <th>V8</th>\n",
       "      <th>V9</th>\n",
       "      <th>V10</th>\n",
       "      <th>Mes</th>\n",
       "    </tr>\n",
       "  </thead>\n",
       "  <tbody>\n",
       "    <tr>\n",
       "      <th>0</th>\n",
       "      <td>0</td>\n",
       "      <td>8.100</td>\n",
       "      <td>9.990</td>\n",
       "      <td>0</td>\n",
       "      <td>1968</td>\n",
       "      <td>0</td>\n",
       "      <td>0</td>\n",
       "      <td>15.150</td>\n",
       "      <td>0</td>\n",
       "      <td>0</td>\n",
       "      <td>0</td>\n",
       "      <td>1</td>\n",
       "    </tr>\n",
       "    <tr>\n",
       "      <th>1</th>\n",
       "      <td>0</td>\n",
       "      <td>4.400</td>\n",
       "      <td>35.000</td>\n",
       "      <td>0</td>\n",
       "      <td>1369</td>\n",
       "      <td>0</td>\n",
       "      <td>0</td>\n",
       "      <td>63.980</td>\n",
       "      <td>1</td>\n",
       "      <td>0</td>\n",
       "      <td>0</td>\n",
       "      <td>10</td>\n",
       "    </tr>\n",
       "    <tr>\n",
       "      <th>2</th>\n",
       "      <td>0</td>\n",
       "      <td>0.700</td>\n",
       "      <td>52.990</td>\n",
       "      <td>0</td>\n",
       "      <td>1228</td>\n",
       "      <td>0</td>\n",
       "      <td>0</td>\n",
       "      <td>98.840</td>\n",
       "      <td>0</td>\n",
       "      <td>0</td>\n",
       "      <td>0</td>\n",
       "      <td>6</td>\n",
       "    </tr>\n",
       "    <tr>\n",
       "      <th>3</th>\n",
       "      <td>0</td>\n",
       "      <td>63.300</td>\n",
       "      <td>810.000</td>\n",
       "      <td>0</td>\n",
       "      <td>0</td>\n",
       "      <td>0</td>\n",
       "      <td>1</td>\n",
       "      <td>9,237.210</td>\n",
       "      <td>0</td>\n",
       "      <td>0</td>\n",
       "      <td>0</td>\n",
       "      <td>10</td>\n",
       "    </tr>\n",
       "    <tr>\n",
       "      <th>4</th>\n",
       "      <td>0</td>\n",
       "      <td>4.100</td>\n",
       "      <td>17.500</td>\n",
       "      <td>0</td>\n",
       "      <td>0</td>\n",
       "      <td>0</td>\n",
       "      <td>1</td>\n",
       "      <td>27.700</td>\n",
       "      <td>1</td>\n",
       "      <td>0</td>\n",
       "      <td>0</td>\n",
       "      <td>2</td>\n",
       "    </tr>\n",
       "    <tr>\n",
       "      <th>...</th>\n",
       "      <td>...</td>\n",
       "      <td>...</td>\n",
       "      <td>...</td>\n",
       "      <td>...</td>\n",
       "      <td>...</td>\n",
       "      <td>...</td>\n",
       "      <td>...</td>\n",
       "      <td>...</td>\n",
       "      <td>...</td>\n",
       "      <td>...</td>\n",
       "      <td>...</td>\n",
       "      <td>...</td>\n",
       "    </tr>\n",
       "    <tr>\n",
       "      <th>11164</th>\n",
       "      <td>0</td>\n",
       "      <td>86.400</td>\n",
       "      <td>5.000</td>\n",
       "      <td>0</td>\n",
       "      <td>1964</td>\n",
       "      <td>0</td>\n",
       "      <td>0</td>\n",
       "      <td>31.570</td>\n",
       "      <td>1</td>\n",
       "      <td>0</td>\n",
       "      <td>0</td>\n",
       "      <td>9</td>\n",
       "    </tr>\n",
       "    <tr>\n",
       "      <th>11165</th>\n",
       "      <td>0</td>\n",
       "      <td>6.700</td>\n",
       "      <td>55.000</td>\n",
       "      <td>0</td>\n",
       "      <td>0</td>\n",
       "      <td>0</td>\n",
       "      <td>1</td>\n",
       "      <td>114.510</td>\n",
       "      <td>0</td>\n",
       "      <td>0</td>\n",
       "      <td>0</td>\n",
       "      <td>9</td>\n",
       "    </tr>\n",
       "    <tr>\n",
       "      <th>11166</th>\n",
       "      <td>0</td>\n",
       "      <td>1.200</td>\n",
       "      <td>100.000</td>\n",
       "      <td>0</td>\n",
       "      <td>1120</td>\n",
       "      <td>0</td>\n",
       "      <td>0</td>\n",
       "      <td>213.570</td>\n",
       "      <td>1</td>\n",
       "      <td>0</td>\n",
       "      <td>0</td>\n",
       "      <td>1</td>\n",
       "    </tr>\n",
       "    <tr>\n",
       "      <th>11167</th>\n",
       "      <td>0</td>\n",
       "      <td>11.000</td>\n",
       "      <td>85.000</td>\n",
       "      <td>0</td>\n",
       "      <td>2005</td>\n",
       "      <td>0</td>\n",
       "      <td>0</td>\n",
       "      <td>208.330</td>\n",
       "      <td>0</td>\n",
       "      <td>0</td>\n",
       "      <td>0</td>\n",
       "      <td>11</td>\n",
       "    </tr>\n",
       "    <tr>\n",
       "      <th>11168</th>\n",
       "      <td>0</td>\n",
       "      <td>97.900</td>\n",
       "      <td>2,230.000</td>\n",
       "      <td>0</td>\n",
       "      <td>1440</td>\n",
       "      <td>0</td>\n",
       "      <td>0</td>\n",
       "      <td>51,997.120</td>\n",
       "      <td>0</td>\n",
       "      <td>0</td>\n",
       "      <td>0</td>\n",
       "      <td>6</td>\n",
       "    </tr>\n",
       "  </tbody>\n",
       "</table>\n",
       "<p>11169 rows × 12 columns</p>\n",
       "</div>"
      ],
      "text/plain": [
       "       V1     V2        V3  TARGET    V4  V5  V6         V7  V8  V9  V10 Mes\n",
       "0       0  8.100     9.990       0  1968   0   0     15.150   0   0    0   1\n",
       "1       0  4.400    35.000       0  1369   0   0     63.980   1   0    0  10\n",
       "2       0  0.700    52.990       0  1228   0   0     98.840   0   0    0   6\n",
       "3       0 63.300   810.000       0     0   0   1  9,237.210   0   0    0  10\n",
       "4       0  4.100    17.500       0     0   0   1     27.700   1   0    0   2\n",
       "...    ..    ...       ...     ...   ...  ..  ..        ...  ..  ..  ...  ..\n",
       "11164   0 86.400     5.000       0  1964   0   0     31.570   1   0    0   9\n",
       "11165   0  6.700    55.000       0     0   0   1    114.510   0   0    0   9\n",
       "11166   0  1.200   100.000       0  1120   0   0    213.570   1   0    0   1\n",
       "11167   0 11.000    85.000       0  2005   0   0    208.330   0   0    0  11\n",
       "11168   0 97.900 2,230.000       0  1440   0   0 51,997.120   0   0    0   6\n",
       "\n",
       "[11169 rows x 12 columns]"
      ]
     },
     "execution_count": 99,
     "metadata": {
      "tags": []
     },
     "output_type": "execute_result"
    }
   ],
   "source": [
    "df\n"
   ]
  },
  {
   "cell_type": "code",
   "execution_count": 0,
   "metadata": {
    "colab": {
     "base_uri": "https://localhost:8080/",
     "height": 308
    },
    "colab_type": "code",
    "executionInfo": {
     "elapsed": 784,
     "status": "ok",
     "timestamp": 1590255082231,
     "user": {
      "displayName": "Luciano Gavinho",
      "photoUrl": "https://lh4.googleusercontent.com/-AXceqLc1oqQ/AAAAAAAAAAI/AAAAAAAABRU/hwsf--gVb3s/s64/photo.jpg",
      "userId": "11013035459083077990"
     },
     "user_tz": 180
    },
    "id": "koMbRXqmJHha",
    "outputId": "18a883eb-2aac-430e-ba95-3afb1a1588f0"
   },
   "outputs": [
    {
     "data": {
      "text/plain": [
       "<matplotlib.axes._subplots.AxesSubplot at 0x7fd0d03a6e48>"
      ]
     },
     "execution_count": 148,
     "metadata": {
      "tags": []
     },
     "output_type": "execute_result"
    },
    {
     "data": {
      "image/png": "[encoded data removed]",
      "text/plain": [
       "<Figure size 432x288 with 1 Axes>"
      ]
     },
     "metadata": {
      "tags": []
     },
     "output_type": "display_data"
    }
   ],
   "source": [
    "df[['Mes','V7']].groupby(by=['Mes']).sum().sort_values(by='Mes').plot(kind='bar')\n"
   ]
  },
  {
   "cell_type": "code",
   "execution_count": 0,
   "metadata": {
    "colab": {
     "base_uri": "https://localhost:8080/",
     "height": 321
    },
    "colab_type": "code",
    "executionInfo": {
     "elapsed": 1473,
     "status": "ok",
     "timestamp": 1590340240302,
     "user": {
      "displayName": "Luciano Gavinho",
      "photoUrl": "https://lh4.googleusercontent.com/-AXceqLc1oqQ/AAAAAAAAAAI/AAAAAAAABRU/hwsf--gVb3s/s64/photo.jpg",
      "userId": "11013035459083077990"
     },
     "user_tz": 180
    },
    "id": "WCGIPbyFJtuq",
    "outputId": "53375df7-adee-4353-dd96-9d86a1a9e6e5"
   },
   "outputs": [
    {
     "data": {
      "text/plain": [
       "<matplotlib.axes._subplots.AxesSubplot at 0x7f1834897160>"
      ]
     },
     "execution_count": 140,
     "metadata": {
      "tags": []
     },
     "output_type": "execute_result"
    },
    {
     "data": {
      "image/png": "[encoded data removed]",
      "text/plain": [
       "<Figure size 1440x360 with 1 Axes>"
      ]
     },
     "metadata": {
      "tags": []
     },
     "output_type": "display_data"
    }
   ],
   "source": [
    "df_crop = pd.read_csv('dataset_test_ds.csv',delimiter=';')\n",
    "\n",
    "\n",
    "\n",
    "df_crop['Mes'] = pd.DatetimeIndex(pd.to_datetime((df_crop.Safra.astype(str) + '01'), format='%Y%m%d')).month.astype(int)\n",
    "\n",
    "df = df_crop.drop(columns='Safra')\n",
    "#df1 = df[['Mes','V5']].groupby(by=['Mes', 'V5']).sum()\n",
    "df1 = df.groupby(by=['Mes', 'V5']).size().unstack().fillna(0).astype(int)\n",
    "\n",
    "df1.plot(kind='bar', figsize=(20,5))"
   ]
  },
  {
   "cell_type": "code",
   "execution_count": 0,
   "metadata": {
    "colab": {
     "base_uri": "https://localhost:8080/",
     "height": 437
    },
    "colab_type": "code",
    "executionInfo": {
     "elapsed": 733,
     "status": "ok",
     "timestamp": 1590340256308,
     "user": {
      "displayName": "Luciano Gavinho",
      "photoUrl": "https://lh4.googleusercontent.com/-AXceqLc1oqQ/AAAAAAAAAAI/AAAAAAAABRU/hwsf--gVb3s/s64/photo.jpg",
      "userId": "11013035459083077990"
     },
     "user_tz": 180
    },
    "id": "ho86iFU8Y0wt",
    "outputId": "5133f779-4c68-476c-9fd9-a57b12756cd3"
   },
   "outputs": [
    {
     "data": {
      "text/html": [
       "<div>\n",
       "<style scoped>\n",
       "    .dataframe tbody tr th:only-of-type {\n",
       "        vertical-align: middle;\n",
       "    }\n",
       "\n",
       "    .dataframe tbody tr th {\n",
       "        vertical-align: top;\n",
       "    }\n",
       "\n",
       "    .dataframe thead th {\n",
       "        text-align: right;\n",
       "    }\n",
       "</style>\n",
       "<table border=\"1\" class=\"dataframe\">\n",
       "  <thead>\n",
       "    <tr style=\"text-align: right;\">\n",
       "      <th>V5</th>\n",
       "      <th>0</th>\n",
       "      <th>1</th>\n",
       "      <th>2</th>\n",
       "      <th>3</th>\n",
       "      <th>4</th>\n",
       "      <th>5</th>\n",
       "      <th>6</th>\n",
       "      <th>7</th>\n",
       "      <th>8</th>\n",
       "      <th>9</th>\n",
       "      <th>10</th>\n",
       "      <th>11</th>\n",
       "    </tr>\n",
       "    <tr>\n",
       "      <th>Mes</th>\n",
       "      <th></th>\n",
       "      <th></th>\n",
       "      <th></th>\n",
       "      <th></th>\n",
       "      <th></th>\n",
       "      <th></th>\n",
       "      <th></th>\n",
       "      <th></th>\n",
       "      <th></th>\n",
       "      <th></th>\n",
       "      <th></th>\n",
       "      <th></th>\n",
       "    </tr>\n",
       "  </thead>\n",
       "  <tbody>\n",
       "    <tr>\n",
       "      <th>1</th>\n",
       "      <td>854</td>\n",
       "      <td>87</td>\n",
       "      <td>12</td>\n",
       "      <td>6</td>\n",
       "      <td>2</td>\n",
       "      <td>1</td>\n",
       "      <td>0</td>\n",
       "      <td>1</td>\n",
       "      <td>0</td>\n",
       "      <td>0</td>\n",
       "      <td>0</td>\n",
       "      <td>0</td>\n",
       "    </tr>\n",
       "    <tr>\n",
       "      <th>2</th>\n",
       "      <td>735</td>\n",
       "      <td>68</td>\n",
       "      <td>17</td>\n",
       "      <td>5</td>\n",
       "      <td>2</td>\n",
       "      <td>2</td>\n",
       "      <td>0</td>\n",
       "      <td>0</td>\n",
       "      <td>1</td>\n",
       "      <td>1</td>\n",
       "      <td>0</td>\n",
       "      <td>0</td>\n",
       "    </tr>\n",
       "    <tr>\n",
       "      <th>3</th>\n",
       "      <td>845</td>\n",
       "      <td>86</td>\n",
       "      <td>13</td>\n",
       "      <td>6</td>\n",
       "      <td>2</td>\n",
       "      <td>0</td>\n",
       "      <td>0</td>\n",
       "      <td>0</td>\n",
       "      <td>0</td>\n",
       "      <td>0</td>\n",
       "      <td>0</td>\n",
       "      <td>0</td>\n",
       "    </tr>\n",
       "    <tr>\n",
       "      <th>4</th>\n",
       "      <td>814</td>\n",
       "      <td>84</td>\n",
       "      <td>22</td>\n",
       "      <td>11</td>\n",
       "      <td>3</td>\n",
       "      <td>2</td>\n",
       "      <td>1</td>\n",
       "      <td>1</td>\n",
       "      <td>0</td>\n",
       "      <td>0</td>\n",
       "      <td>2</td>\n",
       "      <td>0</td>\n",
       "    </tr>\n",
       "    <tr>\n",
       "      <th>5</th>\n",
       "      <td>861</td>\n",
       "      <td>75</td>\n",
       "      <td>8</td>\n",
       "      <td>9</td>\n",
       "      <td>5</td>\n",
       "      <td>1</td>\n",
       "      <td>0</td>\n",
       "      <td>0</td>\n",
       "      <td>1</td>\n",
       "      <td>1</td>\n",
       "      <td>0</td>\n",
       "      <td>1</td>\n",
       "    </tr>\n",
       "    <tr>\n",
       "      <th>6</th>\n",
       "      <td>785</td>\n",
       "      <td>87</td>\n",
       "      <td>21</td>\n",
       "      <td>7</td>\n",
       "      <td>4</td>\n",
       "      <td>2</td>\n",
       "      <td>1</td>\n",
       "      <td>0</td>\n",
       "      <td>0</td>\n",
       "      <td>0</td>\n",
       "      <td>0</td>\n",
       "      <td>0</td>\n",
       "    </tr>\n",
       "    <tr>\n",
       "      <th>7</th>\n",
       "      <td>798</td>\n",
       "      <td>73</td>\n",
       "      <td>26</td>\n",
       "      <td>8</td>\n",
       "      <td>1</td>\n",
       "      <td>3</td>\n",
       "      <td>1</td>\n",
       "      <td>0</td>\n",
       "      <td>0</td>\n",
       "      <td>1</td>\n",
       "      <td>0</td>\n",
       "      <td>0</td>\n",
       "    </tr>\n",
       "    <tr>\n",
       "      <th>8</th>\n",
       "      <td>844</td>\n",
       "      <td>73</td>\n",
       "      <td>25</td>\n",
       "      <td>11</td>\n",
       "      <td>5</td>\n",
       "      <td>2</td>\n",
       "      <td>2</td>\n",
       "      <td>0</td>\n",
       "      <td>0</td>\n",
       "      <td>0</td>\n",
       "      <td>0</td>\n",
       "      <td>0</td>\n",
       "    </tr>\n",
       "    <tr>\n",
       "      <th>9</th>\n",
       "      <td>803</td>\n",
       "      <td>85</td>\n",
       "      <td>13</td>\n",
       "      <td>8</td>\n",
       "      <td>1</td>\n",
       "      <td>1</td>\n",
       "      <td>1</td>\n",
       "      <td>1</td>\n",
       "      <td>0</td>\n",
       "      <td>0</td>\n",
       "      <td>0</td>\n",
       "      <td>0</td>\n",
       "    </tr>\n",
       "    <tr>\n",
       "      <th>10</th>\n",
       "      <td>840</td>\n",
       "      <td>93</td>\n",
       "      <td>21</td>\n",
       "      <td>8</td>\n",
       "      <td>1</td>\n",
       "      <td>2</td>\n",
       "      <td>2</td>\n",
       "      <td>1</td>\n",
       "      <td>0</td>\n",
       "      <td>1</td>\n",
       "      <td>0</td>\n",
       "      <td>1</td>\n",
       "    </tr>\n",
       "    <tr>\n",
       "      <th>11</th>\n",
       "      <td>812</td>\n",
       "      <td>85</td>\n",
       "      <td>19</td>\n",
       "      <td>10</td>\n",
       "      <td>1</td>\n",
       "      <td>4</td>\n",
       "      <td>0</td>\n",
       "      <td>0</td>\n",
       "      <td>0</td>\n",
       "      <td>0</td>\n",
       "      <td>0</td>\n",
       "      <td>0</td>\n",
       "    </tr>\n",
       "    <tr>\n",
       "      <th>12</th>\n",
       "      <td>805</td>\n",
       "      <td>86</td>\n",
       "      <td>21</td>\n",
       "      <td>6</td>\n",
       "      <td>5</td>\n",
       "      <td>3</td>\n",
       "      <td>1</td>\n",
       "      <td>0</td>\n",
       "      <td>0</td>\n",
       "      <td>0</td>\n",
       "      <td>0</td>\n",
       "      <td>0</td>\n",
       "    </tr>\n",
       "  </tbody>\n",
       "</table>\n",
       "</div>"
      ],
      "text/plain": [
       "V5    0   1   2   3   4   5   6   7   8   9   10  11\n",
       "Mes                                                 \n",
       "1    854  87  12   6   2   1   0   1   0   0   0   0\n",
       "2    735  68  17   5   2   2   0   0   1   1   0   0\n",
       "3    845  86  13   6   2   0   0   0   0   0   0   0\n",
       "4    814  84  22  11   3   2   1   1   0   0   2   0\n",
       "5    861  75   8   9   5   1   0   0   1   1   0   1\n",
       "6    785  87  21   7   4   2   1   0   0   0   0   0\n",
       "7    798  73  26   8   1   3   1   0   0   1   0   0\n",
       "8    844  73  25  11   5   2   2   0   0   0   0   0\n",
       "9    803  85  13   8   1   1   1   1   0   0   0   0\n",
       "10   840  93  21   8   1   2   2   1   0   1   0   1\n",
       "11   812  85  19  10   1   4   0   0   0   0   0   0\n",
       "12   805  86  21   6   5   3   1   0   0   0   0   0"
      ]
     },
     "execution_count": 141,
     "metadata": {
      "tags": []
     },
     "output_type": "execute_result"
    }
   ],
   "source": [
    "df1"
   ]
  },
  {
   "cell_type": "code",
   "execution_count": 0,
   "metadata": {
    "colab": {
     "base_uri": "https://localhost:8080/",
     "height": 586
    },
    "colab_type": "code",
    "executionInfo": {
     "elapsed": 2254,
     "status": "ok",
     "timestamp": 1590340264643,
     "user": {
      "displayName": "Luciano Gavinho",
      "photoUrl": "https://lh4.googleusercontent.com/-AXceqLc1oqQ/AAAAAAAAAAI/AAAAAAAABRU/hwsf--gVb3s/s64/photo.jpg",
      "userId": "11013035459083077990"
     },
     "user_tz": 180
    },
    "id": "uX7uSW8Jdmim",
    "outputId": "0898d52a-01f4-4a3f-95f9-f47338d1091d"
   },
   "outputs": [
    {
     "data": {
      "image/png": "[encoded data removed]",
      "text/plain": [
       "<Figure size 864x576 with 3 Axes>"
      ]
     },
     "metadata": {
      "tags": []
     },
     "output_type": "display_data"
    }
   ],
   "source": [
    "\n",
    "cohort_pivot = df1\n",
    "\n",
    "cohort_size = cohort_pivot.iloc[:,0]\n",
    "retention_matrix = cohort_pivot.divide(cohort_size, axis = 0)\n",
    "\n",
    "with sns.axes_style(\"dark\"):\n",
    "    fig, ax = plt.subplots(1, 2, figsize=(12, 8), sharey=True, gridspec_kw={'width_ratios': [1, 11]})\n",
    "    \n",
    "    # retention matrix\n",
    "    sns.heatmap(retention_matrix, \n",
    "                mask=retention_matrix.isnull(), \n",
    "                annot=True, \n",
    "                fmt='.0%', \n",
    "                cmap='Oranges', \n",
    "                ax=ax[1])\n",
    "    ax[1].set_title('Retenção de Clientes/Usuários', fontsize=16)\n",
    "    ax[1].set(xlabel='Horizonte 12 meses',\n",
    "              ylabel='')\n",
    "\n",
    "    # cohort size\n",
    "    cohort_size_df = pd.DataFrame(cohort_size).rename(columns={0: 'Tamanho Grupo'})\n",
    "    sns.heatmap(cohort_size_df, \n",
    "                annot=True, \n",
    "                cbar=False, \n",
    "                fmt='g', \n",
    "                color='white', \n",
    "                ax=ax[0])\n",
    "\n",
    "    fig.tight_layout()"
   ]
  },
  {
   "cell_type": "code",
   "execution_count": 0,
   "metadata": {
    "colab": {
     "base_uri": "https://localhost:8080/",
     "height": 437
    },
    "colab_type": "code",
    "executionInfo": {
     "elapsed": 792,
     "status": "ok",
     "timestamp": 1590340273034,
     "user": {
      "displayName": "Luciano Gavinho",
      "photoUrl": "https://lh4.googleusercontent.com/-AXceqLc1oqQ/AAAAAAAAAAI/AAAAAAAABRU/hwsf--gVb3s/s64/photo.jpg",
      "userId": "11013035459083077990"
     },
     "user_tz": 180
    },
    "id": "Hwt_DuD4kedr",
    "outputId": "faebdf6d-c4f6-4034-9b9b-152ccde1c0b2"
   },
   "outputs": [
    {
     "data": {
      "text/html": [
       "<div>\n",
       "<style scoped>\n",
       "    .dataframe tbody tr th:only-of-type {\n",
       "        vertical-align: middle;\n",
       "    }\n",
       "\n",
       "    .dataframe tbody tr th {\n",
       "        vertical-align: top;\n",
       "    }\n",
       "\n",
       "    .dataframe thead th {\n",
       "        text-align: right;\n",
       "    }\n",
       "</style>\n",
       "<table border=\"1\" class=\"dataframe\">\n",
       "  <thead>\n",
       "    <tr style=\"text-align: right;\">\n",
       "      <th></th>\n",
       "      <th>V1</th>\n",
       "      <th>V2</th>\n",
       "      <th>V3</th>\n",
       "      <th>TARGET</th>\n",
       "      <th>V4</th>\n",
       "      <th>V5</th>\n",
       "      <th>V6</th>\n",
       "      <th>V7</th>\n",
       "      <th>V8</th>\n",
       "      <th>V9</th>\n",
       "      <th>V10</th>\n",
       "      <th>Safra</th>\n",
       "      <th>Mes</th>\n",
       "    </tr>\n",
       "  </thead>\n",
       "  <tbody>\n",
       "    <tr>\n",
       "      <th>V1</th>\n",
       "      <td>1.000</td>\n",
       "      <td>-0.132</td>\n",
       "      <td>0.113</td>\n",
       "      <td>0.040</td>\n",
       "      <td>0.012</td>\n",
       "      <td>0.073</td>\n",
       "      <td>0.052</td>\n",
       "      <td>-0.023</td>\n",
       "      <td>-0.141</td>\n",
       "      <td>0.028</td>\n",
       "      <td>0.006</td>\n",
       "      <td>0.005</td>\n",
       "      <td>0.005</td>\n",
       "    </tr>\n",
       "    <tr>\n",
       "      <th>V2</th>\n",
       "      <td>-0.132</td>\n",
       "      <td>1.000</td>\n",
       "      <td>0.288</td>\n",
       "      <td>0.060</td>\n",
       "      <td>0.043</td>\n",
       "      <td>0.013</td>\n",
       "      <td>0.015</td>\n",
       "      <td>0.494</td>\n",
       "      <td>-0.118</td>\n",
       "      <td>0.011</td>\n",
       "      <td>0.051</td>\n",
       "      <td>-0.006</td>\n",
       "      <td>-0.006</td>\n",
       "    </tr>\n",
       "    <tr>\n",
       "      <th>V3</th>\n",
       "      <td>0.113</td>\n",
       "      <td>0.288</td>\n",
       "      <td>1.000</td>\n",
       "      <td>0.058</td>\n",
       "      <td>0.110</td>\n",
       "      <td>0.071</td>\n",
       "      <td>-0.033</td>\n",
       "      <td>0.806</td>\n",
       "      <td>-0.258</td>\n",
       "      <td>0.023</td>\n",
       "      <td>0.068</td>\n",
       "      <td>0.009</td>\n",
       "      <td>0.009</td>\n",
       "    </tr>\n",
       "    <tr>\n",
       "      <th>TARGET</th>\n",
       "      <td>0.040</td>\n",
       "      <td>0.060</td>\n",
       "      <td>0.058</td>\n",
       "      <td>1.000</td>\n",
       "      <td>-0.010</td>\n",
       "      <td>0.277</td>\n",
       "      <td>0.063</td>\n",
       "      <td>0.043</td>\n",
       "      <td>-0.056</td>\n",
       "      <td>0.057</td>\n",
       "      <td>0.052</td>\n",
       "      <td>-0.001</td>\n",
       "      <td>-0.001</td>\n",
       "    </tr>\n",
       "    <tr>\n",
       "      <th>V4</th>\n",
       "      <td>0.012</td>\n",
       "      <td>0.043</td>\n",
       "      <td>0.110</td>\n",
       "      <td>-0.010</td>\n",
       "      <td>1.000</td>\n",
       "      <td>0.011</td>\n",
       "      <td>-0.374</td>\n",
       "      <td>0.075</td>\n",
       "      <td>-0.049</td>\n",
       "      <td>0.021</td>\n",
       "      <td>0.080</td>\n",
       "      <td>0.014</td>\n",
       "      <td>0.014</td>\n",
       "    </tr>\n",
       "    <tr>\n",
       "      <th>V5</th>\n",
       "      <td>0.073</td>\n",
       "      <td>0.013</td>\n",
       "      <td>0.071</td>\n",
       "      <td>0.277</td>\n",
       "      <td>0.011</td>\n",
       "      <td>1.000</td>\n",
       "      <td>0.042</td>\n",
       "      <td>0.025</td>\n",
       "      <td>-0.193</td>\n",
       "      <td>0.034</td>\n",
       "      <td>0.073</td>\n",
       "      <td>0.017</td>\n",
       "      <td>0.017</td>\n",
       "    </tr>\n",
       "    <tr>\n",
       "      <th>V6</th>\n",
       "      <td>0.052</td>\n",
       "      <td>0.015</td>\n",
       "      <td>-0.033</td>\n",
       "      <td>0.063</td>\n",
       "      <td>-0.374</td>\n",
       "      <td>0.042</td>\n",
       "      <td>1.000</td>\n",
       "      <td>-0.018</td>\n",
       "      <td>0.019</td>\n",
       "      <td>-0.002</td>\n",
       "      <td>-0.013</td>\n",
       "      <td>0.005</td>\n",
       "      <td>0.005</td>\n",
       "    </tr>\n",
       "    <tr>\n",
       "      <th>V7</th>\n",
       "      <td>-0.023</td>\n",
       "      <td>0.494</td>\n",
       "      <td>0.806</td>\n",
       "      <td>0.043</td>\n",
       "      <td>0.075</td>\n",
       "      <td>0.025</td>\n",
       "      <td>-0.018</td>\n",
       "      <td>1.000</td>\n",
       "      <td>-0.178</td>\n",
       "      <td>0.022</td>\n",
       "      <td>0.080</td>\n",
       "      <td>0.005</td>\n",
       "      <td>0.005</td>\n",
       "    </tr>\n",
       "    <tr>\n",
       "      <th>V8</th>\n",
       "      <td>-0.141</td>\n",
       "      <td>-0.118</td>\n",
       "      <td>-0.258</td>\n",
       "      <td>-0.056</td>\n",
       "      <td>-0.049</td>\n",
       "      <td>-0.193</td>\n",
       "      <td>0.019</td>\n",
       "      <td>-0.178</td>\n",
       "      <td>1.000</td>\n",
       "      <td>-0.039</td>\n",
       "      <td>-0.039</td>\n",
       "      <td>-0.013</td>\n",
       "      <td>-0.013</td>\n",
       "    </tr>\n",
       "    <tr>\n",
       "      <th>V9</th>\n",
       "      <td>0.028</td>\n",
       "      <td>0.011</td>\n",
       "      <td>0.023</td>\n",
       "      <td>0.057</td>\n",
       "      <td>0.021</td>\n",
       "      <td>0.034</td>\n",
       "      <td>-0.002</td>\n",
       "      <td>0.022</td>\n",
       "      <td>-0.039</td>\n",
       "      <td>1.000</td>\n",
       "      <td>0.018</td>\n",
       "      <td>-0.010</td>\n",
       "      <td>-0.010</td>\n",
       "    </tr>\n",
       "    <tr>\n",
       "      <th>V10</th>\n",
       "      <td>0.006</td>\n",
       "      <td>0.051</td>\n",
       "      <td>0.068</td>\n",
       "      <td>0.052</td>\n",
       "      <td>0.080</td>\n",
       "      <td>0.073</td>\n",
       "      <td>-0.013</td>\n",
       "      <td>0.080</td>\n",
       "      <td>-0.039</td>\n",
       "      <td>0.018</td>\n",
       "      <td>1.000</td>\n",
       "      <td>0.008</td>\n",
       "      <td>0.008</td>\n",
       "    </tr>\n",
       "    <tr>\n",
       "      <th>Safra</th>\n",
       "      <td>0.005</td>\n",
       "      <td>-0.006</td>\n",
       "      <td>0.009</td>\n",
       "      <td>-0.001</td>\n",
       "      <td>0.014</td>\n",
       "      <td>0.017</td>\n",
       "      <td>0.005</td>\n",
       "      <td>0.005</td>\n",
       "      <td>-0.013</td>\n",
       "      <td>-0.010</td>\n",
       "      <td>0.008</td>\n",
       "      <td>1.000</td>\n",
       "      <td>1.000</td>\n",
       "    </tr>\n",
       "    <tr>\n",
       "      <th>Mes</th>\n",
       "      <td>0.005</td>\n",
       "      <td>-0.006</td>\n",
       "      <td>0.009</td>\n",
       "      <td>-0.001</td>\n",
       "      <td>0.014</td>\n",
       "      <td>0.017</td>\n",
       "      <td>0.005</td>\n",
       "      <td>0.005</td>\n",
       "      <td>-0.013</td>\n",
       "      <td>-0.010</td>\n",
       "      <td>0.008</td>\n",
       "      <td>1.000</td>\n",
       "      <td>1.000</td>\n",
       "    </tr>\n",
       "  </tbody>\n",
       "</table>\n",
       "</div>"
      ],
      "text/plain": [
       "           V1     V2     V3  TARGET     V4  ...     V8     V9    V10  Safra    Mes\n",
       "V1      1.000 -0.132  0.113   0.040  0.012  ... -0.141  0.028  0.006  0.005  0.005\n",
       "V2     -0.132  1.000  0.288   0.060  0.043  ... -0.118  0.011  0.051 -0.006 -0.006\n",
       "V3      0.113  0.288  1.000   0.058  0.110  ... -0.258  0.023  0.068  0.009  0.009\n",
       "TARGET  0.040  0.060  0.058   1.000 -0.010  ... -0.056  0.057  0.052 -0.001 -0.001\n",
       "V4      0.012  0.043  0.110  -0.010  1.000  ... -0.049  0.021  0.080  0.014  0.014\n",
       "V5      0.073  0.013  0.071   0.277  0.011  ... -0.193  0.034  0.073  0.017  0.017\n",
       "V6      0.052  0.015 -0.033   0.063 -0.374  ...  0.019 -0.002 -0.013  0.005  0.005\n",
       "V7     -0.023  0.494  0.806   0.043  0.075  ... -0.178  0.022  0.080  0.005  0.005\n",
       "V8     -0.141 -0.118 -0.258  -0.056 -0.049  ...  1.000 -0.039 -0.039 -0.013 -0.013\n",
       "V9      0.028  0.011  0.023   0.057  0.021  ... -0.039  1.000  0.018 -0.010 -0.010\n",
       "V10     0.006  0.051  0.068   0.052  0.080  ... -0.039  0.018  1.000  0.008  0.008\n",
       "Safra   0.005 -0.006  0.009  -0.001  0.014  ... -0.013 -0.010  0.008  1.000  1.000\n",
       "Mes     0.005 -0.006  0.009  -0.001  0.014  ... -0.013 -0.010  0.008  1.000  1.000\n",
       "\n",
       "[13 rows x 13 columns]"
      ]
     },
     "execution_count": 143,
     "metadata": {
      "tags": []
     },
     "output_type": "execute_result"
    }
   ],
   "source": [
    "df_crop.corr()"
   ]
  },
  {
   "cell_type": "code",
   "execution_count": 0,
   "metadata": {
    "colab": {
     "base_uri": "https://localhost:8080/",
     "height": 1000
    },
    "colab_type": "code",
    "executionInfo": {
     "elapsed": 4485,
     "status": "ok",
     "timestamp": 1590341497856,
     "user": {
      "displayName": "Luciano Gavinho",
      "photoUrl": "https://lh4.googleusercontent.com/-AXceqLc1oqQ/AAAAAAAAAAI/AAAAAAAABRU/hwsf--gVb3s/s64/photo.jpg",
      "userId": "11013035459083077990"
     },
     "user_tz": 180
    },
    "id": "lhwMeFmAt7UO",
    "outputId": "ee0b84e9-c52a-44f5-83aa-f1a12200e88c"
   },
   "outputs": [
    {
     "name": "stdout",
     "output_type": "stream",
     "text": [
      "           V1     V2     V3  TARGET     V4  ...     V8     V9    V10  Safra    Mes\n",
      "V1      1.000 -0.132  0.113   0.040  0.012  ... -0.141  0.028  0.006  0.005  0.005\n",
      "V2     -0.132  1.000  0.288   0.060  0.043  ... -0.118  0.011  0.051 -0.006 -0.006\n",
      "V3      0.113  0.288  1.000   0.058  0.110  ... -0.258  0.023  0.068  0.009  0.009\n",
      "TARGET  0.040  0.060  0.058   1.000 -0.010  ... -0.056  0.057  0.052 -0.001 -0.001\n",
      "V4      0.012  0.043  0.110  -0.010  1.000  ... -0.049  0.021  0.080  0.014  0.014\n",
      "V5      0.073  0.013  0.071   0.277  0.011  ... -0.193  0.034  0.073  0.017  0.017\n",
      "V6      0.052  0.015 -0.033   0.063 -0.374  ...  0.019 -0.002 -0.013  0.005  0.005\n",
      "V7     -0.023  0.494  0.806   0.043  0.075  ... -0.178  0.022  0.080  0.005  0.005\n",
      "V8     -0.141 -0.118 -0.258  -0.056 -0.049  ...  1.000 -0.039 -0.039 -0.013 -0.013\n",
      "V9      0.028  0.011  0.023   0.057  0.021  ... -0.039  1.000  0.018 -0.010 -0.010\n",
      "V10     0.006  0.051  0.068   0.052  0.080  ... -0.039  0.018  1.000  0.008  0.008\n",
      "Safra   0.005 -0.006  0.009  -0.001  0.014  ... -0.013 -0.010  0.008  1.000  1.000\n",
      "Mes     0.005 -0.006  0.009  -0.001  0.014  ... -0.013 -0.010  0.008  1.000  1.000\n",
      "\n",
      "[13 rows x 13 columns]\n"
     ]
    },
    {
     "data": {
      "image/png": "[encoded data removed]",
      "text/plain": [
       "<Figure size 1440x360 with 1 Axes>"
      ]
     },
     "metadata": {
      "tags": []
     },
     "output_type": "display_data"
    },
    {
     "name": "stdout",
     "output_type": "stream",
     "text": [
      "   VAR_NAME   MIN_VALUE   MAX_VALUE  ...  DIST_NON_EVENT    WOE    IV\n",
      "0        V1       0.000       0.000  ...           0.895 -0.144 0.109\n",
      "1        V1       1.000       1.000  ...           0.105  0.761 0.109\n",
      "2        V2       0.000       4.700  ...           0.337 -0.705 0.160\n",
      "3        V2       4.800      16.000  ...           0.331  0.211 0.160\n",
      "4        V2      16.100     100.000  ...           0.332  0.247 0.160\n",
      "5        V3       0.000      37.520  ...           0.252 -1.106 0.413\n",
      "6        V3      37.600     135.000  ...           0.252 -0.635 0.413\n",
      "7        V3     135.050     520.000  ...           0.250  0.262 0.413\n",
      "8        V3     520.530   8,540.000  ...           0.246  0.621 0.413\n",
      "9        V4       0.000     820.000  ...           0.332  0.341 0.077\n",
      "10       V4     822.000   1,905.000  ...           0.334 -0.195 0.077\n",
      "11       V4   1,906.000  15,616.000  ...           0.334 -0.256 0.077\n",
      "12       V5       0.000       1.000  ...           0.969 -0.465 1.081\n",
      "13       V5       2.000      11.000  ...           0.031  2.532 1.081\n",
      "14       V6       0.000       0.000  ...           0.825 -0.332 0.274\n",
      "15       V6       1.000       1.000  ...           0.175  0.845 0.274\n",
      "16       V7       0.000      32.060  ...           0.126 -1.332 0.529\n",
      "17       V7      32.080      77.420  ...           0.126 -1.104 0.529\n",
      "18       V7      77.500     182.370  ...           0.126 -0.634 0.529\n",
      "19       V7     182.400     414.070  ...           0.126 -0.633 0.529\n",
      "20       V7     414.260   1,008.920  ...           0.125 -0.225 0.529\n",
      "21       V7   1,009.340   2,799.060  ...           0.125  0.239 0.529\n",
      "22       V7   2,802.120   9,279.840  ...           0.124  0.670 0.529\n",
      "23       V7   9,302.140 143,268.550  ...           0.123  0.862 0.529\n",
      "24       V8       0.000       0.000  ...           0.600  0.368 0.392\n",
      "25       V8       1.000       1.000  ...           0.400 -1.100 0.392\n",
      "26       V9       0.000       0.000  ...           0.992 -0.052 0.103\n",
      "27       V9       1.000       1.000  ...           0.008  1.991 0.103\n",
      "28      V10       0.000       0.000  ...           0.970 -0.094 0.128\n",
      "29      V10       1.000       1.000  ...           0.030  1.372 0.128\n",
      "30    Safra 201,901.000 201,907.000  ...           0.579  0.022 0.001\n",
      "31    Safra 201,908.000 201,912.000  ...           0.421 -0.031 0.001\n",
      "32      Mes       1.000       7.000  ...           0.579  0.022 0.001\n",
      "33      Mes       8.000      12.000  ...           0.421 -0.031 0.001\n",
      "\n",
      "[34 rows x 12 columns]\n"
     ]
    },
    {
     "data": {
      "image/png": "[encoded data removed]",
      "text/plain": [
       "<Figure size 864x576 with 3 Axes>"
      ]
     },
     "metadata": {
      "tags": []
     },
     "output_type": "display_data"
    },
    {
     "data": {
      "image/png": "[encoded data removed]",
      "text/plain": [
       "<Figure size 1440x360 with 1 Axes>"
      ]
     },
     "metadata": {
      "tags": []
     },
     "output_type": "display_data"
    }
   ],
   "source": [
    "\n",
    "#####  PGM Princiapl\n",
    "\n",
    "import pandas.core.algorithms as algos\n",
    "from pandas import Series\n",
    "import scipy.stats.stats as stats\n",
    "import re\n",
    "import traceback\n",
    "import string\n",
    "from imblearn.under_sampling import NearMiss\n",
    "from imblearn.over_sampling import SMOTE \n",
    "\n",
    "\n",
    "df_crop = pd.read_csv('dataset_test_ds.csv',delimiter=';')\n",
    "\n",
    "df_crop['Mes'] = pd.DatetimeIndex(pd.to_datetime((df_crop.Safra.astype(str) + '01'), format='%Y%m%d')).month.astype(int)\n",
    "# Correlação de Pearson\n",
    "print(df_crop.corr())\n",
    "\n",
    "# Análise de cohort\n",
    "\n",
    "df = df_crop\n",
    "\n",
    "df1 = df.groupby(by=['Mes', 'V5']).size().unstack().fillna(0).astype(int)\n",
    "\n",
    "df1.plot(kind='bar', figsize=(20,5))\n",
    "plt.show()\n",
    "\n",
    "cohort_pivot = df1\n",
    "\n",
    "cohort_size = cohort_pivot.iloc[:,0]\n",
    "retention_matrix = cohort_pivot.divide(cohort_size, axis = 0)\n",
    "\n",
    "with sns.axes_style(\"dark\"):\n",
    "    fig, ax = plt.subplots(1, 2, figsize=(12, 8), sharey=True, gridspec_kw={'width_ratios': [1, 11]})\n",
    "    \n",
    "    # retention matrix\n",
    "    sns.heatmap(retention_matrix, \n",
    "                mask=retention_matrix.isnull(), \n",
    "                annot=True, \n",
    "                fmt='.0%', \n",
    "                cmap='Oranges', \n",
    "                ax=ax[1])\n",
    "    ax[1].set_title('Retenção de Clientes/Usuários', fontsize=16)\n",
    "    ax[1].set(xlabel='Horizonte 12 meses',\n",
    "              ylabel='')\n",
    "\n",
    "    # cohort size\n",
    "    cohort_size_df = pd.DataFrame(cohort_size).rename(columns={0: 'Tamanho Grupo'})\n",
    "    sns.heatmap(cohort_size_df, \n",
    "                annot=True, \n",
    "                cbar=False, \n",
    "                fmt='g', \n",
    "                color='white', \n",
    "                ax=ax[0])\n",
    "\n",
    "    fig.tight_layout()\n",
    "\n",
    "# Achar melhores variáveis com WoE\n",
    "\n",
    "max_bin = 20\n",
    "force_bin = 3\n",
    "\n",
    "# define a binning function\n",
    "def mono_bin(Y, X, n = max_bin):\n",
    "    \n",
    "    df1 = pd.DataFrame({\"X\": X, \"Y\": Y})\n",
    "    justmiss = df1[['X','Y']][df1.X.isnull()]\n",
    "    notmiss = df1[['X','Y']][df1.X.notnull()]\n",
    "    r = 0\n",
    "    while np.abs(r) < 1:\n",
    "        try:\n",
    "            d1 = pd.DataFrame({\"X\": notmiss.X, \"Y\": notmiss.Y, \"Bucket\": pd.qcut(notmiss.X, n)})\n",
    "            d2 = d1.groupby('Bucket', as_index=True)\n",
    "            r, p = stats.spearmanr(d2.mean().X, d2.mean().Y)\n",
    "            n = n - 1 \n",
    "        except Exception as e:\n",
    "            n = n - 1\n",
    "\n",
    "    if len(d2) == 1:\n",
    "        n = force_bin         \n",
    "        bins = algos.quantile(notmiss.X, np.linspace(0, 1, n))\n",
    "        if len(np.unique(bins)) == 2:\n",
    "            bins = np.insert(bins, 0, 1)\n",
    "            bins[1] = bins[1]-(bins[1]/2)\n",
    "        d1 = pd.DataFrame({\"X\": notmiss.X, \"Y\": notmiss.Y, \"Bucket\": pd.cut(notmiss.X, np.unique(bins),include_lowest=True)}) \n",
    "        d2 = d1.groupby('Bucket', as_index=True)\n",
    "    \n",
    "    d3 = pd.DataFrame({},index=[])\n",
    "    d3[\"MIN_VALUE\"] = d2.min().X\n",
    "    d3[\"MAX_VALUE\"] = d2.max().X\n",
    "    d3[\"COUNT\"] = d2.count().Y\n",
    "    d3[\"EVENT\"] = d2.sum().Y\n",
    "    d3[\"NONEVENT\"] = d2.count().Y - d2.sum().Y\n",
    "    d3=d3.reset_index(drop=True)\n",
    "    \n",
    "    if len(justmiss.index) > 0:\n",
    "        d4 = pd.DataFrame({'MIN_VALUE':np.nan},index=[0])\n",
    "        d4[\"MAX_VALUE\"] = np.nan\n",
    "        d4[\"COUNT\"] = justmiss.count().Y\n",
    "        d4[\"EVENT\"] = justmiss.sum().Y\n",
    "        d4[\"NONEVENT\"] = justmiss.count().Y - justmiss.sum().Y\n",
    "        d3 = d3.append(d4,ignore_index=True)\n",
    "    \n",
    "    d3[\"EVENT_RATE\"] = d3.EVENT/d3.COUNT\n",
    "    d3[\"NON_EVENT_RATE\"] = d3.NONEVENT/d3.COUNT\n",
    "    d3[\"DIST_EVENT\"] = d3.EVENT/d3.sum().EVENT\n",
    "    d3[\"DIST_NON_EVENT\"] = d3.NONEVENT/d3.sum().NONEVENT\n",
    "    d3[\"WOE\"] = np.log(d3.DIST_EVENT/d3.DIST_NON_EVENT)\n",
    "    d3[\"IV\"] = (d3.DIST_EVENT-d3.DIST_NON_EVENT)*np.log(d3.DIST_EVENT/d3.DIST_NON_EVENT)\n",
    "    d3[\"VAR_NAME\"] = \"VAR\"\n",
    "    d3 = d3[['VAR_NAME','MIN_VALUE', 'MAX_VALUE', 'COUNT', 'EVENT', 'EVENT_RATE', 'NONEVENT', 'NON_EVENT_RATE', 'DIST_EVENT','DIST_NON_EVENT','WOE', 'IV']]       \n",
    "    d3 = d3.replace([np.inf, -np.inf], 0)\n",
    "    d3.IV = d3.IV.sum()\n",
    "    \n",
    "    return(d3)\n",
    "\n",
    "def char_bin(Y, X):\n",
    "        \n",
    "    df1 = pd.DataFrame({\"X\": X, \"Y\": Y})\n",
    "    justmiss = df1[['X','Y']][df1.X.isnull()]\n",
    "    notmiss = df1[['X','Y']][df1.X.notnull()]    \n",
    "    df2 = notmiss.groupby('X',as_index=True)\n",
    "    \n",
    "    d3 = pd.DataFrame({},index=[])\n",
    "    d3[\"COUNT\"] = df2.count().Y\n",
    "    d3[\"MIN_VALUE\"] = df2.sum().Y.index\n",
    "    d3[\"MAX_VALUE\"] = d3[\"MIN_VALUE\"]\n",
    "    d3[\"EVENT\"] = df2.sum().Y\n",
    "    d3[\"NONEVENT\"] = df2.count().Y - df2.sum().Y\n",
    "    \n",
    "    if len(justmiss.index) > 0:\n",
    "        d4 = pd.DataFrame({'MIN_VALUE':np.nan},index=[0])\n",
    "        d4[\"MAX_VALUE\"] = np.nan\n",
    "        d4[\"COUNT\"] = justmiss.count().Y\n",
    "        d4[\"EVENT\"] = justmiss.sum().Y\n",
    "        d4[\"NONEVENT\"] = justmiss.count().Y - justmiss.sum().Y\n",
    "        d3 = d3.append(d4,ignore_index=True)\n",
    "    \n",
    "    d3[\"EVENT_RATE\"] = d3.EVENT/d3.COUNT\n",
    "    d3[\"NON_EVENT_RATE\"] = d3.NONEVENT/d3.COUNT\n",
    "    d3[\"DIST_EVENT\"] = d3.EVENT/d3.sum().EVENT\n",
    "    d3[\"DIST_NON_EVENT\"] = d3.NONEVENT/d3.sum().NONEVENT\n",
    "    d3[\"WOE\"] = np.log(d3.DIST_EVENT/d3.DIST_NON_EVENT)\n",
    "    d3[\"IV\"] = (d3.DIST_EVENT-d3.DIST_NON_EVENT)*np.log(d3.DIST_EVENT/d3.DIST_NON_EVENT)\n",
    "    d3[\"VAR_NAME\"] = \"VAR\"\n",
    "    d3 = d3[['VAR_NAME','MIN_VALUE', 'MAX_VALUE', 'COUNT', 'EVENT', 'EVENT_RATE', 'NONEVENT', 'NON_EVENT_RATE', 'DIST_EVENT','DIST_NON_EVENT','WOE', 'IV']]      \n",
    "    d3 = d3.replace([np.inf, -np.inf], 0)\n",
    "    d3.IV = d3.IV.sum()\n",
    "    d3 = d3.reset_index(drop=True)\n",
    "    \n",
    "    return(d3)\n",
    "\n",
    "def data_vars(df1, target):\n",
    "    \n",
    "    stack = traceback.extract_stack()\n",
    "    filename, lineno, function_name, code = stack[-2]\n",
    "    vars_name = re.compile(r'\\((.*?)\\).*$').search(code).groups()[0]\n",
    "    final = (re.findall(r\"[\\w']+\", vars_name))[-1]\n",
    "    \n",
    "    x = df1.dtypes.index\n",
    "    count = -1\n",
    "    \n",
    "    for i in x:\n",
    "        if i.upper() not in (final.upper()):\n",
    "            if np.issubdtype(df1[i], np.number) and len(Series.unique(df1[i])) > 2:\n",
    "                conv = mono_bin(target, df1[i])\n",
    "                conv[\"VAR_NAME\"] = i\n",
    "                count = count + 1\n",
    "            else:\n",
    "                conv = char_bin(target, df1[i])\n",
    "                conv[\"VAR_NAME\"] = i            \n",
    "                count = count + 1\n",
    "                \n",
    "            if count == 0:\n",
    "                iv_df = conv\n",
    "            else:\n",
    "                iv_df = iv_df.append(conv,ignore_index=True)\n",
    "    \n",
    "    iv = pd.DataFrame({'IV':iv_df.groupby('VAR_NAME').IV.max()})\n",
    "    iv = iv.reset_index()\n",
    "    return(iv_df,iv)\n",
    "\n",
    "final_iv, IV = data_vars(df_crop, df_crop.TARGET)\n",
    "\n",
    "print(final_iv)\n",
    "\n",
    "candidatas = IV.sort_values('IV')\n",
    "candidatas.plot(x='VAR_NAME',y='IV', kind='bar',figsize=(20,5), rot=0)\n",
    "\n",
    "MelhoresCandidatas =  pd.DataFrame(data=None, columns=['Predição', 'Variáveis'])\n",
    "tipos = ['Inútil','Fraco','Médio','Forte','Demais']\n",
    "candidatas['Classe'] = ((candidatas.IV) <  0.02)*0 + (((candidatas.IV)>= 0.02) & ((candidatas.IV) <  0.1))*1 + (((candidatas.IV)>= 0.1) & ((candidatas.IV) <  0.3))*2 + (((candidatas.IV)>= 0.3) & ((candidatas.IV) <  0.5))*3 + ((candidatas.IV)>= 0.5)*4\n",
    "trows=0\n",
    "for x in candidatas.Classe.unique():\n",
    "  new = [tipos[x],candidatas[candidatas.Classe == x].VAR_NAME.values]\n",
    "  MelhoresCandidatas.loc[trows]= new\n",
    "  trows += 1\n",
    "\n",
    "# Preparar para Machine Learning\n",
    "\n",
    "from imblearn.under_sampling import NearMiss\n",
    "from imblearn.over_sampling import SMOTE \n",
    "\n",
    "colunas = MelhoresCandidatas[MelhoresCandidatas.Predição.isin(['Médio','Forte'])].Variáveis\n",
    "lista =[colunas[2], colunas[3]]\n",
    "cols = np.concatenate(lista)\n",
    "X_train = df_crop[cols]\n",
    "y_train = df_crop.TARGET\n",
    "nr = NearMiss(return_indices=True)\n",
    "X_train, y_train, indices = nr.fit_sample(X_train, y_train)\n",
    "df_X = pd.DataFrame(data=X_train, columns = cols)\n",
    "X_train = df_X\n",
    "\n",
    "\n",
    "\n",
    "\n"
   ]
  },
  {
   "cell_type": "code",
   "execution_count": 0,
   "metadata": {
    "colab": {},
    "colab_type": "code",
    "id": "YjRKl7ah4UzL"
   },
   "outputs": [],
   "source": [
    "\n",
    "candidatas = IV.sort_values('IV')\n",
    "candidatas.plot(x='VAR_NAME',y='IV', kind='bar',figsize=(20,5), rot=0)"
   ]
  },
  {
   "cell_type": "code",
   "execution_count": 0,
   "metadata": {
    "colab": {
     "base_uri": "https://localhost:8080/",
     "height": 320
    },
    "colab_type": "code",
    "executionInfo": {
     "elapsed": 894,
     "status": "ok",
     "timestamp": 1590340302547,
     "user": {
      "displayName": "Luciano Gavinho",
      "photoUrl": "https://lh4.googleusercontent.com/-AXceqLc1oqQ/AAAAAAAAAAI/AAAAAAAABRU/hwsf--gVb3s/s64/photo.jpg",
      "userId": "11013035459083077990"
     },
     "user_tz": 180
    },
    "id": "_2GpSu8DpcgJ",
    "outputId": "da4dc2bc-5542-4c91-90b7-dc977327b387"
   },
   "outputs": [
    {
     "data": {
      "text/plain": [
       "<matplotlib.axes._subplots.AxesSubplot at 0x7f18344bb7f0>"
      ]
     },
     "execution_count": 146,
     "metadata": {
      "tags": []
     },
     "output_type": "execute_result"
    },
    {
     "data": {
      "image/png": "[encoded data removed]",
      "text/plain": [
       "<Figure size 1440x360 with 1 Axes>"
      ]
     },
     "metadata": {
      "tags": []
     },
     "output_type": "display_data"
    }
   ],
   "source": [
    "candidatas.plot(x='VAR_NAME',y='IV', kind='bar',figsize=(20,5), rot=0)"
   ]
  },
  {
   "cell_type": "code",
   "execution_count": 0,
   "metadata": {
    "colab": {
     "base_uri": "https://localhost:8080/",
     "height": 407
    },
    "colab_type": "code",
    "executionInfo": {
     "elapsed": 780,
     "status": "ok",
     "timestamp": 1590340314068,
     "user": {
      "displayName": "Luciano Gavinho",
      "photoUrl": "https://lh4.googleusercontent.com/-AXceqLc1oqQ/AAAAAAAAAAI/AAAAAAAABRU/hwsf--gVb3s/s64/photo.jpg",
      "userId": "11013035459083077990"
     },
     "user_tz": 180
    },
    "id": "ghx6OEyHpVoX",
    "outputId": "1d6b3b89-df8e-4c11-a3ca-77836ce3d1a2"
   },
   "outputs": [
    {
     "data": {
      "text/html": [
       "<div>\n",
       "<style scoped>\n",
       "    .dataframe tbody tr th:only-of-type {\n",
       "        vertical-align: middle;\n",
       "    }\n",
       "\n",
       "    .dataframe tbody tr th {\n",
       "        vertical-align: top;\n",
       "    }\n",
       "\n",
       "    .dataframe thead th {\n",
       "        text-align: right;\n",
       "    }\n",
       "</style>\n",
       "<table border=\"1\" class=\"dataframe\">\n",
       "  <thead>\n",
       "    <tr style=\"text-align: right;\">\n",
       "      <th></th>\n",
       "      <th>VAR_NAME</th>\n",
       "      <th>IV</th>\n",
       "    </tr>\n",
       "  </thead>\n",
       "  <tbody>\n",
       "    <tr>\n",
       "      <th>0</th>\n",
       "      <td>Mes</td>\n",
       "      <td>0.001</td>\n",
       "    </tr>\n",
       "    <tr>\n",
       "      <th>1</th>\n",
       "      <td>Safra</td>\n",
       "      <td>0.001</td>\n",
       "    </tr>\n",
       "    <tr>\n",
       "      <th>6</th>\n",
       "      <td>V4</td>\n",
       "      <td>0.077</td>\n",
       "    </tr>\n",
       "    <tr>\n",
       "      <th>11</th>\n",
       "      <td>V9</td>\n",
       "      <td>0.103</td>\n",
       "    </tr>\n",
       "    <tr>\n",
       "      <th>2</th>\n",
       "      <td>V1</td>\n",
       "      <td>0.109</td>\n",
       "    </tr>\n",
       "    <tr>\n",
       "      <th>3</th>\n",
       "      <td>V10</td>\n",
       "      <td>0.128</td>\n",
       "    </tr>\n",
       "    <tr>\n",
       "      <th>4</th>\n",
       "      <td>V2</td>\n",
       "      <td>0.160</td>\n",
       "    </tr>\n",
       "    <tr>\n",
       "      <th>8</th>\n",
       "      <td>V6</td>\n",
       "      <td>0.274</td>\n",
       "    </tr>\n",
       "    <tr>\n",
       "      <th>10</th>\n",
       "      <td>V8</td>\n",
       "      <td>0.392</td>\n",
       "    </tr>\n",
       "    <tr>\n",
       "      <th>5</th>\n",
       "      <td>V3</td>\n",
       "      <td>0.413</td>\n",
       "    </tr>\n",
       "    <tr>\n",
       "      <th>9</th>\n",
       "      <td>V7</td>\n",
       "      <td>0.529</td>\n",
       "    </tr>\n",
       "    <tr>\n",
       "      <th>7</th>\n",
       "      <td>V5</td>\n",
       "      <td>1.081</td>\n",
       "    </tr>\n",
       "  </tbody>\n",
       "</table>\n",
       "</div>"
      ],
      "text/plain": [
       "   VAR_NAME    IV\n",
       "0       Mes 0.001\n",
       "1     Safra 0.001\n",
       "6        V4 0.077\n",
       "11       V9 0.103\n",
       "2        V1 0.109\n",
       "3       V10 0.128\n",
       "4        V2 0.160\n",
       "8        V6 0.274\n",
       "10       V8 0.392\n",
       "5        V3 0.413\n",
       "9        V7 0.529\n",
       "7        V5 1.081"
      ]
     },
     "execution_count": 147,
     "metadata": {
      "tags": []
     },
     "output_type": "execute_result"
    }
   ],
   "source": [
    "candidatas"
   ]
  },
  {
   "cell_type": "code",
   "execution_count": 0,
   "metadata": {
    "colab": {},
    "colab_type": "code",
    "id": "4Ra6PVcjrAqn"
   },
   "outputs": [],
   "source": [
    "MelhoresCandidatas =  pd.DataFrame(data=None, columns=['Predição', 'Variáveis'])\n",
    "tipos = ['Inútil','Fraco','Médio','Forte','Demais']\n",
    "candidatas['Classe'] = ((candidatas.IV) <  0.02)*0 + (((candidatas.IV)>= 0.02) & ((candidatas.IV) <  0.1))*1 + (((candidatas.IV)>= 0.1) & ((candidatas.IV) <  0.3))*2 + (((candidatas.IV)>= 0.3) & ((candidatas.IV) <  0.5))*3 + ((candidatas.IV)>= 0.5)*4\n",
    "trows=0\n",
    "for x in candidatas.Classe.unique():\n",
    "  new = [tipos[x],candidatas[candidatas.Classe == x].VAR_NAME.values]\n",
    "  MelhoresCandidatas.loc[trows]= new\n",
    "  trows += 1\n",
    "\n",
    "# Preparar para Machine Learning\n",
    "\n",
    "from imblearn.under_sampling import NearMiss\n",
    "from imblearn.over_sampling import SMOTE \n",
    "\n",
    "colunas = MelhoresCandidatas[MelhoresCandidatas.Predição.isin(['Médio','Forte'])].Variáveis\n",
    "lista =[colunas[2], colunas[3]]\n",
    "cols = np.concatenate(lista)\n",
    "X_train = df_crop[cols]\n",
    "y_train = df_crop.TARGET\n",
    "nr = NearMiss(return_indices=True)\n",
    "X_train, y_train, indices = nr.fit_sample(X_train, y_train)\n",
    "df_X = pd.DataFrame(data=X_train, columns = cols)\n",
    "X_train = df_X\n",
    "\n",
    "\n"
   ]
  },
  {
   "cell_type": "code",
   "execution_count": 0,
   "metadata": {
    "colab": {
     "base_uri": "https://localhost:8080/",
     "height": 197
    },
    "colab_type": "code",
    "executionInfo": {
     "elapsed": 869,
     "status": "ok",
     "timestamp": 1590340328774,
     "user": {
      "displayName": "Luciano Gavinho",
      "photoUrl": "https://lh4.googleusercontent.com/-AXceqLc1oqQ/AAAAAAAAAAI/AAAAAAAABRU/hwsf--gVb3s/s64/photo.jpg",
      "userId": "11013035459083077990"
     },
     "user_tz": 180
    },
    "id": "vHEoti_-NgsE",
    "outputId": "52038667-189a-4e52-f98f-e651e2de636f"
   },
   "outputs": [
    {
     "data": {
      "text/html": [
       "<div>\n",
       "<style scoped>\n",
       "    .dataframe tbody tr th:only-of-type {\n",
       "        vertical-align: middle;\n",
       "    }\n",
       "\n",
       "    .dataframe tbody tr th {\n",
       "        vertical-align: top;\n",
       "    }\n",
       "\n",
       "    .dataframe thead th {\n",
       "        text-align: right;\n",
       "    }\n",
       "</style>\n",
       "<table border=\"1\" class=\"dataframe\">\n",
       "  <thead>\n",
       "    <tr style=\"text-align: right;\">\n",
       "      <th></th>\n",
       "      <th>Predição</th>\n",
       "      <th>Variáveis</th>\n",
       "    </tr>\n",
       "  </thead>\n",
       "  <tbody>\n",
       "    <tr>\n",
       "      <th>0</th>\n",
       "      <td>Inútil</td>\n",
       "      <td>[Mes, Safra]</td>\n",
       "    </tr>\n",
       "    <tr>\n",
       "      <th>1</th>\n",
       "      <td>Fraco</td>\n",
       "      <td>[V4]</td>\n",
       "    </tr>\n",
       "    <tr>\n",
       "      <th>2</th>\n",
       "      <td>Médio</td>\n",
       "      <td>[V9, V1, V10, V2, V6]</td>\n",
       "    </tr>\n",
       "    <tr>\n",
       "      <th>3</th>\n",
       "      <td>Forte</td>\n",
       "      <td>[V8, V3]</td>\n",
       "    </tr>\n",
       "    <tr>\n",
       "      <th>4</th>\n",
       "      <td>Demais</td>\n",
       "      <td>[V7, V5]</td>\n",
       "    </tr>\n",
       "  </tbody>\n",
       "</table>\n",
       "</div>"
      ],
      "text/plain": [
       "  Predição              Variáveis\n",
       "0   Inútil           [Mes, Safra]\n",
       "1    Fraco                   [V4]\n",
       "2    Médio  [V9, V1, V10, V2, V6]\n",
       "3    Forte               [V8, V3]\n",
       "4   Demais               [V7, V5]"
      ]
     },
     "execution_count": 149,
     "metadata": {
      "tags": []
     },
     "output_type": "execute_result"
    }
   ],
   "source": [
    "MelhoresCandidatas"
   ]
  },
  {
   "cell_type": "code",
   "execution_count": 0,
   "metadata": {
    "colab": {
     "base_uri": "https://localhost:8080/",
     "height": 34
    },
    "colab_type": "code",
    "executionInfo": {
     "elapsed": 759,
     "status": "ok",
     "timestamp": 1590334571803,
     "user": {
      "displayName": "Luciano Gavinho",
      "photoUrl": "https://lh4.googleusercontent.com/-AXceqLc1oqQ/AAAAAAAAAAI/AAAAAAAABRU/hwsf--gVb3s/s64/photo.jpg",
      "userId": "11013035459083077990"
     },
     "user_tz": 180
    },
    "id": "VE5O9bKZNkSJ",
    "outputId": "b4ad7bc5-a019-467d-b7e6-5a10498287d3"
   },
   "outputs": [
    {
     "data": {
      "text/plain": [
       "array(['Mes', 'Safra'], dtype=object)"
      ]
     },
     "execution_count": 61,
     "metadata": {
      "tags": []
     },
     "output_type": "execute_result"
    }
   ],
   "source": [
    "candidatas[candidatas.Classe == 0].VAR_NAME.values"
   ]
  },
  {
   "cell_type": "code",
   "execution_count": 0,
   "metadata": {
    "colab": {
     "base_uri": "https://localhost:8080/",
     "height": 70
    },
    "colab_type": "code",
    "executionInfo": {
     "elapsed": 581,
     "status": "ok",
     "timestamp": 1590334778439,
     "user": {
      "displayName": "Luciano Gavinho",
      "photoUrl": "https://lh4.googleusercontent.com/-AXceqLc1oqQ/AAAAAAAAAAI/AAAAAAAABRU/hwsf--gVb3s/s64/photo.jpg",
      "userId": "11013035459083077990"
     },
     "user_tz": 180
    },
    "id": "WzMyBst6VpGC",
    "outputId": "0fbc9b6a-b70d-4490-c9f3-6a33c33ba42c"
   },
   "outputs": [
    {
     "data": {
      "text/plain": [
       "0    11049\n",
       "1      120\n",
       "Name: TARGET, dtype: int64"
      ]
     },
     "execution_count": 64,
     "metadata": {
      "tags": []
     },
     "output_type": "execute_result"
    }
   ],
   "source": [
    "df_crop.TARGET.value_counts()"
   ]
  },
  {
   "cell_type": "code",
   "execution_count": 0,
   "metadata": {
    "colab": {},
    "colab_type": "code",
    "id": "a6l2yA10Vuly"
   },
   "outputs": [],
   "source": [
    "from imblearn.under_sampling import NearMiss\n",
    "from imblearn.over_sampling import SMOTE \n",
    "\n",
    "colunas = MelhoresCandidatas[MelhoresCandidatas.Predição.isin(['Médio','Forte'])].Variáveis\n",
    "lista =[colunas[2], colunas[3]]\n",
    "cols = np.concatenate(lista)\n",
    "X_train = df_crop[cols]\n",
    "y_train = df_crop.TARGET\n",
    "nr = NearMiss(return_indices=True)\n",
    "X_train, y_train, indices = nr.fit_sample(X_train, y_train)\n",
    "df_X = pd.DataFrame(data=X_train, columns = cols)\n",
    "X_train = df_X\n"
   ]
  },
  {
   "cell_type": "code",
   "execution_count": 0,
   "metadata": {
    "colab": {},
    "colab_type": "code",
    "id": "CTxMi6jAcWfP"
   },
   "outputs": [],
   "source": [
    "df_X = pd.DataFrame(data=X_train, columns = cols)"
   ]
  },
  {
   "cell_type": "code",
   "execution_count": 0,
   "metadata": {
    "colab": {
     "base_uri": "https://localhost:8080/",
     "height": 406
    },
    "colab_type": "code",
    "executionInfo": {
     "elapsed": 708,
     "status": "ok",
     "timestamp": 1590337190201,
     "user": {
      "displayName": "Luciano Gavinho",
      "photoUrl": "https://lh4.googleusercontent.com/-AXceqLc1oqQ/AAAAAAAAAAI/AAAAAAAABRU/hwsf--gVb3s/s64/photo.jpg",
      "userId": "11013035459083077990"
     },
     "user_tz": 180
    },
    "id": "fk3t-jy_e6S_",
    "outputId": "9fb66694-596a-42ee-ad64-65aeede29765"
   },
   "outputs": [
    {
     "data": {
      "text/html": [
       "<div>\n",
       "<style scoped>\n",
       "    .dataframe tbody tr th:only-of-type {\n",
       "        vertical-align: middle;\n",
       "    }\n",
       "\n",
       "    .dataframe tbody tr th {\n",
       "        vertical-align: top;\n",
       "    }\n",
       "\n",
       "    .dataframe thead th {\n",
       "        text-align: right;\n",
       "    }\n",
       "</style>\n",
       "<table border=\"1\" class=\"dataframe\">\n",
       "  <thead>\n",
       "    <tr style=\"text-align: right;\">\n",
       "      <th></th>\n",
       "      <th>V9</th>\n",
       "      <th>V1</th>\n",
       "      <th>V10</th>\n",
       "      <th>V2</th>\n",
       "      <th>V6</th>\n",
       "      <th>V8</th>\n",
       "      <th>V3</th>\n",
       "    </tr>\n",
       "  </thead>\n",
       "  <tbody>\n",
       "    <tr>\n",
       "      <th>0</th>\n",
       "      <td>0.000</td>\n",
       "      <td>0.000</td>\n",
       "      <td>0.000</td>\n",
       "      <td>9.200</td>\n",
       "      <td>0.000</td>\n",
       "      <td>0.000</td>\n",
       "      <td>2,999.000</td>\n",
       "    </tr>\n",
       "    <tr>\n",
       "      <th>1</th>\n",
       "      <td>0.000</td>\n",
       "      <td>0.000</td>\n",
       "      <td>0.000</td>\n",
       "      <td>8.900</td>\n",
       "      <td>0.000</td>\n",
       "      <td>0.000</td>\n",
       "      <td>2,999.000</td>\n",
       "    </tr>\n",
       "    <tr>\n",
       "      <th>2</th>\n",
       "      <td>0.000</td>\n",
       "      <td>0.000</td>\n",
       "      <td>0.000</td>\n",
       "      <td>8.800</td>\n",
       "      <td>0.000</td>\n",
       "      <td>0.000</td>\n",
       "      <td>2,999.000</td>\n",
       "    </tr>\n",
       "    <tr>\n",
       "      <th>3</th>\n",
       "      <td>0.000</td>\n",
       "      <td>0.000</td>\n",
       "      <td>0.000</td>\n",
       "      <td>8.600</td>\n",
       "      <td>0.000</td>\n",
       "      <td>0.000</td>\n",
       "      <td>2,999.000</td>\n",
       "    </tr>\n",
       "    <tr>\n",
       "      <th>4</th>\n",
       "      <td>0.000</td>\n",
       "      <td>0.000</td>\n",
       "      <td>0.000</td>\n",
       "      <td>8.500</td>\n",
       "      <td>0.000</td>\n",
       "      <td>0.000</td>\n",
       "      <td>2,999.000</td>\n",
       "    </tr>\n",
       "    <tr>\n",
       "      <th>...</th>\n",
       "      <td>...</td>\n",
       "      <td>...</td>\n",
       "      <td>...</td>\n",
       "      <td>...</td>\n",
       "      <td>...</td>\n",
       "      <td>...</td>\n",
       "      <td>...</td>\n",
       "    </tr>\n",
       "    <tr>\n",
       "      <th>235</th>\n",
       "      <td>0.000</td>\n",
       "      <td>0.000</td>\n",
       "      <td>0.000</td>\n",
       "      <td>12.600</td>\n",
       "      <td>1.000</td>\n",
       "      <td>0.000</td>\n",
       "      <td>13.920</td>\n",
       "    </tr>\n",
       "    <tr>\n",
       "      <th>236</th>\n",
       "      <td>0.000</td>\n",
       "      <td>1.000</td>\n",
       "      <td>0.000</td>\n",
       "      <td>10.000</td>\n",
       "      <td>1.000</td>\n",
       "      <td>0.000</td>\n",
       "      <td>1,264.990</td>\n",
       "    </tr>\n",
       "    <tr>\n",
       "      <th>237</th>\n",
       "      <td>0.000</td>\n",
       "      <td>0.000</td>\n",
       "      <td>0.000</td>\n",
       "      <td>100.000</td>\n",
       "      <td>0.000</td>\n",
       "      <td>0.000</td>\n",
       "      <td>155.000</td>\n",
       "    </tr>\n",
       "    <tr>\n",
       "      <th>238</th>\n",
       "      <td>0.000</td>\n",
       "      <td>0.000</td>\n",
       "      <td>0.000</td>\n",
       "      <td>0.400</td>\n",
       "      <td>0.000</td>\n",
       "      <td>0.000</td>\n",
       "      <td>244.110</td>\n",
       "    </tr>\n",
       "    <tr>\n",
       "      <th>239</th>\n",
       "      <td>0.000</td>\n",
       "      <td>0.000</td>\n",
       "      <td>0.000</td>\n",
       "      <td>95.000</td>\n",
       "      <td>1.000</td>\n",
       "      <td>1.000</td>\n",
       "      <td>900.890</td>\n",
       "    </tr>\n",
       "  </tbody>\n",
       "</table>\n",
       "<p>240 rows × 7 columns</p>\n",
       "</div>"
      ],
      "text/plain": [
       "       V9    V1   V10      V2    V6    V8        V3\n",
       "0   0.000 0.000 0.000   9.200 0.000 0.000 2,999.000\n",
       "1   0.000 0.000 0.000   8.900 0.000 0.000 2,999.000\n",
       "2   0.000 0.000 0.000   8.800 0.000 0.000 2,999.000\n",
       "3   0.000 0.000 0.000   8.600 0.000 0.000 2,999.000\n",
       "4   0.000 0.000 0.000   8.500 0.000 0.000 2,999.000\n",
       "..    ...   ...   ...     ...   ...   ...       ...\n",
       "235 0.000 0.000 0.000  12.600 1.000 0.000    13.920\n",
       "236 0.000 1.000 0.000  10.000 1.000 0.000 1,264.990\n",
       "237 0.000 0.000 0.000 100.000 0.000 0.000   155.000\n",
       "238 0.000 0.000 0.000   0.400 0.000 0.000   244.110\n",
       "239 0.000 0.000 0.000  95.000 1.000 1.000   900.890\n",
       "\n",
       "[240 rows x 7 columns]"
      ]
     },
     "execution_count": 122,
     "metadata": {
      "tags": []
     },
     "output_type": "execute_result"
    }
   ],
   "source": [
    "df_X"
   ]
  },
  {
   "cell_type": "code",
   "execution_count": 0,
   "metadata": {
    "colab": {},
    "colab_type": "code",
    "id": "2whGEnASXZ2N"
   },
   "outputs": [],
   "source": [
    "colunas = MelhoresCandidatas[MelhoresCandidatas.Predição.isin(['Médio','Forte'])].Variáveis"
   ]
  },
  {
   "cell_type": "code",
   "execution_count": 0,
   "metadata": {
    "colab": {},
    "colab_type": "code",
    "id": "Tdcx5P_OXsJK"
   },
   "outputs": [],
   "source": [
    "colunas = MelhoresCandidatas[MelhoresCandidatas.Predição.isin(['Médio','Forte'])].Variáveis\n",
    "lista =[colunas[2], colunas[3]]\n",
    "cols = np.concatenate(lista)\n"
   ]
  },
  {
   "cell_type": "code",
   "execution_count": 0,
   "metadata": {
    "colab": {
     "base_uri": "https://localhost:8080/",
     "height": 34
    },
    "colab_type": "code",
    "executionInfo": {
     "elapsed": 1108,
     "status": "ok",
     "timestamp": 1590336327277,
     "user": {
      "displayName": "Luciano Gavinho",
      "photoUrl": "https://lh4.googleusercontent.com/-AXceqLc1oqQ/AAAAAAAAAAI/AAAAAAAABRU/hwsf--gVb3s/s64/photo.jpg",
      "userId": "11013035459083077990"
     },
     "user_tz": 180
    },
    "id": "kAY0uz17Xt2D",
    "outputId": "1c2d8f92-881e-494b-d062-3bea697115d3"
   },
   "outputs": [
    {
     "data": {
      "text/plain": [
       "array(['V9', 'V1', 'V10', 'V2', 'V6', 'V8', 'V3'], dtype=object)"
      ]
     },
     "execution_count": 106,
     "metadata": {
      "tags": []
     },
     "output_type": "execute_result"
    }
   ],
   "source": [
    "cols"
   ]
  },
  {
   "cell_type": "code",
   "execution_count": 0,
   "metadata": {
    "colab": {
     "base_uri": "https://localhost:8080/",
     "height": 70
    },
    "colab_type": "code",
    "executionInfo": {
     "elapsed": 786,
     "status": "ok",
     "timestamp": 1590336346806,
     "user": {
      "displayName": "Luciano Gavinho",
      "photoUrl": "https://lh4.googleusercontent.com/-AXceqLc1oqQ/AAAAAAAAAAI/AAAAAAAABRU/hwsf--gVb3s/s64/photo.jpg",
      "userId": "11013035459083077990"
     },
     "user_tz": 180
    },
    "id": "wJubw7a4bsoX",
    "outputId": "53e7f430-d0e6-425c-800f-212ec450aa56"
   },
   "outputs": [
    {
     "data": {
      "text/plain": [
       "2    [V9, V1, V10, V2, V6]\n",
       "3                 [V8, V3]\n",
       "Name: Variáveis, dtype: object"
      ]
     },
     "execution_count": 107,
     "metadata": {
      "tags": []
     },
     "output_type": "execute_result"
    }
   ],
   "source": [
    "colunas"
   ]
  },
  {
   "cell_type": "code",
   "execution_count": 0,
   "metadata": {
    "colab": {
     "base_uri": "https://localhost:8080/",
     "height": 354
    },
    "colab_type": "code",
    "executionInfo": {
     "elapsed": 886,
     "status": "ok",
     "timestamp": 1590363267893,
     "user": {
      "displayName": "Luciano Gavinho",
      "photoUrl": "https://lh4.googleusercontent.com/-AXceqLc1oqQ/AAAAAAAAAAI/AAAAAAAABRU/hwsf--gVb3s/s64/photo.jpg",
      "userId": "11013035459083077990"
     },
     "user_tz": 180
    },
    "id": "Y_jjoZ9nbtaY",
    "outputId": "3e9a15aa-8e72-4257-d6b6-fb31c8dfc63e"
   },
   "outputs": [
    {
     "name": "stdout",
     "output_type": "stream",
     "text": [
      "<class 'pandas.core.frame.DataFrame'>\n",
      "RangeIndex: 11169 entries, 0 to 11168\n",
      "Data columns (total 12 columns):\n",
      " #   Column  Non-Null Count  Dtype  \n",
      "---  ------  --------------  -----  \n",
      " 0   V1      11169 non-null  int64  \n",
      " 1   V2      11169 non-null  float64\n",
      " 2   V3      11169 non-null  float64\n",
      " 3   TARGET  11169 non-null  int64  \n",
      " 4   V4      11169 non-null  int64  \n",
      " 5   V5      11169 non-null  int64  \n",
      " 6   V6      11169 non-null  int64  \n",
      " 7   V7      11169 non-null  float64\n",
      " 8   V8      11169 non-null  int64  \n",
      " 9   V9      11169 non-null  int64  \n",
      " 10  V10     11169 non-null  int64  \n",
      " 11  Safra   11169 non-null  int64  \n",
      "dtypes: float64(3), int64(9)\n",
      "memory usage: 1.0 MB\n"
     ]
    }
   ],
   "source": [
    "df_crop.info()"
   ]
  },
  {
   "cell_type": "code",
   "execution_count": 0,
   "metadata": {
    "colab": {
     "base_uri": "https://localhost:8080/",
     "height": 297
    },
    "colab_type": "code",
    "executionInfo": {
     "elapsed": 689,
     "status": "ok",
     "timestamp": 1590363336318,
     "user": {
      "displayName": "Luciano Gavinho",
      "photoUrl": "https://lh4.googleusercontent.com/-AXceqLc1oqQ/AAAAAAAAAAI/AAAAAAAABRU/hwsf--gVb3s/s64/photo.jpg",
      "userId": "11013035459083077990"
     },
     "user_tz": 180
    },
    "id": "CJ26K5IPCZ8X",
    "outputId": "879c8eca-7d1f-4176-b4f6-351217f92470"
   },
   "outputs": [
    {
     "data": {
      "text/plain": [
       "<matplotlib.axes._subplots.AxesSubplot at 0x7fcacd16af98>"
      ]
     },
     "execution_count": 5,
     "metadata": {
      "tags": []
     },
     "output_type": "execute_result"
    },
    {
     "data": {
      "image/png": "[encoded data removed]",
      "text/plain": [
       "<Figure size 432x288 with 1 Axes>"
      ]
     },
     "metadata": {
      "needs_background": "light",
      "tags": []
     },
     "output_type": "display_data"
    }
   ],
   "source": [
    "sns.boxplot(x=df_crop.V2)"
   ]
  },
  {
   "cell_type": "code",
   "execution_count": 0,
   "metadata": {
    "colab": {
     "base_uri": "https://localhost:8080/",
     "height": 297
    },
    "colab_type": "code",
    "executionInfo": {
     "elapsed": 815,
     "status": "ok",
     "timestamp": 1590363387721,
     "user": {
      "displayName": "Luciano Gavinho",
      "photoUrl": "https://lh4.googleusercontent.com/-AXceqLc1oqQ/AAAAAAAAAAI/AAAAAAAABRU/hwsf--gVb3s/s64/photo.jpg",
      "userId": "11013035459083077990"
     },
     "user_tz": 180
    },
    "id": "hlG2TeKkCytu",
    "outputId": "de01f045-60ba-4c3d-e27e-0e773aa66e36"
   },
   "outputs": [
    {
     "data": {
      "text/plain": [
       "<matplotlib.axes._subplots.AxesSubplot at 0x7fcacd0fa780>"
      ]
     },
     "execution_count": 6,
     "metadata": {
      "tags": []
     },
     "output_type": "execute_result"
    },
    {
     "data": {
      "image/png": "[encoded data removed]",
      "text/plain": [
       "<Figure size 432x288 with 1 Axes>"
      ]
     },
     "metadata": {
      "needs_background": "light",
      "tags": []
     },
     "output_type": "display_data"
    }
   ],
   "source": [
    "sns.boxplot(x=df_crop.V3)"
   ]
  },
  {
   "cell_type": "code",
   "execution_count": 0,
   "metadata": {
    "colab": {
     "base_uri": "https://localhost:8080/",
     "height": 297
    },
    "colab_type": "code",
    "executionInfo": {
     "elapsed": 844,
     "status": "ok",
     "timestamp": 1590363401527,
     "user": {
      "displayName": "Luciano Gavinho",
      "photoUrl": "https://lh4.googleusercontent.com/-AXceqLc1oqQ/AAAAAAAAAAI/AAAAAAAABRU/hwsf--gVb3s/s64/photo.jpg",
      "userId": "11013035459083077990"
     },
     "user_tz": 180
    },
    "id": "FUEdpwc-Cqsy",
    "outputId": "dfa16fcf-2f80-41ca-f9e0-bed31fbe488e"
   },
   "outputs": [
    {
     "data": {
      "text/plain": [
       "<matplotlib.axes._subplots.AxesSubplot at 0x7fcacd040048>"
      ]
     },
     "execution_count": 7,
     "metadata": {
      "tags": []
     },
     "output_type": "execute_result"
    },
    {
     "data": {
      "image/png": "[encoded data removed]",
      "text/plain": [
       "<Figure size 432x288 with 1 Axes>"
      ]
     },
     "metadata": {
      "needs_background": "light",
      "tags": []
     },
     "output_type": "display_data"
    }
   ],
   "source": [
    "sns.boxplot(x=df_crop.V7)"
   ]
  }
 ],
 "metadata": {
  "colab": {
   "authorship_tag": "ABX9TyOFSufekbvFRArxS0k/ySdK",
   "name": "Crop1_Analysis.ipynb",
   "provenance": []
  },
  "kernelspec": {
   "display_name": "Python 3 (ipykernel)",
   "language": "python",
   "name": "python3"
  },
  "language_info": {
   "codemirror_mode": {
    "name": "ipython",
    "version": 3
   },
   "file_extension": ".py",
   "mimetype": "text/x-python",
   "name": "python",
   "nbconvert_exporter": "python",
   "pygments_lexer": "ipython3",
   "version": "3.12.3"
  }
 },
 "nbformat": 4,
 "nbformat_minor": 1
}
