{
 "cells": [
  {
   "cell_type": "code",
   "execution_count": null,
   "id": "c9d26d5e",
   "metadata": {},
   "outputs": [],
   "source": [
    "import pandas as pd\n",
    "import seaborn as sns"
   ]
  },
  {
   "cell_type": "code",
   "execution_count": null,
   "id": "e8afc9e6",
   "metadata": {},
   "outputs": [],
   "source": [
    "!pip install seaborn"
   ]
  },
  {
   "cell_type": "code",
   "execution_count": null,
   "id": "0cf6d6a8",
   "metadata": {},
   "outputs": [],
   "source": [
    "sns.get_dataset_names()"
   ]
  },
  {
   "cell_type": "code",
   "execution_count": null,
   "id": "ffd8a8bf",
   "metadata": {},
   "outputs": [],
   "source": [
    "iris = sns.load_dataset('iris')"
   ]
  },
  {
   "cell_type": "code",
   "execution_count": null,
   "id": "e2e58481",
   "metadata": {},
   "outputs": [],
   "source": [
    "iris"
   ]
  },
  {
   "cell_type": "code",
   "execution_count": null,
   "id": "4b06ae69",
   "metadata": {},
   "outputs": [],
   "source": [
    "iris = ['species'].value_counts()"
   ]
  },
  {
   "cell_type": "code",
   "execution_count": null,
   "id": "d0361686",
   "metadata": {},
   "outputs": [],
   "source": [
    "iris"
   ]
  },
  {
   "cell_type": "code",
   "execution_count": null,
   "id": "068038df",
   "metadata": {},
   "outputs": [],
   "source": [
    "sns.pairplot(iris)"
   ]
  },
  {
   "cell_type": "code",
   "execution_count": null,
   "id": "7a17335e",
   "metadata": {},
   "outputs": [],
   "source": [
    "sns.pairplot(iris, hue='species')"
   ]
  },
  {
   "cell_type": "code",
   "execution_count": null,
   "id": "023a2884",
   "metadata": {},
   "outputs": [],
   "source": [
    "sns.get_dataset_names()"
   ]
  },
  {
   "cell_type": "code",
   "execution_count": null,
   "id": "475da981",
   "metadata": {},
   "outputs": [],
   "source": [
    "Exercícios de fixação VIII\n",
    "Ozeias Barreto\n",
    "Questão 1\n",
    "\n",
    "Você está buscando avaliar se duas classes de um dataset podem ser discriminadas por algum par de variáveis deste conjunto de dados\n",
    "\n",
    "Uma forma prática de fazer isso é:\n",
    "\n",
    "Utilizar a função Pairplot, com o pârametro hue sendo usado para comparar as classes\n",
    "\n",
    "Utilizar a função Pairplot, sem pârametros adicionais\n",
    "\n",
    "Fazer o scatterplot um a um entre os pârametros, usando o hue para separar as classes\n",
    "\n",
    "Utilizar a função histplot de pârametro em pârametro, para ver a separação dos dados com uma única variável\n",
    "Questão 2\n",
    "\n",
    "Trabalhando em uma imobiliária, você recebe um dataset de residencias com seu preço de venda.\n",
    "\n",
    "Você está explorando a correlação entre a variável Price e as demais variáveis, tentando determinar se é possível fazer uma previsão de valor de casas novas baseado nesses parâmetros.\n",
    "\n",
    "O gráfico gerado para as distribuições das variáveis duas a duas está a seguir:\n",
    "\n",
    "É possível aproximar os dados usando uma reta?\n",
    "\n",
    "Parece ser possível aproximar os dados usando uma reta, pois a variável Avg Area Number of Bedrooms apresenta caráter similar a retas na sua correlação com o preço\n",
    "\n",
    "Não parece ser possível aproximar os dados usando uma reta, nenhuma das variáveis tem um gráfico que indique boa correlação linear entre ela e o preço\n",
    "\n",
    "Parece ser possível aproximar os dados usando uma reta, pois a variável Avg Area Income parece ter boa correlação linear com o preço\n",
    "\n",
    "Não deve ser possível aproximar os dados usando uma reta, pois a variável Price tem formato de uma parábola\n"
   ]
  }
 ],
 "metadata": {
  "kernelspec": {
   "display_name": "Python 3 (ipykernel)",
   "language": "python",
   "name": "python3"
  },
  "language_info": {
   "codemirror_mode": {
    "name": "ipython",
    "version": 3
   },
   "file_extension": ".py",
   "mimetype": "text/x-python",
   "name": "python",
   "nbconvert_exporter": "python",
   "pygments_lexer": "ipython3",
   "version": "3.10.12"
  }
 },
 "nbformat": 4,
 "nbformat_minor": 5
}
