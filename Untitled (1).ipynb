{
 "cells": [
  {
   "cell_type": "markdown",
   "id": "3f104d35",
   "metadata": {},
   "source": [
    "( )Bombeado ( )Convencional ( )Auto-Adensável\n",
    "( )Rod. Obra ( )Usina: //localizão gps background quando for salvar\n",
    "Moldagem: Dentro( ) Fora ( ) da Obra\n",
    "Cps(mm): ( )100x200 Outros:_____________\n",
    "Volume(m³): Previsto:  Aplicado:\n",
    "Qtd. Formas Enviadas + -\n",
    "Cheias: \n",
    "Vazias:\n",
    "( )Concreto\n",
    "( )Argamassa\n",
    "( )Graute\n",
    "( ) Outros:\n",
    "Cimento(marca/tipo/classe):\n",
    "Aditivo(marca/tipo):\n",
    "Serie\n",
    "f k (mpa)\n",
    "Abat. Teórico(mm)\n",
    "Cimento(kg)\n",
    "Consumo(kg/m³)\n",
    "Areia de Brita(kg/m3)\n",
    "Areia(kg/m³)\n",
    "Brita nº(kg/m³)\n",
    "Brita nº(kg/m³)\n",
    "Pedrisco Misto(kg/m³)\n",
    "Aditivo(L/m³)\n"
   ]
  }
 ],
 "metadata": {
  "kernelspec": {
   "display_name": "Python 3 (ipykernel)",
   "language": "python",
   "name": "python3"
  },
  "language_info": {
   "codemirror_mode": {
    "name": "ipython",
    "version": 3
   },
   "file_extension": ".py",
   "mimetype": "text/x-python",
   "name": "python",
   "nbconvert_exporter": "python",
   "pygments_lexer": "ipython3",
   "version": "3.11.7"
  }
 },
 "nbformat": 4,
 "nbformat_minor": 5
}
