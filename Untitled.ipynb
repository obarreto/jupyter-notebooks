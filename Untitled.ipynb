{
 "cells": [
  {
   "cell_type": "code",
   "execution_count": 1,
   "id": "03f938df",
   "metadata": {},
   "outputs": [
    {
     "name": "stdout",
     "output_type": "stream",
     "text": [
      "Requirement already satisfied: requests in /media/obarreto/MSDOSX/library-iso/anaconda-navigator/lib/python3.11/site-packages (2.31.0)\n",
      "Requirement already satisfied: charset-normalizer<4,>=2 in /media/obarreto/MSDOSX/library-iso/anaconda-navigator/lib/python3.11/site-packages (from requests) (2.0.4)\n",
      "Requirement already satisfied: idna<4,>=2.5 in /media/obarreto/MSDOSX/library-iso/anaconda-navigator/lib/python3.11/site-packages (from requests) (3.4)\n",
      "Requirement already satisfied: urllib3<3,>=1.21.1 in /media/obarreto/MSDOSX/library-iso/anaconda-navigator/lib/python3.11/site-packages (from requests) (2.0.7)\n",
      "Requirement already satisfied: certifi>=2017.4.17 in /media/obarreto/MSDOSX/library-iso/anaconda-navigator/lib/python3.11/site-packages (from requests) (2025.1.31)\n",
      "Requirement already satisfied: beautifulsoup4 in /media/obarreto/MSDOSX/library-iso/anaconda-navigator/lib/python3.11/site-packages (4.12.2)\n",
      "Requirement already satisfied: soupsieve>1.2 in /media/obarreto/MSDOSX/library-iso/anaconda-navigator/lib/python3.11/site-packages (from beautifulsoup4) (2.5)\n"
     ]
    }
   ],
   "source": [
    "!pip install requests\n",
    "!pip install beautifulsoup4"
   ]
  },
  {
   "cell_type": "code",
   "execution_count": 1,
   "id": "d5b1b8d8",
   "metadata": {},
   "outputs": [],
   "source": [
    "import requests\n",
    "from bs4 import BeautifulSoup"
   ]
  },
  {
   "cell_type": "code",
   "execution_count": 2,
   "id": "ac368ad0",
   "metadata": {},
   "outputs": [],
   "source": [
    "#URL da página que deseja afazer o scrapping\n",
    "url = 'https://chatgpt.com/c/66e31138-0124-8012-8466-5c196758c685'"
   ]
  },
  {
   "cell_type": "code",
   "execution_count": 3,
   "id": "746e694b",
   "metadata": {},
   "outputs": [],
   "source": [
    "#Fazer a requisição HTTP para obter o conteúdo da página\n",
    "response = requests.get(url)"
   ]
  },
  {
   "cell_type": "code",
   "execution_count": 6,
   "id": "ab5e9f8b",
   "metadata": {},
   "outputs": [
    {
     "ename": "SyntaxError",
     "evalue": "invalid syntax (2543202611.py, line 10)",
     "output_type": "error",
     "traceback": [
      "\u001b[0;36m  Cell \u001b[0;32mIn[6], line 10\u001b[0;36m\u001b[0m\n\u001b[0;31m    with open('conteudo_sessao.txt', 'w', encoding='utf-8' as file:\u001b[0m\n\u001b[0m                                                           ^\u001b[0m\n\u001b[0;31mSyntaxError\u001b[0m\u001b[0;31m:\u001b[0m invalid syntax\n"
     ]
    }
   ],
   "source": [
    "#Verifica se a requisição foi bem-sucedida\n",
    "if response.status_code == 200:\n",
    "    # Passa o conteúdo HTML para o BeatifulSoup\n",
    "    soup = BeautifulSoup(response.content, 'html.parser')\n",
    "    #Agora você pode usar soup para extrair as informações desejadas\n",
    "    #Exemplo: pegar todo o texto da página\n",
    "    page_text = soup.get_text()\n",
    "    \n",
    "    #Exportar o conteúdo para um arquivo de texto\n",
    "    with open('conteudo_sessao.txt', 'w', encoding='utf-8' as file:\n",
    "        file.write(page_text)     \n",
    "     print(\"Conteúdo exportado com sucesso!\")             \n",
    " else:\n",
    "     print(f\"Erro ao acessar a página. Código de status: {response.status_code}\")         \n",
    "             )"
   ]
  },
  {
   "cell_type": "code",
   "execution_count": null,
   "id": "e51a36a0",
   "metadata": {},
   "outputs": [],
   "source": [
    "\n"
   ]
  },
  {
   "cell_type": "code",
   "execution_count": null,
   "id": "7daeec7a",
   "metadata": {},
   "outputs": [],
   "source": []
  },
  {
   "cell_type": "code",
   "execution_count": null,
   "id": "94aa0bf3-3106-4958-a15a-4b88f12a16cc",
   "metadata": {},
   "outputs": [],
   "source": []
  }
 ],
 "metadata": {
  "kernelspec": {
   "display_name": "Python 3 (ipykernel)",
   "language": "python",
   "name": "python3"
  },
  "language_info": {
   "codemirror_mode": {
    "name": "ipython",
    "version": 3
   },
   "file_extension": ".py",
   "mimetype": "text/x-python",
   "name": "python",
   "nbconvert_exporter": "python",
   "pygments_lexer": "ipython3",
   "version": "3.11.7"
  }
 },
 "nbformat": 4,
 "nbformat_minor": 5
}
