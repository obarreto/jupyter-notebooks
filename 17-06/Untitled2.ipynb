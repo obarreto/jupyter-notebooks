{
 "cells": [
  {
   "cell_type": "code",
   "execution_count": 25,
   "metadata": {
    "colab": {
     "base_uri": "https://localhost:8080/",
     "height": 191
    },
    "colab_type": "code",
    "executionInfo": {
     "elapsed": 936,
     "status": "ok",
     "timestamp": 1586388244335,
     "user": {
      "displayName": "OZEIAS DE SANTANA BARRETO",
      "photoUrl": "",
      "userId": "09499690939166015247"
     },
     "user_tz": 180
    },
    "id": "3LDvg7bCD6Hu",
    "outputId": "6ca0f243-b8b6-463c-a4ba-75e4321f9e75"
   },
   "outputs": [
    {
     "data": {
      "text/plain": [
       "{'Ano': [2000, 2001, 2002, 2001, 2003, 2000, 2001, 2000],\n",
       " 'Estado': ['Sao Paulo',\n",
       "  'Sao Paulo',\n",
       "  'Sao Paulo',\n",
       "  'Parana',\n",
       "  'Parana',\n",
       "  'Parana',\n",
       "  'Bahia',\n",
       "  'Bahia'],\n",
       " 'Populacao': [1.5, 1.8, 2.2, 1, 2, 3, 1.1, 3]}"
      ]
     },
     "execution_count": 25,
     "metadata": {
      "tags": []
     },
     "output_type": "execute_result"
    }
   ],
   "source": [
    "import pandas as pd\n",
    "import numpy as np\n",
    "\n",
    "data = {'Estado' : ['Sao Paulo', 'Sao Paulo', 'Sao Paulo', 'Parana', 'Parana', 'Parana', 'Bahia', 'Bahia'],\n",
    "        'Ano' : [2000,2001,2002,2001,2003,2000,2001, 2000],\n",
    "        'Populacao' : [1.5, 1.8, 2.2, 1, 2, 3, 1.1, 3]}\n",
    "data \n",
    "\n"
   ]
  },
  {
   "cell_type": "code",
   "execution_count": 26,
   "metadata": {
    "colab": {
     "base_uri": "https://localhost:8080/",
     "height": 300
    },
    "colab_type": "code",
    "executionInfo": {
     "elapsed": 845,
     "status": "ok",
     "timestamp": 1586388252739,
     "user": {
      "displayName": "OZEIAS DE SANTANA BARRETO",
      "photoUrl": "",
      "userId": "09499690939166015247"
     },
     "user_tz": 180
    },
    "id": "MwO2ZEdcFB8s",
    "outputId": "fd9d92ab-6a44-4fa6-b64f-b84549f9e307"
   },
   "outputs": [
    {
     "data": {
      "text/html": [
       "<div>\n",
       "<style scoped>\n",
       "    .dataframe tbody tr th:only-of-type {\n",
       "        vertical-align: middle;\n",
       "    }\n",
       "\n",
       "    .dataframe tbody tr th {\n",
       "        vertical-align: top;\n",
       "    }\n",
       "\n",
       "    .dataframe thead th {\n",
       "        text-align: right;\n",
       "    }\n",
       "</style>\n",
       "<table border=\"1\" class=\"dataframe\">\n",
       "  <thead>\n",
       "    <tr style=\"text-align: right;\">\n",
       "      <th></th>\n",
       "      <th>Ano</th>\n",
       "      <th>Estado</th>\n",
       "      <th>Populacao</th>\n",
       "    </tr>\n",
       "  </thead>\n",
       "  <tbody>\n",
       "    <tr>\n",
       "      <th>0</th>\n",
       "      <td>2000</td>\n",
       "      <td>Sao Paulo</td>\n",
       "      <td>1.5</td>\n",
       "    </tr>\n",
       "    <tr>\n",
       "      <th>1</th>\n",
       "      <td>2001</td>\n",
       "      <td>Sao Paulo</td>\n",
       "      <td>1.8</td>\n",
       "    </tr>\n",
       "    <tr>\n",
       "      <th>2</th>\n",
       "      <td>2002</td>\n",
       "      <td>Sao Paulo</td>\n",
       "      <td>2.2</td>\n",
       "    </tr>\n",
       "    <tr>\n",
       "      <th>3</th>\n",
       "      <td>2001</td>\n",
       "      <td>Parana</td>\n",
       "      <td>1.0</td>\n",
       "    </tr>\n",
       "    <tr>\n",
       "      <th>4</th>\n",
       "      <td>2003</td>\n",
       "      <td>Parana</td>\n",
       "      <td>2.0</td>\n",
       "    </tr>\n",
       "    <tr>\n",
       "      <th>5</th>\n",
       "      <td>2000</td>\n",
       "      <td>Parana</td>\n",
       "      <td>3.0</td>\n",
       "    </tr>\n",
       "    <tr>\n",
       "      <th>6</th>\n",
       "      <td>2001</td>\n",
       "      <td>Bahia</td>\n",
       "      <td>1.1</td>\n",
       "    </tr>\n",
       "    <tr>\n",
       "      <th>7</th>\n",
       "      <td>2000</td>\n",
       "      <td>Bahia</td>\n",
       "      <td>3.0</td>\n",
       "    </tr>\n",
       "  </tbody>\n",
       "</table>\n",
       "</div>"
      ],
      "text/plain": [
       "    Ano     Estado  Populacao\n",
       "0  2000  Sao Paulo        1.5\n",
       "1  2001  Sao Paulo        1.8\n",
       "2  2002  Sao Paulo        2.2\n",
       "3  2001     Parana        1.0\n",
       "4  2003     Parana        2.0\n",
       "5  2000     Parana        3.0\n",
       "6  2001      Bahia        1.1\n",
       "7  2000      Bahia        3.0"
      ]
     },
     "execution_count": 26,
     "metadata": {
      "tags": []
     },
     "output_type": "execute_result"
    }
   ],
   "source": [
    "frame = pd.DataFrame(data, columns=['Ano', 'Estado', 'Populacao'])\n",
    "frame"
   ]
  },
  {
   "cell_type": "code",
   "execution_count": 0,
   "metadata": {
    "colab": {},
    "colab_type": "code",
    "id": "bI60_I_4He1K"
   },
   "outputs": [],
   "source": [
    "frame2 = frame.append(frame, ignore_index=True)"
   ]
  }
 ],
 "metadata": {
  "colab": {
   "authorship_tag": "ABX9TyO5tnzOSYfv435jerWe4uIf",
   "collapsed_sections": [],
   "name": "Untitled2.ipynb",
   "provenance": []
  },
  "kernelspec": {
   "display_name": "Python 3 (ipykernel)",
   "language": "python",
   "name": "python3"
  },
  "language_info": {
   "codemirror_mode": {
    "name": "ipython",
    "version": 3
   },
   "file_extension": ".py",
   "mimetype": "text/x-python",
   "name": "python",
   "nbconvert_exporter": "python",
   "pygments_lexer": "ipython3",
   "version": "3.12.3"
  }
 },
 "nbformat": 4,
 "nbformat_minor": 1
}
