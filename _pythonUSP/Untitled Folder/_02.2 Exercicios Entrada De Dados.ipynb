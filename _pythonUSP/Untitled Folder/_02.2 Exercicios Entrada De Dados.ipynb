{
 "cells": [
  {
   "cell_type": "code",
   "execution_count": null,
   "metadata": {},
   "outputs": [],
   "source": [
    "1.Pergunta 1\n",
    "\n",
    "Para que serve o comando \"input\" do Python?\n",
    "\n",
    "Ler o conteúdo de um arquivo texto\n",
    "\n",
    "Imprimir dados na tela\n",
    "\n",
    "Ler dados digitados pelo usuário\n",
    "\n",
    "Ler dados de um banco de dados"
   ]
  },
  {
   "cell_type": "code",
   "execution_count": 1,
   "metadata": {},
   "outputs": [
    {
     "name": "stdout",
     "output_type": "stream",
     "text": [
      "Olá\n",
      "\n",
      "bom dia!\n"
     ]
    }
   ],
   "source": [
    "#2.Pergunta 2\n",
    "#\n",
    "#Como exatamente será a saída dos comandos abaixo?\n",
    "print(\"Olá\")\n",
    "print()\n",
    "print(\"bom dia!\")"
   ]
  },
  {
   "cell_type": "code",
   "execution_count": 3,
   "metadata": {},
   "outputs": [
    {
     "name": "stdout",
     "output_type": "stream",
     "text": [
      "Qual sua idade? 31\n"
     ]
    }
   ],
   "source": [
    "#3. O que faz o comando abaixo?\n",
    "\n",
    "x = input(\"Qual sua idade? \")\n",
    "\n"
   ]
  },
  {
   "cell_type": "code",
   "execution_count": 4,
   "metadata": {},
   "outputs": [
    {
     "name": "stdout",
     "output_type": "stream",
     "text": [
      "10 10 10\n"
     ]
    }
   ],
   "source": [
    "#4. O que será impresso pelo trecho de programa abaixo?\n",
    "\n",
    "a = 10\n",
    "b = 20\n",
    "c = a\n",
    "b = c\n",
    "a = b\n",
    "print(a, b, c)"
   ]
  },
  {
   "cell_type": "code",
   "execution_count": 7,
   "metadata": {},
   "outputs": [
    {
     "name": "stdout",
     "output_type": "stream",
     "text": [
      "10 20 15\n"
     ]
    }
   ],
   "source": [
    "#5. O que será impresso pelo trecho de programa abaixo ?\n",
    "a = 10\n",
    "b =5\n",
    "c = a + b\n",
    "b = 20\n",
    "print(a, b, c)"
   ]
  },
  {
   "cell_type": "code",
   "execution_count": null,
   "metadata": {},
   "outputs": [],
   "source": []
  },
  {
   "cell_type": "code",
   "execution_count": 5,
   "metadata": {},
   "outputs": [
    {
     "name": "stdout",
     "output_type": "stream",
     "text": [
      "40\n"
     ]
    }
   ],
   "source": [
    "A = 10\n",
    "a = 20\n",
    "a = 2 * a\n",
    "A = a + A\n",
    "\n",
    "print(a)"
   ]
  },
  {
   "cell_type": "code",
   "execution_count": 6,
   "metadata": {},
   "outputs": [
    {
     "name": "stdout",
     "output_type": "stream",
     "text": [
      "Olámundo\n"
     ]
    }
   ],
   "source": [
    "#6. O que será impresso ao executar o seguinte comando? \n",
    "print(\"Olá\" 'mundo')"
   ]
  },
  {
   "cell_type": "code",
   "execution_count": null,
   "metadata": {},
   "outputs": [],
   "source": []
  }
 ],
 "metadata": {
  "kernelspec": {
   "display_name": "Python 3",
   "language": "python",
   "name": "python3"
  },
  "language_info": {
   "codemirror_mode": {
    "name": "ipython",
    "version": 3
   },
   "file_extension": ".py",
   "mimetype": "text/x-python",
   "name": "python",
   "nbconvert_exporter": "python",
   "pygments_lexer": "ipython3",
   "version": "3.6.9"
  }
 },
 "nbformat": 4,
 "nbformat_minor": 2
}
