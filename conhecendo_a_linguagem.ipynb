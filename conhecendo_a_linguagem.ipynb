#Conhecendo a lingugem
#Tipos de Dados

print(13 + 10 + 1000)
print(1.5 + 1 + 0.5)
print(True)
print(False)
print("Python")

#Modo interativo
#Variáveis e constantes
#Conversão de tipos
#Funções de entrada e saída


