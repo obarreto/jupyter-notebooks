{
 "cells": [
  {
   "cell_type": "code",
   "execution_count": 1,
   "id": "7801fcc7",
   "metadata": {},
   "outputs": [],
   "source": [
    "import pandas as pd"
   ]
  },
  {
   "cell_type": "code",
   "execution_count": null,
   "id": "76293df8",
   "metadata": {},
   "outputs": [],
   "source": [
    "taxis = pd.read_csv('taxi.csv')"
   ]
  },
  {
   "cell_type": "code",
   "execution_count": null,
   "id": "db7e5607",
   "metadata": {},
   "outputs": [],
   "source": [
    "taxis.head()"
   ]
  },
  {
   "cell_type": "code",
   "execution_count": null,
   "id": "1ddf4b75",
   "metadata": {},
   "outputs": [],
   "source": [
    "taxis['dropoff_borough'].values_counts()"
   ]
  },
  {
   "cell_type": "code",
   "execution_count": null,
   "id": "2cd87b66",
   "metadata": {},
   "outputs": [],
   "source": [
    "## Vizinhanças em que as casas costuma ser mais caras, oferecem melhores gorgetas\n",
    "taxis.groupby(['dropoff_boroug'])['tip'].agg(['mean', 'median'])"
   ]
  },
  {
   "cell_type": "code",
   "execution_count": null,
   "id": "8e0a8a5f",
   "metadata": {},
   "outputs": [],
   "source": [
    "Exercícios de fixação V\n",
    "Ozeias Barreto\n",
    "Questão 1\n",
    "\n",
    "Cristina realizou ensaios mecânicos de um material e a máquina exportou os dados em um arquivo .csv.\n",
    "\n",
    "Como Cristina pode importar esses dados para acessá-los no pandas, da maneira mais prática possível, entre as opções abaixo?\n",
    "\n",
    "*Utilizando o método pd.read_csv('nome_do_arquivo.csv')\n",
    "\n",
    "Utilizando o metodo pd.read_file('nome_do_arquivo.csv)\n",
    "\n",
    "Utilizando o método read_data('nome_do_arquivo.csv')\n",
    "\n",
    "Utilizando o método nativo do python open, e fazendo em seguida o parseamento do arquivo\n",
    "Questão 2\n",
    "\n",
    "Lúcia monitorou as temperaturas máximas de cada dia, durante todas as estações do ano de 2020 e armazenou os valores no DataFrame 'temperaturas'.\n",
    "\n",
    "Para um relatório, ela precisa saber a temperatura máxima média de cada estação. Como Lúcia pode calcular?\n",
    "\n",
    "temperaturas['temperatura'].agg('estacao').max()\n",
    "\n",
    "*temperaturas.groupby('estacao')['temperatura'].max()\n",
    "\n",
    "temperaturas.groupby(estacao)['temperatura'].max()\n",
    "\n",
    "temperaturas.agg('estacao')['temperatura'].max()\n"
   ]
  },
  {
   "cell_type": "code",
   "execution_count": null,
   "id": "ebce1f34",
   "metadata": {},
   "outputs": [],
   "source": []
  }
 ],
 "metadata": {
  "kernelspec": {
   "display_name": "Python 3 (ipykernel)",
   "language": "python",
   "name": "python3"
  },
  "language_info": {
   "codemirror_mode": {
    "name": "ipython",
    "version": 3
   },
   "file_extension": ".py",
   "mimetype": "text/x-python",
   "name": "python",
   "nbconvert_exporter": "python",
   "pygments_lexer": "ipython3",
   "version": "3.11.7"
  }
 },
 "nbformat": 4,
 "nbformat_minor": 5
}
