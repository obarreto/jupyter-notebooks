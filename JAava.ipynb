{
 "cells": [
  {
   "cell_type": "markdown",
   "id": "23ea92d9",
   "metadata": {},
   "source": [
    "Scanner\n",
    "Para fazer entrada de dados, nós vamos criar um objeto do tipo \"Scanner\" da seguinte forma:\n",
    "\n",
    "Para considerar o separador de decimais como ponto, ANTES da declaração do Scanner, faça:\n",
    "\n",
    "Locale.setDefault(Locale.US);"
   ]
  },
  {
   "cell_type": "code",
   "execution_count": 1,
   "id": "bb784222",
   "metadata": {},
   "outputs": [
    {
     "ename": "SyntaxError",
     "evalue": "invalid syntax (4131714148.py, line 3)",
     "output_type": "error",
     "traceback": [
      "\u001b[0;36m  Cell \u001b[0;32mIn[1], line 3\u001b[0;36m\u001b[0m\n\u001b[0;31m    public class Main{\u001b[0m\n\u001b[0m           ^\u001b[0m\n\u001b[0;31mSyntaxError\u001b[0m\u001b[0;31m:\u001b[0m invalid syntax\n"
     ]
    }
   ],
   "source": [
    "import java.util.Scanner;\n",
    "\n",
    "public class JAava{\n",
    "    public static void main(String[] args){\n",
    "        \n",
    "    Locale.setDefault(Locale.US);\n",
    "    Scanner sc = new Scanner(System.in);\n",
    "\n",
    "    \n",
    "    String x;\n",
    "    x = sc.next();\n",
    "        System.out.println(\": \", x);\n",
    "    \n",
    "    double y;\n",
    "    x = sc.nextDouble();\n",
    "        System.out.println(\": %.2f%n\", y);\n",
    "\n",
    "    int z;\n",
    "    x = sc.nextInt();\n",
    "        System.out.println(z);\n",
    "\n",
    "    char w;\n",
    "    x = sc.next().charAt(0);\n",
    "    System.out.println(w);\n",
    "    \n",
    "    sc.close();\n",
    "    }\n",
    "}    "
   ]
  },
  {
   "cell_type": "code",
   "execution_count": null,
   "id": "75928314",
   "metadata": {},
   "outputs": [],
   "source": []
  }
 ],
 "metadata": {
  "kernelspec": {
   "display_name": "Python 3 (ipykernel)",
   "language": "python",
   "name": "python3"
  },
  "language_info": {
   "codemirror_mode": {
    "name": "ipython",
    "version": 3
   },
   "file_extension": ".py",
   "mimetype": "text/x-python",
   "name": "python",
   "nbconvert_exporter": "python",
   "pygments_lexer": "ipython3",
   "version": "3.11.7"
  }
 },
 "nbformat": 4,
 "nbformat_minor": 5
}
