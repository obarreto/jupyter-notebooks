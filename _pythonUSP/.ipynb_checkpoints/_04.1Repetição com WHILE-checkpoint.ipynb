{
 "cells": [
  {
   "cell_type": "code",
   "execution_count": null,
   "metadata": {},
   "outputs": [],
   "source": [
    "\"\"\"\n",
    "Sintaxe da declaração WHILE\n",
    "while condição: \n",
    "    comando1\n",
    "    comando2\n",
    "\n",
    "comando3\n",
    "\"\"\""
   ]
  },
  {
   "cell_type": "code",
   "execution_count": null,
   "metadata": {},
   "outputs": [],
   "source": [
    "i = 0\n",
    "while i <= 12:\n",
    "    print(2 ** i)\n",
    "    i = i + 1\n"
   ]
  },
  {
   "cell_type": "code",
   "execution_count": 1,
   "metadata": {},
   "outputs": [
    {
     "name": "stdout",
     "output_type": "stream",
     "text": [
      "Digite uma sequência de valores terminada com zero.\n",
      "Digite um valor a ser somado: 1\n",
      "Digite um valor a ser somado: 2\n",
      "Digite um valor a ser somado: 3\n",
      "Digite um valor a ser somado: 4\n",
      "Digite um valor a ser somado: 5\n",
      "Digite um valor a ser somado: 6\n",
      "Digite um valor a ser somado: 7\n",
      "Digite um valor a ser somado: 8\n",
      "Digite um valor a ser somado: 9\n",
      "Digite um valor a ser somado: 0\n",
      "A soma dos valores digitados é:  45\n"
     ]
    }
   ],
   "source": [
    "\"\"\"\n",
    "Vamos supor que se quer fazer a soma de varios numeros. O programaama \n",
    "solicita para o usuário o numero e programa vai somar esses snumeros\n",
    "\"\"\"\n",
    "print(\"Digite uma sequência de valores terminada com zero.\")\n",
    "\n",
    "soma = 0 \n",
    "valor = 1 \n",
    "\n",
    "while valor != 0:\n",
    "    valor = int( input(\"Digite um valor a ser somado: \"))\n",
    "    soma = soma + valor\n",
    "    \n",
    "print(\"A soma dos valores digitados é: \", soma)"
   ]
  },
  {
   "cell_type": "code",
   "execution_count": 28,
   "metadata": {},
   "outputs": [
    {
     "name": "stdout",
     "output_type": "stream",
     "text": [
      "Digite o tamanho da sequência: 5\n",
      "Digite um valor a ser multiplicado: 1\n",
      "Digite um valor a ser multiplicado: 2\n",
      "Digite um valor a ser multiplicado: 3\n",
      "Digite um valor a ser multiplicado: 4\n",
      "Digite um valor a ser multiplicado: 5\n",
      "O produto dos valores digitados é:  120\n"
     ]
    }
   ],
   "source": [
    "\"\"\"\n",
    "\"Vamos supor que se o invés das soma dos números, a gente quisesse a multiplicação.\n",
    "\"\"\"\n",
    "\n",
    "tamanho = int(input(\"Digite o tamanho da sequência: \"))\n",
    "\n",
    "i = 0\n",
    "produto = 1\n",
    "\n",
    "\n",
    "while i < tamanho:\n",
    "    valor = int( input(\"Digite um valor a ser multiplicado: \"))\n",
    "    produto = produto * valor\n",
    "    i = i + 1\n",
    "print(\"O produto dos valores digitados é: \", produto)"
   ]
  },
  {
   "cell_type": "code",
   "execution_count": null,
   "metadata": {},
   "outputs": [],
   "source": [
    "\"\"\"\n",
    "Pegar um numero por exemplo 6532 e somar cada algarismo que seria\n",
    "6 + 5 + 3 + 2 = 15. Sua compisição é 6000+500+30+2\n",
    "\"\"\"\n"
   ]
  }
 ],
 "metadata": {
  "kernelspec": {
   "display_name": "Python 3",
   "language": "python",
   "name": "python3"
  },
  "language_info": {
   "codemirror_mode": {
    "name": "ipython",
    "version": 3
   },
   "file_extension": ".py",
   "mimetype": "text/x-python",
   "name": "python",
   "nbconvert_exporter": "python",
   "pygments_lexer": "ipython3",
   "version": "3.7.3"
  }
 },
 "nbformat": 4,
 "nbformat_minor": 2
}
