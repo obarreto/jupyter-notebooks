{
 "cells": [
  {
   "cell_type": "code",
   "execution_count": null,
   "metadata": {
    "colab": {
     "base_uri": "https://localhost:8080/"
    },
    "executionInfo": {
     "elapsed": 331,
     "status": "ok",
     "timestamp": 1718501654363,
     "user": {
      "displayName": "OZEIAS DE SANTANA BARRETO",
      "userId": "09499690939166015247"
     },
     "user_tz": 180
    },
    "id": "gdFabhBhilVI",
    "outputId": "6d1f49c7-b7ef-458d-9f0c-dc08552bffe0"
   },
   "outputs": [
    {
     "name": "stdout",
     "output_type": "stream",
     "text": [
      "Rotação:\n",
      "[1.11022302e-16 1.41421356e+00]\n",
      "Escalonamento:\n",
      "[2 3]\n",
      "Translação:\n",
      "[ 1 -1]\n",
      "Cisalhamento:\n",
      "[1.5 1. ]\n"
     ]
    }
   ],
   "source": [
    "import numpy as np\n",
    "import matplotlib.pyplot as plt\n",
    "\n",
    "# Definindo o vetor original\n",
    "v = np.array([1, 1])\n",
    "\n",
    "#a) Rotação\n",
    "theta = np.pi / 4 # Ângulo de rotação em radianos\n",
    "R = np.array([[np.cos(theta), -np.sin(theta)],\n",
    "            [np.sin(theta), np.cos(theta)]])\n",
    "rotated_v = np.dot(R, v)\n",
    "print(\"Rotação:\")\n",
    "print(rotated_v)\n",
    "\n",
    "# b) Escalonamento\n",
    "S = np.array([[2, 0],\n",
    "            [0, 3]])\n",
    "scaled_v = np.dot(S, v)\n",
    "print(\"Escalonamento:\")\n",
    "print(scaled_v)\n",
    "\n",
    "# c)\n",
    "F = np.array([[1, 0],\n",
    "            [0, -1]])\n",
    "reflected_v = np.dot(F, v)\n",
    "print(\"Translação:\")\n",
    "print(reflected_v)\n",
    "\n",
    "# d) Cisalhamento\n",
    "H = np.array([[1, 0.5],\n",
    "            [0, 1]])\n",
    "sheared_v = np.dot(H, v)\n",
    "print(\"Cisalhamento:\")\n",
    "print(sheared_v)\n"
   ]
  },
  {
   "cell_type": "code",
   "execution_count": null,
   "metadata": {
    "colab": {
     "base_uri": "https://localhost:8080/",
     "height": 106
    },
    "executionInfo": {
     "elapsed": 309,
     "status": "error",
     "timestamp": 1718502712671,
     "user": {
      "displayName": "OZEIAS DE SANTANA BARRETO",
      "userId": "09499690939166015247"
     },
     "user_tz": 180
    },
    "id": "Kfq0dg0trnb6",
    "outputId": "130fc819-0855-46cb-e747-c687b06948f0"
   },
   "outputs": [
    {
     "ename": "SyntaxError",
     "evalue": "invalid syntax. Perhaps you forgot a comma? (<ipython-input-6-7b14bff712bf>, line 23)",
     "output_type": "error",
     "traceback": [
      "\u001b[0;36m  File \u001b[0;32m\"<ipython-input-6-7b14bff712bf>\"\u001b[0;36m, line \u001b[0;32m23\u001b[0m\n\u001b[0;31m    plt.cuiver([0, 0], [0, 0], [v[0], transformed_v[0]], [v[1] transformed_v[1]], angles='xy', scale=1, color='b')\u001b[0m\n\u001b[0m                                                          ^\u001b[0m\n\u001b[0;31mSyntaxError\u001b[0m\u001b[0;31m:\u001b[0m invalid syntax. Perhaps you forgot a comma?\n"
     ]
    }
   ],
   "source": [
    "import numpy as np\n",
    "import matplotlib.pyplot as plt\n",
    "\n",
    "# Definindo o vetor original\n",
    "v = np.array([1, 1])\n",
    "\n",
    "# Definindo as transformações\n",
    "transformations = [\n",
    "    (\"Rotated\", np.array([np.cos(np.pi/4), -np.sin(np.pi/4)],\n",
    "                                       [np.sin(np.pi/4), np.cos(np.pi/4)])),\n",
    "    (\"Scaled\", no.array([[2, 0],\n",
    "                          [0, 0.5]])),\n",
    "    (\"Reflected\", np.array([[1, 0],\n",
    "                            [0, -1]])),\n",
    "    (\"Sheared\", np.array([[1, 0.5],\n",
    "                           [0, 1]]))\n",
    "]\n",
    "\n",
    "for i, (name, T) in enumerate(transformations, start=1):\n",
    "    plt.subplot(2, 2, i)\n",
    "    plt.title(name)\n",
    "    transformed_v = np.dot(T, v)\n",
    "    plt.cuiver([0, 0], [0, 0], [v[0], transformed_v[0]], [v[1] transformed_v[1]], angles='xy', scale_units='xy', scale=1 color='b')\n",
    "    plt.xlim(-2, 3)\n",
    "    plt.ylim(-2, 3)\n",
    "    plt.grid(True)\n",
    "    #plt.scatter(transformed_v[0], transformed_v[1])\n",
    "    #plt.scatter(v[0], v[1])\n",
    "    rotated_v = np.dot(T, v)\n",
    "    #plt.scatter(rotated_v[0], rotated_v[1])\n",
    "    #plt.axis('equal')\n",
    "    #plt.grid(True)\n",
    "\n",
    "plt.tight_layout()\n",
    "plt.show()\n"
   ]
  },
  {
   "cell_type": "code",
   "execution_count": null,
   "metadata": {
    "id": "dSaZTE0zxa6S"
   },
   "outputs": [],
   "source": [
    "import numpy as np\n",
    "import matplotlib.pyplot as plt\n",
    "\n",
    "# vetor de exemplo\n",
    "v = np.array([1, 1])\n",
    "\n",
    "# rotação\n",
    "theta = np.pi / 4"
   ]
  }
 ],
 "metadata": {
  "colab": {
   "authorship_tag": "ABX9TyPjfJuSHRTqR5BiTGMJHR8r",
   "provenance": []
  },
  "kernelspec": {
   "display_name": "Python 3 (ipykernel)",
   "language": "python",
   "name": "python3"
  },
  "language_info": {
   "codemirror_mode": {
    "name": "ipython",
    "version": 3
   },
   "file_extension": ".py",
   "mimetype": "text/x-python",
   "name": "python",
   "nbconvert_exporter": "python",
   "pygments_lexer": "ipython3",
   "version": "3.11.7"
  }
 },
 "nbformat": 4,
 "nbformat_minor": 4
}
