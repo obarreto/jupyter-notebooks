{
 "cells": [
  {
   "cell_type": "code",
   "execution_count": 1,
   "metadata": {
    "executionInfo": {
     "elapsed": 11,
     "status": "ok",
     "timestamp": 1718485006562,
     "user": {
      "displayName": "OZEIAS DE SANTANA BARRETO",
      "userId": "09499690939166015247"
     },
     "user_tz": 180
    },
    "id": "CN6G2ZyXrQEB"
   },
   "outputs": [],
   "source": [
    "matriz_A = [[1, 2, 3,], [4, 5, 6]]"
   ]
  },
  {
   "cell_type": "code",
   "execution_count": 2,
   "metadata": {
    "colab": {
     "base_uri": "https://localhost:8080/"
    },
    "executionInfo": {
     "elapsed": 319,
     "status": "ok",
     "timestamp": 1718485026785,
     "user": {
      "displayName": "OZEIAS DE SANTANA BARRETO",
      "userId": "09499690939166015247"
     },
     "user_tz": 180
    },
    "id": "aYnlv3QnsF5v",
    "outputId": "b10c2725-f246-46b3-9c88-88411d305359"
   },
   "outputs": [
    {
     "data": {
      "text/plain": [
       "[[1, 2, 3], [4, 5, 6]]"
      ]
     },
     "execution_count": 2,
     "metadata": {},
     "output_type": "execute_result"
    }
   ],
   "source": [
    "matriz_A"
   ]
  },
  {
   "cell_type": "code",
   "execution_count": 3,
   "metadata": {
    "colab": {
     "base_uri": "https://localhost:8080/"
    },
    "executionInfo": {
     "elapsed": 404,
     "status": "ok",
     "timestamp": 1718485093694,
     "user": {
      "displayName": "OZEIAS DE SANTANA BARRETO",
      "userId": "09499690939166015247"
     },
     "user_tz": 180
    },
    "id": "FcgWlWkHsIS8",
    "outputId": "5ebed31d-6085-4687-8087-1e2ec83d232c"
   },
   "outputs": [
    {
     "data": {
      "text/plain": [
       "[1, 2, 3]"
      ]
     },
     "execution_count": 3,
     "metadata": {},
     "output_type": "execute_result"
    }
   ],
   "source": [
    "matriz_A[0] # acessando a primeira linha --> NO PYTHON O ÍNDICE COMEÇA DP ZERO"
   ]
  },
  {
   "cell_type": "code",
   "execution_count": 4,
   "metadata": {
    "colab": {
     "base_uri": "https://localhost:8080/"
    },
    "executionInfo": {
     "elapsed": 332,
     "status": "ok",
     "timestamp": 1718485116659,
     "user": {
      "displayName": "OZEIAS DE SANTANA BARRETO",
      "userId": "09499690939166015247"
     },
     "user_tz": 180
    },
    "id": "4H1GWIabsYaE",
    "outputId": "fb80823e-7435-44b6-9a5b-8e8cdf72a7a9"
   },
   "outputs": [
    {
     "data": {
      "text/plain": [
       "[4, 5, 6]"
      ]
     },
     "execution_count": 4,
     "metadata": {},
     "output_type": "execute_result"
    }
   ],
   "source": [
    "matriz_A[1] # acessando a segunda linha"
   ]
  },
  {
   "cell_type": "code",
   "execution_count": 5,
   "metadata": {
    "colab": {
     "base_uri": "https://localhost:8080/"
    },
    "executionInfo": {
     "elapsed": 303,
     "status": "ok",
     "timestamp": 1718485188569,
     "user": {
      "displayName": "OZEIAS DE SANTANA BARRETO",
      "userId": "09499690939166015247"
     },
     "user_tz": 180
    },
    "id": "RILKhb9FseJd",
    "outputId": "a0fd4a3f-c059-41f5-d05a-cc61a6d695ac"
   },
   "outputs": [
    {
     "data": {
      "text/plain": [
       "2"
      ]
     },
     "execution_count": 5,
     "metadata": {},
     "output_type": "execute_result"
    }
   ],
   "source": [
    "matriz_A[0][1]"
   ]
  },
  {
   "cell_type": "markdown",
   "metadata": {
    "id": "cpgjGPATs6EM"
   },
   "source": [
    "Usa listas aninhadas como matriz funciona para tarefas computacionais simple, no entando, existe uma maneira melhor de trabalhar com matrizes em Python usando o pacote NumPy\n",
    "\n",
    "NumPy Array: NumPy\n",
    "\n",
    "NumPy é um pacote para computação ciêntifica que fornece uma ampla gama de funçãoes e metódos para trabalhar com matrizes multidemensionais."
   ]
  },
  {
   "cell_type": "code",
   "execution_count": 10,
   "metadata": {
    "colab": {
     "base_uri": "https://localhost:8080/"
    },
    "executionInfo": {
     "elapsed": 509,
     "status": "ok",
     "timestamp": 1718485527479,
     "user": {
      "displayName": "OZEIAS DE SANTANA BARRETO",
      "userId": "09499690939166015247"
     },
     "user_tz": 180
    },
    "id": "nfl44QlCtatX",
    "outputId": "f628ea8c-1c89-4482-df47-0467736f85b8"
   },
   "outputs": [
    {
     "data": {
      "text/plain": [
       "array([[1, 4, 7],\n",
       "       [2, 5, 8],\n",
       "       [3, 6, 9]])"
      ]
     },
     "execution_count": 10,
     "metadata": {},
     "output_type": "execute_result"
    }
   ],
   "source": [
    "import numpy as np\n",
    "matriz_b = np.array([[1, 2, 3], [4, 5, 6], [7, 8, 9]])\n",
    "\n",
    "matriz_b\n",
    "matriz_b.T\n",
    "matriz_b.T.T\n",
    "matriz_b.T.T.T"
   ]
  },
  {
   "cell_type": "code",
   "execution_count": 13,
   "metadata": {
    "colab": {
     "base_uri": "https://localhost:8080/"
    },
    "executionInfo": {
     "elapsed": 561,
     "status": "ok",
     "timestamp": 1718485597681,
     "user": {
      "displayName": "OZEIAS DE SANTANA BARRETO",
      "userId": "09499690939166015247"
     },
     "user_tz": 180
    },
    "id": "l8qZ9OsPuHTR",
    "outputId": "745bb6d8-4b00-48a3-aee6-9d078e9bcf4b"
   },
   "outputs": [
    {
     "data": {
      "text/plain": [
       "array([1, 2, 3])"
      ]
     },
     "execution_count": 13,
     "metadata": {},
     "output_type": "execute_result"
    }
   ],
   "source": [
    "matriz_b[0] # Acessando a primeira linha"
   ]
  },
  {
   "cell_type": "code",
   "execution_count": 14,
   "metadata": {
    "colab": {
     "base_uri": "https://localhost:8080/"
    },
    "executionInfo": {
     "elapsed": 387,
     "status": "ok",
     "timestamp": 1718485661616,
     "user": {
      "displayName": "OZEIAS DE SANTANA BARRETO",
      "userId": "09499690939166015247"
     },
     "user_tz": 180
    },
    "id": "Em9o5H4GuWM2",
    "outputId": "09c301ad-a805-42cc-a440-c55640455d18"
   },
   "outputs": [
    {
     "data": {
      "text/plain": [
       "8"
      ]
     },
     "execution_count": 14,
     "metadata": {},
     "output_type": "execute_result"
    }
   ],
   "source": [
    "matriz_b[2][1] # acessar a terceira da segunda coluna"
   ]
  },
  {
   "cell_type": "markdown",
   "metadata": {
    "id": "mV0KcYDRuwKK"
   },
   "source": [
    "Algumas operações que podemos realizar em matrizes usando o NumPy\n",
    "\n",
    "* Transposição de matriz\n",
    "Atranposição de uma matriz é uma operação que tro as linha pelas colunas. Por exemplo se tivermos A com dimensão m x n, a transposta de A é uma matriz B com dimensão n x m, o o elementos na linha i e coluna j de B é o elemento na linha j e coluna i de A."
   ]
  },
  {
   "cell_type": "code",
   "execution_count": 16,
   "metadata": {
    "colab": {
     "base_uri": "https://localhost:8080/"
    },
    "executionInfo": {
     "elapsed": 311,
     "status": "ok",
     "timestamp": 1718486427732,
     "user": {
      "displayName": "OZEIAS DE SANTANA BARRETO",
      "userId": "09499690939166015247"
     },
     "user_tz": 180
    },
    "id": "tdevcPCgwE7t",
    "outputId": "27c615a9-d160-42ae-e5ca-b02ffed3cd10"
   },
   "outputs": [
    {
     "data": {
      "text/plain": [
       "array([[1, 4, 7],\n",
       "       [2, 5, 8],\n",
       "       [3, 6, 9]])"
      ]
     },
     "execution_count": 16,
     "metadata": {},
     "output_type": "execute_result"
    }
   ],
   "source": [
    "matriz_transposta = matriz_b.transpose()\n",
    "matriz_transposta"
   ]
  },
  {
   "cell_type": "markdown",
   "metadata": {
    "id": "CHf-tkxNwQDI"
   },
   "source": [
    "* Adição de matrizes:\n",
    "\n",
    "A adição e subtração de matrizes são realizadas elemento po elemento. Para que duas mastrizes possam ser adicionadas ou subtraídas, elas devem ter a mesma dimensão m x n, a soma de A e B é uma matriz C, onde cada elemento de C é a soma dos elementos correspondentes de A e B."
   ]
  },
  {
   "cell_type": "code",
   "execution_count": 17,
   "metadata": {
    "colab": {
     "base_uri": "https://localhost:8080/"
    },
    "executionInfo": {
     "elapsed": 392,
     "status": "ok",
     "timestamp": 1718486557063,
     "user": {
      "displayName": "OZEIAS DE SANTANA BARRETO",
      "userId": "09499690939166015247"
     },
     "user_tz": 180
    },
    "id": "lDVLOyarwt_4",
    "outputId": "301ee606-7043-418e-f212-83cc6cc6b64e"
   },
   "outputs": [
    {
     "data": {
      "text/plain": [
       "array([[ 2,  4,  6],\n",
       "       [ 8, 10, 12],\n",
       "       [14, 16, 18]])"
      ]
     },
     "execution_count": 17,
     "metadata": {},
     "output_type": "execute_result"
    }
   ],
   "source": [
    "matriz1 = np.array([[1, 2, 3], [4, 5, 6], [7, 8, 9]])\n",
    "matriz2 = np.array([[1, 2, 3], [4, 5, 6], [7, 8, 9]])\n",
    "\n",
    "matriz1 + matriz2"
   ]
  },
  {
   "cell_type": "markdown",
   "metadata": {
    "id": "xC6X_vNKxlJf"
   },
   "source": [
    "* Subtração de matrizes"
   ]
  },
  {
   "cell_type": "code",
   "execution_count": 18,
   "metadata": {
    "colab": {
     "base_uri": "https://localhost:8080/"
    },
    "executionInfo": {
     "elapsed": 662,
     "status": "ok",
     "timestamp": 1718486574980,
     "user": {
      "displayName": "OZEIAS DE SANTANA BARRETO",
      "userId": "09499690939166015247"
     },
     "user_tz": 180
    },
    "id": "AkAp1B7Kx5Gb",
    "outputId": "cd01ec70-0abd-4717-f3d2-6a045d0bf1be"
   },
   "outputs": [
    {
     "data": {
      "text/plain": [
       "array([[0, 0, 0],\n",
       "       [0, 0, 0],\n",
       "       [0, 0, 0]])"
      ]
     },
     "execution_count": 18,
     "metadata": {},
     "output_type": "execute_result"
    }
   ],
   "source": [
    "matriz1 = np.array([[1, 2, 3], [4, 5, 6], [7, 8, 9]])\n",
    "matriz2 = np.array([[1, 2, 3], [4, 5, 6], [7, 8, 9]])\n",
    "\n",
    "matriz1 - matriz2"
   ]
  },
  {
   "cell_type": "markdown",
   "metadata": {
    "id": "YWuPa3flyFC0"
   },
   "source": [
    "A multiplicação de matriz é um pouco mais complexa. A multiplicação de duas matrizes A e B é definida apenas se número de colunas da PRIMEIRA MATRIZ for igual ao número de linhas de SEGUNDA MATRIZ. O resultado de multiplicação é uma matriz C, onde o elemento na linha i e a coluna j é produto escalar da linha i de A e da coluna j de B"
   ]
  },
  {
   "cell_type": "code",
   "execution_count": 24,
   "metadata": {
    "colab": {
     "base_uri": "https://localhost:8080/"
    },
    "executionInfo": {
     "elapsed": 902,
     "status": "ok",
     "timestamp": 1718487809800,
     "user": {
      "displayName": "OZEIAS DE SANTANA BARRETO",
      "userId": "09499690939166015247"
     },
     "user_tz": 180
    },
    "id": "sNYpBjCUyjIZ",
    "outputId": "c6f0a473-88c5-4e8b-cc60-fc68b3615692"
   },
   "outputs": [
    {
     "data": {
      "text/plain": [
       "array([[ 30,  36,  42],\n",
       "       [ 66,  81,  96],\n",
       "       [102, 126, 150]])"
      ]
     },
     "execution_count": 24,
     "metadata": {},
     "output_type": "execute_result"
    }
   ],
   "source": [
    "matriz1 = np.array([[1, 2, 3], [4, 5, 6], [7, 8, 9]])\n",
    "matriz2 = np.array([[1, 2, 3], [4, 5, 6], [7, 8, 9]])\n",
    "\n",
    "np.dot(matriz1, matriz2)"
   ]
  },
  {
   "cell_type": "markdown",
   "metadata": {
    "id": "QM5UFmDi2r6V"
   },
   "source": []
  },
  {
   "cell_type": "code",
   "execution_count": 23,
   "metadata": {
    "colab": {
     "base_uri": "https://localhost:8080/"
    },
    "executionInfo": {
     "elapsed": 529,
     "status": "ok",
     "timestamp": 1718487034790,
     "user": {
      "displayName": "OZEIAS DE SANTANA BARRETO",
      "userId": "09499690939166015247"
     },
     "user_tz": 180
    },
    "id": "cSpJUEwwzDwG",
    "outputId": "8efdc526-ba9f-47b2-eae5-2fa3652e195c"
   },
   "outputs": [
    {
     "data": {
      "text/plain": [
       "array([[ 22,  28],\n",
       "       [ 49,  64],\n",
       "       [ 76, 100]])"
      ]
     },
     "execution_count": 23,
     "metadata": {},
     "output_type": "execute_result"
    }
   ],
   "source": [
    "matriz_A = np.array([[1, 2, 3], [4, 5, 6], [7, 8, 9]])\n",
    "matriz_B = np.array([[1, 2], [3, 4], [5, 6]])\n",
    "\n",
    "matriz_A.dot(matriz_B)"
   ]
  },
  {
   "cell_type": "markdown",
   "metadata": {
    "id": "_f6T1ORX1Qxr"
   },
   "source": [
    "Novamente, para multiplicar as matrizes A e B, precisamos garantir que o número de colunas da matriz A seja igual ao número de linhas da matriz B. Neste caso, a matriz A tem dimensão m por n e a matriz B tem dimensão n por p, então podemos multiplicá-las.\n",
    "\n",
    "Para realizar a multiplicação, precisamos multiplicar cada elemento da primeira linha da matriz A pelos elementos correspondentes da primeira coluna da matriz B e somar os produtos. Em seguidas, fazemos o mesmo para a segunda linha da matriz A e a segunda coluna matriz B. O resultado é uma matriz C com o número de linhas da matriz A e o número de colunas da matriz B."
   ]
  },
  {
   "cell_type": "markdown",
   "metadata": {
    "id": "6QBFF2KF2vzk"
   },
   "source": [
    "* Divisão de matrizes\n",
    "\n",
    "Tecnicamente, a divisão de matrizes não existe. Em vez disso, é necessário multiplicar um matriz pelo inverso da outra. Por exemplo, se tivermos duas matrizes A e B, a divisão de A por B seria escrita como A * B^1. Para calcular a divisão de matrizes,, a matriz B deve ser quadrada e seu determinante deve ser diferente de zero. Caso contrário, a divisão não é possível.\n",
    "\n",
    "Conclusão\n",
    "* Álgebra linear é um ramo da matemática que está atrelado a resolução de problemas computacionais e estatísticos;\n",
    "* Utilzar a ferramenta matemática + programação nos dá precisão e agilidade nos resultados.\n",
    "* Aprender um básico sobre matrizes e propriedades nos levam a compreender o que vem de conteúdos posteriores."
   ]
  }
 ],
 "metadata": {
  "colab": {
   "authorship_tag": "ABX9TyN2tgCzzj0Hw+SpMGuSE7i9",
   "provenance": []
  },
  "kernelspec": {
   "display_name": "Python 3 (ipykernel)",
   "language": "python",
   "name": "python3"
  },
  "language_info": {
   "codemirror_mode": {
    "name": "ipython",
    "version": 3
   },
   "file_extension": ".py",
   "mimetype": "text/x-python",
   "name": "python",
   "nbconvert_exporter": "python",
   "pygments_lexer": "ipython3",
   "version": "3.11.7"
  }
 },
 "nbformat": 4,
 "nbformat_minor": 4
}
