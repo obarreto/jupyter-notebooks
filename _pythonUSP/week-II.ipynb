{
 "cells": [
  {
   "cell_type": "code",
   "execution_count": 2,
   "metadata": {},
   "outputs": [
    {
     "name": "stdout",
     "output_type": "stream",
     "text": [
      "Insert with numbers of seconds: 720000\n",
      "200 hours,  0 minutes and 0 seconds.\n"
     ]
    }
   ],
   "source": [
    "segundos_str = input(\"Insert with numbers of seconds: \")\n",
    "total_segs = int(segundos_str)\n",
    "\n",
    "horas = total_segs // 3600\n",
    "segs_restantes = total_segs % 3600\n",
    "minutos = segs_restantes // 60\n",
    "segs_restantes_final = segs_restantes % 60\n",
    "\n",
    "print(horas, \"hours, \", minutos, \"minutes and\", segs_restantes_final, \"seconds.\")"
   ]
  },
  {
   "cell_type": "code",
   "execution_count": 3,
   "metadata": {},
   "outputs": [
    {
     "name": "stdout",
     "output_type": "stream",
     "text": [
      "Olamundo\n"
     ]
    }
   ],
   "source": [
    "print(\"Ola\" 'mundo')"
   ]
  },
  {
   "cell_type": "code",
   "execution_count": 4,
   "metadata": {},
   "outputs": [
    {
     "name": "stdout",
     "output_type": "stream",
     "text": [
      "40\n"
     ]
    }
   ],
   "source": [
    "A = 10\n",
    "a = 20\n",
    "a = 2 * a\n",
    "A = a + A \n",
    "print(a)"
   ]
  }
 ],
 "metadata": {
  "kernelspec": {
   "display_name": "Python 3",
   "language": "python",
   "name": "python3"
  },
  "language_info": {
   "codemirror_mode": {
    "name": "ipython",
    "version": 3
   },
   "file_extension": ".py",
   "mimetype": "text/x-python",
   "name": "python",
   "nbconvert_exporter": "python",
   "pygments_lexer": "ipython3",
   "version": "3.7.3"
  }
 },
 "nbformat": 4,
 "nbformat_minor": 2
}
