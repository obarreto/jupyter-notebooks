{
 "cells": [
  {
   "cell_type": "markdown",
   "metadata": {},
   "source": [
    "     1 ano no mercado financeiro é de 252 dia uteis.\n",
    "     LTN - Letra de Tesouro Nacional \n",
    "     Tesouro Prefixado, os recursos estão sendo submetidos á determinado prazo a um juro determinado percent ao ano por exemplo 10% a.a. Preço unitário - é o preço que paga pela LTN - esse Tesouro será rentabilizado à taxa estabelecida até chegar no Valor Nominal que é o preço final no vencimento do título.\n",
    "     A rentabilidade é dadapela diferença entre o preço de compra do título e seu valor nominal (valor de face) no vencimento, sempre R$ 1.000,00\n",
    "     \n",
    "        *** Importante, Investimentos em títulos prefixados. Só é operação de renda fixa se resgata apenas no VENCIMENTO, se for necessário vender esse papel antes, pode não ganhar taxa contratada. \n",
    "     Só viável vender o título nesse caso quando a taxa de juro caí."
   ]
  },
  {
   "cell_type": "markdown",
   "metadata": {},
   "source": [
    "    1. Um investidor comprou uma LTN (Letra do Tesouro Nacional) também chamada de \n",
    "    Tesouro Prefixado a 8,10% aa para um prazo de 420 dias úteis. \n",
    "    Três dias úteis depois esse mesmo investidor vendeu o papel a 8,90% aa. \n",
    "    Os PUs de compra e venda do papel foram respectivamente:"
   ]
  },
  {
   "cell_type": "code",
   "execution_count": 37,
   "metadata": {},
   "outputs": [
    {
     "data": {
      "text/plain": [
       "878.2614964330996"
      ]
     },
     "execution_count": 37,
     "metadata": {},
     "output_type": "execute_result"
    }
   ],
   "source": [
    "i = 1 + 8.10/100\n",
    "n = 420 / 252\n",
    "PU = 1000 / i**n \n",
    "PU"
   ]
  },
  {
   "cell_type": "markdown",
   "metadata": {},
   "source": [
    "\t\n",
    "    2. Um investidor comprou uma LTN (Letra do Tesouro Nacional) também chamada de Tesouro Prefixado a 8,20% aa para um prazo de 290 dias úteis. Vinte dias úteis depois esse mesmo investidor vendeu o papel a 8,00% aa. A taxa em base ano que ele conseguiu nessa operação de 20 dias úteis foi igual a:\n"
   ]
  },
  {
   "cell_type": "code",
   "execution_count": 66,
   "metadata": {},
   "outputs": [
    {
     "data": {
      "text/plain": [
       "0.008271166326045076"
      ]
     },
     "execution_count": 66,
     "metadata": {},
     "output_type": "execute_result"
    }
   ],
   "source": [
    "i1 = 1 + 8.20/100\n",
    "n1 = 290 / 252\n",
    "PU1 = 1000 / i1**n1\n",
    "\n",
    "valor_presente = PU1\n",
    "\n",
    "i2 = 1 + 8.00/100 \n",
    "n2 = 270 / 252\n",
    "PU2 = 1000 / i2**n2\n",
    "\n",
    "valor_futuro = PU2\n",
    "\n",
    "\n",
    "\"\"\"\n",
    "a = 252 / 20\n",
    "i = valor_futuro / valor_presente\n",
    "\n",
    "taxa_base_ano = (i  ** a) - 1\n",
    "taxa_base_ano\n",
    "\n",
    "rentabilidade = valor_futuro / valor_presente - 1\n",
    "rentabilidade\n",
    "\"\"\""
   ]
  },
  {
   "cell_type": "code",
   "execution_count": 79,
   "metadata": {},
   "outputs": [
    {
     "name": "stdout",
     "output_type": "stream",
     "text": [
      "874.9346170941097 733.8686527112635\n"
     ]
    }
   ],
   "source": [
    "i1 = 1 + 10.88/100\n",
    "n1 = 755 / 252\n",
    "PU1 = 1000 / i1**n1\n",
    "\n",
    "valor_presente = PU1\n",
    "\n",
    "i2 = 1 + 10.88/100 \n",
    "n2 = 326 / 252\n",
    "PU2 = 1000 / i2**n2\n",
    "\n",
    "valor_futuro = PU2\n",
    "print(valor_futuro, valor_presente)"
   ]
  }
 ],
 "metadata": {
  "kernelspec": {
   "display_name": "Python 3",
   "language": "python",
   "name": "python3"
  },
  "language_info": {
   "codemirror_mode": {
    "name": "ipython",
    "version": 3
   },
   "file_extension": ".py",
   "mimetype": "text/x-python",
   "name": "python",
   "nbconvert_exporter": "python",
   "pygments_lexer": "ipython3",
   "version": "3.6.9"
  }
 },
 "nbformat": 4,
 "nbformat_minor": 2
}
