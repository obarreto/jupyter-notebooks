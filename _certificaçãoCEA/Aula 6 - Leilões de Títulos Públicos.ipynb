{
 "cells": [
  {
   "cell_type": "markdown",
   "metadata": {},
   "source": [
    "    Início de cada o Tesouro Nacional divulga o cronograma de Leilões\n",
    "    Data de realização e de liquidação de leilões\n",
    "    Título, Prazos e volume máximo a ser emitidos\n",
    "    \n",
    "    Quem participa dos leilões DIRETAMENTE são as instituições regularmente habilitadas no sistema eletrônico - OS DEALERS. Atualmente 12 bancos e 2 corretoras\n",
    "    O leilão de venda de títulos são chamados de leilões tradicionais, observe-se a seleção das prospostas com o criterio de melhor preço\n",
    "   \n",
    "       1. PREÇO DISCRIMITÁRIO\n",
    "    \n",
    "       Leva o papel quem der oferta dentro da média de preço estabelecida no leilão, supondo de que a oferta de preços está no intervalo de 9.2 - 9.28 e o Banco Central resolve vender a partir de 9.2, os lance efetuadas a partir de 9.2 serão consideradas e a compra é realizada ao   - preços distintos - dado partindo do valor mínimo médio do BACEN. Todos os lances a partir do preço do leiloeiro serão considerados. \n",
    "    \n",
    "       2. Seleção Uniforme, HOLANDÊS (LFT , NTN-B)\n",
    "       \n",
    "       Garante a compra quem o lance dados estiver >= do valor aceito pelo BACEN, porém mesmo que o valor ofertado pelo comprador seja maior do qual fechado pelo o leiloeiro o preço ficará no valor do leiloeiro, exemplo se houveram lances de 9.2, 9.23, 9.25, 9,27 e o leiloeiro - BACEN - definir que é 9.22 todos os lances se igualarão a esse valor.\n",
    "        \n",
    "        3. Leilões de Troca\n",
    "        \n",
    "        São colocados a venda novos títulos e recebidos como pagamento títulos mais antigos que estão em circulação no mercado, títulos que estão para vencer. Assim é possível alogar o perfil da dívida, desconcentrar alguns vencimentos. Pode também está recolhendi LTF e NTN-F e colocando NTN-B, recolhendo títulos mais curtos e vedendo títulos mais longos."
   ]
  },
  {
   "cell_type": "code",
   "execution_count": null,
   "metadata": {},
   "outputs": [],
   "source": []
  }
 ],
 "metadata": {
  "kernelspec": {
   "display_name": "Python 3 (ipykernel)",
   "language": "python",
   "name": "python3"
  },
  "language_info": {
   "codemirror_mode": {
    "name": "ipython",
    "version": 3
   },
   "file_extension": ".py",
   "mimetype": "text/x-python",
   "name": "python",
   "nbconvert_exporter": "python",
   "pygments_lexer": "ipython3",
   "version": "3.12.3"
  }
 },
 "nbformat": 4,
 "nbformat_minor": 2
}
