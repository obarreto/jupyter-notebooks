{
 "cells": [
  {
   "cell_type": "code",
   "execution_count": 3,
   "metadata": {
    "colab": {
     "base_uri": "https://localhost:8080/"
    },
    "executionInfo": {
     "elapsed": 325,
     "status": "ok",
     "timestamp": 1718543370121,
     "user": {
      "displayName": "OZEIAS DE SANTANA BARRETO",
      "userId": "09499690939166015247"
     },
     "user_tz": 180
    },
    "id": "NEEF6oMyJ7Fg",
    "outputId": "c28ea2d3-c2e4-4a16-ca49-8d2b9797a951"
   },
   "outputs": [
    {
     "name": "stdout",
     "output_type": "stream",
     "text": [
      "[[1]\n",
      " [0]]\n",
      "\n",
      "[[0]\n",
      " [1]]\n"
     ]
    }
   ],
   "source": [
    "import numpy as np\n",
    "e1 = np.array([[1, 0]]).T\n",
    "e2 = np.array([[0, 1]]).T\n",
    "\n",
    "print(e1)\n",
    "print()\n",
    "print(e2)"
   ]
  },
  {
   "cell_type": "code",
   "execution_count": null,
   "metadata": {
    "id": "QuOIO6mTKTy6"
   },
   "outputs": [],
   "source": []
  },
  {
   "cell_type": "markdown",
   "metadata": {
    "id": "n1_6ptRvK4Y3"
   },
   "source": [
    "E, aliás operacionalment tambêm é uma boa ideia definir os vetores linhas com o NumPy tambêm, o que é mais simple:\n"
   ]
  },
  {
   "cell_type": "code",
   "execution_count": 5,
   "metadata": {
    "colab": {
     "base_uri": "https://localhost:8080/"
    },
    "executionInfo": {
     "elapsed": 314,
     "status": "ok",
     "timestamp": 1718543557549,
     "user": {
      "displayName": "OZEIAS DE SANTANA BARRETO",
      "userId": "09499690939166015247"
     },
     "user_tz": 180
    },
    "id": "97eJ54JnLLnu",
    "outputId": "89e995e2-5f98-45fd-84aa-86c93e3fc426"
   },
   "outputs": [
    {
     "name": "stdout",
     "output_type": "stream",
     "text": [
      "[1 0]\n",
      "\n",
      "[0 1]\n"
     ]
    }
   ],
   "source": [
    "# vetores da base canônica como vetores linha (arrays)\n",
    "e1 = np.array([1, 0])\n",
    "e2 = np.array([0, 1])\n",
    "\n",
    "print(e1)\n",
    "print()\n",
    "print(e2)"
   ]
  },
  {
   "cell_type": "markdown",
   "metadata": {
    "id": "cJguScdsPG15"
   },
   "source": []
  },
  {
   "cell_type": "markdown",
   "metadata": {
    "id": "QsXD7ahsNyTF"
   },
   "source": [
    "Essa figura (e muitas das que veremos a seguir) foi gerada em Python, chamando a função plot_vectors() com seus argumentos default, conforme fizemos acima! A definição desra e outras funçãoes será apresentada no final desta aula, para não poluir tanto o texto. Basta você utilizar estas funções que será possível reproduzir todas as figuras que mostraremos aqui, bem como gerar outras figuras, conforme o que você desejar !\n",
    "\n",
    "Em um último comentário: A quantidade de vetores que formam um base identificada com a *dimensão* do espaço. Ou seja, dado que\n",
    "  B¢ = (e1-> x e2->)\n",
    "\n",
    "  é uma base para"
   ]
  },
  {
   "cell_type": "markdown",
   "metadata": {
    "id": "5VRus-n-PHmF"
   },
   "source": [
    "2.1) Expansão de vetor"
   ]
  },
  {
   "cell_type": "markdown",
   "metadata": {
    "id": "nvMx0zUfRcXE"
   },
   "source": []
  },
  {
   "cell_type": "code",
   "execution_count": null,
   "metadata": {
    "id": "PAci0m0CYSba"
   },
   "outputs": [],
   "source": []
  },
  {
   "cell_type": "markdown",
   "metadata": {
    "id": "MqumbmCBYTQb"
   },
   "source": []
  }
 ],
 "metadata": {
  "colab": {
   "authorship_tag": "ABX9TyOhG/JvIrxD1LhiPNoX/V2q",
   "provenance": []
  },
  "kernelspec": {
   "display_name": "Python 3 (ipykernel)",
   "language": "python",
   "name": "python3"
  },
  "language_info": {
   "codemirror_mode": {
    "name": "ipython",
    "version": 3
   },
   "file_extension": ".py",
   "mimetype": "text/x-python",
   "name": "python",
   "nbconvert_exporter": "python",
   "pygments_lexer": "ipython3",
   "version": "3.12.3"
  }
 },
 "nbformat": 4,
 "nbformat_minor": 1
}
