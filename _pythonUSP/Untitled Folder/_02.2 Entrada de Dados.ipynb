{
 "cells": [
  {
   "cell_type": "code",
   "execution_count": 17,
   "metadata": {},
   "outputs": [
    {
     "name": "stdout",
     "output_type": "stream",
     "text": [
      "Insira a temperatura em Fahrenheit: 212\n",
      "A temperatura em Celsius 100.0\n"
     ]
    }
   ],
   "source": [
    "temperaturaFahrenheit = input(\"Insira a temperatura em Fahrenheit: \")\n",
    "\n",
    "temperaturaCelsius = (float(temperaturaFahrenheit) - 32) * 5 / 9\n",
    "\n",
    "print(\"A temperatura em Celsius\",temperaturaCelsius)"
   ]
  },
  {
   "cell_type": "code",
   "execution_count": 19,
   "metadata": {},
   "outputs": [
    {
     "name": "stdout",
     "output_type": "stream",
     "text": [
      "Qual o nome da sua mãe ?Madona\n",
      "Qual o nome do seu pai ?Paul\n",
      "Bom dia Sra. Madona !!! Bom dia Sr. Paul\n"
     ]
    }
   ],
   "source": [
    "nomeDaMae = input(\"Qual o nome da sua mãe ?\")\n",
    "nomeDoPai = input(\"Qual o nome do seu pai ?\")\n",
    "\n",
    "print(\"Bom dia Sra.\", nomeDaMae, \"!!! Bom dia Sr.\", nomeDoPai)"
   ]
  },
  {
   "cell_type": "code",
   "execution_count": 20,
   "metadata": {},
   "outputs": [
    {
     "name": "stdout",
     "output_type": "stream",
     "text": [
      "Por favor, entre com o número de segundos que deseja converter:3600\n",
      "1 horas,  0 minutos e 0 segundos\n"
     ]
    }
   ],
   "source": [
    "segundos_str = input(\"Por favor, entre com o número de segundos que deseja converter:\")\n",
    "total_segs = int(segundos_str)\n",
    "\n",
    "horas = total_segs // 3600\n",
    "segs_restantes = total_segs % 3600\n",
    "minutos = segs_restantes // 60\n",
    "segs_restantes_final = segs_restantes % 60\n",
    "\n",
    "print(horas, \"horas, \", minutos, \"minutos e\", segs_restantes_final, \"segundos\")"
   ]
  }
 ],
 "metadata": {
  "kernelspec": {
   "display_name": "Python 3",
   "language": "python",
   "name": "python3"
  },
  "language_info": {
   "codemirror_mode": {
    "name": "ipython",
    "version": 3
   },
   "file_extension": ".py",
   "mimetype": "text/x-python",
   "name": "python",
   "nbconvert_exporter": "python",
   "pygments_lexer": "ipython3",
   "version": "3.6.9"
  }
 },
 "nbformat": 4,
 "nbformat_minor": 2
}
