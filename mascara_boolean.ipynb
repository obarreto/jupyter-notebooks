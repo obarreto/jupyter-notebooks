{
 "cells": [
  {
   "cell_type": "code",
   "execution_count": 1,
   "metadata": {
    "executionInfo": {
     "elapsed": 325,
     "status": "ok",
     "timestamp": 1718215296674,
     "user": {
      "displayName": "OZEIAS DE SANTANA BARRETO",
      "userId": "09499690939166015247"
     },
     "user_tz": 180
    },
    "id": "Vz5OjoLOk4WG"
   },
   "outputs": [],
   "source": [
    "# prompt: mascara boolena\n",
    "\n",
    "def mascara_booleana(valor):\n",
    "  return \"Verdadeiro\" if valor else \"Falso\"\n"
   ]
  },
  {
   "cell_type": "code",
   "execution_count": 2,
   "metadata": {
    "colab": {
     "base_uri": "https://localhost:8080/"
    },
    "executionInfo": {
     "elapsed": 305,
     "status": "ok",
     "timestamp": 1718215511388,
     "user": {
      "displayName": "OZEIAS DE SANTANA BARRETO",
      "userId": "09499690939166015247"
     },
     "user_tz": 180
    },
    "id": "7rU3CoMrm59V",
    "outputId": "14f4f676-e884-4a7a-d606-3482c98bbb72"
   },
   "outputs": [
    {
     "name": "stdout",
     "output_type": "stream",
     "text": [
      "True\n"
     ]
    }
   ],
   "source": [
    "# prompt: me mostre um exemplo\n",
    "\n",
    "valor = True\n",
    "print(valor)\n"
   ]
  },
  {
   "cell_type": "code",
   "execution_count": 3,
   "metadata": {
    "colab": {
     "base_uri": "https://localhost:8080/"
    },
    "executionInfo": {
     "elapsed": 302,
     "status": "ok",
     "timestamp": 1718215536755,
     "user": {
      "displayName": "OZEIAS DE SANTANA BARRETO",
      "userId": "09499690939166015247"
     },
     "user_tz": 180
    },
    "id": "FwBhUEuNoBv2",
    "outputId": "d1f7374e-be66-4b60-c661-d456e3933535"
   },
   "outputs": [
    {
     "name": "stdout",
     "output_type": "stream",
     "text": [
      "Verdadeiro\n"
     ]
    }
   ],
   "source": [
    "print(mascara_booleana(True))"
   ]
  },
  {
   "cell_type": "markdown",
   "metadata": {
    "id": "F4075tPGo56N"
   },
   "source": [
    "git diff mostra exatamente as linha que forma modificadas\n",
    "\n",
    "git diff --staged\n"
   ]
  },
  {
   "cell_type": "code",
   "execution_count": 4,
   "metadata": {
    "colab": {
     "base_uri": "https://localhost:8080/",
     "height": 106
    },
    "executionInfo": {
     "elapsed": 348,
     "status": "error",
     "timestamp": 1718216210882,
     "user": {
      "displayName": "OZEIAS DE SANTANA BARRETO",
      "userId": "09499690939166015247"
     },
     "user_tz": 180
    },
    "id": "YfFEzWMfp5Dm",
    "outputId": "bd5cd438-b82e-4248-a785-14912d9ad10e"
   },
   "outputs": [
    {
     "ename": "SyntaxError",
     "evalue": "invalid syntax (2759150198.py, line 1)",
     "output_type": "error",
     "traceback": [
      "\u001b[0;36m  Cell \u001b[0;32mIn[4], line 1\u001b[0;36m\u001b[0m\n\u001b[0;31m    git log, traz o historico dos commits feitos ate agora\u001b[0m\n\u001b[0m        ^\u001b[0m\n\u001b[0;31mSyntaxError\u001b[0m\u001b[0;31m:\u001b[0m invalid syntax\n"
     ]
    }
   ],
   "source": [
    "git log, traz o historico dos commits feitos ate agora"
   ]
  },
  {
   "cell_type": "code",
   "execution_count": null,
   "metadata": {
    "id": "q7u6A1q-qzQT"
   },
   "outputs": [],
   "source": []
  },
  {
   "cell_type": "markdown",
   "metadata": {
    "id": "aDP6u8rwrASC"
   },
   "source": [
    "* uso do coamdno restore, retornar a mudança\n",
    "git restore --staged arquivo.txt // removendo para area staged e vai para modified\n",
    "\n",
    "git retore arquivo.txt // removendo para modified, volta para para como era antes ou para forma original que foi clonado, unmodified.\n"
   ]
  },
  {
   "cell_type": "markdown",
   "metadata": {
    "id": "TniRJ7easg8F"
   },
   "source": [
    "##Salvando alterações no git\n",
    "* comando git push\n",
    "git add .\\arquivo.txt\n",
    "git commit -m \"add new document\"\n",
    "\n",
    "git remote\n",
    "origin - repositorio remoto\n",
    "git push origin master\n",
    "\n",
    "*comando git pull\n",
    "git pull - faz um merge no repositório remoto\n",
    "git fetch - quais alterações serão feitas, ante de fazer git pull, pois é possível a modificação que irá acontecer\n",
    "git diff"
   ]
  },
  {
   "cell_type": "markdown",
   "metadata": {
    "id": "Q7-A1zqDvynC"
   },
   "source": [
    "git branch testing - cria uma nova branch chamada teting\n",
    "git log --oneline --decorate - indica onde estamos com HEAD além mostrar os log dos ultimos commit.\n",
    "\n",
    "git checkout testing - muda o HEAD para branch testing\n",
    "git add arquvivo.txt\n",
    "git commit -m \"add new file\"\n",
    "\n",
    "git checkout master\n",
    "git add TODO.md\n",
    "git commit -m \"create list to do\"\n",
    "\n",
    "\n",
    "git branch - mostra todas as branchs que existem\n",
    "\n",
    "git merge testing"
   ]
  }
 ],
 "metadata": {
  "colab": {
   "authorship_tag": "ABX9TyNOH1kiNrxe3vXGUZG0IMfj",
   "provenance": []
  },
  "kernelspec": {
   "display_name": "Python 3 (ipykernel)",
   "language": "python",
   "name": "python3"
  },
  "language_info": {
   "codemirror_mode": {
    "name": "ipython",
    "version": 3
   },
   "file_extension": ".py",
   "mimetype": "text/x-python",
   "name": "python",
   "nbconvert_exporter": "python",
   "pygments_lexer": "ipython3",
   "version": "3.12.3"
  }
 },
 "nbformat": 4,
 "nbformat_minor": 1
}
